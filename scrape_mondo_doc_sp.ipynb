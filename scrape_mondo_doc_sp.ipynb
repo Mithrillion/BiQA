{
 "cells": [
  {
   "cell_type": "code",
   "execution_count": 1,
   "metadata": {
    "collapsed": true
   },
   "outputs": [],
   "source": [
    "from bs4 import BeautifulSoup\n",
    "import asyncio\n",
    "from aiohttp import ClientSession\n",
    "import numpy as np\n",
    "import pandas as pd\n",
    "from functools import partial\n",
    "from aiohttp import ClientConnectorError\n",
    "import json\n",
    "import re\n",
    "from bs4 import NavigableString\n",
    "from pprint import pprint\n",
    "from datetime import datetime, timedelta\n",
    "import os\n",
    "from itertools import chain\n",
    "import pickle"
   ]
  },
  {
   "cell_type": "code",
   "execution_count": 2,
   "metadata": {
    "collapsed": true
   },
   "outputs": [],
   "source": [
    "trails = pickle.load(open(\"./data/mondo_scraped/cleaned_int_sp.pkl\", \"rb\"))"
   ]
  },
  {
   "cell_type": "code",
   "execution_count": 4,
   "metadata": {},
   "outputs": [
    {
     "data": {
      "text/plain": [
       "['http://www.elmundo.es/deportes/2016/02/12/56bd9f7222601dec3d8b4677.html',\n",
       " 'http://www.elmundo.es/deportes/mas-deporte/2017/08/04/5983777ce5fdea972d8b45d0.html',\n",
       " 'http://www.elmundo.es/deportes/2015/08/20/55d5ea94ca4741023b8b4594.html',\n",
       " 'http://www.elmundo.es/deportes/2016/08/21/57b8d2b3e5fdea111c8b458f.html',\n",
       " 'http://www.elmundo.es/comunidad-valenciana/2014/04/12/53497f89268e3e0c6a8b4575.html',\n",
       " 'http://www.elmundo.es/deportes/2014/01/26/52e5540be2704ede598b4576.html',\n",
       " 'http://www.elmundo.es/deportes/2017/02/22/58adead8e5fdea446a8b464a.html',\n",
       " 'http://www.elmundo.es/deportes/2016/04/27/5720a3eee2704e8e068b463f.html',\n",
       " 'http://www.elmundo.es/deportes/2015/12/17/5672cbc846163f76248b459f.html',\n",
       " 'http://www.elmundo.es/deportes/2016/12/17/58555a5be2704ec66f8b460d.html']"
      ]
     },
     "execution_count": 4,
     "metadata": {},
     "output_type": "execute_result"
    }
   ],
   "source": [
    "trails[:10]"
   ]
  },
  {
   "cell_type": "code",
   "execution_count": 5,
   "metadata": {},
   "outputs": [
    {
     "data": {
      "text/plain": [
       "15290"
      ]
     },
     "execution_count": 5,
     "metadata": {},
     "output_type": "execute_result"
    }
   ],
   "source": [
    "len(trails)"
   ]
  },
  {
   "cell_type": "code",
   "execution_count": 6,
   "metadata": {
    "collapsed": true
   },
   "outputs": [],
   "source": [
    "async def get_html_data(trail, session):\n",
    "    \"\"\"Access El Mondo webpage\"\"\"\n",
    "    url = trail\n",
    "    attempts = 0\n",
    "    while attempts < 3:\n",
    "        try:\n",
    "            res = await session.get(url)\n",
    "            try:\n",
    "                html = await res.text()\n",
    "            except UnicodeDecodeError:\n",
    "                return trail, None\n",
    "            try:\n",
    "                soup = BeautifulSoup(html, 'html.parser')\n",
    "                headline = soup.select(\"h1[itemprop='headline']\")[0].text\n",
    "                facts = [fact.text for fact in soup.select(\"p.summary-lead, h2[itemprop='alternativeHeadline']\")]\n",
    "                body = \"\\n\".join([sent.text for sent in soup.select(\"div[itemprop='articleBody']\")[0]\n",
    "                                 .find_all('p', class_=lambda x: x != 'summary-lead')])\n",
    "                tag = [tag.text for tag in soup.select(\"ul.item-tags a\")]\n",
    "            except (IndexError, TypeError) as e:\n",
    "                global DEBUG\n",
    "                DEBUG.append((trail, e, soup))\n",
    "                print(\"content error!\")\n",
    "                return trail, None\n",
    "            try:\n",
    "                time = soup.select(\"time\")[0]['datetime']\n",
    "            except:\n",
    "                time = None\n",
    "            attrs = {\n",
    "                \"headline\": headline,\n",
    "                \"keyfacts\": facts, \n",
    "                \"content\": body,\n",
    "                \"tags\": tag,\n",
    "                \"time\": time\n",
    "                    }\n",
    "            return trail, attrs\n",
    "        except ClientConnectorError:\n",
    "            attempts += 1\n",
    "            print(\"Connector error occurred!\")\n",
    "    if attempts == 3:\n",
    "        return trail, None\n",
    "    \n",
    "async def gather_results(curr, step, trails):\n",
    "    \"\"\"Launch scrape tasks and collect results\"\"\"\n",
    "    tasks = []\n",
    "    async with ClientSession() as session:\n",
    "        for trail in trails[curr: curr + step]:\n",
    "            task = asyncio.ensure_future(get_html_data(trail, session))\n",
    "            tasks.append(task)\n",
    "\n",
    "        responses = await asyncio.gather(*tasks)\n",
    "        # you now have all response bodies in this variable\n",
    "        return responses\n",
    "\n",
    "\n",
    "def process_df(future, curr, step):\n",
    "    \"\"\"Save scrape results in json files\"\"\"\n",
    "    cache = {k: v for k, v in future.result()}\n",
    "#     cache = future.result()\n",
    "    if len(cache) == 0:\n",
    "        raise RuntimeError(\"Empty response!\")\n",
    "    else:\n",
    "#         json.dump(cache, open(\"./data/scraped/scraped_{0}_{1}.json\".format(curr, curr + step), \"w\"))\n",
    "        json.dump(cache, open(\"./data/mondo_scraped/contents_sp/scraped_{0}_{1}.json\".format(curr, curr + step), \"w\"))\n",
    "        print(\"got it! ({0}, {1})\".format(curr, curr + step))"
   ]
  },
  {
   "cell_type": "code",
   "execution_count": 17,
   "metadata": {
    "scrolled": true
   },
   "outputs": [
    {
     "name": "stdout",
     "output_type": "stream",
     "text": [
      "loading data from 14900 to 15000\n",
      "got it! (14900, 15000)\n"
     ]
    }
   ],
   "source": [
    "# df = pd.read_csv(\"./data/ratings.csv\")\n",
    "# app_ids = df.loc[:, \"app_id\"].astype(str)\n",
    "\n",
    "start = 14900\n",
    "# end = len(trails)\n",
    "step = 100\n",
    "end = start + step\n",
    "DEBUG = []\n",
    "\n",
    "for curr in range(start, end, step):\n",
    "    print(\"loading data from {0} to {1}\".format(curr, curr + step))\n",
    "    loop = asyncio.get_event_loop()\n",
    "    future = asyncio.ensure_future(gather_results(curr, step, trails))\n",
    "    future.add_done_callback(partial(process_df, curr=curr, step=step))\n",
    "    loop.run_until_complete(future)"
   ]
  },
  {
   "cell_type": "markdown",
   "metadata": {},
   "source": [
    "200, 1100, 2300, 4100, 6800, 8000, 8700, 10700, 14900"
   ]
  },
  {
   "cell_type": "markdown",
   "metadata": {},
   "source": [
    "## convert"
   ]
  },
  {
   "cell_type": "code",
   "execution_count": 18,
   "metadata": {},
   "outputs": [
    {
     "data": {
      "text/plain": [
       "15290"
      ]
     },
     "execution_count": 18,
     "metadata": {},
     "output_type": "execute_result"
    }
   ],
   "source": [
    "doc_list = os.listdir(\"./data/mondo_scraped/contents_sp/\")\n",
    "articles = dict()\n",
    "for file in doc_list:\n",
    "    if file[-4:] == 'json':\n",
    "        with open(os.path.join(\"./data/mondo_scraped/contents_sp/\", file), \"r\") as f:\n",
    "            articles.update(json.load(f))\n",
    "\n",
    "len(articles)"
   ]
  },
  {
   "cell_type": "code",
   "execution_count": 19,
   "metadata": {
    "collapsed": true
   },
   "outputs": [],
   "source": [
    "clean = {k: v for k, v in articles.items() if v is not None}"
   ]
  },
  {
   "cell_type": "code",
   "execution_count": 20,
   "metadata": {},
   "outputs": [
    {
     "data": {
      "text/plain": [
       "15200"
      ]
     },
     "execution_count": 20,
     "metadata": {},
     "output_type": "execute_result"
    }
   ],
   "source": [
    "len(clean)"
   ]
  },
  {
   "cell_type": "code",
   "execution_count": 21,
   "metadata": {
    "collapsed": true
   },
   "outputs": [],
   "source": [
    "docs = pd.DataFrame.from_dict(clean, orient='index')"
   ]
  },
  {
   "cell_type": "code",
   "execution_count": 22,
   "metadata": {},
   "outputs": [
    {
     "data": {
      "text/plain": [
       "(11580, 5)"
      ]
     },
     "execution_count": 22,
     "metadata": {},
     "output_type": "execute_result"
    }
   ],
   "source": [
    "valids = docs.loc[docs['keyfacts'].astype(np.bool), :]\n",
    "valids.shape"
   ]
  },
  {
   "cell_type": "code",
   "execution_count": 23,
   "metadata": {},
   "outputs": [
    {
     "data": {
      "text/html": [
       "<div>\n",
       "<style>\n",
       "    .dataframe thead tr:only-child th {\n",
       "        text-align: right;\n",
       "    }\n",
       "\n",
       "    .dataframe thead th {\n",
       "        text-align: left;\n",
       "    }\n",
       "\n",
       "    .dataframe tbody tr th {\n",
       "        vertical-align: top;\n",
       "    }\n",
       "</style>\n",
       "<table border=\"1\" class=\"dataframe\">\n",
       "  <thead>\n",
       "    <tr style=\"text-align: right;\">\n",
       "      <th></th>\n",
       "      <th>headline</th>\n",
       "      <th>keyfacts</th>\n",
       "      <th>content</th>\n",
       "      <th>tags</th>\n",
       "      <th>time</th>\n",
       "    </tr>\n",
       "  </thead>\n",
       "  <tbody>\n",
       "    <tr>\n",
       "      <th>http://www.elmundo.es//2016/08/31/57c6baad46163f610d8b45b3.html</th>\n",
       "      <td>Rosberg: \"Estoy disfrutando mucho de la lucha ...</td>\n",
       "      <td>[El piloto germano alaba el gran ambiente de l...</td>\n",
       "      <td>El piloto alemán Nico Rosberg (Mercedes) esper...</td>\n",
       "      <td>[fórmula 1, Nico Rosberg, Lewis Hamilton, depo...</td>\n",
       "      <td>2016-08-31 13:12:13</td>\n",
       "    </tr>\n",
       "    <tr>\n",
       "      <th>http://www.elmundo.es/america/2014/12/29/54a19293e2704e19708b458f.html</th>\n",
       "      <td>El estadio de David Beckham en Miami se esfuma</td>\n",
       "      <td>[\\nEl futbolista quiere construirlo en una zon...</td>\n",
       "      <td>El sueño del astro David Beckham se ha aplazad...</td>\n",
       "      <td>[]</td>\n",
       "      <td>2014-12-29</td>\n",
       "    </tr>\n",
       "    <tr>\n",
       "      <th>http://www.elmundo.es/andalucia/2014/01/03/52c69fe322601dd86c8b4576.html</th>\n",
       "      <td>Del Nido recogerá firmas en apoyo de su solici...</td>\n",
       "      <td>[ Voluntarios recorrerán los aledaños del Sánc...</td>\n",
       "      <td>La mañana del domingo 5 de enero, unos 40 volu...</td>\n",
       "      <td>[]</td>\n",
       "      <td>2014-01-03</td>\n",
       "    </tr>\n",
       "    <tr>\n",
       "      <th>http://www.elmundo.es/andalucia/2014/01/14/52d54c02268e3eb1318b4579.html</th>\n",
       "      <td>Garrido va pidiendo la cuenta</td>\n",
       "      <td>[ El entrenador del Betis critica a la directi...</td>\n",
       "      <td>Nada más aterrizar Juan Carlos Garrido, en el ...</td>\n",
       "      <td>[]</td>\n",
       "      <td>2014-01-14</td>\n",
       "    </tr>\n",
       "    <tr>\n",
       "      <th>http://www.elmundo.es/andalucia/2014/01/19/52dc119eca4741a5458b4570.html</th>\n",
       "      <td>El keniano Paul Tanui inscribe su nombre en el...</td>\n",
       "      <td>[ Triunfo para la etíope Hiwot Ayalew en la ca...</td>\n",
       "      <td>El keniano Paul Tanui ha inscrito este domingo...</td>\n",
       "      <td>[]</td>\n",
       "      <td>2014-01-19</td>\n",
       "    </tr>\n",
       "  </tbody>\n",
       "</table>\n",
       "</div>"
      ],
      "text/plain": [
       "                                                                                             headline  \\\n",
       "http://www.elmundo.es//2016/08/31/57c6baad46163...  Rosberg: \"Estoy disfrutando mucho de la lucha ...   \n",
       "http://www.elmundo.es/america/2014/12/29/54a192...     El estadio de David Beckham en Miami se esfuma   \n",
       "http://www.elmundo.es/andalucia/2014/01/03/52c6...  Del Nido recogerá firmas en apoyo de su solici...   \n",
       "http://www.elmundo.es/andalucia/2014/01/14/52d5...                      Garrido va pidiendo la cuenta   \n",
       "http://www.elmundo.es/andalucia/2014/01/19/52dc...  El keniano Paul Tanui inscribe su nombre en el...   \n",
       "\n",
       "                                                                                             keyfacts  \\\n",
       "http://www.elmundo.es//2016/08/31/57c6baad46163...  [El piloto germano alaba el gran ambiente de l...   \n",
       "http://www.elmundo.es/america/2014/12/29/54a192...  [\\nEl futbolista quiere construirlo en una zon...   \n",
       "http://www.elmundo.es/andalucia/2014/01/03/52c6...  [ Voluntarios recorrerán los aledaños del Sánc...   \n",
       "http://www.elmundo.es/andalucia/2014/01/14/52d5...  [ El entrenador del Betis critica a la directi...   \n",
       "http://www.elmundo.es/andalucia/2014/01/19/52dc...  [ Triunfo para la etíope Hiwot Ayalew en la ca...   \n",
       "\n",
       "                                                                                              content  \\\n",
       "http://www.elmundo.es//2016/08/31/57c6baad46163...  El piloto alemán Nico Rosberg (Mercedes) esper...   \n",
       "http://www.elmundo.es/america/2014/12/29/54a192...  El sueño del astro David Beckham se ha aplazad...   \n",
       "http://www.elmundo.es/andalucia/2014/01/03/52c6...  La mañana del domingo 5 de enero, unos 40 volu...   \n",
       "http://www.elmundo.es/andalucia/2014/01/14/52d5...  Nada más aterrizar Juan Carlos Garrido, en el ...   \n",
       "http://www.elmundo.es/andalucia/2014/01/19/52dc...  El keniano Paul Tanui ha inscrito este domingo...   \n",
       "\n",
       "                                                                                                 tags  \\\n",
       "http://www.elmundo.es//2016/08/31/57c6baad46163...  [fórmula 1, Nico Rosberg, Lewis Hamilton, depo...   \n",
       "http://www.elmundo.es/america/2014/12/29/54a192...                                                 []   \n",
       "http://www.elmundo.es/andalucia/2014/01/03/52c6...                                                 []   \n",
       "http://www.elmundo.es/andalucia/2014/01/14/52d5...                                                 []   \n",
       "http://www.elmundo.es/andalucia/2014/01/19/52dc...                                                 []   \n",
       "\n",
       "                                                                   time  \n",
       "http://www.elmundo.es//2016/08/31/57c6baad46163...  2016-08-31 13:12:13  \n",
       "http://www.elmundo.es/america/2014/12/29/54a192...           2014-12-29  \n",
       "http://www.elmundo.es/andalucia/2014/01/03/52c6...           2014-01-03  \n",
       "http://www.elmundo.es/andalucia/2014/01/14/52d5...           2014-01-14  \n",
       "http://www.elmundo.es/andalucia/2014/01/19/52dc...           2014-01-19  "
      ]
     },
     "execution_count": 23,
     "metadata": {},
     "output_type": "execute_result"
    }
   ],
   "source": [
    "valids.head()"
   ]
  },
  {
   "cell_type": "code",
   "execution_count": 24,
   "metadata": {
    "collapsed": true
   },
   "outputs": [],
   "source": [
    "valids.to_pickle('./data/elmondo_es_sp.pkl')"
   ]
  },
  {
   "cell_type": "code",
   "execution_count": 25,
   "metadata": {},
   "outputs": [
    {
     "name": "stdout",
     "output_type": "stream",
     "text": [
      "'Trabajé en el patio de la prisión de Lleida con el Vaquilla, tras 14 años en una cárcel lo relativizas todo'\n",
      "[' EL MUNDO prepara la Copa del Rey con el entrenador anfitrión en el mítico Pimpi Florida ', ' \"Si la Liga no es más seria se nos irá de las manos\" ', ' \"El Real Madrid tiene la confianza para llegar a cotas que ni ellos mismo esperan\" ', ' \"Barcelona, como otras veces Madrid, Unicaja o Laboral Kutxa, está rehaciendo lo andado\" ', ' \"O mejoramos todos la calidad del producto o será difícil que esto no se convierta en una Liga menor\" ', \" Un 'beatle' en el templo de la Copa \"]\n",
      "En las paredes, plantillas añejas del Unicaja, entre fotos de folclóricas, Garbajosa con el fisio de los Toronto Raptors o guiños de la selección a un taberna que huele a mar, vino, copla, Beatles y baloncesto. Joan Plaza se encontró con un santuario: El Pimpi Florida.\n",
      "Pregunta.-Le hemos traído aquí y confiesa que no bebe...\n",
      "Respuesta.-Nunca había bebido whisky hasta que me nombran entrenador del Madrid, me decían que tomara whisky porque no da resaca y lo hice, pero nunca me he tomado dos. No recuerdo estar borracho. \n",
      "P.- Pues ganó títulos como para emborracharse alguna vez...\n",
      "R.- Gané la Liga, estaba allí en medio de todo el mundo medio tirado, me puse en la piel del otro entrenador y casi me disculpé por haber ganado: lo siento. Cuando gané la Uleb, si hubiese podido desaparecer, lo hubiese hecho. Me fui a Trifunovic, y le dije: \"la próxima vez ganarás tú\". Acabé y me escondí, en aquel momento sólo pensaba en todos los que no habían estado: hay gente que no tienen nombres comerciales y también podrían estar aquí y haber ganado esto. Pensaba: 'pero déjate llevar'. Sentía una felicidad brutal, pero la apartaba.\n",
      "P.-¿Heredó esa coraza de su época como funcionario de prisiones?\n",
      "R.-Si has pasado 14 años en una prisión, lo relativizas todo. Cuando se pierden varios partidos seguidos aquí, en Madrid o Sevilla se dramatiza todo. Sacas conclusiones pero no te pones en la piel del jugador, periodista o directivo que se pone a la defensiva, con mucho miedo. \n",
      "P.-¿Algún momento movido en sus guardias nocturnas?\n",
      "R.-Tuve un motín bonito. Mi segunda noche en la prisión de Lleida, teníamos que quedarnos un funcionario de Granada y yo a pasar la noche con 300 internos. Esto pasa en todas las prisiones, por la noche hay menos gente. Tenía que revisar cada celda por la mirilla, que estuviesen todos dentro, los presos te saludaban [hace la peseta], oí un follón y me dijeron que subiese, que alguien se había salido de la celda. Uno de los que había estado en la fuga del Vaquilla retaba a todos para que entraran en su galería. El jefe dijo que entráramos: le abrió la cara de lado a lado con un barrote de la litera. No entraré en detalles, fue curioso. Llegué a casa manchado de sangre y dije: nunca más, no vuelvo. Aquella noche fue mucho más larga de lo que he dicho, hubo cortes de venas, barrigas...Trabajé en el patio de la prisión de Lleida con el Vaquilla. Tres años en la prisión de jóvenes y diez en la otra.\n",
      "\n",
      "El entrenador del Unicaja Joan Plaza en el Pimpi Florida, Málaga.\n",
      "CARLOS DÍAZ\n",
      "\n",
      "\"A la gente le gustaría ir más rápido con la progresión del Unicaja pero sería como cocer y freír todo lo que hay aquí muy rápido...no sirve\".\n",
      " P.- Bueno, esa experiencia le serviría en según qué banquillos de la NBA...\n",
      "R.- La tipología de entrenador allí, excepto Popovic en San Antonio y alguno más, son ex jugadores que toleran que el jugador, profesional de por sí, trabaje en el partido y no tanto en el entrenamiento,que tenga una vida mucho más distinta al concepto que tenemos más en Europa. Ojalá se dé esa circunstancia. Siempre he dicho que es verdad que me gustaría entrenar equipos grandes, llevar la Selección Española, la NBA, pero también he dicho muchas veces que si eso no ocurre pero eso tira de ti para que cada día seas mejor, pues bienvenido. Es mi zanahoria, puede ser que nunca pase nada, pero estoy contento de los proyectos que tengo. Me halaga que la gente piense que eres capaz de revertir una situación complicada en algunos clubes. Me gusta volver a Madrid, como volví a Sevilla, y que haya personas de pie aplaudiéndote. Eso es que algo bueno has hecho, y de momento pasa en todos los sitios donde estuve. Hay mucha gente que ha ayudado a que eso sea así y estoy muy orgulloso.\n",
      ".P- ¿Qué tal en Málaga?, ¿Qué le parece la ciudad?\n",
      "R.- Percibo que la sociedad malagueña es más cosmopolita de lo que esperaba. Gente más tolerante, aunque no sea tan monumental como Sevilla, donde fui muy feliz, es cierto que hay un riqueza que no es constatable, no es física. Veo a gente con mucha más capacidad de creación, el movimiento que me explican del mundo de la música, el cine que se mueve entre bambalinas, lugares tan peculiares como éste... Se acerca más a la idea de ciudad de Barcelona de lo que yo esperaba. La gente es mucho más abierta y es un lugar donde poder saca muchos recursos literarios, hay margen y gente peculiar como para que puedan salir reflejadas en tus novelas.\n",
      "P.-¿Así que incentiva esa faceta suya de escritor?\n",
      "R.- No puedo considerarme escritor si juzgo que una persona está preparada para ello como yo lo estoy para entrenar. Un día empecé a escribir estando en prisión una novela que se ha publicado en tres idiomas distintos, que está agotada, los 300 únicos ejemplares que hay en castellano. Está a punto de llegar aquí, pero me sorprende que se haya vendido o que me llegue gente hablando de ello. En Estambul [en el hotel del Unicaja en Euroliga] se presentó un argentino a hablar del libro y me parece algo espectacular porque son anotaciones al viento, son anotaciones en forma novelada que han despertado la inquietud en un tipo de gente y que sólo pretenden estimular que la gente pelee por sus sueños. Mi novela no tiene más sentido que este. Me gusta que sea un libro de cabecera para mucha gente, en Lituania, la última semana antes de irme hicimos una firma de libros y se presentó una persona con 50 notas de distintos colores en distintas hojas con sus reflexiones personales. Me parece increíble porque yo no tengo la formación para ser escritor, pero se han vendido todas las que he escrito, la segunda novela espero que salga este mismo año. Siempre dejo guiños a los lugares en los que he vivido, sería muy buena señal que estuviese aquí el tiempo suficiente y no me echaran antes de tiempo como para que dejara reflejado en mis novelas mi paso por Málaga, por el Pimpi Florida y otros muchos lugares.\n",
      "P.- ¿Cómo llega su equipo a la Copa?\n",
      "R.-Sólo nos planteamos mejorar los números de los años anteriores, eso no oculta que seamos ambiciosos. A la gente le gustaría ir más rápido pero sería como cocer y freír todo lo que hay aquí muy rápido...no sirve. Para que perdure en años y que no sea sólo una temporada, hay que hacerlo de una forma lenta y dura. Contento, el equipo va a más.\n",
      " P.- Pero le está costando reconciliar a la afición con el equipo a pesar de que la temporada no es mala, ¿Le hace falta una gran gesta?\n",
      "R.-Es probable que esa sea una de las recetas. Más allá de la seriedad de este proyecto o que ahora haya mejores números que el año pasado con menos presupuesto, sería un gran subidón una buena Copa del Rey, no sólo ganándola, que sería mucho, pero compitiendo hasta la final. Hacer unos 'play-offs' duros, serios. Hemos de recuperar a toda la gente que ha salido de este proyecto y ahora lo vive colateralmente para que vuelvan dentro de la dinámica del equipo. Una Copa del Rey nos ayudaría a estar arriba.\n",
      " P.- ¿Se quedará con Domantas Sabonis? \n",
      "R.- El club demandaba, y yo entendía que era cierto, que tiene una gran cantera detrás que o se apuesta o no por ella. Los juniors ha sido subcampeones en el torneo de Hospitalet, los infantiles han ganado su torneo. El equipo LEB está en buena tesitura y no podemos jugar a dos barajas: o jugamos la de no cantera y nos olvidamos del tema o la jugamos, pero en ese caso hay que hacerlo en serio. Tenemos un jugador con un potencial como el de Sabonis, Todorovic, Maodo...Son jugadores con potencial de ser muy importantes en uno o dos años. Si tenemos la suerte de que Sabonis siga el año que viene, que es la gran duda, la inversión de este año la recogeremos el año que viene o el siguiente.\n",
      "P.- Pero el hombre a convencer es Sabonis, Arvydas; padre de la criatura...\n",
      "R.- Sí, se debe encontrar en una situación complicada porque quiere que el chico siga estudiando. Domantas es un buen estudiante, tiene la opción de poder ir a universidades americanas y tiene que decidir ya no en verano, sino antes, porque de lo contrario esta apuesta quedará como un brindis al sol y no servirá para nada. Habría que replantearlo y quizás pensar en otro jugador que ocupara esa plaza. Pero ahora los jugadores que están en el junior, el LEB y el cadete ven que el primer equipo no está tan lejos, que no es tan difícil. Nos gustaría tener jugadores malagueños o criados en la cantera de una forma más regular como hubo hace unos años, pero eso requiere un tiempo, un proceso. No he hablado con él del tema, vendrá a la Copa del Rey; hablé con él en Lituania pero no de ese tema.\n",
      "P.-¿Cómo ve al Real Madrid?\n",
      "R.-Tienen una confianza que les puede hacer estar cerca de completar la temporada perfecta. No fallar ni una, están cerca de esa capacidad no sólo porque técnicamente son muy buenos y tienen una plantilla muy compensada, sino porque tienen un nivel de autoconfianza brutal y eso les puede llevar a cotas que ni ellos mismo esperaban.\n",
      "P.-¿Y qué le pasa al Barcelona?\n",
      "\n",
      "El entrenador del Unicaja Joan Plaza posa tras la barra del Pimpi Florida, Málaga.\n",
      "CARLOS DÍAZ\n",
      "\n",
      "\"Sabonis tiene la opción ir a universidades americanas y tiene que decidir antes de verano, porque de lo contrario esta apuesta será un brindis al sol, no servirá para nada\".\n",
      "R.- Lo que a veces le ha pasado a otros grandes como el Real Madrid, que la reconversión no se ha hecho a tiempo y cuando la vas a hacer tienes que cambiar muchas piezas. Hay proyectos que se erosionan con el tiempo y es muy difícil mantener el status quo que has tenido durante varios años. El secreto del deporte profesional es reconocer el momento en el que estás perdiendo facultades y no atrincherarte sino empezar a cambiar. Barcelona, como otras veces Madrid, Baskonia y Unicaja, está rehaciendo lo andado.\n",
      "P.-¿Debió prever el cambio?\n",
      "R.-Sí, o Baskonia que muchos años ha estado por encima de sus posibilidades: vendían y se mantenían arriba. Este año por fin demostraron que son humanos y necesitarán un tiempo para estar arriba.\n",
      "P.-Y la ACB, ¿necesita cambiar?\n",
      "R.- Está en un punto no tanto crítico como de reinventarse otra vez. Hay que anticiparse al problema que viene, no sólo que la gente sufre para llenar los pabellones, sino que hay una Euroliga que crece exponencialmente, los sponsors se giran a la liga más fuerte. O damos un paso adelante y hacemos una liga más seria, competitiva y organizada o se nos escapará de las manos.\n",
      " P.- Aunque ganó varios títulos, vivió el año pasado lo que viven algunos en la ACB esta campaña: trabajar sin cobrar, ¿Qué le parece?\n",
      "R.- Cobré hasta enero aunque el banco se declaró en bancarrota y deben dinero de la primera parte del año, la segunda parte la cobraré en tres o cuatro años. También es difícil encontrar a un entrenador que en su carrera le hayan pagado puntual siempre. Tuve que vivir esa experiencia y decidir si dejarlo todo y venir a España o seguir hasta el final. Decidí quedarme, ganamos la Liga y ha sido beneficioso para mí y para los que estuvieran a mi lado. Me preocupa mucho que haya jugadores y entrenadores que estén por debajo del mínimo interprofesional que está estipulado por la propia ACB. Todos lo sabemos y nos cuesta no arreglarnos. A lo mejor hemos de ir a una Liga un poco más corta, donde la competitividad sea mayor, donde no hayan tantas diferencias en el marcador pero en el que se pague lo que se pacte al inicio de la temporada. Es importante que hagamos un baloncesto atractivo, hay más competitividad que antes, el fútbol sigue atrayendo a gran parte de la oferta que hay. O mejoramos todos la calidad del producto o será difícil que esto no se convierta en una Liga menor.\n",
      "P.-Catalán y ex del Real Madrid, ¿qué le parece la consulta?\n",
      "R.-Una de las cosas buenas que podemos hacer en esta vida es coger una maleta e irte. Cuando me fui de Barcelona a Madrid me sorprendió que la realidad que se explicaba en Madrid era muy distinta a la que vivía en Barcelona. ¿Cual era cierta? Ninguna de las dos, no es cierto lo que decían los medios catalanes ni lo que explicaban en Madrid. Hablaba con gente en Madrid porque la idea que se explicaba era equivocada, y les decía que no me hicieran caso: llamemos a Aíto García Reneses que es madrileño, vive en Cataluña desde hace muchos años y que él os dé la perspectiva. Pero escuchad a la gente que vive allí, no os guiéis por lo que veis por televisión porque se vende una crispación que no existe como tal, pero es a la que mucha gente saca partido.\n",
      " P.- ¿Perdió amigos por el asunto?\n",
      "R.- No, pero me he dado cuenta de que mucha gente no es capaz de ponerse en tu piel. Fui entrenador del Real Madrid y estoy orgullosísimo de haberlo sido, tengo amistades allí que no quiero perder nunca en mi vida. Pero hay mucha gente muy radical a la que le cuesta entender que quien te ha dado la primera oportunidad de primer nivel mundial es el Real Madrid, y yo soy catalán. Soy el primer catalán de la historia que entrena al Madrid de baloncesto y probablemente al de fútbol. Estoy orgulloso de haberlo vivido, he aprendido un montón, soy más capaz, más listo, pero también le pasará lo mismo a Aíto que ha estado en Barcelona durante 40 años. Las fronteras que nos montamos a veces son bastante ingenuas.\n",
      "P.- Metidos en harina, y con sus antecedentes habrá que preguntarle por la 'doctrina Parot'...\n",
      "R.- Hay que estar en la piel del otro, tener un gran nivel de empatía. Cuando alguien sufre en sus carnes lo que sufre una de estas personas que luego se ha podido acoger a la doctrina Parot es normal que estén molestas o dolidas, pero entendiendo ese dolor, lo que está claro es que hay una ley que hay que mejorar. La ley, no sólo la penitenciaria, también la ley general en este aspecto. Hay que mejorar y ceñirnos todos a la misma, nos guste o no. Hay que encontrar la manera en la que podemos mejorarla si creemos que es posible. En la vida, estoy enfermo de esto, hay que ser empáticos, hay que saber por qué se protesta, por qué se acomodan, por qué no lo hacen...\n",
      "P.- Bueno, Joan, antes de la Copa, ¿Por qué brinda?\n",
      "R.- Porque tenemos el tren sobre las vías y estamos en condiciones. No esperábamos la posición en Liga, el equipo desprende cosas importantes y estamos recolectando gente que estaba desengañada. Pidamos más carbón para la caldera. Ser cabezas de serie es un gran empuje,pero creo en las cosas progresivas, no en las varitas mágicas. El Madrid es el claro favorito, si sigue con esta autoridad será difícil rebatírselo y habrá que competir en nuestra liga que es más abajo.\n",
      "[]\n",
      "2014-02-03\n"
     ]
    }
   ],
   "source": [
    "valids.iloc[7, :].apply(print);"
   ]
  },
  {
   "cell_type": "code",
   "execution_count": null,
   "metadata": {
    "collapsed": true
   },
   "outputs": [],
   "source": []
  }
 ],
 "metadata": {
  "anaconda-cloud": {},
  "kernelspec": {
   "display_name": "Python [py36]",
   "language": "python",
   "name": "Python [py36]"
  },
  "language_info": {
   "codemirror_mode": {
    "name": "ipython",
    "version": 3
   },
   "file_extension": ".py",
   "mimetype": "text/x-python",
   "name": "python",
   "nbconvert_exporter": "python",
   "pygments_lexer": "ipython3",
   "version": "3.6.2"
  }
 },
 "nbformat": 4,
 "nbformat_minor": 1
}
