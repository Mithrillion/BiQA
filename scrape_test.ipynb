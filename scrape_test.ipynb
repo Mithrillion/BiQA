{
 "cells": [
  {
   "cell_type": "code",
   "execution_count": 1,
   "metadata": {
    "collapsed": true
   },
   "outputs": [],
   "source": [
    "from bs4 import BeautifulSoup\n",
    "import asyncio\n",
    "from aiohttp import ClientSession\n",
    "import numpy as np\n",
    "import pandas as pd\n",
    "from functools import partial\n",
    "from aiohttp import ClientConnectorError\n",
    "import json\n",
    "import re\n",
    "from bs4 import NavigableString\n",
    "from pprint import pprint"
   ]
  },
  {
   "cell_type": "markdown",
   "metadata": {},
   "source": [
    "## Scrape Web Content"
   ]
  },
  {
   "cell_type": "markdown",
   "metadata": {},
   "source": [
    "```\n",
    ".headline-article-main\n",
    ".key-facts p\n",
    ".content-body-text p\n",
    ".tags a\n",
    "time\n",
    "```"
   ]
  },
  {
   "cell_type": "code",
   "execution_count": 106,
   "metadata": {
    "collapsed": true
   },
   "outputs": [],
   "source": [
    "async def get_html_data(trail, session):\n",
    "    \"\"\"Access CNN webpage\"\"\"\n",
    "    url = trail\n",
    "    print(url)\n",
    "    attempts = 0\n",
    "    while attempts < 3:\n",
    "        try:\n",
    "            res = await session.get(url)\n",
    "            try:\n",
    "                html = await res.text()\n",
    "            except UnicodeDecodeError:\n",
    "                return trail, None\n",
    "            soup = BeautifulSoup(html, 'html.parser')\n",
    "            headline = soup.select(\".headline-article-main\")[0].text\n",
    "            facts = [fact.text for fact in soup.select(\".key-facts p\")]\n",
    "            body = \"\\n\".join([sent.text for sent in soup.select(\".content-body-text p\")]).replace(\"\\n\\n\", \"\\n\")\n",
    "            tag = [tag.text for tag in soup.select(\".tags a\")]\n",
    "            try:\n",
    "                time = re.search(r\"\\(.*\\d\\d\\d\\d\", soup.select(\"time\")[0].text).group(0)\n",
    "            except:\n",
    "                time = None\n",
    "            attrs = {\n",
    "                \"headline\": headline,\n",
    "                \"keyfacts\": facts, \n",
    "                \"content\": body,\n",
    "                \"tags\": tag,\n",
    "                \"time\": time\n",
    "                    }\n",
    "            return trail, attrs\n",
    "        except ClientConnectorError:\n",
    "            attempts += 1\n",
    "            print(\"Connector error occurred!\")\n",
    "    if attempts == 3:\n",
    "        return trail, None"
   ]
  },
  {
   "cell_type": "code",
   "execution_count": 107,
   "metadata": {
    "scrolled": false
   },
   "outputs": [
    {
     "name": "stdout",
     "output_type": "stream",
     "text": [
      "loading data from 0 to 1\n",
      "http://cnnespanol.cnn.com/2017/09/07/florida-se-prepara-para-evacuaciones-masivas-y-atascos-por-el-huracan-irma/\n",
      "got it!\n"
     ]
    }
   ],
   "source": [
    "async def gather_results(curr, step, trails):\n",
    "    \"\"\"Launch scrape tasks and collect results\"\"\"\n",
    "    tasks = []\n",
    "    async with ClientSession() as session:\n",
    "        for trail in trails[curr: curr + step]:\n",
    "            task = asyncio.ensure_future(get_html_data(trail, session))\n",
    "            tasks.append(task)\n",
    "\n",
    "        responses = await asyncio.gather(*tasks)\n",
    "        # you now have all response bodies in this variable\n",
    "        return responses\n",
    "\n",
    "\n",
    "def process_df(future, curr, step):\n",
    "    \"\"\"Save scrape results in json files\"\"\"\n",
    "    cache = {k: v for k, v in future.result()}\n",
    "#     cache = future.result()\n",
    "    if len(cache) == 0:\n",
    "        raise RuntimeError(\"Empty response!\")\n",
    "    else:\n",
    "#         json.dump(cache, open(\"./data/scraped/scraped_{0}_{1}.json\".format(curr, curr + step), \"w\"))\n",
    "        global temp\n",
    "        temp = cache\n",
    "        print(\"got it!\")\n",
    "\n",
    "\n",
    "# df = pd.read_csv(\"./data/ratings.csv\")\n",
    "# app_ids = df.loc[:, \"app_id\"].astype(str)\n",
    "\n",
    "start = 0\n",
    "end = 1\n",
    "step = 1\n",
    "\n",
    "trails = ['http://cnnespanol.cnn.com/2017/09/07/florida-se-prepara-para-evacuaciones-masivas-y-atascos-por-el-huracan-irma/']\n",
    "\n",
    "for curr in range(start, end, step):\n",
    "    print(\"loading data from {0} to {1}\".format(curr, curr + step))\n",
    "    loop = asyncio.get_event_loop()\n",
    "    future = asyncio.ensure_future(gather_results(curr, step, trails))\n",
    "    future.add_done_callback(partial(process_df, curr=curr, step=step))\n",
    "    loop.run_until_complete(future)"
   ]
  },
  {
   "cell_type": "code",
   "execution_count": 108,
   "metadata": {
    "scrolled": false
   },
   "outputs": [
    {
     "name": "stdout",
     "output_type": "stream",
     "text": [
      "(CNN) - El gobernador de la Florida, Rick Scott, dice que se espera que haya más evacuaciones masivas en todo el estado antes del huracán Irma, la poderosa tormenta de categoría 5 que arado a través del Caribe.\n",
      "\"Si se le dice que evacue, salga rápidamente\", dijo Scott el miércoles. \"Podemos esperar evacuaciones adicionales mientras esta tormenta continúa acercándose a nuestro estado\".\n",
      "LEE: Minuto a minuto: el huracán Irma deja 9 muerto en su devastador paso por el Caribe\n",
      "Basado en el camino proyectado por Irma, que incluye la costa este de Florida, la enorme tormenta podría crear una de las mayores evacuaciones masivas de la historia de Estados Unidos, dijo el meteorólogo de la CNN, Dave Hennen. Miami-Dade, Broward y Palm Beach son hogar de cerca de 6 millones de personas.\n",
      "El condado de Monroe, hogar de los Cayos de la Florida, ya ha ordenado evacuaciones obligatorias. El condado de Broward, que incluye a Fort Lauderdale, emitió una evacuación obligatoria el miércoles para las áreas al este de la Carretera Federal.\n",
      "Otros centros de población del este de Florida también podrían tener evacuaciones similares pronto, dependiendo de la trayectoria del huracán, que se espera que pase cerca de Miami el domingo.\n",
      "Pero una evacuación de esa escala podría conducir a un atasco vehicular de kilómetros de largo, como ocurrió con los intentos de evacuaciones masivas durante el huracán Floyd en 1999 y el huracán Rita en 2005. Cuando el huracán Harvey comenzó a amenazar el sudeste de Texas hace dos semanas, los funcionarios decidieron no hacer evacuaciones obligatorias, en parte debido a los recuerdos de esos problemas.\n",
      "El gobernador Scott dijo que estaba al tanto de la posibilidad de un extenso atasco y aconsejó a los residentes a quienes se les dijo que evacuaran inmediatamente.\n",
      "\"Las órdenes de evacuación se van a dar de manera oportuna para que la gente tenga tiempo de evacuar\", dijo Scott. \"Pero si esperas, ahí es cuando los problemas van a suceder\". \n"
     ]
    }
   ],
   "source": [
    "print(temp[list(temp.keys())[0]]['content'])"
   ]
  },
  {
   "cell_type": "code",
   "execution_count": 109,
   "metadata": {},
   "outputs": [
    {
     "data": {
      "text/plain": [
       "{'content': '(CNN) - El gobernador de la Florida, Rick Scott, dice que se espera que haya más evacuaciones masivas en todo el estado antes del huracán Irma, la poderosa tormenta de categoría 5 que arado a través del Caribe.\\n\"Si se le dice que evacue, salga rápidamente\", dijo Scott el miércoles. \"Podemos esperar evacuaciones adicionales mientras esta tormenta continúa acercándose a nuestro estado\".\\nLEE: Minuto a minuto: el huracán Irma deja 9 muerto en su devastador paso por el Caribe\\nBasado en el camino proyectado por Irma, que incluye la costa este de Florida, la enorme tormenta podría crear una de las mayores evacuaciones masivas de la historia de Estados Unidos, dijo el meteorólogo de la CNN, Dave Hennen. Miami-Dade, Broward y Palm Beach son hogar de cerca de 6 millones de personas.\\nEl condado de Monroe, hogar de los Cayos de la Florida, ya ha ordenado evacuaciones obligatorias. El condado de Broward, que incluye a Fort Lauderdale, emitió una evacuación obligatoria el miércoles para las áreas al este de la Carretera Federal.\\nOtros centros de población del este de Florida también podrían tener evacuaciones similares pronto, dependiendo de la trayectoria del huracán, que se espera que pase cerca de Miami el domingo.\\nPero una evacuación de esa escala podría conducir a un atasco vehicular de kilómetros de largo, como ocurrió con los intentos de evacuaciones masivas durante el huracán Floyd en 1999 y el huracán Rita en 2005. Cuando el huracán Harvey comenzó a amenazar el sudeste de Texas hace dos semanas, los funcionarios decidieron no hacer evacuaciones obligatorias, en parte debido a los recuerdos de esos problemas.\\nEl gobernador Scott dijo que estaba al tanto de la posibilidad de un extenso atasco y aconsejó a los residentes a quienes se les dijo que evacuaran inmediatamente.\\n\"Las órdenes de evacuación se van a dar de manera oportuna para que la gente tenga tiempo de evacuar\", dijo Scott. \"Pero si esperas, ahí es cuando los problemas van a suceder\". ',\n",
       " 'headline': 'Florida se prepara para evacuaciones masivas y atascos por el huracán Irma',\n",
       " 'keyfacts': ['Casi 6 millones de personas tendrían que evacuar en Florida',\n",
       "  'Irma es un potencialmente catastrófico huracán',\n",
       "  'En su paso por el Caribe ha dejado destrucción y varios muertos'],\n",
       " 'tags': ['atascos',\n",
       "  'Evacuaciones',\n",
       "  'Florida',\n",
       "  'Huracán',\n",
       "  'Irma',\n",
       "  'masivas',\n",
       "  'Millones'],\n",
       " 'time': '(12:52 GMT) 7 septiembre, 2017'}"
      ]
     },
     "execution_count": 109,
     "metadata": {},
     "output_type": "execute_result"
    }
   ],
   "source": [
    "temp[list(temp.keys())[0]]"
   ]
  },
  {
   "cell_type": "markdown",
   "metadata": {},
   "source": [
    "## Scrape Web Url"
   ]
  },
  {
   "cell_type": "markdown",
   "metadata": {},
   "source": [
    "```\n",
    "http://http://cnnespanol.cnn.com/2017/09/05/  -- variable date\n",
    ".entry-title a\n",
    "```"
   ]
  },
  {
   "cell_type": "code",
   "execution_count": 118,
   "metadata": {},
   "outputs": [
    {
     "name": "stdout",
     "output_type": "stream",
     "text": [
      "loading data from 0 to 3\n",
      "http://cnnespanol.cnn.com/2017/09/05/\n",
      "http://cnnespanol.cnn.com/2017/09/06/\n",
      "http://cnnespanol.cnn.com/2017/09/07/\n",
      "got it!\n"
     ]
    }
   ],
   "source": [
    "async def get_html_data(trail, session):\n",
    "    \"\"\"Access CNN daily archives webpage\"\"\"\n",
    "    url = trail\n",
    "    print(url)\n",
    "    attempts = 0\n",
    "    while attempts < 3:\n",
    "        try:\n",
    "            res = await session.get(url)\n",
    "            try:\n",
    "                html = await res.text()\n",
    "            except UnicodeDecodeError:\n",
    "                return trail, None\n",
    "            soup = BeautifulSoup(html, 'html.parser')\n",
    "            urls = [a['href'] for a in soup.select(\".entry-title a\") if not re.search(r'/video/', a['href'])]\n",
    "            return trail, urls\n",
    "        except ClientConnectorError:\n",
    "            attempts += 1\n",
    "            print(\"Connector error occurred!\")\n",
    "    if attempts == 3:\n",
    "        return trail, None\n",
    "\n",
    "async def gather_results(curr, step, trails):\n",
    "    \"\"\"Launch scrape tasks and collect results\"\"\"\n",
    "    tasks = []\n",
    "    async with ClientSession() as session:\n",
    "        for trail in trails[curr: curr + step]:\n",
    "            task = asyncio.ensure_future(get_html_data(trail, session))\n",
    "            tasks.append(task)\n",
    "\n",
    "        responses = await asyncio.gather(*tasks)\n",
    "        # you now have all response bodies in this variable\n",
    "        return responses\n",
    "\n",
    "\n",
    "def process_df(future, curr, step):\n",
    "    \"\"\"Save scrape results in json files\"\"\"\n",
    "    cache = {k: v for k, v in future.result()}\n",
    "#     cache = future.result()\n",
    "    if len(cache) == 0:\n",
    "        raise RuntimeError(\"Empty response!\")\n",
    "    else:\n",
    "#         json.dump(cache, open(\"./data/scraped/scraped_{0}_{1}.json\".format(curr, curr + step), \"w\"))\n",
    "        global temp\n",
    "        temp = cache\n",
    "        print(\"got it!\")\n",
    "\n",
    "\n",
    "# df = pd.read_csv(\"./data/ratings.csv\")\n",
    "# app_ids = df.loc[:, \"app_id\"].astype(str)\n",
    "\n",
    "start = 0\n",
    "end = 3\n",
    "step = 3\n",
    "\n",
    "trails = ['http://cnnespanol.cnn.com/2017/09/05/',\n",
    "         'http://cnnespanol.cnn.com/2017/09/06/',\n",
    "         'http://cnnespanol.cnn.com/2017/09/07/']\n",
    "\n",
    "for curr in range(start, end, step):\n",
    "    print(\"loading data from {0} to {1}\".format(curr, curr + step))\n",
    "    loop = asyncio.get_event_loop()\n",
    "    future = asyncio.ensure_future(gather_results(curr, step, trails))\n",
    "    future.add_done_callback(partial(process_df, curr=curr, step=step))\n",
    "    loop.run_until_complete(future)"
   ]
  },
  {
   "cell_type": "code",
   "execution_count": 120,
   "metadata": {},
   "outputs": [
    {
     "name": "stdout",
     "output_type": "stream",
     "text": [
      "{'http://cnnespanol.cnn.com/2017/09/05/': ['http://cnnespanol.cnn.com/2017/09/05/asperger-nino-argentina-madres-whatsapp-grupo-polemica-indignacion/'],\n",
      " 'http://cnnespanol.cnn.com/2017/09/06/': ['http://cnnespanol.cnn.com/2017/09/06/corea-del-norte-estaria-movilizando-un-misil-intercontinental-cree-seul/',\n",
      "                                           'http://cnnespanol.cnn.com/gallery/fotos-las-mejores-imagenes-de-la-visita-del-papa-francisco-a-colombia/',\n",
      "                                           'http://cnnespanol.cnn.com/2017/09/06/estrella-del-futbol-se-queda-sin-club-por-un-retraso-en-su-transferencia-de-14-segundos/'],\n",
      " 'http://cnnespanol.cnn.com/2017/09/07/': ['http://cnnespanol.cnn.com/2017/09/07/facebook-vendio-publicidad-a-cuentas-falsas-rusas-durante-campana-presidencial-de-ee-uu-de-2016/',\n",
      "                                           'http://cnnespanol.cnn.com/gallery/fotos-las-devastadoras-imagenes-de-los-estragos-que-causo-irma-en-el-caribe/',\n",
      "                                           'http://cnnespanol.cnn.com/2017/09/07/estamos-preparados-para-el-huracan-irma/',\n",
      "                                           'http://cnnespanol.cnn.com/2017/09/07/las-mejores-frases-del-discurso-del-papa-a-colombia/']}\n"
     ]
    }
   ],
   "source": [
    "pprint(temp)"
   ]
  },
  {
   "cell_type": "code",
   "execution_count": null,
   "metadata": {
    "collapsed": true
   },
   "outputs": [],
   "source": []
  }
 ],
 "metadata": {
  "anaconda-cloud": {},
  "hide_input": false,
  "kernelspec": {
   "display_name": "Python [py36]",
   "language": "python",
   "name": "Python [py36]"
  },
  "language_info": {
   "codemirror_mode": {
    "name": "ipython",
    "version": 3
   },
   "file_extension": ".py",
   "mimetype": "text/x-python",
   "name": "python",
   "nbconvert_exporter": "python",
   "pygments_lexer": "ipython3",
   "version": "3.6.2"
  },
  "varInspector": {
   "cols": {
    "lenName": 16,
    "lenType": 16,
    "lenVar": 40
   },
   "kernels_config": {
    "python": {
     "delete_cmd_postfix": "",
     "delete_cmd_prefix": "del ",
     "library": "var_list.py",
     "varRefreshCmd": "print(var_dic_list())"
    },
    "r": {
     "delete_cmd_postfix": ") ",
     "delete_cmd_prefix": "rm(",
     "library": "var_list.r",
     "varRefreshCmd": "cat(var_dic_list()) "
    }
   },
   "types_to_exclude": [
    "module",
    "function",
    "builtin_function_or_method",
    "instance",
    "_Feature"
   ],
   "window_display": false
  }
 },
 "nbformat": 4,
 "nbformat_minor": 2
}
