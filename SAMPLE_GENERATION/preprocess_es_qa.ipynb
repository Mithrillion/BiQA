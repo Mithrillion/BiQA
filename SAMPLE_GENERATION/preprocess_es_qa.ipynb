{
 "cells": [
  {
   "cell_type": "code",
   "execution_count": 1,
   "metadata": {
    "collapsed": true
   },
   "outputs": [],
   "source": [
    "import numpy as np\n",
    "import pandas as pd\n",
    "import spacy\n",
    "import re\n",
    "from itertools import chain"
   ]
  },
  {
   "cell_type": "code",
   "execution_count": 2,
   "metadata": {
    "collapsed": true
   },
   "outputs": [],
   "source": [
    "dat1 = pd.read_pickle(\"../data/elmondo_es_qa_no_numbers.pkl\")\n",
    "dat2 = pd.read_pickle(\"../data/elmondo_es_qa_no_numbers_eco.pkl\")\n",
    "dat3 = pd.read_pickle(\"../data/elmondo_es_qa_no_numbers_sp.pkl\")"
   ]
  },
  {
   "cell_type": "code",
   "execution_count": 3,
   "metadata": {
    "collapsed": true
   },
   "outputs": [],
   "source": [
    "dat = pd.concat([dat1, dat2, dat3], axis=0)\n",
    "dat = dat.reset_index().drop('index', axis=1)"
   ]
  },
  {
   "cell_type": "code",
   "execution_count": 4,
   "metadata": {
    "collapsed": true
   },
   "outputs": [],
   "source": [
    "nlp = spacy.load(\"es\")"
   ]
  },
  {
   "cell_type": "code",
   "execution_count": 5,
   "metadata": {},
   "outputs": [],
   "source": [
    "with open(\"../wordvecs/wiki.es/wiki.es.nospace.vec\") as f:\n",
    "    f.readline()\n",
    "    nlp.vocab.load_vectors(f)"
   ]
  },
  {
   "cell_type": "code",
   "execution_count": 6,
   "metadata": {},
   "outputs": [],
   "source": [
    "dat['question_nlp'] = dat['question'].apply(lambda x: nlp(x, parse=False, tag=False, entity=False))\n",
    "dat['story_nlp'] = dat['story'].apply(lambda x: nlp(x, parse=False, tag=False, entity=False))"
   ]
  },
  {
   "cell_type": "code",
   "execution_count": 7,
   "metadata": {},
   "outputs": [
    {
     "data": {
      "text/html": [
       "<div>\n",
       "<style>\n",
       "    .dataframe thead tr:only-child th {\n",
       "        text-align: right;\n",
       "    }\n",
       "\n",
       "    .dataframe thead th {\n",
       "        text-align: left;\n",
       "    }\n",
       "\n",
       "    .dataframe tbody tr th {\n",
       "        vertical-align: top;\n",
       "    }\n",
       "</style>\n",
       "<table border=\"1\" class=\"dataframe\">\n",
       "  <thead>\n",
       "    <tr style=\"text-align: right;\">\n",
       "      <th></th>\n",
       "      <th>question</th>\n",
       "      <th>answer</th>\n",
       "      <th>story</th>\n",
       "      <th>question_nlp</th>\n",
       "      <th>story_nlp</th>\n",
       "    </tr>\n",
       "  </thead>\n",
       "  <tbody>\n",
       "    <tr>\n",
       "      <th>0</th>\n",
       "      <td>La información proviene de los documentos del...</td>\n",
       "      <td>@entity318</td>\n",
       "      <td>La @entity57 (@entity187) trabaja en la constr...</td>\n",
       "      <td>( , La, información, proviene, de, los, docume...</td>\n",
       "      <td>(La, @entity57, (, @entity187, ), trabaja, en,...</td>\n",
       "    </tr>\n",
       "    <tr>\n",
       "      <th>1</th>\n",
       "      <td>Han detenido a 7 personas intregrantes de la ...</td>\n",
       "      <td>@entity299</td>\n",
       "      <td>Esta semana @entity170 ha recibido una noticia...</td>\n",
       "      <td>( , Han, detenido, a, 7, personas, intregrante...</td>\n",
       "      <td>(Esta, semana, @entity170, ha, recibido, una, ...</td>\n",
       "    </tr>\n",
       "    <tr>\n",
       "      <th>2</th>\n",
       "      <td>@placeholder tiene una gran tasa de criminali...</td>\n",
       "      <td>@entity223</td>\n",
       "      <td>Esta semana @entity223 ha recibido una noticia...</td>\n",
       "      <td>( , @placeholder, tiene, una, gran, tasa, de, ...</td>\n",
       "      <td>(Esta, semana, @entity223, ha, recibido, una, ...</td>\n",
       "    </tr>\n",
       "    <tr>\n",
       "      <th>3</th>\n",
       "      <td>Los civiles armados se niegan y se registran ...</td>\n",
       "      <td>@entity249</td>\n",
       "      <td>La situación en el @entity163 de @entity179 es...</td>\n",
       "      <td>( , Los, civiles, armados, se, niegan, y, se, ...</td>\n",
       "      <td>(La, situación, en, el, @entity163, de, @entit...</td>\n",
       "    </tr>\n",
       "    <tr>\n",
       "      <th>4</th>\n",
       "      <td>Su líder moral, el dr. @placeholder, dice en ...</td>\n",
       "      <td>@entity420</td>\n",
       "      <td>La situación en el @entity47 de @entity355 es ...</td>\n",
       "      <td>( , Su, líder, moral, ,, el, dr, ., @placehold...</td>\n",
       "      <td>(La, situación, en, el, @entity47, de, @entity...</td>\n",
       "    </tr>\n",
       "  </tbody>\n",
       "</table>\n",
       "</div>"
      ],
      "text/plain": [
       "                                            question      answer  \\\n",
       "0   La información proviene de los documentos del...  @entity318   \n",
       "1   Han detenido a 7 personas intregrantes de la ...  @entity299   \n",
       "2   @placeholder tiene una gran tasa de criminali...  @entity223   \n",
       "3   Los civiles armados se niegan y se registran ...  @entity249   \n",
       "4   Su líder moral, el dr. @placeholder, dice en ...  @entity420   \n",
       "\n",
       "                                               story  \\\n",
       "0  La @entity57 (@entity187) trabaja en la constr...   \n",
       "1  Esta semana @entity170 ha recibido una noticia...   \n",
       "2  Esta semana @entity223 ha recibido una noticia...   \n",
       "3  La situación en el @entity163 de @entity179 es...   \n",
       "4  La situación en el @entity47 de @entity355 es ...   \n",
       "\n",
       "                                        question_nlp  \\\n",
       "0  ( , La, información, proviene, de, los, docume...   \n",
       "1  ( , Han, detenido, a, 7, personas, intregrante...   \n",
       "2  ( , @placeholder, tiene, una, gran, tasa, de, ...   \n",
       "3  ( , Los, civiles, armados, se, niegan, y, se, ...   \n",
       "4  ( , Su, líder, moral, ,, el, dr, ., @placehold...   \n",
       "\n",
       "                                           story_nlp  \n",
       "0  (La, @entity57, (, @entity187, ), trabaja, en,...  \n",
       "1  (Esta, semana, @entity170, ha, recibido, una, ...  \n",
       "2  (Esta, semana, @entity223, ha, recibido, una, ...  \n",
       "3  (La, situación, en, el, @entity163, de, @entit...  \n",
       "4  (La, situación, en, el, @entity47, de, @entity...  "
      ]
     },
     "execution_count": 7,
     "metadata": {},
     "output_type": "execute_result"
    }
   ],
   "source": [
    "dat.head()"
   ]
  },
  {
   "cell_type": "code",
   "execution_count": 8,
   "metadata": {},
   "outputs": [
    {
     "data": {
      "text/plain": [
       "(57125, 5)"
      ]
     },
     "execution_count": 8,
     "metadata": {},
     "output_type": "execute_result"
    }
   ],
   "source": [
    "dat.shape"
   ]
  },
  {
   "cell_type": "code",
   "execution_count": 9,
   "metadata": {
    "collapsed": true
   },
   "outputs": [],
   "source": [
    "q_lengths = dat['question_nlp'].apply(len)\n",
    "s_lengths = dat['story_nlp'].apply(len)"
   ]
  },
  {
   "cell_type": "code",
   "execution_count": 10,
   "metadata": {
    "collapsed": true
   },
   "outputs": [],
   "source": [
    "question_has_vec_ind = dat['question_nlp'].apply(lambda x: np.array([w.has_vector for w in x]))"
   ]
  },
  {
   "cell_type": "code",
   "execution_count": 11,
   "metadata": {
    "collapsed": true
   },
   "outputs": [],
   "source": [
    "story_has_vec_ind = dat['story_nlp'].apply(lambda x: np.array([w.has_vector for w in x]))"
   ]
  },
  {
   "cell_type": "code",
   "execution_count": 12,
   "metadata": {
    "collapsed": true
   },
   "outputs": [],
   "source": [
    "question_ent_ind = dat['question_nlp'].apply(lambda x: np.array([w.text[:7] == '@entity' for w in x]))\n",
    "story_ent_ind = dat['story_nlp'].apply(lambda x: np.array([w.text[:7] == '@entity' for w in x]))"
   ]
  },
  {
   "cell_type": "code",
   "execution_count": 13,
   "metadata": {
    "collapsed": true
   },
   "outputs": [],
   "source": [
    "question_ph_ind = dat['question_nlp'].apply(lambda x: np.array([w.text == '@placeholder' for w in x]))"
   ]
  },
  {
   "cell_type": "code",
   "execution_count": 14,
   "metadata": {
    "collapsed": true
   },
   "outputs": [],
   "source": [
    "no_ph_ind = (question_ph_ind.apply(sum) == 0)"
   ]
  },
  {
   "cell_type": "code",
   "execution_count": 15,
   "metadata": {
    "collapsed": true
   },
   "outputs": [],
   "source": [
    "no_ans_ind = []\n",
    "for i in range(dat.shape[0]):\n",
    "    no_ans_ind.append(re.search(dat['answer'][i], dat['story'][i]) == None)\n",
    "no_ans_ind = np.array(no_ans_ind)"
   ]
  },
  {
   "cell_type": "code",
   "execution_count": 16,
   "metadata": {},
   "outputs": [],
   "source": [
    "selected = dat.loc[(q_lengths > 4) & (q_lengths <= 50) & (s_lengths <= 2000) & (~no_ans_ind) & (~(no_ph_ind))]"
   ]
  },
  {
   "cell_type": "code",
   "execution_count": 17,
   "metadata": {},
   "outputs": [
    {
     "data": {
      "text/plain": [
       "(56130, 5)"
      ]
     },
     "execution_count": 17,
     "metadata": {},
     "output_type": "execute_result"
    }
   ],
   "source": [
    "selected.shape"
   ]
  },
  {
   "cell_type": "code",
   "execution_count": 18,
   "metadata": {},
   "outputs": [
    {
     "data": {
      "text/html": [
       "<div>\n",
       "<style>\n",
       "    .dataframe thead tr:only-child th {\n",
       "        text-align: right;\n",
       "    }\n",
       "\n",
       "    .dataframe thead th {\n",
       "        text-align: left;\n",
       "    }\n",
       "\n",
       "    .dataframe tbody tr th {\n",
       "        vertical-align: top;\n",
       "    }\n",
       "</style>\n",
       "<table border=\"1\" class=\"dataframe\">\n",
       "  <thead>\n",
       "    <tr style=\"text-align: right;\">\n",
       "      <th></th>\n",
       "      <th>question</th>\n",
       "      <th>answer</th>\n",
       "      <th>story</th>\n",
       "      <th>question_nlp</th>\n",
       "      <th>story_nlp</th>\n",
       "    </tr>\n",
       "  </thead>\n",
       "  <tbody>\n",
       "    <tr>\n",
       "      <th>0</th>\n",
       "      <td>La información proviene de los documentos del...</td>\n",
       "      <td>@entity318</td>\n",
       "      <td>La @entity57 (@entity187) trabaja en la constr...</td>\n",
       "      <td>( , La, información, proviene, de, los, docume...</td>\n",
       "      <td>(La, @entity57, (, @entity187, ), trabaja, en,...</td>\n",
       "    </tr>\n",
       "    <tr>\n",
       "      <th>1</th>\n",
       "      <td>Han detenido a 7 personas intregrantes de la ...</td>\n",
       "      <td>@entity299</td>\n",
       "      <td>Esta semana @entity170 ha recibido una noticia...</td>\n",
       "      <td>( , Han, detenido, a, 7, personas, intregrante...</td>\n",
       "      <td>(Esta, semana, @entity170, ha, recibido, una, ...</td>\n",
       "    </tr>\n",
       "    <tr>\n",
       "      <th>2</th>\n",
       "      <td>@placeholder tiene una gran tasa de criminali...</td>\n",
       "      <td>@entity223</td>\n",
       "      <td>Esta semana @entity223 ha recibido una noticia...</td>\n",
       "      <td>( , @placeholder, tiene, una, gran, tasa, de, ...</td>\n",
       "      <td>(Esta, semana, @entity223, ha, recibido, una, ...</td>\n",
       "    </tr>\n",
       "    <tr>\n",
       "      <th>3</th>\n",
       "      <td>Los civiles armados se niegan y se registran ...</td>\n",
       "      <td>@entity249</td>\n",
       "      <td>La situación en el @entity163 de @entity179 es...</td>\n",
       "      <td>( , Los, civiles, armados, se, niegan, y, se, ...</td>\n",
       "      <td>(La, situación, en, el, @entity163, de, @entit...</td>\n",
       "    </tr>\n",
       "    <tr>\n",
       "      <th>4</th>\n",
       "      <td>Su líder moral, el dr. @placeholder, dice en ...</td>\n",
       "      <td>@entity420</td>\n",
       "      <td>La situación en el @entity47 de @entity355 es ...</td>\n",
       "      <td>( , Su, líder, moral, ,, el, dr, ., @placehold...</td>\n",
       "      <td>(La, situación, en, el, @entity47, de, @entity...</td>\n",
       "    </tr>\n",
       "  </tbody>\n",
       "</table>\n",
       "</div>"
      ],
      "text/plain": [
       "                                            question      answer  \\\n",
       "0   La información proviene de los documentos del...  @entity318   \n",
       "1   Han detenido a 7 personas intregrantes de la ...  @entity299   \n",
       "2   @placeholder tiene una gran tasa de criminali...  @entity223   \n",
       "3   Los civiles armados se niegan y se registran ...  @entity249   \n",
       "4   Su líder moral, el dr. @placeholder, dice en ...  @entity420   \n",
       "\n",
       "                                               story  \\\n",
       "0  La @entity57 (@entity187) trabaja en la constr...   \n",
       "1  Esta semana @entity170 ha recibido una noticia...   \n",
       "2  Esta semana @entity223 ha recibido una noticia...   \n",
       "3  La situación en el @entity163 de @entity179 es...   \n",
       "4  La situación en el @entity47 de @entity355 es ...   \n",
       "\n",
       "                                        question_nlp  \\\n",
       "0  ( , La, información, proviene, de, los, docume...   \n",
       "1  ( , Han, detenido, a, 7, personas, intregrante...   \n",
       "2  ( , @placeholder, tiene, una, gran, tasa, de, ...   \n",
       "3  ( , Los, civiles, armados, se, niegan, y, se, ...   \n",
       "4  ( , Su, líder, moral, ,, el, dr, ., @placehold...   \n",
       "\n",
       "                                           story_nlp  \n",
       "0  (La, @entity57, (, @entity187, ), trabaja, en,...  \n",
       "1  (Esta, semana, @entity170, ha, recibido, una, ...  \n",
       "2  (Esta, semana, @entity223, ha, recibido, una, ...  \n",
       "3  (La, situación, en, el, @entity163, de, @entit...  \n",
       "4  (La, situación, en, el, @entity47, de, @entity...  "
      ]
     },
     "execution_count": 18,
     "metadata": {},
     "output_type": "execute_result"
    }
   ],
   "source": [
    "selected.head()"
   ]
  },
  {
   "cell_type": "code",
   "execution_count": 19,
   "metadata": {
    "collapsed": true
   },
   "outputs": [],
   "source": [
    "sel = selected.drop(['story_nlp', 'question_nlp'], axis=1)"
   ]
  },
  {
   "cell_type": "code",
   "execution_count": 20,
   "metadata": {},
   "outputs": [
    {
     "data": {
      "text/html": [
       "<div>\n",
       "<style>\n",
       "    .dataframe thead tr:only-child th {\n",
       "        text-align: right;\n",
       "    }\n",
       "\n",
       "    .dataframe thead th {\n",
       "        text-align: left;\n",
       "    }\n",
       "\n",
       "    .dataframe tbody tr th {\n",
       "        vertical-align: top;\n",
       "    }\n",
       "</style>\n",
       "<table border=\"1\" class=\"dataframe\">\n",
       "  <thead>\n",
       "    <tr style=\"text-align: right;\">\n",
       "      <th></th>\n",
       "      <th>question</th>\n",
       "      <th>answer</th>\n",
       "      <th>story</th>\n",
       "    </tr>\n",
       "  </thead>\n",
       "  <tbody>\n",
       "    <tr>\n",
       "      <th>0</th>\n",
       "      <td>La información proviene de los documentos del...</td>\n",
       "      <td>@entity318</td>\n",
       "      <td>La @entity57 (@entity187) trabaja en la constr...</td>\n",
       "    </tr>\n",
       "    <tr>\n",
       "      <th>1</th>\n",
       "      <td>Han detenido a 7 personas intregrantes de la ...</td>\n",
       "      <td>@entity299</td>\n",
       "      <td>Esta semana @entity170 ha recibido una noticia...</td>\n",
       "    </tr>\n",
       "    <tr>\n",
       "      <th>2</th>\n",
       "      <td>@placeholder tiene una gran tasa de criminali...</td>\n",
       "      <td>@entity223</td>\n",
       "      <td>Esta semana @entity223 ha recibido una noticia...</td>\n",
       "    </tr>\n",
       "    <tr>\n",
       "      <th>3</th>\n",
       "      <td>Los civiles armados se niegan y se registran ...</td>\n",
       "      <td>@entity249</td>\n",
       "      <td>La situación en el @entity163 de @entity179 es...</td>\n",
       "    </tr>\n",
       "    <tr>\n",
       "      <th>4</th>\n",
       "      <td>Su líder moral, el dr. @placeholder, dice en ...</td>\n",
       "      <td>@entity420</td>\n",
       "      <td>La situación en el @entity47 de @entity355 es ...</td>\n",
       "    </tr>\n",
       "  </tbody>\n",
       "</table>\n",
       "</div>"
      ],
      "text/plain": [
       "                                            question      answer  \\\n",
       "0   La información proviene de los documentos del...  @entity318   \n",
       "1   Han detenido a 7 personas intregrantes de la ...  @entity299   \n",
       "2   @placeholder tiene una gran tasa de criminali...  @entity223   \n",
       "3   Los civiles armados se niegan y se registran ...  @entity249   \n",
       "4   Su líder moral, el dr. @placeholder, dice en ...  @entity420   \n",
       "\n",
       "                                               story  \n",
       "0  La @entity57 (@entity187) trabaja en la constr...  \n",
       "1  Esta semana @entity170 ha recibido una noticia...  \n",
       "2  Esta semana @entity223 ha recibido una noticia...  \n",
       "3  La situación en el @entity163 de @entity179 es...  \n",
       "4  La situación en el @entity47 de @entity355 es ...  "
      ]
     },
     "execution_count": 20,
     "metadata": {},
     "output_type": "execute_result"
    }
   ],
   "source": [
    "sel.head()"
   ]
  },
  {
   "cell_type": "code",
   "execution_count": 26,
   "metadata": {},
   "outputs": [
    {
     "data": {
      "text/plain": [
       "'@entity23, @entity67 @entity56'"
      ]
     },
     "execution_count": 26,
     "metadata": {},
     "output_type": "execute_result"
    }
   ],
   "source": [
    "re.sub(r'(?<=\\S)@entity(\\d+)', r' @entity\\1', '@entity23,@entity67@entity56')"
   ]
  },
  {
   "cell_type": "code",
   "execution_count": 27,
   "metadata": {
    "collapsed": true
   },
   "outputs": [],
   "source": [
    "deliminated_questions = sel['question'].apply(lambda x: re.sub(r'(?<=\\S)@entity(\\d+)', r' @entity\\1', x))\n",
    "deliminated_stories = sel['story'].apply(lambda x: re.sub(r'(?<=\\S)@entity(\\d+)', r' @entity\\1', x))"
   ]
  },
  {
   "cell_type": "code",
   "execution_count": 28,
   "metadata": {
    "collapsed": true
   },
   "outputs": [],
   "source": [
    "sel['question'] = deliminated_questions\n",
    "sel['story'] = deliminated_stories"
   ]
  },
  {
   "cell_type": "code",
   "execution_count": 30,
   "metadata": {},
   "outputs": [],
   "source": [
    "dev = sel.sample(frac=0.1, random_state=7777, replace=False)\n",
    "rest = sel[~np.in1d(sel.index, dev.index)]\n",
    "test = rest.sample(frac=0.1, random_state=7777, replace=False)\n",
    "train = rest[~np.in1d(rest.index, test.index)]"
   ]
  },
  {
   "cell_type": "code",
   "execution_count": 31,
   "metadata": {},
   "outputs": [
    {
     "name": "stdout",
     "output_type": "stream",
     "text": [
      "(5613, 3) (50517, 3) (5052, 3) (45465, 3)\n"
     ]
    }
   ],
   "source": [
    "print(dev.shape, rest.shape, test.shape, train.shape)"
   ]
  },
  {
   "cell_type": "code",
   "execution_count": 32,
   "metadata": {
    "collapsed": true
   },
   "outputs": [],
   "source": [
    "train.to_pickle(\"../input_data/train_es.pkl\")\n",
    "dev.to_pickle(\"../input_data/dev_es.pkl\")\n",
    "test.to_pickle(\"../input_data/test_es.pkl\")"
   ]
  },
  {
   "cell_type": "code",
   "execution_count": null,
   "metadata": {
    "collapsed": true
   },
   "outputs": [],
   "source": []
  }
 ],
 "metadata": {
  "anaconda-cloud": {},
  "hide_input": false,
  "kernelspec": {
   "display_name": "Python [py36]",
   "language": "python",
   "name": "Python [py36]"
  },
  "language_info": {
   "codemirror_mode": {
    "name": "ipython",
    "version": 3
   },
   "file_extension": ".py",
   "mimetype": "text/x-python",
   "name": "python",
   "nbconvert_exporter": "python",
   "pygments_lexer": "ipython3",
   "version": "3.6.2"
  },
  "varInspector": {
   "cols": {
    "lenName": 16,
    "lenType": 16,
    "lenVar": 40
   },
   "kernels_config": {
    "python": {
     "delete_cmd_postfix": "",
     "delete_cmd_prefix": "del ",
     "library": "var_list.py",
     "varRefreshCmd": "print(var_dic_list())"
    },
    "r": {
     "delete_cmd_postfix": ") ",
     "delete_cmd_prefix": "rm(",
     "library": "var_list.r",
     "varRefreshCmd": "cat(var_dic_list()) "
    }
   },
   "types_to_exclude": [
    "module",
    "function",
    "builtin_function_or_method",
    "instance",
    "_Feature"
   ],
   "window_display": false
  }
 },
 "nbformat": 4,
 "nbformat_minor": 2
}
