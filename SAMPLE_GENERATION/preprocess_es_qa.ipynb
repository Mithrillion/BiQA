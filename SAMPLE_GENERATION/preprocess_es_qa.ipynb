{
 "cells": [
  {
   "cell_type": "code",
   "execution_count": 1,
   "metadata": {
    "collapsed": true
   },
   "outputs": [],
   "source": [
    "import numpy as np\n",
    "import pandas as pd\n",
    "import spacy\n",
    "import re\n",
    "from itertools import chain"
   ]
  },
  {
   "cell_type": "code",
   "execution_count": 2,
   "metadata": {
    "collapsed": true
   },
   "outputs": [],
   "source": [
    "dat1 = pd.read_pickle(\"../data/elmondo_es_qa_no_numbers.pkl\")\n",
    "dat2 = pd.read_pickle(\"../data/elmondo_es_qa_no_numbers_eco.pkl\")\n",
    "dat3 = pd.read_pickle(\"../data/elmondo_es_qa_no_numbers_sp.pkl\")"
   ]
  },
  {
   "cell_type": "code",
   "execution_count": 3,
   "metadata": {
    "collapsed": true
   },
   "outputs": [],
   "source": [
    "dat = pd.concat([dat1, dat2, dat3], axis=0)\n",
    "dat = dat.reset_index().drop('index', axis=1)"
   ]
  },
  {
   "cell_type": "code",
   "execution_count": 4,
   "metadata": {
    "collapsed": true
   },
   "outputs": [],
   "source": [
    "nlp = spacy.load(\"es\")"
   ]
  },
  {
   "cell_type": "code",
   "execution_count": 5,
   "metadata": {
    "collapsed": true
   },
   "outputs": [],
   "source": [
    "with open(\"../wordvecs/wiki.es/wiki.es.nospace.vec\") as f:\n",
    "    nlp.vocab.load_vectors(f)"
   ]
  },
  {
   "cell_type": "code",
   "execution_count": 6,
   "metadata": {
    "collapsed": true
   },
   "outputs": [],
   "source": [
    "dat['question_nlp'] = dat['question'].apply(lambda x: nlp(x, parse=False, tag=False, entity=False))\n",
    "dat['story_nlp'] = dat['story'].apply(lambda x: nlp(x, parse=False, tag=False, entity=False))"
   ]
  },
  {
   "cell_type": "code",
   "execution_count": 7,
   "metadata": {},
   "outputs": [
    {
     "data": {
      "text/html": [
       "<div>\n",
       "<style>\n",
       "    .dataframe thead tr:only-child th {\n",
       "        text-align: right;\n",
       "    }\n",
       "\n",
       "    .dataframe thead th {\n",
       "        text-align: left;\n",
       "    }\n",
       "\n",
       "    .dataframe tbody tr th {\n",
       "        vertical-align: top;\n",
       "    }\n",
       "</style>\n",
       "<table border=\"1\" class=\"dataframe\">\n",
       "  <thead>\n",
       "    <tr style=\"text-align: right;\">\n",
       "      <th></th>\n",
       "      <th>question</th>\n",
       "      <th>answer</th>\n",
       "      <th>story</th>\n",
       "      <th>question_nlp</th>\n",
       "      <th>story_nlp</th>\n",
       "    </tr>\n",
       "  </thead>\n",
       "  <tbody>\n",
       "    <tr>\n",
       "      <th>0</th>\n",
       "      <td>La información proviene de los documentos del...</td>\n",
       "      <td>@entity318</td>\n",
       "      <td>La @entity57 (@entity187) trabaja en la constr...</td>\n",
       "      <td>( , La, información, proviene, de, los, docume...</td>\n",
       "      <td>(La, @entity57, (, @entity187, ), trabaja, en,...</td>\n",
       "    </tr>\n",
       "    <tr>\n",
       "      <th>1</th>\n",
       "      <td>Han detenido a 7 personas intregrantes de la ...</td>\n",
       "      <td>@entity299</td>\n",
       "      <td>Esta semana @entity170 ha recibido una noticia...</td>\n",
       "      <td>( , Han, detenido, a, 7, personas, intregrante...</td>\n",
       "      <td>(Esta, semana, @entity170, ha, recibido, una, ...</td>\n",
       "    </tr>\n",
       "    <tr>\n",
       "      <th>2</th>\n",
       "      <td>@placeholder tiene una gran tasa de criminali...</td>\n",
       "      <td>@entity223</td>\n",
       "      <td>Esta semana @entity223 ha recibido una noticia...</td>\n",
       "      <td>( , @placeholder, tiene, una, gran, tasa, de, ...</td>\n",
       "      <td>(Esta, semana, @entity223, ha, recibido, una, ...</td>\n",
       "    </tr>\n",
       "    <tr>\n",
       "      <th>3</th>\n",
       "      <td>Los civiles armados se niegan y se registran ...</td>\n",
       "      <td>@entity249</td>\n",
       "      <td>La situación en el @entity163 de @entity179 es...</td>\n",
       "      <td>( , Los, civiles, armados, se, niegan, y, se, ...</td>\n",
       "      <td>(La, situación, en, el, @entity163, de, @entit...</td>\n",
       "    </tr>\n",
       "    <tr>\n",
       "      <th>4</th>\n",
       "      <td>Su líder moral, el dr. @placeholder, dice en ...</td>\n",
       "      <td>@entity420</td>\n",
       "      <td>La situación en el @entity47 de @entity355 es ...</td>\n",
       "      <td>( , Su, líder, moral, ,, el, dr, ., @placehold...</td>\n",
       "      <td>(La, situación, en, el, @entity47, de, @entity...</td>\n",
       "    </tr>\n",
       "  </tbody>\n",
       "</table>\n",
       "</div>"
      ],
      "text/plain": [
       "                                            question      answer  \\\n",
       "0   La información proviene de los documentos del...  @entity318   \n",
       "1   Han detenido a 7 personas intregrantes de la ...  @entity299   \n",
       "2   @placeholder tiene una gran tasa de criminali...  @entity223   \n",
       "3   Los civiles armados se niegan y se registran ...  @entity249   \n",
       "4   Su líder moral, el dr. @placeholder, dice en ...  @entity420   \n",
       "\n",
       "                                               story  \\\n",
       "0  La @entity57 (@entity187) trabaja en la constr...   \n",
       "1  Esta semana @entity170 ha recibido una noticia...   \n",
       "2  Esta semana @entity223 ha recibido una noticia...   \n",
       "3  La situación en el @entity163 de @entity179 es...   \n",
       "4  La situación en el @entity47 de @entity355 es ...   \n",
       "\n",
       "                                        question_nlp  \\\n",
       "0  ( , La, información, proviene, de, los, docume...   \n",
       "1  ( , Han, detenido, a, 7, personas, intregrante...   \n",
       "2  ( , @placeholder, tiene, una, gran, tasa, de, ...   \n",
       "3  ( , Los, civiles, armados, se, niegan, y, se, ...   \n",
       "4  ( , Su, líder, moral, ,, el, dr, ., @placehold...   \n",
       "\n",
       "                                           story_nlp  \n",
       "0  (La, @entity57, (, @entity187, ), trabaja, en,...  \n",
       "1  (Esta, semana, @entity170, ha, recibido, una, ...  \n",
       "2  (Esta, semana, @entity223, ha, recibido, una, ...  \n",
       "3  (La, situación, en, el, @entity163, de, @entit...  \n",
       "4  (La, situación, en, el, @entity47, de, @entity...  "
      ]
     },
     "execution_count": 7,
     "metadata": {},
     "output_type": "execute_result"
    }
   ],
   "source": [
    "dat.head()"
   ]
  },
  {
   "cell_type": "code",
   "execution_count": 8,
   "metadata": {},
   "outputs": [
    {
     "data": {
      "text/plain": [
       "(57125, 5)"
      ]
     },
     "execution_count": 8,
     "metadata": {},
     "output_type": "execute_result"
    }
   ],
   "source": [
    "dat.shape"
   ]
  },
  {
   "cell_type": "code",
   "execution_count": 9,
   "metadata": {
    "collapsed": true
   },
   "outputs": [],
   "source": [
    "q_lengths = dat['question_nlp'].apply(len)\n",
    "s_lengths = dat['story_nlp'].apply(len)"
   ]
  },
  {
   "cell_type": "code",
   "execution_count": 10,
   "metadata": {
    "collapsed": true
   },
   "outputs": [],
   "source": [
    "question_has_vec_ind = dat['question_nlp'].apply(lambda x: np.array([w.has_vector for w in x]))"
   ]
  },
  {
   "cell_type": "code",
   "execution_count": 11,
   "metadata": {
    "collapsed": true
   },
   "outputs": [],
   "source": [
    "story_has_vec_ind = dat['story_nlp'].apply(lambda x: np.array([w.has_vector for w in x]))"
   ]
  },
  {
   "cell_type": "code",
   "execution_count": 12,
   "metadata": {
    "collapsed": true
   },
   "outputs": [],
   "source": [
    "question_ent_ind = dat['question_nlp'].apply(lambda x: np.array([w.text[:7] == '@entity' for w in x]))\n",
    "story_ent_ind = dat['story_nlp'].apply(lambda x: np.array([w.text[:7] == '@entity' for w in x]))"
   ]
  },
  {
   "cell_type": "code",
   "execution_count": 13,
   "metadata": {
    "collapsed": true
   },
   "outputs": [],
   "source": [
    "question_ph_ind = dat['question_nlp'].apply(lambda x: np.array([w.text == '@placeholder' for w in x]))"
   ]
  },
  {
   "cell_type": "code",
   "execution_count": 14,
   "metadata": {
    "collapsed": true
   },
   "outputs": [],
   "source": [
    "no_ph_ind = (question_ph_ind.apply(sum) == 0)"
   ]
  },
  {
   "cell_type": "code",
   "execution_count": 15,
   "metadata": {
    "collapsed": true
   },
   "outputs": [],
   "source": [
    "no_ans_ind = []\n",
    "for i in range(dat.shape[0]):\n",
    "    no_ans_ind.append(re.search(dat['answer'][i], dat['story'][i]) == None)\n",
    "no_ans_ind = np.array(no_ans_ind)"
   ]
  },
  {
   "cell_type": "code",
   "execution_count": 32,
   "metadata": {},
   "outputs": [
    {
     "name": "stderr",
     "output_type": "stream",
     "text": [
      "/home/mithrillion/anaconda3/envs/py36/lib/python3.6/site-packages/ipykernel/__main__.py:2: SettingWithCopyWarning: \n",
      "A value is trying to be set on a copy of a slice from a DataFrame.\n",
      "Try using .loc[row_indexer,col_indexer] = value instead\n",
      "\n",
      "See the caveats in the documentation: http://pandas.pydata.org/pandas-docs/stable/indexing.html#indexing-view-versus-copy\n",
      "  from ipykernel import kernelapp as app\n",
      "/home/mithrillion/anaconda3/envs/py36/lib/python3.6/site-packages/ipykernel/__main__.py:4: SettingWithCopyWarning: \n",
      "A value is trying to be set on a copy of a slice from a DataFrame\n",
      "\n",
      "See the caveats in the documentation: http://pandas.pydata.org/pandas-docs/stable/indexing.html#indexing-view-versus-copy\n"
     ]
    }
   ],
   "source": [
    "selected = dat.loc[(q_lengths > 4) & (q_lengths <= 50) & (s_lengths <= 2000) & (~no_ans_ind) & (~(no_ph_ind))]\n",
    "selected['story_length'] = s_lengths[selected.index]\n",
    "# selected['question_length'] = q_lengths[selected.index]\n",
    "selected.sort_values(\"story_length\", ascending=False, inplace=True)"
   ]
  },
  {
   "cell_type": "code",
   "execution_count": 33,
   "metadata": {},
   "outputs": [
    {
     "data": {
      "text/plain": [
       "(56130, 6)"
      ]
     },
     "execution_count": 33,
     "metadata": {},
     "output_type": "execute_result"
    }
   ],
   "source": [
    "selected.shape"
   ]
  },
  {
   "cell_type": "code",
   "execution_count": 34,
   "metadata": {},
   "outputs": [
    {
     "data": {
      "text/html": [
       "<div>\n",
       "<style>\n",
       "    .dataframe thead tr:only-child th {\n",
       "        text-align: right;\n",
       "    }\n",
       "\n",
       "    .dataframe thead th {\n",
       "        text-align: left;\n",
       "    }\n",
       "\n",
       "    .dataframe tbody tr th {\n",
       "        vertical-align: top;\n",
       "    }\n",
       "</style>\n",
       "<table border=\"1\" class=\"dataframe\">\n",
       "  <thead>\n",
       "    <tr style=\"text-align: right;\">\n",
       "      <th></th>\n",
       "      <th>question</th>\n",
       "      <th>answer</th>\n",
       "      <th>story</th>\n",
       "      <th>question_nlp</th>\n",
       "      <th>story_nlp</th>\n",
       "      <th>story_length</th>\n",
       "    </tr>\n",
       "  </thead>\n",
       "  <tbody>\n",
       "    <tr>\n",
       "      <th>6549</th>\n",
       "      <td>VIAJE AL REINO HERMÉTICO: Una española en @pla...</td>\n",
       "      <td>@entity80</td>\n",
       "      <td>En @entity388 se aprende a llorar en silencio,...</td>\n",
       "      <td>(VIAJE, AL, REINO, HERMÉTICO, :, Una, española...</td>\n",
       "      <td>(En, @entity388, se, aprende, a, llorar, en, s...</td>\n",
       "      <td>2000</td>\n",
       "    </tr>\n",
       "    <tr>\n",
       "      <th>6550</th>\n",
       "      <td>El estudiante de EEUU detenido en @placeholder...</td>\n",
       "      <td>@entity212</td>\n",
       "      <td>En @entity212 se aprende a llorar en silencio,...</td>\n",
       "      <td>(El, estudiante, de, EEUU, detenido, en, @plac...</td>\n",
       "      <td>(En, @entity212, se, aprende, a, llorar, en, s...</td>\n",
       "      <td>2000</td>\n",
       "    </tr>\n",
       "    <tr>\n",
       "      <th>8163</th>\n",
       "      <td>Volver a nacer dos veces en un mismo siglo en ...</td>\n",
       "      <td>@entity2</td>\n",
       "      <td>Si se callejea por el casco antiguo de @entity...</td>\n",
       "      <td>(Volver, a, nacer, dos, veces, en, un, mismo, ...</td>\n",
       "      <td>(Si, se, callejea, por, el, casco, antiguo, de...</td>\n",
       "      <td>1998</td>\n",
       "    </tr>\n",
       "    <tr>\n",
       "      <th>25466</th>\n",
       "      <td>\\nMientras el @entity458, @placeholder y @enti...</td>\n",
       "      <td>@entity170</td>\n",
       "      <td>Desde que la crisis se hizo evidente, la @enti...</td>\n",
       "      <td>(\\n, Mientras, el, @entity458, ,, @placeholder...</td>\n",
       "      <td>(Desde, que, la, crisis, se, hizo, evidente, ,...</td>\n",
       "      <td>1993</td>\n",
       "    </tr>\n",
       "    <tr>\n",
       "      <th>25465</th>\n",
       "      <td>\\nMientras el @placeholder, @entity10 y @entit...</td>\n",
       "      <td>@entity126</td>\n",
       "      <td>Desde que la crisis se hizo evidente, la @enti...</td>\n",
       "      <td>(\\n, Mientras, el, @placeholder, ,, @entity10,...</td>\n",
       "      <td>(Desde, que, la, crisis, se, hizo, evidente, ,...</td>\n",
       "      <td>1993</td>\n",
       "    </tr>\n",
       "  </tbody>\n",
       "</table>\n",
       "</div>"
      ],
      "text/plain": [
       "                                                question      answer  \\\n",
       "6549   VIAJE AL REINO HERMÉTICO: Una española en @pla...   @entity80   \n",
       "6550   El estudiante de EEUU detenido en @placeholder...  @entity212   \n",
       "8163   Volver a nacer dos veces en un mismo siglo en ...    @entity2   \n",
       "25466  \\nMientras el @entity458, @placeholder y @enti...  @entity170   \n",
       "25465  \\nMientras el @placeholder, @entity10 y @entit...  @entity126   \n",
       "\n",
       "                                                   story  \\\n",
       "6549   En @entity388 se aprende a llorar en silencio,...   \n",
       "6550   En @entity212 se aprende a llorar en silencio,...   \n",
       "8163   Si se callejea por el casco antiguo de @entity...   \n",
       "25466  Desde que la crisis se hizo evidente, la @enti...   \n",
       "25465  Desde que la crisis se hizo evidente, la @enti...   \n",
       "\n",
       "                                            question_nlp  \\\n",
       "6549   (VIAJE, AL, REINO, HERMÉTICO, :, Una, española...   \n",
       "6550   (El, estudiante, de, EEUU, detenido, en, @plac...   \n",
       "8163   (Volver, a, nacer, dos, veces, en, un, mismo, ...   \n",
       "25466  (\\n, Mientras, el, @entity458, ,, @placeholder...   \n",
       "25465  (\\n, Mientras, el, @placeholder, ,, @entity10,...   \n",
       "\n",
       "                                               story_nlp  story_length  \n",
       "6549   (En, @entity388, se, aprende, a, llorar, en, s...          2000  \n",
       "6550   (En, @entity212, se, aprende, a, llorar, en, s...          2000  \n",
       "8163   (Si, se, callejea, por, el, casco, antiguo, de...          1998  \n",
       "25466  (Desde, que, la, crisis, se, hizo, evidente, ,...          1993  \n",
       "25465  (Desde, que, la, crisis, se, hizo, evidente, ,...          1993  "
      ]
     },
     "execution_count": 34,
     "metadata": {},
     "output_type": "execute_result"
    }
   ],
   "source": [
    "selected.head()"
   ]
  },
  {
   "cell_type": "code",
   "execution_count": 35,
   "metadata": {
    "collapsed": true
   },
   "outputs": [],
   "source": [
    "sel = selected.drop(['story_nlp', 'question_nlp'], axis=1)"
   ]
  },
  {
   "cell_type": "code",
   "execution_count": 36,
   "metadata": {},
   "outputs": [
    {
     "data": {
      "text/html": [
       "<div>\n",
       "<style>\n",
       "    .dataframe thead tr:only-child th {\n",
       "        text-align: right;\n",
       "    }\n",
       "\n",
       "    .dataframe thead th {\n",
       "        text-align: left;\n",
       "    }\n",
       "\n",
       "    .dataframe tbody tr th {\n",
       "        vertical-align: top;\n",
       "    }\n",
       "</style>\n",
       "<table border=\"1\" class=\"dataframe\">\n",
       "  <thead>\n",
       "    <tr style=\"text-align: right;\">\n",
       "      <th></th>\n",
       "      <th>question</th>\n",
       "      <th>answer</th>\n",
       "      <th>story</th>\n",
       "      <th>story_length</th>\n",
       "    </tr>\n",
       "  </thead>\n",
       "  <tbody>\n",
       "    <tr>\n",
       "      <th>6549</th>\n",
       "      <td>VIAJE AL REINO HERMÉTICO: Una española en @pla...</td>\n",
       "      <td>@entity80</td>\n",
       "      <td>En @entity388 se aprende a llorar en silencio,...</td>\n",
       "      <td>2000</td>\n",
       "    </tr>\n",
       "    <tr>\n",
       "      <th>6550</th>\n",
       "      <td>El estudiante de EEUU detenido en @placeholder...</td>\n",
       "      <td>@entity212</td>\n",
       "      <td>En @entity212 se aprende a llorar en silencio,...</td>\n",
       "      <td>2000</td>\n",
       "    </tr>\n",
       "    <tr>\n",
       "      <th>8163</th>\n",
       "      <td>Volver a nacer dos veces en un mismo siglo en ...</td>\n",
       "      <td>@entity2</td>\n",
       "      <td>Si se callejea por el casco antiguo de @entity...</td>\n",
       "      <td>1998</td>\n",
       "    </tr>\n",
       "    <tr>\n",
       "      <th>25466</th>\n",
       "      <td>\\nMientras el @entity458, @placeholder y @enti...</td>\n",
       "      <td>@entity170</td>\n",
       "      <td>Desde que la crisis se hizo evidente, la @enti...</td>\n",
       "      <td>1993</td>\n",
       "    </tr>\n",
       "    <tr>\n",
       "      <th>25465</th>\n",
       "      <td>\\nMientras el @placeholder, @entity10 y @entit...</td>\n",
       "      <td>@entity126</td>\n",
       "      <td>Desde que la crisis se hizo evidente, la @enti...</td>\n",
       "      <td>1993</td>\n",
       "    </tr>\n",
       "  </tbody>\n",
       "</table>\n",
       "</div>"
      ],
      "text/plain": [
       "                                                question      answer  \\\n",
       "6549   VIAJE AL REINO HERMÉTICO: Una española en @pla...   @entity80   \n",
       "6550   El estudiante de EEUU detenido en @placeholder...  @entity212   \n",
       "8163   Volver a nacer dos veces en un mismo siglo en ...    @entity2   \n",
       "25466  \\nMientras el @entity458, @placeholder y @enti...  @entity170   \n",
       "25465  \\nMientras el @placeholder, @entity10 y @entit...  @entity126   \n",
       "\n",
       "                                                   story  story_length  \n",
       "6549   En @entity388 se aprende a llorar en silencio,...          2000  \n",
       "6550   En @entity212 se aprende a llorar en silencio,...          2000  \n",
       "8163   Si se callejea por el casco antiguo de @entity...          1998  \n",
       "25466  Desde que la crisis se hizo evidente, la @enti...          1993  \n",
       "25465  Desde que la crisis se hizo evidente, la @enti...          1993  "
      ]
     },
     "execution_count": 36,
     "metadata": {},
     "output_type": "execute_result"
    }
   ],
   "source": [
    "sel.head()"
   ]
  },
  {
   "cell_type": "code",
   "execution_count": null,
   "metadata": {
    "collapsed": true
   },
   "outputs": [],
   "source": []
  },
  {
   "cell_type": "code",
   "execution_count": 37,
   "metadata": {
    "collapsed": true
   },
   "outputs": [],
   "source": [
    "dev = sel.sample(frac=0.1, random_state=7777, replace=False).sort_values(\"story_length\", ascending=False)\n",
    "rest = sel[~np.in1d(sel.index, dev.index)]\n",
    "test = rest.sample(frac=0.1, random_state=7777, replace=False).sort_values(\"story_length\", ascending=False)\n",
    "train = rest[~np.in1d(rest.index, test.index)].sort_values(\"story_length\", ascending=False)"
   ]
  },
  {
   "cell_type": "code",
   "execution_count": 38,
   "metadata": {},
   "outputs": [
    {
     "name": "stdout",
     "output_type": "stream",
     "text": [
      "(5613, 4) (50517, 4) (5052, 4) (45465, 4)\n"
     ]
    }
   ],
   "source": [
    "print(dev.shape, rest.shape, test.shape, train.shape)"
   ]
  },
  {
   "cell_type": "code",
   "execution_count": 39,
   "metadata": {
    "collapsed": true
   },
   "outputs": [],
   "source": [
    "train.to_pickle(\"../input_data/train_es.pkl\")\n",
    "dev.to_pickle(\"../input_data/dev_es.pkl\")\n",
    "test.to_pickle(\"../input_data/test_es.pkl\")"
   ]
  },
  {
   "cell_type": "code",
   "execution_count": null,
   "metadata": {
    "collapsed": true
   },
   "outputs": [],
   "source": []
  }
 ],
 "metadata": {
  "anaconda-cloud": {},
  "kernelspec": {
   "display_name": "Python [py36]",
   "language": "python",
   "name": "Python [py36]"
  },
  "language_info": {
   "codemirror_mode": {
    "name": "ipython",
    "version": 3
   },
   "file_extension": ".py",
   "mimetype": "text/x-python",
   "name": "python",
   "nbconvert_exporter": "python",
   "pygments_lexer": "ipython3",
   "version": "3.6.2"
  }
 },
 "nbformat": 4,
 "nbformat_minor": 2
}
