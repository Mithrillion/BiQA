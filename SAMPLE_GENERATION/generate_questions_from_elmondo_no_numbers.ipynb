{
 "cells": [
  {
   "cell_type": "code",
   "execution_count": 1,
   "metadata": {
    "collapsed": true
   },
   "outputs": [],
   "source": [
    "import numpy as np\n",
    "import pandas as pd\n",
    "import os\n",
    "import json\n",
    "import spacy\n",
    "from itertools import chain, count\n",
    "from collections import Counter\n",
    "import re\n",
    "from pprint import pprint"
   ]
  },
  {
   "cell_type": "code",
   "execution_count": 2,
   "metadata": {
    "collapsed": true
   },
   "outputs": [],
   "source": [
    "dat = pd.read_pickle(\"../data/elmondo_es.pkl\")"
   ]
  },
  {
   "cell_type": "code",
   "execution_count": 3,
   "metadata": {},
   "outputs": [
    {
     "data": {
      "text/html": [
       "<div>\n",
       "<style>\n",
       "    .dataframe thead tr:only-child th {\n",
       "        text-align: right;\n",
       "    }\n",
       "\n",
       "    .dataframe thead th {\n",
       "        text-align: left;\n",
       "    }\n",
       "\n",
       "    .dataframe tbody tr th {\n",
       "        vertical-align: top;\n",
       "    }\n",
       "</style>\n",
       "<table border=\"1\" class=\"dataframe\">\n",
       "  <thead>\n",
       "    <tr style=\"text-align: right;\">\n",
       "      <th></th>\n",
       "      <th>headline</th>\n",
       "      <th>keyfacts</th>\n",
       "      <th>content</th>\n",
       "      <th>tags</th>\n",
       "      <th>time</th>\n",
       "    </tr>\n",
       "  </thead>\n",
       "  <tbody>\n",
       "    <tr>\n",
       "      <th>http://www.elmundo.es/america/2014/01/02/52c4d39a22601d6f658b457c.html</th>\n",
       "      <td>Una jueza del Tribunal Supremo suspende parcia...</td>\n",
       "      <td>[ Decidió atender a los grupos conservadores y...</td>\n",
       "      <td>El martes, antes de presidir la fiesta de fin ...</td>\n",
       "      <td>[]</td>\n",
       "      <td>2014-01-02</td>\n",
       "    </tr>\n",
       "    <tr>\n",
       "      <th>http://www.elmundo.es/america/2014/01/02/52c4d99622601d6d658b458a.html</th>\n",
       "      <td>'La revolución cubana sigue sin compromisos co...</td>\n",
       "      <td>[ 'Jamás hemos cedido ni cederemos ante agresi...</td>\n",
       "      <td>El presidente Raúl Castro reveló que se está i...</td>\n",
       "      <td>[]</td>\n",
       "      <td>2014-01-02</td>\n",
       "    </tr>\n",
       "    <tr>\n",
       "      <th>http://www.elmundo.es/america/2014/01/03/52c61ede268e3e3c528b456b.html</th>\n",
       "      <td>La NSA trabaja en un ordenador cuántico capaz ...</td>\n",
       "      <td>[ La información proviene de los documentos de...</td>\n",
       "      <td>La Agencia de Seguridad Nacional (NSA) trabaja...</td>\n",
       "      <td>[]</td>\n",
       "      <td>2014-01-03</td>\n",
       "    </tr>\n",
       "    <tr>\n",
       "      <th>http://www.elmundo.es/america/2014/01/10/52cfbb62ca47415a218b456b.html</th>\n",
       "      <td>Último adiós a la ex Miss Venezuela Mónica Spe...</td>\n",
       "      <td>[ Mónica Spear y su marido fueron asesinados e...</td>\n",
       "      <td>Esta semana Venezuela ha recibido una noticia ...</td>\n",
       "      <td>[]</td>\n",
       "      <td>2014-01-10</td>\n",
       "    </tr>\n",
       "    <tr>\n",
       "      <th>http://www.elmundo.es/america/2014/01/14/52d4b8ba268e3eb2318b456a.html</th>\n",
       "      <td>Michoacán pone en jaque al Gobierno de Peña Nieto</td>\n",
       "      <td>[ El Gobierno envía más policías y militares y...</td>\n",
       "      <td>La situación en el Estado mexicano de Michoacá...</td>\n",
       "      <td>[]</td>\n",
       "      <td>2014-01-14</td>\n",
       "    </tr>\n",
       "  </tbody>\n",
       "</table>\n",
       "</div>"
      ],
      "text/plain": [
       "                                                                                             headline  \\\n",
       "http://www.elmundo.es/america/2014/01/02/52c4d3...  Una jueza del Tribunal Supremo suspende parcia...   \n",
       "http://www.elmundo.es/america/2014/01/02/52c4d9...  'La revolución cubana sigue sin compromisos co...   \n",
       "http://www.elmundo.es/america/2014/01/03/52c61e...  La NSA trabaja en un ordenador cuántico capaz ...   \n",
       "http://www.elmundo.es/america/2014/01/10/52cfbb...  Último adiós a la ex Miss Venezuela Mónica Spe...   \n",
       "http://www.elmundo.es/america/2014/01/14/52d4b8...  Michoacán pone en jaque al Gobierno de Peña Nieto   \n",
       "\n",
       "                                                                                             keyfacts  \\\n",
       "http://www.elmundo.es/america/2014/01/02/52c4d3...  [ Decidió atender a los grupos conservadores y...   \n",
       "http://www.elmundo.es/america/2014/01/02/52c4d9...  [ 'Jamás hemos cedido ni cederemos ante agresi...   \n",
       "http://www.elmundo.es/america/2014/01/03/52c61e...  [ La información proviene de los documentos de...   \n",
       "http://www.elmundo.es/america/2014/01/10/52cfbb...  [ Mónica Spear y su marido fueron asesinados e...   \n",
       "http://www.elmundo.es/america/2014/01/14/52d4b8...  [ El Gobierno envía más policías y militares y...   \n",
       "\n",
       "                                                                                              content  \\\n",
       "http://www.elmundo.es/america/2014/01/02/52c4d3...  El martes, antes de presidir la fiesta de fin ...   \n",
       "http://www.elmundo.es/america/2014/01/02/52c4d9...  El presidente Raúl Castro reveló que se está i...   \n",
       "http://www.elmundo.es/america/2014/01/03/52c61e...  La Agencia de Seguridad Nacional (NSA) trabaja...   \n",
       "http://www.elmundo.es/america/2014/01/10/52cfbb...  Esta semana Venezuela ha recibido una noticia ...   \n",
       "http://www.elmundo.es/america/2014/01/14/52d4b8...  La situación en el Estado mexicano de Michoacá...   \n",
       "\n",
       "                                                   tags        time  \n",
       "http://www.elmundo.es/america/2014/01/02/52c4d3...   []  2014-01-02  \n",
       "http://www.elmundo.es/america/2014/01/02/52c4d9...   []  2014-01-02  \n",
       "http://www.elmundo.es/america/2014/01/03/52c61e...   []  2014-01-03  \n",
       "http://www.elmundo.es/america/2014/01/10/52cfbb...   []  2014-01-10  \n",
       "http://www.elmundo.es/america/2014/01/14/52d4b8...   []  2014-01-14  "
      ]
     },
     "execution_count": 3,
     "metadata": {},
     "output_type": "execute_result"
    }
   ],
   "source": [
    "dat.head()"
   ]
  },
  {
   "cell_type": "markdown",
   "metadata": {},
   "source": [
    "Check if there are any remaining articles without keyfacts:"
   ]
  },
  {
   "cell_type": "code",
   "execution_count": 4,
   "metadata": {},
   "outputs": [
    {
     "data": {
      "text/plain": [
       "0"
      ]
     },
     "execution_count": 4,
     "metadata": {},
     "output_type": "execute_result"
    }
   ],
   "source": [
    "(dat['keyfacts'].apply(len) == 0).sum()"
   ]
  },
  {
   "cell_type": "markdown",
   "metadata": {},
   "source": [
    "Identify named entities:"
   ]
  },
  {
   "cell_type": "code",
   "execution_count": 5,
   "metadata": {},
   "outputs": [],
   "source": [
    "nlp = spacy.load('es')\n",
    "with open(\"../wordvecs/wiki.es/wiki.es.nospace.vec\") as f:\n",
    "    nlp.vocab.load_vectors(f)"
   ]
  },
  {
   "cell_type": "code",
   "execution_count": 6,
   "metadata": {},
   "outputs": [
    {
     "data": {
      "text/plain": [
       "[<spacy.tagger.Tagger at 0x7f278b5d2090>,\n",
       " <spacy.pipeline.DependencyParser at 0x7f278382be08>,\n",
       " <spacy.matcher.Matcher at 0x7f2746e9e7b8>,\n",
       " <spacy.pipeline.EntityRecognizer at 0x7f2747a91cc8>]"
      ]
     },
     "execution_count": 6,
     "metadata": {},
     "output_type": "execute_result"
    }
   ],
   "source": [
    "nlp.pipeline"
   ]
  },
  {
   "cell_type": "code",
   "execution_count": 7,
   "metadata": {
    "collapsed": true
   },
   "outputs": [],
   "source": [
    "fact_entlist = dat['keyfacts'].apply(lambda l: [nlp(s).ents for s in l])"
   ]
  },
  {
   "cell_type": "markdown",
   "metadata": {},
   "source": [
    "(remove square bracket links)"
   ]
  },
  {
   "cell_type": "code",
   "execution_count": 8,
   "metadata": {},
   "outputs": [
    {
     "data": {
      "text/plain": [
       "'y de nuestro amigo el gobernador del estado .'"
      ]
     },
     "execution_count": 8,
     "metadata": {},
     "output_type": "execute_result"
    }
   ],
   "source": [
    "re.sub(r'\\[.*?]', '', 'y de nuestro amigo el gobernador del estado [Fausto Vallejo].')"
   ]
  },
  {
   "cell_type": "code",
   "execution_count": 9,
   "metadata": {
    "collapsed": true
   },
   "outputs": [],
   "source": [
    "dat['content'] = dat['content'].apply(lambda x: re.sub(r'\\[.*?]', '', x))"
   ]
  },
  {
   "cell_type": "code",
   "execution_count": 10,
   "metadata": {
    "collapsed": true
   },
   "outputs": [],
   "source": [
    "story_entlist = dat['content'].apply(lambda x: nlp(x).ents)"
   ]
  },
  {
   "cell_type": "code",
   "execution_count": 11,
   "metadata": {
    "collapsed": true
   },
   "outputs": [],
   "source": [
    "def random_id_generator(n):\n",
    "    rand_list = np.random.choice(range(n), n, replace=False)\n",
    "    i = 0\n",
    "    while i < n:\n",
    "        yield rand_list[i]\n",
    "        i += 1"
   ]
  },
  {
   "cell_type": "markdown",
   "metadata": {},
   "source": [
    "Maximum entity id is 584 in rc-data."
   ]
  },
  {
   "cell_type": "markdown",
   "metadata": {},
   "source": [
    "## Testing Question Generation"
   ]
  },
  {
   "cell_type": "code",
   "execution_count": 19,
   "metadata": {
    "scrolled": true
   },
   "outputs": [
    {
     "name": "stdout",
     "output_type": "stream",
     "text": [
      " La información proviene de los documentos del ex analista @placeholder ?\n",
      "...\n",
      "@entity28\n",
      "...\n",
      "La @entity38 (@entity37) trabaja en la construcción de un ordenador cuántico que puede descifrar cualquier contraseña, incluso las de más alta seguridad, según reveló hoy en exclusiva el diario '@entity4', a partir de los documentos del ex analista de la @entity37 @entity28.\n",
      "El desarrollo de la computación cuántica es un objetivo que persigue desde hace años la comunidad científica y en el que la @entity37, la @entity54 y @entity81 han hecho importantes avances en la última década.\n",
      "Un ordenador cuántico es mucho más rápido que uno común, tanto que es capaz de descifrar todas las formas de codificación, incluso las de más alta seguridad que se emplean para proteger secretos de Estado, transacciones financieras, e información médica y de negocios.\n",
      "@entity6 los documentos proporcionados por @entity27, los trabajos de la @entity37 para construir un ordenador cuántico forman parte de un programa de investigación de 79,7 millones de dólares que tiene por título 'Penetrando objetivos difíciles'. Los expertos consideran que la @entity37 no está más cerca de alcanzar el ambicioso objetivo de la computación cuántica que la comunidad científica.\n",
      "Hace una década, algunos expertos aseguraban que el ordenador cuántico podría llegar en los diez o cien años siguientes, mientras que hace cinco años consideraron que para alcanzar este objetivo aún quedaban al menos diez años. La diferencia entre la computación cuántica y la clásica es que, mientras que ésta última usa el sistema binario de unos y ceros, la primera utiliza los \"bits cuánticos\", que son simultáneamente ceros y unos.\n",
      "Un ordenador clásico, incluso si es rápido, debe hacer un cálculo cada vez, mientras que uno cuántico puede evitar hacer cálculos que son innecesarios para resolver un problema, lo cual permite encontrar la respuesta buscada más rápido. Los ordenadores cuánticos son extremadamente delicados, por lo que si no se protegen adecuadamente el sistema puede fallar.\n",
      "--------------------\n",
      " Han detenido a 7 personas intregrantes de la banda \"Los Sanguinarios de @placeholder\" ?\n",
      "...\n",
      "@entity79\n",
      "...\n",
      "Esta semana @entity84 ha recibido una noticia que ha causado gran consternación en todo el país: el asesinato de la actriz, modelo y ex Miss @entity84 @entity37 @entity31 y de su esposo, el irlandés @entity28 . \n",
      "El fatídico hecho se produjo en una autopista @entity48 cuando el matrimonio se disponía a regresar a su casa. En el interior del vehículo, se hallaron los cuerpos sin vida de la joven pareja y a la hija de ambos, de 5 años que también resultó herida.\n",
      "Miles de personas acudieron al velatorio de la pareja. Tanto artistas como familiares y allegados de la actriz y el empresario europeo acudieron desde el mediodía al @entity3 para dar el último adiós a la pareja.\n",
      "Seguidores de la exreina de belleza se aglomeraron en las inmediaciones de la capilla ardiente, en medio de una gran expectación y con presencia de periodistas locales y extranjeros.\n",
      "La larga fila de personas que se acercaron para dar el pésame a la familia era testigo del paso de decenas de coronas de flores que llegaban incesantemente zigzagueando entre la multitud para acceder al recinto funerario, en cuyo centro un patio techado era ocupado por una gran multitud.\n",
      "@entity11, @entity41, declaró a periodistas fuera de la capilla ardiente que desea que el pueblo venezolano la recuerde como un \"icono\" del país, al lamentar que fue el único de sus hijos que \"no pudo sacar de @entity84\".\n",
      "\"El mensaje es muy claro: nuestro país tiene que cambiar, tenemos que acabar con esta violencia, no es posible que nuestro pueblo haya gente armada y que estén matando inocentes como con mis dos seres tan queridos\", apuntó.\n",
      "@entity31 y @entity87 fueron tiroteados en presencia de su hija de 5 años tras sufrir un percance en la carretera para el que recibieron asistencia de una grúa, momento aprovechado por un grupo de asaltantes para intentar robarles.\n",
      "Los ladrones dispararon contra el vehículo ocasionando la muerte de la pareja y heridas a la niña.\n",
      "Las autoridades han detenido ya a siete personas integrantes de una banda denominada \"Los Sanguinarios de @entity79\" y buscan a otras cuatro como presuntos autores de los asesinatos.\n",
      "La Miss @entity84 2013, @entity36: \"El ejemplo que @entity31 dio como mujer debe ser seguido por muchas en alusión al trabajo altruista en apoyo de los más desfavorecidos que la actriz realizó participando en campañas de concienciación.\"@entity16, amiga de la familia, lamentó que la exMiss @entity84 2004 es \"la cara de una consecuencia de la inseguridad\" que padece el país caribeño.\n",
      "\"El venezolano se ha acostumbrado a que ya es algo cotidiano, pero @entity37 en este caso es la persona pública, es la conocida, es la que le llega al pueblo (...) realmente la cara de @entity37 hoy en día está representando la cantidad de muertos\" que se registran cada día en el país, dijo a @entity46.\n",
      "@entity84 es uno de los países con mayores tasas de criminalidad de la región con 39 asesinatos por cada 100.000 habitantes.\n",
      "--------------------\n",
      " @placeholder tiene una gran tasa de criminalidad: 39 asesinatos por cada 100.000 habitantes ?\n",
      "...\n",
      "@entity29\n",
      "...\n",
      "Esta semana @entity29 ha recibido una noticia que ha causado gran consternación en todo el país: el asesinato de la actriz, modelo y ex Miss @entity29 @entity27 @entity12 y de su esposo, el irlandés @entity5 . \n",
      "El fatídico hecho se produjo en una autopista @entity14 cuando el matrimonio se disponía a regresar a su casa. En el interior del vehículo, se hallaron los cuerpos sin vida de la joven pareja y a la hija de ambos, de 5 años que también resultó herida.\n",
      "Miles de personas acudieron al velatorio de la pareja. Tanto artistas como familiares y allegados de la actriz y el empresario europeo acudieron desde el mediodía al @entity98 para dar el último adiós a la pareja.\n",
      "Seguidores de la exreina de belleza se aglomeraron en las inmediaciones de la capilla ardiente, en medio de una gran expectación y con presencia de periodistas locales y extranjeros.\n",
      "La larga fila de personas que se acercaron para dar el pésame a la familia era testigo del paso de decenas de coronas de flores que llegaban incesantemente zigzagueando entre la multitud para acceder al recinto funerario, en cuyo centro un patio techado era ocupado por una gran multitud.\n",
      "@entity9, @entity46, declaró a periodistas fuera de la capilla ardiente que desea que el pueblo venezolano la recuerde como un \"icono\" del país, al lamentar que fue el único de sus hijos que \"no pudo sacar de @entity29\".\n",
      "\"El mensaje es muy claro: nuestro país tiene que cambiar, tenemos que acabar con esta violencia, no es posible que nuestro pueblo haya gente armada y que estén matando inocentes como con mis dos seres tan queridos\", apuntó.\n",
      "@entity12 y @entity42 fueron tiroteados en presencia de su hija de 5 años tras sufrir un percance en la carretera para el que recibieron asistencia de una grúa, momento aprovechado por un grupo de asaltantes para intentar robarles.\n",
      "Los ladrones dispararon contra el vehículo ocasionando la muerte de la pareja y heridas a la niña.\n",
      "Las autoridades han detenido ya a siete personas integrantes de una banda denominada \"Los Sanguinarios de @entity68\" y buscan a otras cuatro como presuntos autores de los asesinatos.\n",
      "La Miss @entity29 2013, @entity94: \"El ejemplo que @entity12 dio como mujer debe ser seguido por muchas en alusión al trabajo altruista en apoyo de los más desfavorecidos que la actriz realizó participando en campañas de concienciación.\"@entity51, amiga de la familia, lamentó que la exMiss @entity29 2004 es \"la cara de una consecuencia de la inseguridad\" que padece el país caribeño.\n",
      "\"El venezolano se ha acostumbrado a que ya es algo cotidiano, pero @entity27 en este caso es la persona pública, es la conocida, es la que le llega al pueblo (...) realmente la cara de @entity27 hoy en día está representando la cantidad de muertos\" que se registran cada día en el país, dijo a @entity76.\n",
      "@entity29 es uno de los países con mayores tasas de criminalidad de la región con 39 asesinatos por cada 100.000 habitantes.\n",
      "--------------------\n",
      " Los civiles armados se niegan y se registran enfrentamientos con el @placeholder ?\n",
      "...\n",
      "@entity5\n",
      "...\n",
      "La situación en el @entity43 de @entity28 es cada vez más tensa y compleja. El @entity74 lanzó este fin de semana un SOS al @entity59 federal pidiendo acciones \"terminantes y amplias\" ante la escalada de violencia que vive la región. \n",
      "El @entity59 federal exigió el lunes a los grupos de autodefensas que dejen de luchar y vuelvan a sus casas. Los grupos de autodefensas se negaron y reclamaron que primero se detenga a los @entity84 (el cártel con mayor presencia en el @entity12) aunque su líder moral, el doctor @entity9, a última hora del día anunciaba que atenderían la petición del @entity59. Y los @entity84 se organizan para no perder sus feudos, amparados -según denuncias de las autodefensas- por autoridades de distintas administraciones. \n",
      "Todo era confusión horas después de la reunión celebrada en la ciudad de @entity34, capital de @entity28, que, según las autoridades, iba a poner las bases para recuperar la tranquilidad en la región. Y el vecino @entity12 de Colima alertaba a sus habitantes de no viajar a @entity28, a la vez que reforzaba la seguridad en la frontera e informaba de que ya contaba en su territorio con gente desplazada por la violencia.\n",
      "@entity86 desplegó en mayo en torno a 5.000 militares y policías. Meses después, envió refuerzos y el @entity5 tomó el control del puerto de @entity88 (uno de los más importantes del @entity30 para los tráficos legales e ilegales) mientras se mantenía un doble discurso: por un lado, el @entity59 criticaba a los alzados porque ponían en jaque el @entity12 de Derecho, pero, por otro, las fuerzas federales apoyaban, o al menos dejaban hacer, a las autodefensas (algunos analistas, como el experto en crimen organizado @entity19, creen incluso que parte de las armas de los grupos civiles llegan de la misma @entity89).\n",
      "En la reunión del lunes, se acordó enviar más refuerzos, incluidos una decena de helicópteros de la @entity70 y personal de investigación. El secretario de @entity7, @entity47, aseguró que la @entity21 asumiría la seguridad en las zonas de conflicto (en torno a un tercio del estado) y que se destinarían 250 millones de pesos (unos 15 millones de euros) a la prevención del delito. Además, anunció la creación de una unidad antisecuestros y de una academia policial en el estado e insistió en que las autodefensas debían desarmarse.\n",
      "\"Se les emplaza para que regresen a sus lugares de origen y se reincorporen a sus actividades cotidianas. La seguridad de sus comunidades estará plenamente a cargo de las instituciones\", dijo tras invitarles a que se incorporen a \"los cuerpos policiales instituidos\".\n",
      "Los autodefensas dicen que su objetivo no es convertirse en policías sino que el @entity12 haga su trabajo\n",
      "Pero los civiles no se fían porque las policías estuvieron durante años infiltradas por el crimen organizado. Once meses después de su alzamiento, las autodefensas están más fuertes que nunca, siguen tomando pueblos -aunque los últimos, como @entity83, tras duros enfrentamientos-, tienen cercado el principal bastión de los @entity84, la localidad de @entity57 (100.000 habitantes) y aseguran que no cejarán hasta limpiar todo el estado de 'narcos'.\n",
      "\"Las autodefensas no vamos a bajar las armas ni vamos a retirar la ayuda a los municipios que la pidan (...) hasta no ver a los líderes criminales tras las rejas\", indicaron ayer en un comunicado colgado en @entity66. \"Queremos la aprehensión de los líderes de la delincuencia organizado y en ese entonces nos sentaremos a platicar con el @entity93, pero mientras esto no suceda y no veamos resultados por parte del @entity93, seguiremos ayudando a los pueblos a liberarse de criminales\".\n",
      "@entity40 añadieron varios portavoces a la prensa local, su objetivo no es convertirse en policías sino que el @entity12 haga su trabajo y garantice la seguridad de todos los pueblos michoacanos.\n",
      "Sin embargo, a última hora de la noche, en un vídeo divulgado en el informativo estelar de @entity24, el doctor @entity98, que el pasado 4 de enero resultó herido al estrellarse su avioneta al aterrizar, contradecía a sus compañeros. \n",
      "\"El @entity15 atiende el llamado del secretario de @entity7 y de nuestro amigo el gobernador del estado . Hoy aceptamos regresar a nuestras comunidades de origen y reincorporarnos a nuestras actividades cotidianas\", se escucha decir a un @entity98 todavía convaleciente, al que le cuesta hablar y que reconoce que tiene miedo y que su vida corre peligro. \n",
      "El mensaje en lugar de tranquilizar creó más confusión porque al caer la noche, los acontecimientos en @entity28 iban por otro lado. @entity40 el diario @entity6, los militares iniciaron las labores de desarme en ciertos lugares y hubo diversos enfrentamientos con las autodefensas en las inmediaciones de @entity57, donde los uniformados -continúa el periódico- entraron disparando indiscriminadamente y mataron a una persona en la localidad de @entity17.\n",
      "--------------------\n",
      " Su líder moral, el dr. @placeholder, dice en un vídeo que atenderán la petición del @entity63 ?\n",
      "...\n",
      "@entity99\n",
      "...\n",
      "La situación en el @entity67 de @entity56 es cada vez más tensa y compleja. El @entity22 lanzó este fin de semana un SOS al @entity63 federal pidiendo acciones \"terminantes y amplias\" ante la escalada de violencia que vive la región. \n",
      "El @entity63 federal exigió el lunes a los grupos de autodefensas que dejen de luchar y vuelvan a sus casas. Los grupos de autodefensas se negaron y reclamaron que primero se detenga a los @entity3 (el cártel con mayor presencia en el @entity21) aunque su líder moral, el doctor José Manuel @entity99, a última hora del día anunciaba que atenderían la petición del @entity63. Y los @entity3 se organizan para no perder sus feudos, amparados -según denuncias de las autodefensas- por autoridades de distintas administraciones. \n",
      "Todo era confusión horas después de la reunión celebrada en la ciudad de @entity11, capital de @entity56, que, según las autoridades, iba a poner las bases para recuperar la tranquilidad en la región. Y el vecino @entity21 de Colima alertaba a sus habitantes de no viajar a @entity56, a la vez que reforzaba la seguridad en la frontera e informaba de que ya contaba en su territorio con gente desplazada por la violencia.\n",
      "@entity77 desplegó en mayo en torno a 5.000 militares y policías. Meses después, envió refuerzos y el @entity82 tomó el control del puerto de @entity65 (uno de los más importantes del @entity84 para los tráficos legales e ilegales) mientras se mantenía un doble discurso: por un lado, el @entity63 criticaba a los alzados porque ponían en jaque el @entity21 de Derecho, pero, por otro, las fuerzas federales apoyaban, o al menos dejaban hacer, a las autodefensas (algunos analistas, como el experto en crimen organizado @entity95, creen incluso que parte de las armas de los grupos civiles llegan de la misma @entity28).\n",
      "En la reunión del lunes, se acordó enviar más refuerzos, incluidos una decena de helicópteros de la @entity69 y personal de investigación. El secretario de @entity14, @entity26, aseguró que la @entity94 asumiría la seguridad en las zonas de conflicto (en torno a un tercio del estado) y que se destinarían 250 millones de pesos (unos 15 millones de euros) a la prevención del delito. Además, anunció la creación de una unidad antisecuestros y de una academia policial en el estado e insistió en que las autodefensas debían desarmarse.\n",
      "\"Se les emplaza para que regresen a sus lugares de origen y se reincorporen a sus actividades cotidianas. La seguridad de sus comunidades estará plenamente a cargo de las instituciones\", dijo tras invitarles a que se incorporen a \"los cuerpos policiales instituidos\".\n",
      "Los autodefensas dicen que su objetivo no es convertirse en policías sino que el @entity21 haga su trabajo\n",
      "Pero los civiles no se fían porque las policías estuvieron durante años infiltradas por el crimen organizado. Once meses después de su alzamiento, las autodefensas están más fuertes que nunca, siguen tomando pueblos -aunque los últimos, como @entity70, tras duros enfrentamientos-, tienen cercado el principal bastión de los @entity3, la localidad de @entity50 (100.000 habitantes) y aseguran que no cejarán hasta limpiar todo el estado de 'narcos'.\n",
      "\"Las autodefensas no vamos a bajar las armas ni vamos a retirar la ayuda a los municipios que la pidan (...) hasta no ver a los líderes criminales tras las rejas\", indicaron ayer en un comunicado colgado en @entity2. \"Queremos la aprehensión de los líderes de la delincuencia organizado y en ese entonces nos sentaremos a platicar con el @entity64, pero mientras esto no suceda y no veamos resultados por parte del @entity64, seguiremos ayudando a los pueblos a liberarse de criminales\".\n",
      "@entity73 añadieron varios portavoces a la prensa local, su objetivo no es convertirse en policías sino que el @entity21 haga su trabajo y garantice la seguridad de todos los pueblos michoacanos.\n",
      "Sin embargo, a última hora de la noche, en un vídeo divulgado en el informativo estelar de @entity12, el doctor @entity99, que el pasado 4 de enero resultó herido al estrellarse su avioneta al aterrizar, contradecía a sus compañeros. \n",
      "\"El @entity34 atiende el llamado del secretario de @entity14 y de nuestro amigo el gobernador del estado . Hoy aceptamos regresar a nuestras comunidades de origen y reincorporarnos a nuestras actividades cotidianas\", se escucha decir a un @entity99 todavía convaleciente, al que le cuesta hablar y que reconoce que tiene miedo y que su vida corre peligro. \n",
      "El mensaje en lugar de tranquilizar creó más confusión porque al caer la noche, los acontecimientos en @entity56 iban por otro lado. @entity73 el diario @entity55, los militares iniciaron las labores de desarme en ciertos lugares y hubo diversos enfrentamientos con las autodefensas en las inmediaciones de @entity50, donde los uniformados -continúa el periódico- entraron disparando indiscriminadamente y mataron a una persona en la localidad de @entity83.\n",
      "--------------------\n",
      " Su líder moral, el dr. @entity55, dice en un vídeo que atenderán la petición del @placeholder ?\n",
      "...\n",
      "@entity37\n",
      "...\n",
      "La situación en el @entity60 de @entity80 es cada vez más tensa y compleja. El @entity25 lanzó este fin de semana un SOS al @entity37 federal pidiendo acciones \"terminantes y amplias\" ante la escalada de violencia que vive la región. \n",
      "El @entity37 federal exigió el lunes a los grupos de autodefensas que dejen de luchar y vuelvan a sus casas. Los grupos de autodefensas se negaron y reclamaron que primero se detenga a los @entity21 (el cártel con mayor presencia en el @entity90) aunque su líder moral, el doctor @entity18, a última hora del día anunciaba que atenderían la petición del @entity37. Y los @entity21 se organizan para no perder sus feudos, amparados -según denuncias de las autodefensas- por autoridades de distintas administraciones. \n",
      "Todo era confusión horas después de la reunión celebrada en la ciudad de @entity51, capital de @entity80, que, según las autoridades, iba a poner las bases para recuperar la tranquilidad en la región. Y el vecino @entity90 de Colima alertaba a sus habitantes de no viajar a @entity80, a la vez que reforzaba la seguridad en la frontera e informaba de que ya contaba en su territorio con gente desplazada por la violencia.\n",
      "@entity19 desplegó en mayo en torno a 5.000 militares y policías. Meses después, envió refuerzos y el @entity42 tomó el control del puerto de @entity49 (uno de los más importantes del @entity2 para los tráficos legales e ilegales) mientras se mantenía un doble discurso: por un lado, el @entity37 criticaba a los alzados porque ponían en jaque el @entity90 de Derecho, pero, por otro, las fuerzas federales apoyaban, o al menos dejaban hacer, a las autodefensas (algunos analistas, como el experto en crimen organizado @entity92, creen incluso que parte de las armas de los grupos civiles llegan de la misma @entity23).\n",
      "En la reunión del lunes, se acordó enviar más refuerzos, incluidos una decena de helicópteros de la @entity56 y personal de investigación. El secretario de @entity3, @entity15, aseguró que la @entity67 asumiría la seguridad en las zonas de conflicto (en torno a un tercio del estado) y que se destinarían 250 millones de pesos (unos 15 millones de euros) a la prevención del delito. Además, anunció la creación de una unidad antisecuestros y de una academia policial en el estado e insistió en que las autodefensas debían desarmarse.\n",
      "\"Se les emplaza para que regresen a sus lugares de origen y se reincorporen a sus actividades cotidianas. La seguridad de sus comunidades estará plenamente a cargo de las instituciones\", dijo tras invitarles a que se incorporen a \"los cuerpos policiales instituidos\".\n",
      "Los autodefensas dicen que su objetivo no es convertirse en policías sino que el @entity90 haga su trabajo\n",
      "Pero los civiles no se fían porque las policías estuvieron durante años infiltradas por el crimen organizado. Once meses después de su alzamiento, las autodefensas están más fuertes que nunca, siguen tomando pueblos -aunque los últimos, como @entity22, tras duros enfrentamientos-, tienen cercado el principal bastión de los @entity21, la localidad de @entity52 (100.000 habitantes) y aseguran que no cejarán hasta limpiar todo el estado de 'narcos'.\n",
      "\"Las autodefensas no vamos a bajar las armas ni vamos a retirar la ayuda a los municipios que la pidan (...) hasta no ver a los líderes criminales tras las rejas\", indicaron ayer en un comunicado colgado en @entity28. \"Queremos la aprehensión de los líderes de la delincuencia organizado y en ese entonces nos sentaremos a platicar con el @entity13, pero mientras esto no suceda y no veamos resultados por parte del @entity13, seguiremos ayudando a los pueblos a liberarse de criminales\".\n",
      "@entity17 añadieron varios portavoces a la prensa local, su objetivo no es convertirse en policías sino que el @entity90 haga su trabajo y garantice la seguridad de todos los pueblos michoacanos.\n",
      "Sin embargo, a última hora de la noche, en un vídeo divulgado en el informativo estelar de @entity64, el doctor @entity55, que el pasado 4 de enero resultó herido al estrellarse su avioneta al aterrizar, contradecía a sus compañeros. \n",
      "\"El @entity62 atiende el llamado del secretario de @entity3 y de nuestro amigo el gobernador del estado . Hoy aceptamos regresar a nuestras comunidades de origen y reincorporarnos a nuestras actividades cotidianas\", se escucha decir a un @entity55 todavía convaleciente, al que le cuesta hablar y que reconoce que tiene miedo y que su vida corre peligro. \n",
      "El mensaje en lugar de tranquilizar creó más confusión porque al caer la noche, los acontecimientos en @entity80 iban por otro lado. @entity17 el diario @entity31, los militares iniciaron las labores de desarme en ciertos lugares y hubo diversos enfrentamientos con las autodefensas en las inmediaciones de @entity52, donde los uniformados -continúa el periódico- entraron disparando indiscriminadamente y mataron a una persona en la localidad de @entity74.\n",
      "--------------------\n"
     ]
    }
   ],
   "source": [
    "pairs = []\n",
    "for i in range(5):\n",
    "    doc_ents = np.array(story_entlist[i])\n",
    "    for j in range(len(fact_entlist[i])):\n",
    "        if len(fact_entlist[i][j]) == 0:\n",
    "            pass\n",
    "        else:\n",
    "            for ent in fact_entlist[i][j]:\n",
    "                if not re.search(r'\\w+', ent.text):\n",
    "                    continue\n",
    "                ent_id = random_id_generator(100)\n",
    "                num_id = random_id_generator(100)\n",
    "                matches = ~pd.isnull([re.search(r'(?<!(?:\\w|[-_]))' + ent.text + r'(?!(?:\\w|[-_]))', x.text) \n",
    "                                      for x in doc_ents])\n",
    "                if np.any(matches):\n",
    "                    # remove all instances of ent (incl. partial matches) from the story entity list\n",
    "                    nq_ents = doc_ents[~matches]\n",
    "                    if ent.label_ in ['CARDINAL', 'ORDINAL']:\n",
    "                        ent_type = 'number'\n",
    "                        ent_iter = num_id\n",
    "                        # skip numbers\n",
    "                        continue\n",
    "                    else:\n",
    "                        ent_type = 'entity'\n",
    "                        ent_iter = ent_id\n",
    "                    ind = next(ent_iter)\n",
    "                    # replace entity in question\n",
    "#                     question_text = dat['keyfacts'][i][j].replace(ent.text, '@placeholder')\n",
    "                    question_text = re.sub(r'(?<!(?:\\w|[-_]))' + ent.text + r'(?!(?:\\w|[-_]))',\n",
    "                                           '@placeholder', dat['keyfacts'][i][j])\n",
    "                    # replace entity in text\n",
    "#                     content_text = dat['content'][i].replace(ent.text, '@{0}{1}'.format(ent_type, ind))\n",
    "                    content_text = re.sub(r'(?<!(?:\\w|[-_]))' + ent.text + r'(?!(?:\\w|[-_]))', \n",
    "                                          '@{0}{1}'.format(ent_type, ind), dat['content'][i])\n",
    "                    ans = '@{0}{1}'.format(ent_type, ind)\n",
    "                    # replace other instances of entities\n",
    "                    for other_ent in nq_ents:\n",
    "                        if not re.search(r'\\w+', other_ent.text):\n",
    "                            continue\n",
    "                        if other_ent.label_ in ['CARDINAL', 'ORDINAL']:\n",
    "                            ent_type = 'number'\n",
    "                            ent_iter = num_id\n",
    "                            continue\n",
    "                        else:\n",
    "                            ent_type = 'entity'\n",
    "                            ent_iter = ent_id\n",
    "                        ind = next(ent_iter)\n",
    "#                         content_text = content_text.replace(other_ent.text, '@{0}{1}'.format(ent_type, ind))\n",
    "                        question_text = re.sub(r'(?<!(?:\\w|[-_]))' + other_ent.text + r'(?!(?:\\w|[-_]))', \n",
    "                                               '@{0}{1}'.format(ent_type, ind), question_text)\n",
    "                        content_text = re.sub(r'(?<!(?:\\w|[-_]))' + other_ent.text + r'(?!(?:\\w|[-_]))', \n",
    "                                              '@{0}{1}'.format(ent_type, ind), content_text)\n",
    "                    print(question_text + '?')\n",
    "                    print('...')\n",
    "                    print(ans)\n",
    "                    print('...')\n",
    "                    print(content_text)\n",
    "                    print('--------------------')"
   ]
  },
  {
   "cell_type": "markdown",
   "metadata": {
    "collapsed": true
   },
   "source": [
    "## Generate Questions"
   ]
  },
  {
   "cell_type": "code",
   "execution_count": 20,
   "metadata": {},
   "outputs": [
    {
     "data": {
      "text/plain": [
       "(15022, 5)"
      ]
     },
     "execution_count": 20,
     "metadata": {},
     "output_type": "execute_result"
    }
   ],
   "source": [
    "dat.shape"
   ]
  },
  {
   "cell_type": "code",
   "execution_count": 21,
   "metadata": {
    "scrolled": false
   },
   "outputs": [
    {
     "name": "stdout",
     "output_type": "stream",
     "text": [
      "generating question 0 to 500...\n",
      "generating question 500 to 1000...\n",
      "generating question 1000 to 1500...\n",
      "generating question 1500 to 2000...\n",
      "generating question 2000 to 2500...\n",
      "generating question 2500 to 3000...\n",
      "generating question 3000 to 3500...\n",
      "generating question 3500 to 4000...\n",
      "generating question 4000 to 4500...\n",
      "generating question 4500 to 5000...\n",
      "generating question 5000 to 5500...\n",
      "generating question 5500 to 6000...\n",
      "generating question 6000 to 6500...\n",
      "generating question 6500 to 7000...\n",
      "generating question 7000 to 7500...\n",
      "generating question 7500 to 8000...\n",
      "generating question 8000 to 8500...\n",
      "generating question 8500 to 9000...\n",
      "generating question 9000 to 9500...\n",
      "generating question 9500 to 10000...\n",
      "generating question 10000 to 10500...\n",
      "generating question 10500 to 11000...\n",
      "generating question 11000 to 11500...\n",
      "generating question 11500 to 12000...\n",
      "generating question 12000 to 12500...\n",
      "generating question 12500 to 13000...\n",
      "generating question 13000 to 13500...\n",
      "generating question 13500 to 14000...\n",
      "generating question 14000 to 14500...\n",
      "generating question 14500 to 15000...\n",
      "generating question 15000 to 15500...\n"
     ]
    }
   ],
   "source": [
    "M = dat.shape[0]\n",
    "pairs = []\n",
    "# ent_id = count()\n",
    "# num_id = count()\n",
    "for i in range(M):\n",
    "    if i % 500 == 0:\n",
    "        print(\"generating question {0} to {1}...\".format(i, i + 500))\n",
    "    doc_ents = np.array(story_entlist[i])\n",
    "    for j in range(len(fact_entlist[i])):\n",
    "        if len(fact_entlist[i][j]) == 0:\n",
    "            pass\n",
    "        else:\n",
    "            for ent in fact_entlist[i][j]:\n",
    "                if not re.search(r'\\w+', ent.text):\n",
    "                    continue\n",
    "                ent_id = random_id_generator(500)\n",
    "                num_id = random_id_generator(500)\n",
    "                try:\n",
    "                    matches = ~pd.isnull([re.search(r'(?<!(?:\\w|[-_]))' + ent.text + r'(?!(?:\\w|[-_]))', x.text)\n",
    "                                          for x in doc_ents])\n",
    "                except:\n",
    "                    continue\n",
    "                if np.any(matches):\n",
    "                    # remove all instances of ent (incl. partial matches) from the story entity list\n",
    "                    nq_ents = doc_ents[~matches]\n",
    "                    if ent.label_ in ['CARDINAL', 'ORDINAL']:\n",
    "                        ent_type = 'number'\n",
    "                        ent_iter = num_id\n",
    "                        continue\n",
    "                    else:\n",
    "                        ent_type = 'entity'\n",
    "                        ent_iter = ent_id\n",
    "                    ind = next(ent_iter)\n",
    "                    # replace entity in question\n",
    "#                     question_text = dat['keyfacts'][i][j].replace(ent.text, '@placeholder')\n",
    "                    question_text = re.sub(r'(?<!(?:\\w|[-_]))' + ent.text + r'(?!(?:\\w|[-_]))',\n",
    "                                           '@placeholder', dat['keyfacts'][i][j])\n",
    "                    # replace entity in text\n",
    "#                     content_text = dat['content'][i].replace(ent.text, '@{0}{1}'.format(ent_type, ind))\n",
    "                    content_text = re.sub(r'(?<!(?:\\w|[-_]))' + ent.text + r'(?!(?:\\w|[-_]))', \n",
    "                                          '@{0}{1}'.format(ent_type, ind), dat['content'][i])\n",
    "                    ans = '@{0}{1}'.format(ent_type, ind)\n",
    "                    # replace other instances of entities\n",
    "                    for other_ent in nq_ents:\n",
    "                        if not re.search(r'\\w+', other_ent.text):\n",
    "                            continue\n",
    "                        if re.search(r\"\\(|\\)\", other_ent.text):\n",
    "                            continue\n",
    "                        if other_ent.label_ in ['CARDINAL', 'ORDINAL']:\n",
    "                            ent_type = 'number'\n",
    "                            ent_iter = num_id\n",
    "                            continue\n",
    "                        else:\n",
    "                            ent_type = 'entity'\n",
    "                            ent_iter = ent_id\n",
    "                        ind = next(ent_iter)\n",
    "#                         content_text = content_text.replace(other_ent.text, '@{0}{1}'.format(ent_type, ind))\n",
    "                        try:\n",
    "                            question_text = re.sub(r'(?<!(?:\\w|[-_]))' + other_ent.text + r'(?!(?:\\w|[-_]))', \n",
    "                                                   '@{0}{1}'.format(ent_type, ind), question_text)\n",
    "                            content_text = re.sub(r'(?<!(?:\\w|[-_]))' + other_ent.text + r'(?!(?:\\w|[-_]))', \n",
    "                                                  '@{0}{1}'.format(ent_type, ind), content_text)\n",
    "                        except:\n",
    "                            print(\"skipped bad token {0}\".format(other_ent.text))\n",
    "                    pairs += [[question_text, ans, content_text]]"
   ]
  },
  {
   "cell_type": "code",
   "execution_count": 22,
   "metadata": {
    "collapsed": true
   },
   "outputs": [],
   "source": [
    "df = pd.DataFrame(pairs, columns=[\"question\", \"answer\", \"story\"])"
   ]
  },
  {
   "cell_type": "code",
   "execution_count": 23,
   "metadata": {
    "scrolled": true
   },
   "outputs": [
    {
     "data": {
      "text/html": [
       "<div>\n",
       "<style>\n",
       "    .dataframe thead tr:only-child th {\n",
       "        text-align: right;\n",
       "    }\n",
       "\n",
       "    .dataframe thead th {\n",
       "        text-align: left;\n",
       "    }\n",
       "\n",
       "    .dataframe tbody tr th {\n",
       "        vertical-align: top;\n",
       "    }\n",
       "</style>\n",
       "<table border=\"1\" class=\"dataframe\">\n",
       "  <thead>\n",
       "    <tr style=\"text-align: right;\">\n",
       "      <th></th>\n",
       "      <th>question</th>\n",
       "      <th>answer</th>\n",
       "      <th>story</th>\n",
       "    </tr>\n",
       "  </thead>\n",
       "  <tbody>\n",
       "    <tr>\n",
       "      <th>0</th>\n",
       "      <td>La información proviene de los documentos del...</td>\n",
       "      <td>@entity318</td>\n",
       "      <td>La @entity57 (@entity187) trabaja en la constr...</td>\n",
       "    </tr>\n",
       "    <tr>\n",
       "      <th>1</th>\n",
       "      <td>Han detenido a 7 personas intregrantes de la ...</td>\n",
       "      <td>@entity299</td>\n",
       "      <td>Esta semana @entity170 ha recibido una noticia...</td>\n",
       "    </tr>\n",
       "    <tr>\n",
       "      <th>2</th>\n",
       "      <td>@placeholder tiene una gran tasa de criminali...</td>\n",
       "      <td>@entity223</td>\n",
       "      <td>Esta semana @entity223 ha recibido una noticia...</td>\n",
       "    </tr>\n",
       "    <tr>\n",
       "      <th>3</th>\n",
       "      <td>Los civiles armados se niegan y se registran ...</td>\n",
       "      <td>@entity249</td>\n",
       "      <td>La situación en el @entity163 de @entity179 es...</td>\n",
       "    </tr>\n",
       "    <tr>\n",
       "      <th>4</th>\n",
       "      <td>Su líder moral, el dr. @placeholder, dice en ...</td>\n",
       "      <td>@entity420</td>\n",
       "      <td>La situación en el @entity47 de @entity355 es ...</td>\n",
       "    </tr>\n",
       "  </tbody>\n",
       "</table>\n",
       "</div>"
      ],
      "text/plain": [
       "                                            question      answer  \\\n",
       "0   La información proviene de los documentos del...  @entity318   \n",
       "1   Han detenido a 7 personas intregrantes de la ...  @entity299   \n",
       "2   @placeholder tiene una gran tasa de criminali...  @entity223   \n",
       "3   Los civiles armados se niegan y se registran ...  @entity249   \n",
       "4   Su líder moral, el dr. @placeholder, dice en ...  @entity420   \n",
       "\n",
       "                                               story  \n",
       "0  La @entity57 (@entity187) trabaja en la constr...  \n",
       "1  Esta semana @entity170 ha recibido una noticia...  \n",
       "2  Esta semana @entity223 ha recibido una noticia...  \n",
       "3  La situación en el @entity163 de @entity179 es...  \n",
       "4  La situación en el @entity47 de @entity355 es ...  "
      ]
     },
     "execution_count": 23,
     "metadata": {},
     "output_type": "execute_result"
    }
   ],
   "source": [
    "df.head()"
   ]
  },
  {
   "cell_type": "code",
   "execution_count": 24,
   "metadata": {},
   "outputs": [
    {
     "data": {
      "text/plain": [
       "(23786, 3)"
      ]
     },
     "execution_count": 24,
     "metadata": {},
     "output_type": "execute_result"
    }
   ],
   "source": [
    "df.shape"
   ]
  },
  {
   "cell_type": "code",
   "execution_count": 25,
   "metadata": {
    "collapsed": true
   },
   "outputs": [],
   "source": [
    "# df.to_csv(\"es_sample.csv\")"
   ]
  },
  {
   "cell_type": "code",
   "execution_count": 26,
   "metadata": {
    "collapsed": true
   },
   "outputs": [],
   "source": [
    "df.to_pickle(\"../data/elmondo_es_qa_no_numbers.pkl\")"
   ]
  },
  {
   "cell_type": "code",
   "execution_count": null,
   "metadata": {
    "collapsed": true
   },
   "outputs": [],
   "source": []
  }
 ],
 "metadata": {
  "anaconda-cloud": {},
  "kernelspec": {
   "display_name": "Python [py36]",
   "language": "python",
   "name": "Python [py36]"
  },
  "language_info": {
   "codemirror_mode": {
    "name": "ipython",
    "version": 3
   },
   "file_extension": ".py",
   "mimetype": "text/x-python",
   "name": "python",
   "nbconvert_exporter": "python",
   "pygments_lexer": "ipython3",
   "version": "3.6.2"
  }
 },
 "nbformat": 4,
 "nbformat_minor": 1
}
