{
 "cells": [
  {
   "cell_type": "code",
   "execution_count": 1,
   "metadata": {
    "collapsed": true
   },
   "outputs": [],
   "source": [
    "import numpy as np\n",
    "import pandas as pd\n",
    "import os\n",
    "import json\n",
    "import spacy\n",
    "from itertools import chain, count\n",
    "from collections import Counter\n",
    "import re\n",
    "from pprint import pprint"
   ]
  },
  {
   "cell_type": "code",
   "execution_count": 2,
   "metadata": {
    "collapsed": true
   },
   "outputs": [],
   "source": [
    "dat1 = pd.read_pickle(\"../data/elmondo_es.pkl\")\n",
    "dat2 = pd.read_pickle(\"../data/elmondo_es_eco.pkl\")\n",
    "dat3 = pd.read_pickle(\"../data/elmondo_es_sp.pkl\")\n",
    "dat = pd.concat([dat1, dat2, dat3], axis=0)"
   ]
  },
  {
   "cell_type": "code",
   "execution_count": 3,
   "metadata": {},
   "outputs": [
    {
     "data": {
      "text/html": [
       "<div>\n",
       "<style>\n",
       "    .dataframe thead tr:only-child th {\n",
       "        text-align: right;\n",
       "    }\n",
       "\n",
       "    .dataframe thead th {\n",
       "        text-align: left;\n",
       "    }\n",
       "\n",
       "    .dataframe tbody tr th {\n",
       "        vertical-align: top;\n",
       "    }\n",
       "</style>\n",
       "<table border=\"1\" class=\"dataframe\">\n",
       "  <thead>\n",
       "    <tr style=\"text-align: right;\">\n",
       "      <th></th>\n",
       "      <th>headline</th>\n",
       "      <th>keyfacts</th>\n",
       "      <th>content</th>\n",
       "      <th>tags</th>\n",
       "      <th>time</th>\n",
       "    </tr>\n",
       "  </thead>\n",
       "  <tbody>\n",
       "    <tr>\n",
       "      <th>http://www.elmundo.es/america/2014/01/02/52c4d39a22601d6f658b457c.html</th>\n",
       "      <td>Una jueza del Tribunal Supremo suspende parcia...</td>\n",
       "      <td>[ Decidió atender a los grupos conservadores y...</td>\n",
       "      <td>El martes, antes de presidir la fiesta de fin ...</td>\n",
       "      <td>[]</td>\n",
       "      <td>2014-01-02</td>\n",
       "    </tr>\n",
       "    <tr>\n",
       "      <th>http://www.elmundo.es/america/2014/01/02/52c4d99622601d6d658b458a.html</th>\n",
       "      <td>'La revolución cubana sigue sin compromisos co...</td>\n",
       "      <td>[ 'Jamás hemos cedido ni cederemos ante agresi...</td>\n",
       "      <td>El presidente Raúl Castro reveló que se está i...</td>\n",
       "      <td>[]</td>\n",
       "      <td>2014-01-02</td>\n",
       "    </tr>\n",
       "    <tr>\n",
       "      <th>http://www.elmundo.es/america/2014/01/03/52c61ede268e3e3c528b456b.html</th>\n",
       "      <td>La NSA trabaja en un ordenador cuántico capaz ...</td>\n",
       "      <td>[ La información proviene de los documentos de...</td>\n",
       "      <td>La Agencia de Seguridad Nacional (NSA) trabaja...</td>\n",
       "      <td>[]</td>\n",
       "      <td>2014-01-03</td>\n",
       "    </tr>\n",
       "    <tr>\n",
       "      <th>http://www.elmundo.es/america/2014/01/10/52cfbb62ca47415a218b456b.html</th>\n",
       "      <td>Último adiós a la ex Miss Venezuela Mónica Spe...</td>\n",
       "      <td>[ Mónica Spear y su marido fueron asesinados e...</td>\n",
       "      <td>Esta semana Venezuela ha recibido una noticia ...</td>\n",
       "      <td>[]</td>\n",
       "      <td>2014-01-10</td>\n",
       "    </tr>\n",
       "    <tr>\n",
       "      <th>http://www.elmundo.es/america/2014/01/14/52d4b8ba268e3eb2318b456a.html</th>\n",
       "      <td>Michoacán pone en jaque al Gobierno de Peña Nieto</td>\n",
       "      <td>[ El Gobierno envía más policías y militares y...</td>\n",
       "      <td>La situación en el Estado mexicano de Michoacá...</td>\n",
       "      <td>[]</td>\n",
       "      <td>2014-01-14</td>\n",
       "    </tr>\n",
       "  </tbody>\n",
       "</table>\n",
       "</div>"
      ],
      "text/plain": [
       "                                                                                             headline  \\\n",
       "http://www.elmundo.es/america/2014/01/02/52c4d3...  Una jueza del Tribunal Supremo suspende parcia...   \n",
       "http://www.elmundo.es/america/2014/01/02/52c4d9...  'La revolución cubana sigue sin compromisos co...   \n",
       "http://www.elmundo.es/america/2014/01/03/52c61e...  La NSA trabaja en un ordenador cuántico capaz ...   \n",
       "http://www.elmundo.es/america/2014/01/10/52cfbb...  Último adiós a la ex Miss Venezuela Mónica Spe...   \n",
       "http://www.elmundo.es/america/2014/01/14/52d4b8...  Michoacán pone en jaque al Gobierno de Peña Nieto   \n",
       "\n",
       "                                                                                             keyfacts  \\\n",
       "http://www.elmundo.es/america/2014/01/02/52c4d3...  [ Decidió atender a los grupos conservadores y...   \n",
       "http://www.elmundo.es/america/2014/01/02/52c4d9...  [ 'Jamás hemos cedido ni cederemos ante agresi...   \n",
       "http://www.elmundo.es/america/2014/01/03/52c61e...  [ La información proviene de los documentos de...   \n",
       "http://www.elmundo.es/america/2014/01/10/52cfbb...  [ Mónica Spear y su marido fueron asesinados e...   \n",
       "http://www.elmundo.es/america/2014/01/14/52d4b8...  [ El Gobierno envía más policías y militares y...   \n",
       "\n",
       "                                                                                              content  \\\n",
       "http://www.elmundo.es/america/2014/01/02/52c4d3...  El martes, antes de presidir la fiesta de fin ...   \n",
       "http://www.elmundo.es/america/2014/01/02/52c4d9...  El presidente Raúl Castro reveló que se está i...   \n",
       "http://www.elmundo.es/america/2014/01/03/52c61e...  La Agencia de Seguridad Nacional (NSA) trabaja...   \n",
       "http://www.elmundo.es/america/2014/01/10/52cfbb...  Esta semana Venezuela ha recibido una noticia ...   \n",
       "http://www.elmundo.es/america/2014/01/14/52d4b8...  La situación en el Estado mexicano de Michoacá...   \n",
       "\n",
       "                                                   tags        time  \n",
       "http://www.elmundo.es/america/2014/01/02/52c4d3...   []  2014-01-02  \n",
       "http://www.elmundo.es/america/2014/01/02/52c4d9...   []  2014-01-02  \n",
       "http://www.elmundo.es/america/2014/01/03/52c61e...   []  2014-01-03  \n",
       "http://www.elmundo.es/america/2014/01/10/52cfbb...   []  2014-01-10  \n",
       "http://www.elmundo.es/america/2014/01/14/52d4b8...   []  2014-01-14  "
      ]
     },
     "execution_count": 3,
     "metadata": {},
     "output_type": "execute_result"
    }
   ],
   "source": [
    "dat.head()"
   ]
  },
  {
   "cell_type": "code",
   "execution_count": 4,
   "metadata": {},
   "outputs": [
    {
     "data": {
      "text/plain": [
       "(34633, 5)"
      ]
     },
     "execution_count": 4,
     "metadata": {},
     "output_type": "execute_result"
    }
   ],
   "source": [
    "dat.shape"
   ]
  },
  {
   "cell_type": "code",
   "execution_count": 157,
   "metadata": {
    "collapsed": true
   },
   "outputs": [],
   "source": [
    "def get_embeddings(vocab, nr_unk=100):\n",
    "    nr_vector = max(lex.rank for lex in vocab) + 1\n",
    "    vectors = np.zeros((nr_vector+nr_unk+2, vocab.vectors_length), dtype='float32')\n",
    "    for lex in vocab:\n",
    "        if lex.has_vector:\n",
    "            vectors[lex.rank+1] = lex.vector / lex.vector_norm\n",
    "#             vectors[lex.rank+1] = lex.vector\n",
    "    return vectors\n",
    "\n",
    "\n",
    "def get_word_ids(docs, rnn_encode=False, tree_truncate=False, max_length=100, nr_unk=100):\n",
    "    Xs = np.zeros((len(docs), max_length), dtype='int32')\n",
    "    for i, doc in enumerate(docs):\n",
    "        if tree_truncate:\n",
    "            if isinstance(doc, Span):\n",
    "                queue = [doc.root]\n",
    "            else:\n",
    "                queue = [sent.root for sent in doc.sents]\n",
    "        else:\n",
    "            queue = list(doc)\n",
    "        words = []\n",
    "        while len(words) <= max_length and queue:\n",
    "            word = queue.pop(0)\n",
    "            if rnn_encode or (not word.is_punct and not word.is_space):\n",
    "                words.append(word)\n",
    "            if tree_truncate:\n",
    "                queue.extend(list(word.lefts))\n",
    "                queue.extend(list(word.rights))\n",
    "        words.sort()\n",
    "        for j, token in enumerate(words):\n",
    "            if token.has_vector:\n",
    "                Xs[i, j] = token.rank+1\n",
    "            else:\n",
    "                Xs[i, j] = (token.shape % (nr_unk-1))+2\n",
    "            j += 1\n",
    "            if j >= max_length:\n",
    "                break\n",
    "        else:\n",
    "            Xs[i, len(words)] = 1\n",
    "    return Xs"
   ]
  },
  {
   "cell_type": "code",
   "execution_count": 158,
   "metadata": {
    "collapsed": true
   },
   "outputs": [],
   "source": [
    "nlp = spacy.load('es')"
   ]
  },
  {
   "cell_type": "code",
   "execution_count": 159,
   "metadata": {},
   "outputs": [
    {
     "data": {
      "text/plain": [
       "1230023"
      ]
     },
     "execution_count": 159,
     "metadata": {},
     "output_type": "execute_result"
    }
   ],
   "source": [
    "len(nlp.vocab)"
   ]
  },
  {
   "cell_type": "code",
   "execution_count": 160,
   "metadata": {},
   "outputs": [],
   "source": [
    "emb = get_embeddings(nlp.vocab)"
   ]
  },
  {
   "cell_type": "code",
   "execution_count": 161,
   "metadata": {},
   "outputs": [
    {
     "data": {
      "text/plain": [
       "(1230125, 50)"
      ]
     },
     "execution_count": 161,
     "metadata": {},
     "output_type": "execute_result"
    }
   ],
   "source": [
    "emb.shape"
   ]
  },
  {
   "cell_type": "code",
   "execution_count": 223,
   "metadata": {},
   "outputs": [],
   "source": [
    "res = nlp.pipe(dat['content'][0])"
   ]
  },
  {
   "cell_type": "code",
   "execution_count": 224,
   "metadata": {},
   "outputs": [
    {
     "data": {
      "text/plain": [
       "<generator object Language.pipe at 0x7f6b78adf8e0>"
      ]
     },
     "execution_count": 224,
     "metadata": {},
     "output_type": "execute_result"
    }
   ],
   "source": [
    "res"
   ]
  },
  {
   "cell_type": "code",
   "execution_count": 165,
   "metadata": {
    "scrolled": true
   },
   "outputs": [],
   "source": [
    "wl = get_word_ids(list(nlp.pipe(dat['content'][:5])), max_length=2000, rnn_encode=True)"
   ]
  },
  {
   "cell_type": "code",
   "execution_count": 213,
   "metadata": {},
   "outputs": [
    {
     "data": {
      "text/plain": [
       "(5, 2000)"
      ]
     },
     "execution_count": 213,
     "metadata": {},
     "output_type": "execute_result"
    }
   ],
   "source": [
    "wl.shape"
   ]
  },
  {
   "cell_type": "code",
   "execution_count": 193,
   "metadata": {},
   "outputs": [
    {
     "data": {
      "text/plain": [
       "array([  32, 1554,   57, ...,    0,    0,    0], dtype=int32)"
      ]
     },
     "execution_count": 193,
     "metadata": {},
     "output_type": "execute_result"
    }
   ],
   "source": [
    "wl[0]"
   ]
  },
  {
   "cell_type": "code",
   "execution_count": 211,
   "metadata": {},
   "outputs": [
    {
     "name": "stdout",
     "output_type": "stream",
     "text": [
      "del\n",
      "[-0.46074301 -0.77140599  0.661452   -0.70173502  1.71059406 -0.55488902\n",
      " -0.83409899 -0.78157902 -0.88442397  4.36215019  0.119592    0.210757\n",
      "  0.202582   -0.087535    1.20798302  0.38466701  0.72116601  0.040439\n",
      " -0.25994101  0.401526    2.70532393  0.378241   -0.28162301 -0.86927801\n",
      " -0.028642   -0.109049   -1.12738705  2.71435308 -0.81711698 -0.320108\n",
      "  2.7643199  -0.59532702 -3.16500711 -0.008701    0.033842    0.64077002\n",
      "  0.772273   -0.202738   -0.038664    0.029468   -1.41614401  0.652206\n",
      " -0.37901801 -0.66175002  0.94164902 -0.401712   -1.337767   -3.16256809\n",
      "  0.064858   -0.652147  ]\n",
      "15230\n",
      "[-0.05099941 -0.08538653  0.07321578 -0.07767469  0.18934478 -0.06142038\n",
      " -0.09232599 -0.08651258 -0.09789643  0.48284417  0.01323758  0.02332858\n",
      "  0.0224237  -0.0096892   0.13371103  0.04257859  0.0798255   0.00447617\n",
      " -0.02877274  0.04444471  0.2994509   0.0418673  -0.03117271 -0.09621993\n",
      " -0.00317037 -0.01207058 -0.12478989  0.30045035 -0.09044626 -0.03543259\n",
      "  0.30598116 -0.06589644 -0.35033301 -0.00096311  0.00374595  0.0709265\n",
      "  0.0854825  -0.02244096 -0.0042797   0.0032618  -0.15675226  0.07219235\n",
      " -0.04195331 -0.07324877  0.10423064 -0.0444653  -0.14807674 -0.35006303\n",
      "  0.0071791  -0.07218581]\n",
      "[ 1.  1.  1.  1.  1.  1.  1.  1.  1.  1.  1.  1.  1.  1.  1.  1.  1.  1.\n",
      "  1.  1.  1.  1.  1.  1.  1.  1.  1.  1.  1.  1.  1.  1.  1.  1.  1.  1.\n",
      "  1.  1.  1.  1.  1.  1.  1.  1.  1.  1.  1.  1.  1.  1.]\n"
     ]
    }
   ],
   "source": [
    "N = 54\n",
    "print(res[N])\n",
    "print(res[N].vector)\n",
    "print(wl[0][N])\n",
    "print(emb[wl[0][N]])\n",
    "print((res[N].vector / np.linalg.norm(res[N].vector)) / emb[wl[0][N]])"
   ]
  },
  {
   "cell_type": "code",
   "execution_count": null,
   "metadata": {
    "collapsed": true
   },
   "outputs": [],
   "source": []
  },
  {
   "cell_type": "code",
   "execution_count": null,
   "metadata": {
    "collapsed": true
   },
   "outputs": [],
   "source": []
  },
  {
   "cell_type": "code",
   "execution_count": null,
   "metadata": {
    "collapsed": true
   },
   "outputs": [],
   "source": []
  },
  {
   "cell_type": "code",
   "execution_count": null,
   "metadata": {
    "collapsed": true
   },
   "outputs": [],
   "source": [
    "with open(\"../wordvecs/wiki.es/wiki.es.nospace.vec\") as f:\n",
    "    nlp.vocab.load_vectors(f)"
   ]
  },
  {
   "cell_type": "code",
   "execution_count": 8,
   "metadata": {
    "collapsed": true
   },
   "outputs": [],
   "source": [
    "fact_nlp = dat['keyfacts'].apply(lambda l: [nlp(s) for s in l])"
   ]
  },
  {
   "cell_type": "code",
   "execution_count": null,
   "metadata": {
    "collapsed": true
   },
   "outputs": [],
   "source": [
    "dat['content'] = dat['content'].apply(lambda x: re.sub(r'\\[.*?]', '', x))"
   ]
  }
 ],
 "metadata": {
  "anaconda-cloud": {},
  "kernelspec": {
   "display_name": "Python [py36]",
   "language": "python",
   "name": "Python [py36]"
  },
  "language_info": {
   "codemirror_mode": {
    "name": "ipython",
    "version": 3
   },
   "file_extension": ".py",
   "mimetype": "text/x-python",
   "name": "python",
   "nbconvert_exporter": "python",
   "pygments_lexer": "ipython3",
   "version": "3.6.2"
  }
 },
 "nbformat": 4,
 "nbformat_minor": 2
}
