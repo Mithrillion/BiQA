{
 "cells": [
  {
   "cell_type": "code",
   "execution_count": 1,
   "metadata": {
    "collapsed": true
   },
   "outputs": [],
   "source": [
    "import numpy as np\n",
    "import pandas as pd\n",
    "import os\n",
    "import json\n",
    "import spacy\n",
    "from itertools import chain, count\n",
    "from collections import Counter\n",
    "import re\n",
    "from pprint import pprint"
   ]
  },
  {
   "cell_type": "code",
   "execution_count": 2,
   "metadata": {
    "collapsed": true
   },
   "outputs": [],
   "source": [
    "dat = pd.read_pickle(\"../data/elmondo_es_sp.pkl\")"
   ]
  },
  {
   "cell_type": "code",
   "execution_count": 3,
   "metadata": {},
   "outputs": [
    {
     "data": {
      "text/html": [
       "<div>\n",
       "<style>\n",
       "    .dataframe thead tr:only-child th {\n",
       "        text-align: right;\n",
       "    }\n",
       "\n",
       "    .dataframe thead th {\n",
       "        text-align: left;\n",
       "    }\n",
       "\n",
       "    .dataframe tbody tr th {\n",
       "        vertical-align: top;\n",
       "    }\n",
       "</style>\n",
       "<table border=\"1\" class=\"dataframe\">\n",
       "  <thead>\n",
       "    <tr style=\"text-align: right;\">\n",
       "      <th></th>\n",
       "      <th>headline</th>\n",
       "      <th>keyfacts</th>\n",
       "      <th>content</th>\n",
       "      <th>tags</th>\n",
       "      <th>time</th>\n",
       "    </tr>\n",
       "  </thead>\n",
       "  <tbody>\n",
       "    <tr>\n",
       "      <th>http://www.elmundo.es//2016/08/31/57c6baad46163f610d8b45b3.html</th>\n",
       "      <td>Rosberg: \"Estoy disfrutando mucho de la lucha ...</td>\n",
       "      <td>[El piloto germano alaba el gran ambiente de l...</td>\n",
       "      <td>El piloto alemán Nico Rosberg (Mercedes) esper...</td>\n",
       "      <td>[fórmula 1, Nico Rosberg, Lewis Hamilton, depo...</td>\n",
       "      <td>2016-08-31 13:12:13</td>\n",
       "    </tr>\n",
       "    <tr>\n",
       "      <th>http://www.elmundo.es/america/2014/12/29/54a19293e2704e19708b458f.html</th>\n",
       "      <td>El estadio de David Beckham en Miami se esfuma</td>\n",
       "      <td>[\\nEl futbolista quiere construirlo en una zon...</td>\n",
       "      <td>El sueño del astro David Beckham se ha aplazad...</td>\n",
       "      <td>[]</td>\n",
       "      <td>2014-12-29</td>\n",
       "    </tr>\n",
       "    <tr>\n",
       "      <th>http://www.elmundo.es/andalucia/2014/01/03/52c69fe322601dd86c8b4576.html</th>\n",
       "      <td>Del Nido recogerá firmas en apoyo de su solici...</td>\n",
       "      <td>[ Voluntarios recorrerán los aledaños del Sánc...</td>\n",
       "      <td>La mañana del domingo 5 de enero, unos 40 volu...</td>\n",
       "      <td>[]</td>\n",
       "      <td>2014-01-03</td>\n",
       "    </tr>\n",
       "    <tr>\n",
       "      <th>http://www.elmundo.es/andalucia/2014/01/14/52d54c02268e3eb1318b4579.html</th>\n",
       "      <td>Garrido va pidiendo la cuenta</td>\n",
       "      <td>[ El entrenador del Betis critica a la directi...</td>\n",
       "      <td>Nada más aterrizar Juan Carlos Garrido, en el ...</td>\n",
       "      <td>[]</td>\n",
       "      <td>2014-01-14</td>\n",
       "    </tr>\n",
       "    <tr>\n",
       "      <th>http://www.elmundo.es/andalucia/2014/01/19/52dc119eca4741a5458b4570.html</th>\n",
       "      <td>El keniano Paul Tanui inscribe su nombre en el...</td>\n",
       "      <td>[ Triunfo para la etíope Hiwot Ayalew en la ca...</td>\n",
       "      <td>El keniano Paul Tanui ha inscrito este domingo...</td>\n",
       "      <td>[]</td>\n",
       "      <td>2014-01-19</td>\n",
       "    </tr>\n",
       "  </tbody>\n",
       "</table>\n",
       "</div>"
      ],
      "text/plain": [
       "                                                                                             headline  \\\n",
       "http://www.elmundo.es//2016/08/31/57c6baad46163...  Rosberg: \"Estoy disfrutando mucho de la lucha ...   \n",
       "http://www.elmundo.es/america/2014/12/29/54a192...     El estadio de David Beckham en Miami se esfuma   \n",
       "http://www.elmundo.es/andalucia/2014/01/03/52c6...  Del Nido recogerá firmas en apoyo de su solici...   \n",
       "http://www.elmundo.es/andalucia/2014/01/14/52d5...                      Garrido va pidiendo la cuenta   \n",
       "http://www.elmundo.es/andalucia/2014/01/19/52dc...  El keniano Paul Tanui inscribe su nombre en el...   \n",
       "\n",
       "                                                                                             keyfacts  \\\n",
       "http://www.elmundo.es//2016/08/31/57c6baad46163...  [El piloto germano alaba el gran ambiente de l...   \n",
       "http://www.elmundo.es/america/2014/12/29/54a192...  [\\nEl futbolista quiere construirlo en una zon...   \n",
       "http://www.elmundo.es/andalucia/2014/01/03/52c6...  [ Voluntarios recorrerán los aledaños del Sánc...   \n",
       "http://www.elmundo.es/andalucia/2014/01/14/52d5...  [ El entrenador del Betis critica a la directi...   \n",
       "http://www.elmundo.es/andalucia/2014/01/19/52dc...  [ Triunfo para la etíope Hiwot Ayalew en la ca...   \n",
       "\n",
       "                                                                                              content  \\\n",
       "http://www.elmundo.es//2016/08/31/57c6baad46163...  El piloto alemán Nico Rosberg (Mercedes) esper...   \n",
       "http://www.elmundo.es/america/2014/12/29/54a192...  El sueño del astro David Beckham se ha aplazad...   \n",
       "http://www.elmundo.es/andalucia/2014/01/03/52c6...  La mañana del domingo 5 de enero, unos 40 volu...   \n",
       "http://www.elmundo.es/andalucia/2014/01/14/52d5...  Nada más aterrizar Juan Carlos Garrido, en el ...   \n",
       "http://www.elmundo.es/andalucia/2014/01/19/52dc...  El keniano Paul Tanui ha inscrito este domingo...   \n",
       "\n",
       "                                                                                                 tags  \\\n",
       "http://www.elmundo.es//2016/08/31/57c6baad46163...  [fórmula 1, Nico Rosberg, Lewis Hamilton, depo...   \n",
       "http://www.elmundo.es/america/2014/12/29/54a192...                                                 []   \n",
       "http://www.elmundo.es/andalucia/2014/01/03/52c6...                                                 []   \n",
       "http://www.elmundo.es/andalucia/2014/01/14/52d5...                                                 []   \n",
       "http://www.elmundo.es/andalucia/2014/01/19/52dc...                                                 []   \n",
       "\n",
       "                                                                   time  \n",
       "http://www.elmundo.es//2016/08/31/57c6baad46163...  2016-08-31 13:12:13  \n",
       "http://www.elmundo.es/america/2014/12/29/54a192...           2014-12-29  \n",
       "http://www.elmundo.es/andalucia/2014/01/03/52c6...           2014-01-03  \n",
       "http://www.elmundo.es/andalucia/2014/01/14/52d5...           2014-01-14  \n",
       "http://www.elmundo.es/andalucia/2014/01/19/52dc...           2014-01-19  "
      ]
     },
     "execution_count": 3,
     "metadata": {},
     "output_type": "execute_result"
    }
   ],
   "source": [
    "dat.head()"
   ]
  },
  {
   "cell_type": "markdown",
   "metadata": {},
   "source": [
    "Check if there are any remaining articles without keyfacts:"
   ]
  },
  {
   "cell_type": "code",
   "execution_count": 4,
   "metadata": {},
   "outputs": [
    {
     "data": {
      "text/plain": [
       "0"
      ]
     },
     "execution_count": 4,
     "metadata": {},
     "output_type": "execute_result"
    }
   ],
   "source": [
    "(dat['keyfacts'].apply(len) == 0).sum()"
   ]
  },
  {
   "cell_type": "markdown",
   "metadata": {},
   "source": [
    "Identify named entities:"
   ]
  },
  {
   "cell_type": "code",
   "execution_count": 5,
   "metadata": {
    "collapsed": true
   },
   "outputs": [],
   "source": [
    "nlp = spacy.load('es')\n",
    "with open(\"../wordvecs/wiki.es/wiki.es.nospace.vec\") as f:\n",
    "    nlp.vocab.load_vectors(f)"
   ]
  },
  {
   "cell_type": "code",
   "execution_count": 6,
   "metadata": {},
   "outputs": [
    {
     "data": {
      "text/plain": [
       "[<spacy.tagger.Tagger at 0x7fc9cded6ee8>,\n",
       " <spacy.pipeline.DependencyParser at 0x7fc9e6cda138>,\n",
       " <spacy.matcher.Matcher at 0x7fc9aa133128>,\n",
       " <spacy.pipeline.EntityRecognizer at 0x7fc9aad0af98>]"
      ]
     },
     "execution_count": 6,
     "metadata": {},
     "output_type": "execute_result"
    }
   ],
   "source": [
    "nlp.pipeline"
   ]
  },
  {
   "cell_type": "code",
   "execution_count": 7,
   "metadata": {
    "collapsed": true
   },
   "outputs": [],
   "source": [
    "fact_entlist = dat['keyfacts'].apply(lambda l: [nlp(s).ents for s in l])"
   ]
  },
  {
   "cell_type": "code",
   "execution_count": 8,
   "metadata": {
    "collapsed": true
   },
   "outputs": [],
   "source": [
    "dat['content'] = dat['content'].apply(lambda x: re.sub(r'\\[.*?]', '', x))"
   ]
  },
  {
   "cell_type": "code",
   "execution_count": 9,
   "metadata": {
    "collapsed": true
   },
   "outputs": [],
   "source": [
    "story_entlist = dat['content'].apply(lambda x: nlp(x).ents)"
   ]
  },
  {
   "cell_type": "code",
   "execution_count": 10,
   "metadata": {
    "collapsed": true
   },
   "outputs": [],
   "source": [
    "def random_id_generator(n):\n",
    "    rand_list = np.random.choice(range(n), n, replace=False)\n",
    "    i = 0\n",
    "    while i < n:\n",
    "        yield rand_list[i]\n",
    "        i += 1"
   ]
  },
  {
   "cell_type": "markdown",
   "metadata": {
    "collapsed": true
   },
   "source": [
    "## Generate Questions"
   ]
  },
  {
   "cell_type": "code",
   "execution_count": 11,
   "metadata": {},
   "outputs": [
    {
     "data": {
      "text/plain": [
       "(11580, 5)"
      ]
     },
     "execution_count": 11,
     "metadata": {},
     "output_type": "execute_result"
    }
   ],
   "source": [
    "dat.shape"
   ]
  },
  {
   "cell_type": "code",
   "execution_count": 12,
   "metadata": {
    "scrolled": true
   },
   "outputs": [
    {
     "name": "stdout",
     "output_type": "stream",
     "text": [
      "generating question 0 to 500...\n",
      "generating question 500 to 1000...\n",
      "generating question 1000 to 1500...\n",
      "generating question 1500 to 2000...\n",
      "generating question 2000 to 2500...\n",
      "generating question 2500 to 3000...\n",
      "generating question 3000 to 3500...\n",
      "generating question 3500 to 4000...\n",
      "generating question 4000 to 4500...\n",
      "generating question 4500 to 5000...\n",
      "generating question 5000 to 5500...\n",
      "generating question 5500 to 6000...\n",
      "generating question 6000 to 6500...\n",
      "generating question 6500 to 7000...\n",
      "skipped bad token Bruce [Fraser\n",
      "skipped bad token Bruce [Fraser\n",
      "generating question 7000 to 7500...\n",
      "generating question 7500 to 8000...\n",
      "generating question 8000 to 8500...\n",
      "generating question 8500 to 9000...\n",
      "generating question 9000 to 9500...\n",
      "generating question 9500 to 10000...\n",
      "generating question 10000 to 10500...\n",
      "generating question 10500 to 11000...\n",
      "generating question 11000 to 11500...\n",
      "generating question 11500 to 12000...\n"
     ]
    }
   ],
   "source": [
    "M = dat.shape[0]\n",
    "pairs = []\n",
    "# ent_id = count()\n",
    "# num_id = count()\n",
    "for i in range(M):\n",
    "    if i % 500 == 0:\n",
    "        print(\"generating question {0} to {1}...\".format(i, i + 500))\n",
    "    doc_ents = np.array(story_entlist[i])\n",
    "    for j in range(len(fact_entlist[i])):\n",
    "        if len(fact_entlist[i][j]) == 0:\n",
    "            pass\n",
    "        else:\n",
    "            for ent in fact_entlist[i][j]:\n",
    "                if not re.search(r'\\w+', ent.text):\n",
    "                    continue\n",
    "                ent_id = random_id_generator(500)\n",
    "                num_id = random_id_generator(500)\n",
    "                try:\n",
    "                    matches = ~pd.isnull([re.search(r'(?<!(?:\\w|[-_]))' + ent.text + r'(?!(?:\\w|[-_]))', x.text)\n",
    "                                          for x in doc_ents])\n",
    "                except:\n",
    "                    continue\n",
    "                if np.any(matches):\n",
    "                    # remove all instances of ent (incl. partial matches) from the story entity list\n",
    "                    nq_ents = doc_ents[~matches]\n",
    "                    if ent.label_ in ['CARDINAL', 'ORDINAL']:\n",
    "                        ent_type = 'number'\n",
    "                        ent_iter = num_id\n",
    "                        continue\n",
    "                    else:\n",
    "                        ent_type = 'entity'\n",
    "                        ent_iter = ent_id\n",
    "                    ind = next(ent_iter)\n",
    "                    # replace entity in question\n",
    "#                     question_text = dat['keyfacts'][i][j].replace(ent.text, '@placeholder')\n",
    "                    question_text = re.sub(r'(?<!(?:\\w|[-_]))' + ent.text + r'(?!(?:\\w|[-_]))',\n",
    "                                           '@placeholder', dat['keyfacts'][i][j])\n",
    "                    # replace entity in text\n",
    "#                     content_text = dat['content'][i].replace(ent.text, '@{0}{1}'.format(ent_type, ind))\n",
    "                    content_text = re.sub(r'(?<!(?:\\w|[-_]))' + ent.text + r'(?!(?:\\w|[-_]))', \n",
    "                                          '@{0}{1}'.format(ent_type, ind), dat['content'][i])\n",
    "                    ans = '@{0}{1}'.format(ent_type, ind)\n",
    "                    # replace other instances of entities\n",
    "                    for other_ent in nq_ents:\n",
    "                        if not re.search(r'\\w+', other_ent.text):\n",
    "                            continue\n",
    "                        if re.search(r\"\\(|\\)\", other_ent.text):\n",
    "                            continue\n",
    "                        if other_ent.label_ in ['CARDINAL', 'ORDINAL']:\n",
    "                            ent_type = 'number'\n",
    "                            ent_iter = num_id\n",
    "                            continue\n",
    "                        else:\n",
    "                            ent_type = 'entity'\n",
    "                            ent_iter = ent_id\n",
    "                        ind = next(ent_iter)\n",
    "#                         content_text = content_text.replace(other_ent.text, '@{0}{1}'.format(ent_type, ind))\n",
    "                        try:\n",
    "                            question_text = re.sub(r'(?<!(?:\\w|[-_]))' + other_ent.text + r'(?!(?:\\w|[-_]))', \n",
    "                                                   '@{0}{1}'.format(ent_type, ind), question_text)\n",
    "                            content_text = re.sub(r'(?<!(?:\\w|[-_]))' + other_ent.text + r'(?!(?:\\w|[-_]))', \n",
    "                                                  '@{0}{1}'.format(ent_type, ind), content_text)\n",
    "                        except:\n",
    "                            print(\"skipped bad token {0}\".format(other_ent.text))\n",
    "                    pairs += [[question_text, ans, content_text]]"
   ]
  },
  {
   "cell_type": "code",
   "execution_count": 13,
   "metadata": {
    "collapsed": true
   },
   "outputs": [],
   "source": [
    "df = pd.DataFrame(pairs, columns=[\"question\", \"answer\", \"story\"])"
   ]
  },
  {
   "cell_type": "code",
   "execution_count": 14,
   "metadata": {
    "scrolled": true
   },
   "outputs": [
    {
     "data": {
      "text/html": [
       "<div>\n",
       "<style>\n",
       "    .dataframe thead tr:only-child th {\n",
       "        text-align: right;\n",
       "    }\n",
       "\n",
       "    .dataframe thead th {\n",
       "        text-align: left;\n",
       "    }\n",
       "\n",
       "    .dataframe tbody tr th {\n",
       "        vertical-align: top;\n",
       "    }\n",
       "</style>\n",
       "<table border=\"1\" class=\"dataframe\">\n",
       "  <thead>\n",
       "    <tr style=\"text-align: right;\">\n",
       "      <th></th>\n",
       "      <th>question</th>\n",
       "      <th>answer</th>\n",
       "      <th>story</th>\n",
       "    </tr>\n",
       "  </thead>\n",
       "  <tbody>\n",
       "    <tr>\n",
       "      <th>0</th>\n",
       "      <td>El piloto germano alaba el gran ambiente de lo...</td>\n",
       "      <td>@entity288</td>\n",
       "      <td>El piloto alemán @entity39 (@entity490) espera...</td>\n",
       "    </tr>\n",
       "    <tr>\n",
       "      <th>1</th>\n",
       "      <td>@placeholder valora que sería \"increíble\" repe...</td>\n",
       "      <td>@entity414</td>\n",
       "      <td>El piloto alemán @entity459 (@entity266) esper...</td>\n",
       "    </tr>\n",
       "    <tr>\n",
       "      <th>2</th>\n",
       "      <td>Voluntarios recorrerán los aledaños del @plac...</td>\n",
       "      <td>@entity82</td>\n",
       "      <td>La mañana del domingo 5 de enero, unos 40 volu...</td>\n",
       "    </tr>\n",
       "    <tr>\n",
       "      <th>3</th>\n",
       "      <td>Ese día se disputará el partido @placeholder....</td>\n",
       "      <td>@entity145</td>\n",
       "      <td>La mañana del domingo 5 de enero, unos 40 volu...</td>\n",
       "    </tr>\n",
       "    <tr>\n",
       "      <th>4</th>\n",
       "      <td>Ese día se disputará el partido Sevilla F.C.-...</td>\n",
       "      <td>@entity163</td>\n",
       "      <td>La mañana del domingo 5 de enero, unos 40 volu...</td>\n",
       "    </tr>\n",
       "  </tbody>\n",
       "</table>\n",
       "</div>"
      ],
      "text/plain": [
       "                                            question      answer  \\\n",
       "0  El piloto germano alaba el gran ambiente de lo...  @entity288   \n",
       "1  @placeholder valora que sería \"increíble\" repe...  @entity414   \n",
       "2   Voluntarios recorrerán los aledaños del @plac...   @entity82   \n",
       "3   Ese día se disputará el partido @placeholder....  @entity145   \n",
       "4   Ese día se disputará el partido Sevilla F.C.-...  @entity163   \n",
       "\n",
       "                                               story  \n",
       "0  El piloto alemán @entity39 (@entity490) espera...  \n",
       "1  El piloto alemán @entity459 (@entity266) esper...  \n",
       "2  La mañana del domingo 5 de enero, unos 40 volu...  \n",
       "3  La mañana del domingo 5 de enero, unos 40 volu...  \n",
       "4  La mañana del domingo 5 de enero, unos 40 volu...  "
      ]
     },
     "execution_count": 14,
     "metadata": {},
     "output_type": "execute_result"
    }
   ],
   "source": [
    "df.head()"
   ]
  },
  {
   "cell_type": "code",
   "execution_count": 15,
   "metadata": {},
   "outputs": [
    {
     "data": {
      "text/plain": [
       "(23961, 3)"
      ]
     },
     "execution_count": 15,
     "metadata": {},
     "output_type": "execute_result"
    }
   ],
   "source": [
    "df.shape"
   ]
  },
  {
   "cell_type": "code",
   "execution_count": 16,
   "metadata": {
    "collapsed": true
   },
   "outputs": [],
   "source": [
    "# df.to_csv(\"es_sample.csv\")"
   ]
  },
  {
   "cell_type": "code",
   "execution_count": 17,
   "metadata": {
    "collapsed": true
   },
   "outputs": [],
   "source": [
    "df.to_pickle(\"../data/elmondo_es_qa_no_numbers_sp.pkl\")"
   ]
  }
 ],
 "metadata": {
  "anaconda-cloud": {},
  "kernelspec": {
   "display_name": "Python [py36]",
   "language": "python",
   "name": "Python [py36]"
  },
  "language_info": {
   "codemirror_mode": {
    "name": "ipython",
    "version": 3
   },
   "file_extension": ".py",
   "mimetype": "text/x-python",
   "name": "python",
   "nbconvert_exporter": "python",
   "pygments_lexer": "ipython3",
   "version": "3.6.2"
  }
 },
 "nbformat": 4,
 "nbformat_minor": 1
}
