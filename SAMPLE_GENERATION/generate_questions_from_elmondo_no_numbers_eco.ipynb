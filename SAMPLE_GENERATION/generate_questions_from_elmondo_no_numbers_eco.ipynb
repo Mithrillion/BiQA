{
 "cells": [
  {
   "cell_type": "code",
   "execution_count": 1,
   "metadata": {
    "collapsed": true
   },
   "outputs": [],
   "source": [
    "import numpy as np\n",
    "import pandas as pd\n",
    "import os\n",
    "import json\n",
    "import spacy\n",
    "from itertools import chain, count\n",
    "from collections import Counter\n",
    "import re\n",
    "from pprint import pprint"
   ]
  },
  {
   "cell_type": "code",
   "execution_count": 2,
   "metadata": {
    "collapsed": true
   },
   "outputs": [],
   "source": [
    "dat = pd.read_pickle(\"../data/elmondo_es_eco.pkl\")"
   ]
  },
  {
   "cell_type": "code",
   "execution_count": 3,
   "metadata": {},
   "outputs": [
    {
     "data": {
      "text/html": [
       "<div>\n",
       "<style>\n",
       "    .dataframe thead tr:only-child th {\n",
       "        text-align: right;\n",
       "    }\n",
       "\n",
       "    .dataframe thead th {\n",
       "        text-align: left;\n",
       "    }\n",
       "\n",
       "    .dataframe tbody tr th {\n",
       "        vertical-align: top;\n",
       "    }\n",
       "</style>\n",
       "<table border=\"1\" class=\"dataframe\">\n",
       "  <thead>\n",
       "    <tr style=\"text-align: right;\">\n",
       "      <th></th>\n",
       "      <th>headline</th>\n",
       "      <th>keyfacts</th>\n",
       "      <th>content</th>\n",
       "      <th>tags</th>\n",
       "      <th>time</th>\n",
       "    </tr>\n",
       "  </thead>\n",
       "  <tbody>\n",
       "    <tr>\n",
       "      <th>http://www.elmundo.es/america/2014/01/08/52cdabed268e3e892e8b458e.html</th>\n",
       "      <td>La Fed avisa de que no tiene marcada la senda ...</td>\n",
       "      <td>[ Dependerá de la evolución de la economía, el...</td>\n",
       "      <td>La mayoría de los miembros del Comité Federal ...</td>\n",
       "      <td>[]</td>\n",
       "      <td>2014-01-08</td>\n",
       "    </tr>\n",
       "    <tr>\n",
       "      <th>http://www.elmundo.es/america/2014/01/22/52dfe0eae2704ea74a8b4570.html</th>\n",
       "      <td>El Gobierno argentino sólo permitirá dos compr...</td>\n",
       "      <td>[ Cuando se supere el límite el comprador debe...</td>\n",
       "      <td>El Gobierno de Cristina Fernández de Kirchner ...</td>\n",
       "      <td>[]</td>\n",
       "      <td>2014-01-22</td>\n",
       "    </tr>\n",
       "    <tr>\n",
       "      <th>http://www.elmundo.es/america/2014/01/26/52e52770e2704ecd598b4571.html</th>\n",
       "      <td>Marcha atrás en 48 horas del Gobierno argentin...</td>\n",
       "      <td>[ 'En la mentalidad argentina está insertado e...</td>\n",
       "      <td>\"Donde dije 'digo', digo 'Diego'\" parece procl...</td>\n",
       "      <td>[]</td>\n",
       "      <td>2014-01-26</td>\n",
       "    </tr>\n",
       "    <tr>\n",
       "      <th>http://www.elmundo.es/america/2014/04/12/53492fd522601d410e8b456c.html</th>\n",
       "      <td>EEUU investiga a Herbalife por supuesta estafa...</td>\n",
       "      <td>[\\nVende productos y suplementos dietéticos a ...</td>\n",
       "      <td>La Comisión Federal del Comercio de EEUU (FTC,...</td>\n",
       "      <td>[]</td>\n",
       "      <td>2014-04-12</td>\n",
       "    </tr>\n",
       "    <tr>\n",
       "      <th>http://www.elmundo.es/america/2014/04/21/535517cb268e3eb4218b457a.html</th>\n",
       "      <td>Argentina recurre al Supremo de EEUU contra lo...</td>\n",
       "      <td>[\\nLos fondos compraron a precio de ganga bono...</td>\n",
       "      <td>Los ocho jueces del Tribunal Supremo de los Es...</td>\n",
       "      <td>[]</td>\n",
       "      <td>2014-04-21</td>\n",
       "    </tr>\n",
       "  </tbody>\n",
       "</table>\n",
       "</div>"
      ],
      "text/plain": [
       "                                                                                             headline  \\\n",
       "http://www.elmundo.es/america/2014/01/08/52cdab...  La Fed avisa de que no tiene marcada la senda ...   \n",
       "http://www.elmundo.es/america/2014/01/22/52dfe0...  El Gobierno argentino sólo permitirá dos compr...   \n",
       "http://www.elmundo.es/america/2014/01/26/52e527...  Marcha atrás en 48 horas del Gobierno argentin...   \n",
       "http://www.elmundo.es/america/2014/04/12/53492f...  EEUU investiga a Herbalife por supuesta estafa...   \n",
       "http://www.elmundo.es/america/2014/04/21/535517...  Argentina recurre al Supremo de EEUU contra lo...   \n",
       "\n",
       "                                                                                             keyfacts  \\\n",
       "http://www.elmundo.es/america/2014/01/08/52cdab...  [ Dependerá de la evolución de la economía, el...   \n",
       "http://www.elmundo.es/america/2014/01/22/52dfe0...  [ Cuando se supere el límite el comprador debe...   \n",
       "http://www.elmundo.es/america/2014/01/26/52e527...  [ 'En la mentalidad argentina está insertado e...   \n",
       "http://www.elmundo.es/america/2014/04/12/53492f...  [\\nVende productos y suplementos dietéticos a ...   \n",
       "http://www.elmundo.es/america/2014/04/21/535517...  [\\nLos fondos compraron a precio de ganga bono...   \n",
       "\n",
       "                                                                                              content  \\\n",
       "http://www.elmundo.es/america/2014/01/08/52cdab...  La mayoría de los miembros del Comité Federal ...   \n",
       "http://www.elmundo.es/america/2014/01/22/52dfe0...  El Gobierno de Cristina Fernández de Kirchner ...   \n",
       "http://www.elmundo.es/america/2014/01/26/52e527...  \"Donde dije 'digo', digo 'Diego'\" parece procl...   \n",
       "http://www.elmundo.es/america/2014/04/12/53492f...  La Comisión Federal del Comercio de EEUU (FTC,...   \n",
       "http://www.elmundo.es/america/2014/04/21/535517...  Los ocho jueces del Tribunal Supremo de los Es...   \n",
       "\n",
       "                                                   tags        time  \n",
       "http://www.elmundo.es/america/2014/01/08/52cdab...   []  2014-01-08  \n",
       "http://www.elmundo.es/america/2014/01/22/52dfe0...   []  2014-01-22  \n",
       "http://www.elmundo.es/america/2014/01/26/52e527...   []  2014-01-26  \n",
       "http://www.elmundo.es/america/2014/04/12/53492f...   []  2014-04-12  \n",
       "http://www.elmundo.es/america/2014/04/21/535517...   []  2014-04-21  "
      ]
     },
     "execution_count": 3,
     "metadata": {},
     "output_type": "execute_result"
    }
   ],
   "source": [
    "dat.head()"
   ]
  },
  {
   "cell_type": "markdown",
   "metadata": {},
   "source": [
    "Check if there are any remaining articles without keyfacts:"
   ]
  },
  {
   "cell_type": "code",
   "execution_count": 4,
   "metadata": {},
   "outputs": [
    {
     "data": {
      "text/plain": [
       "0"
      ]
     },
     "execution_count": 4,
     "metadata": {},
     "output_type": "execute_result"
    }
   ],
   "source": [
    "(dat['keyfacts'].apply(len) == 0).sum()"
   ]
  },
  {
   "cell_type": "markdown",
   "metadata": {},
   "source": [
    "Identify named entities:"
   ]
  },
  {
   "cell_type": "code",
   "execution_count": 5,
   "metadata": {
    "collapsed": true
   },
   "outputs": [],
   "source": [
    "nlp = spacy.load('es')\n",
    "with open(\"../wordvecs/wiki.es/wiki.es.nospace.vec\") as f:\n",
    "    nlp.vocab.load_vectors(f)"
   ]
  },
  {
   "cell_type": "code",
   "execution_count": 6,
   "metadata": {},
   "outputs": [
    {
     "data": {
      "text/plain": [
       "[<spacy.tagger.Tagger at 0x7f4390515c60>,\n",
       " <spacy.pipeline.DependencyParser at 0x7f4388ec99f8>,\n",
       " <spacy.matcher.Matcher at 0x7f434b842898>,\n",
       " <spacy.pipeline.EntityRecognizer at 0x7f434c4bb8b8>]"
      ]
     },
     "execution_count": 6,
     "metadata": {},
     "output_type": "execute_result"
    }
   ],
   "source": [
    "nlp.pipeline"
   ]
  },
  {
   "cell_type": "code",
   "execution_count": 7,
   "metadata": {
    "collapsed": true
   },
   "outputs": [],
   "source": [
    "fact_entlist = dat['keyfacts'].apply(lambda l: [nlp(s).ents for s in l])"
   ]
  },
  {
   "cell_type": "code",
   "execution_count": 8,
   "metadata": {
    "collapsed": true
   },
   "outputs": [],
   "source": [
    "dat['content'] = dat['content'].apply(lambda x: re.sub(r'\\[.*?]', '', x))"
   ]
  },
  {
   "cell_type": "code",
   "execution_count": 9,
   "metadata": {},
   "outputs": [],
   "source": [
    "story_entlist = dat['content'].apply(lambda x: nlp(x).ents)"
   ]
  },
  {
   "cell_type": "code",
   "execution_count": 10,
   "metadata": {
    "collapsed": true
   },
   "outputs": [],
   "source": [
    "def random_id_generator(n):\n",
    "    rand_list = np.random.choice(range(n), n, replace=False)\n",
    "    i = 0\n",
    "    while i < n:\n",
    "        yield rand_list[i]\n",
    "        i += 1"
   ]
  },
  {
   "cell_type": "markdown",
   "metadata": {
    "collapsed": true
   },
   "source": [
    "## Generate Questions"
   ]
  },
  {
   "cell_type": "code",
   "execution_count": 11,
   "metadata": {},
   "outputs": [
    {
     "data": {
      "text/plain": [
       "(8031, 5)"
      ]
     },
     "execution_count": 11,
     "metadata": {},
     "output_type": "execute_result"
    }
   ],
   "source": [
    "dat.shape"
   ]
  },
  {
   "cell_type": "code",
   "execution_count": 12,
   "metadata": {
    "scrolled": true
   },
   "outputs": [
    {
     "name": "stdout",
     "output_type": "stream",
     "text": [
      "generating question 0 to 500...\n",
      "generating question 500 to 1000...\n",
      "generating question 1000 to 1500...\n",
      "generating question 1500 to 2000...\n",
      "generating question 2000 to 2500...\n",
      "generating question 2500 to 3000...\n",
      "generating question 3000 to 3500...\n",
      "generating question 3500 to 4000...\n",
      "generating question 4000 to 4500...\n",
      "generating question 4500 to 5000...\n",
      "generating question 5000 to 5500...\n",
      "generating question 5500 to 6000...\n",
      "generating question 6000 to 6500...\n",
      "generating question 6500 to 7000...\n",
      "generating question 7000 to 7500...\n",
      "generating question 7500 to 8000...\n",
      "generating question 8000 to 8500...\n"
     ]
    }
   ],
   "source": [
    "M = dat.shape[0]\n",
    "pairs = []\n",
    "# ent_id = count()\n",
    "# num_id = count()\n",
    "for i in range(M):\n",
    "    if i % 500 == 0:\n",
    "        print(\"generating question {0} to {1}...\".format(i, i + 500))\n",
    "    doc_ents = np.array(story_entlist[i])\n",
    "    for j in range(len(fact_entlist[i])):\n",
    "        if len(fact_entlist[i][j]) == 0:\n",
    "            pass\n",
    "        else:\n",
    "            for ent in fact_entlist[i][j]:\n",
    "                if not re.search(r'\\w+', ent.text):\n",
    "                    continue\n",
    "                ent_id = random_id_generator(500)\n",
    "                num_id = random_id_generator(500)\n",
    "                try:\n",
    "                    matches = ~pd.isnull([re.search(r'(?<!(?:\\w|[-_]))' + ent.text + r'(?!(?:\\w|[-_]))', x.text)\n",
    "                                          for x in doc_ents])\n",
    "                except:\n",
    "                    continue\n",
    "                if np.any(matches):\n",
    "                    # remove all instances of ent (incl. partial matches) from the story entity list\n",
    "                    nq_ents = doc_ents[~matches]\n",
    "                    if ent.label_ in ['CARDINAL', 'ORDINAL']:\n",
    "                        ent_type = 'number'\n",
    "                        ent_iter = num_id\n",
    "                        continue\n",
    "                    else:\n",
    "                        ent_type = 'entity'\n",
    "                        ent_iter = ent_id\n",
    "                    ind = next(ent_iter)\n",
    "                    # replace entity in question\n",
    "#                     question_text = dat['keyfacts'][i][j].replace(ent.text, '@placeholder')\n",
    "                    question_text = re.sub(r'(?<!(?:\\w|[-_]))' + ent.text + r'(?!(?:\\w|[-_]))',\n",
    "                                           '@placeholder', dat['keyfacts'][i][j])\n",
    "                    # replace entity in text\n",
    "#                     content_text = dat['content'][i].replace(ent.text, '@{0}{1}'.format(ent_type, ind))\n",
    "                    content_text = re.sub(r'(?<!(?:\\w|[-_]))' + ent.text + r'(?!(?:\\w|[-_]))', \n",
    "                                          '@{0}{1}'.format(ent_type, ind), dat['content'][i])\n",
    "                    ans = '@{0}{1}'.format(ent_type, ind)\n",
    "                    # replace other instances of entities\n",
    "                    for other_ent in nq_ents:\n",
    "                        if not re.search(r'\\w+', other_ent.text):\n",
    "                            continue\n",
    "                        if re.search(r\"\\(|\\)\", other_ent.text):\n",
    "                            continue\n",
    "                        if other_ent.label_ in ['CARDINAL', 'ORDINAL']:\n",
    "                            ent_type = 'number'\n",
    "                            ent_iter = num_id\n",
    "                            continue\n",
    "                        else:\n",
    "                            ent_type = 'entity'\n",
    "                            ent_iter = ent_id\n",
    "                        ind = next(ent_iter)\n",
    "#                         content_text = content_text.replace(other_ent.text, '@{0}{1}'.format(ent_type, ind))\n",
    "                        try:\n",
    "                            question_text = re.sub(r'(?<!(?:\\w|[-_]))' + other_ent.text + r'(?!(?:\\w|[-_]))', \n",
    "                                                   '@{0}{1}'.format(ent_type, ind), question_text)\n",
    "                            content_text = re.sub(r'(?<!(?:\\w|[-_]))' + other_ent.text + r'(?!(?:\\w|[-_]))', \n",
    "                                                  '@{0}{1}'.format(ent_type, ind), content_text)\n",
    "                        except:\n",
    "                            print(\"skipped bad token {0}\".format(other_ent.text))\n",
    "                    pairs += [[question_text, ans, content_text]]"
   ]
  },
  {
   "cell_type": "code",
   "execution_count": 13,
   "metadata": {
    "collapsed": true
   },
   "outputs": [],
   "source": [
    "df = pd.DataFrame(pairs, columns=[\"question\", \"answer\", \"story\"])"
   ]
  },
  {
   "cell_type": "code",
   "execution_count": 14,
   "metadata": {
    "scrolled": true
   },
   "outputs": [
    {
     "data": {
      "text/html": [
       "<div>\n",
       "<style>\n",
       "    .dataframe thead tr:only-child th {\n",
       "        text-align: right;\n",
       "    }\n",
       "\n",
       "    .dataframe thead th {\n",
       "        text-align: left;\n",
       "    }\n",
       "\n",
       "    .dataframe tbody tr th {\n",
       "        vertical-align: top;\n",
       "    }\n",
       "</style>\n",
       "<table border=\"1\" class=\"dataframe\">\n",
       "  <thead>\n",
       "    <tr style=\"text-align: right;\">\n",
       "      <th></th>\n",
       "      <th>question</th>\n",
       "      <th>answer</th>\n",
       "      <th>story</th>\n",
       "    </tr>\n",
       "  </thead>\n",
       "  <tbody>\n",
       "    <tr>\n",
       "      <th>0</th>\n",
       "      <td>'En la mentalidad argentina está insertado el...</td>\n",
       "      <td>@entity115</td>\n",
       "      <td>\"Donde dije 'digo', digo '@entity249'\" parece ...</td>\n",
       "    </tr>\n",
       "    <tr>\n",
       "      <th>1</th>\n",
       "      <td>\\nTras confirmar la empresa la investigación, ...</td>\n",
       "      <td>@entity271</td>\n",
       "      <td>La @entity179 de @entity436 (@entity394, en su...</td>\n",
       "    </tr>\n",
       "    <tr>\n",
       "      <th>2</th>\n",
       "      <td>\\nLos fondos compraron a precio de ganga bonos...</td>\n",
       "      <td>@entity256</td>\n",
       "      <td>Los ocho jueces del @entity321 @entity299 reci...</td>\n",
       "    </tr>\n",
       "    <tr>\n",
       "      <th>3</th>\n",
       "      <td>\\nRechazaron la posterior reestructuración de ...</td>\n",
       "      <td>@entity423</td>\n",
       "      <td>Los ocho jueces del @entity375 @entity395 reci...</td>\n",
       "    </tr>\n",
       "    <tr>\n",
       "      <th>4</th>\n",
       "      <td>\\nLa sanción se debe a la complicidad de la en...</td>\n",
       "      <td>@entity36</td>\n",
       "      <td>El @entity232, @entity327, el mayor banco de @...</td>\n",
       "    </tr>\n",
       "  </tbody>\n",
       "</table>\n",
       "</div>"
      ],
      "text/plain": [
       "                                            question      answer  \\\n",
       "0   'En la mentalidad argentina está insertado el...  @entity115   \n",
       "1  \\nTras confirmar la empresa la investigación, ...  @entity271   \n",
       "2  \\nLos fondos compraron a precio de ganga bonos...  @entity256   \n",
       "3  \\nRechazaron la posterior reestructuración de ...  @entity423   \n",
       "4  \\nLa sanción se debe a la complicidad de la en...   @entity36   \n",
       "\n",
       "                                               story  \n",
       "0  \"Donde dije 'digo', digo '@entity249'\" parece ...  \n",
       "1  La @entity179 de @entity436 (@entity394, en su...  \n",
       "2  Los ocho jueces del @entity321 @entity299 reci...  \n",
       "3  Los ocho jueces del @entity375 @entity395 reci...  \n",
       "4  El @entity232, @entity327, el mayor banco de @...  "
      ]
     },
     "execution_count": 14,
     "metadata": {},
     "output_type": "execute_result"
    }
   ],
   "source": [
    "df.head()"
   ]
  },
  {
   "cell_type": "code",
   "execution_count": 15,
   "metadata": {},
   "outputs": [
    {
     "data": {
      "text/plain": [
       "(9378, 3)"
      ]
     },
     "execution_count": 15,
     "metadata": {},
     "output_type": "execute_result"
    }
   ],
   "source": [
    "df.shape"
   ]
  },
  {
   "cell_type": "code",
   "execution_count": 16,
   "metadata": {
    "collapsed": true
   },
   "outputs": [],
   "source": [
    "# df.to_csv(\"es_sample.csv\")"
   ]
  },
  {
   "cell_type": "code",
   "execution_count": 17,
   "metadata": {
    "collapsed": true
   },
   "outputs": [],
   "source": [
    "df.to_pickle(\"../data/elmondo_es_qa_no_numbers_eco.pkl\")"
   ]
  },
  {
   "cell_type": "code",
   "execution_count": null,
   "metadata": {
    "collapsed": true
   },
   "outputs": [],
   "source": []
  }
 ],
 "metadata": {
  "anaconda-cloud": {},
  "kernelspec": {
   "display_name": "Python [py36]",
   "language": "python",
   "name": "Python [py36]"
  },
  "language_info": {
   "codemirror_mode": {
    "name": "ipython",
    "version": 3
   },
   "file_extension": ".py",
   "mimetype": "text/x-python",
   "name": "python",
   "nbconvert_exporter": "python",
   "pygments_lexer": "ipython3",
   "version": "3.6.2"
  }
 },
 "nbformat": 4,
 "nbformat_minor": 1
}
