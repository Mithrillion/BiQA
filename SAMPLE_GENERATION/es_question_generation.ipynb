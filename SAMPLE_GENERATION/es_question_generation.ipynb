{
 "cells": [
  {
   "cell_type": "code",
   "execution_count": 1,
   "metadata": {
    "collapsed": true
   },
   "outputs": [],
   "source": [
    "import numpy as np\n",
    "import pandas as pd\n",
    "import pickle\n",
    "from itertools import chain, count\n",
    "import re\n",
    "from pprint import pprint\n",
    "from multiprocessing import Pool"
   ]
  },
  {
   "cell_type": "code",
   "execution_count": 2,
   "metadata": {
    "collapsed": true
   },
   "outputs": [],
   "source": [
    "dat = pd.read_pickle(\"../data/full_es.pkl\")"
   ]
  },
  {
   "cell_type": "code",
   "execution_count": 3,
   "metadata": {},
   "outputs": [
    {
     "data": {
      "text/html": [
       "<div>\n",
       "<style>\n",
       "    .dataframe thead tr:only-child th {\n",
       "        text-align: right;\n",
       "    }\n",
       "\n",
       "    .dataframe thead th {\n",
       "        text-align: left;\n",
       "    }\n",
       "\n",
       "    .dataframe tbody tr th {\n",
       "        vertical-align: top;\n",
       "    }\n",
       "</style>\n",
       "<table border=\"1\" class=\"dataframe\">\n",
       "  <thead>\n",
       "    <tr style=\"text-align: right;\">\n",
       "      <th></th>\n",
       "      <th>headline</th>\n",
       "      <th>keyfacts</th>\n",
       "      <th>content</th>\n",
       "      <th>tags</th>\n",
       "      <th>time</th>\n",
       "    </tr>\n",
       "  </thead>\n",
       "  <tbody>\n",
       "    <tr>\n",
       "      <th>0</th>\n",
       "      <td>Una jueza del Tribunal Supremo suspende parcia...</td>\n",
       "      <td>[ Decidió atender a los grupos conservadores y...</td>\n",
       "      <td>El martes, antes de presidir la fiesta de fin ...</td>\n",
       "      <td>[]</td>\n",
       "      <td>2014-01-02</td>\n",
       "    </tr>\n",
       "    <tr>\n",
       "      <th>1</th>\n",
       "      <td>'La revolución cubana sigue sin compromisos co...</td>\n",
       "      <td>[ 'Jamás hemos cedido ni cederemos ante agresi...</td>\n",
       "      <td>El presidente Raúl Castro reveló que se está i...</td>\n",
       "      <td>[]</td>\n",
       "      <td>2014-01-02</td>\n",
       "    </tr>\n",
       "    <tr>\n",
       "      <th>2</th>\n",
       "      <td>La NSA trabaja en un ordenador cuántico capaz ...</td>\n",
       "      <td>[ La información proviene de los documentos de...</td>\n",
       "      <td>La Agencia de Seguridad Nacional (NSA) trabaja...</td>\n",
       "      <td>[]</td>\n",
       "      <td>2014-01-03</td>\n",
       "    </tr>\n",
       "    <tr>\n",
       "      <th>3</th>\n",
       "      <td>Último adiós a la ex Miss Venezuela Mónica Spe...</td>\n",
       "      <td>[ Mónica Spear y su marido fueron asesinados e...</td>\n",
       "      <td>Esta semana Venezuela ha recibido una noticia ...</td>\n",
       "      <td>[]</td>\n",
       "      <td>2014-01-10</td>\n",
       "    </tr>\n",
       "    <tr>\n",
       "      <th>4</th>\n",
       "      <td>Michoacán pone en jaque al Gobierno de Peña Nieto</td>\n",
       "      <td>[ El Gobierno envía más policías y militares y...</td>\n",
       "      <td>La situación en el Estado mexicano de Michoacá...</td>\n",
       "      <td>[]</td>\n",
       "      <td>2014-01-14</td>\n",
       "    </tr>\n",
       "  </tbody>\n",
       "</table>\n",
       "</div>"
      ],
      "text/plain": [
       "                                            headline  \\\n",
       "0  Una jueza del Tribunal Supremo suspende parcia...   \n",
       "1  'La revolución cubana sigue sin compromisos co...   \n",
       "2  La NSA trabaja en un ordenador cuántico capaz ...   \n",
       "3  Último adiós a la ex Miss Venezuela Mónica Spe...   \n",
       "4  Michoacán pone en jaque al Gobierno de Peña Nieto   \n",
       "\n",
       "                                            keyfacts  \\\n",
       "0  [ Decidió atender a los grupos conservadores y...   \n",
       "1  [ 'Jamás hemos cedido ni cederemos ante agresi...   \n",
       "2  [ La información proviene de los documentos de...   \n",
       "3  [ Mónica Spear y su marido fueron asesinados e...   \n",
       "4  [ El Gobierno envía más policías y militares y...   \n",
       "\n",
       "                                             content tags        time  \n",
       "0  El martes, antes de presidir la fiesta de fin ...   []  2014-01-02  \n",
       "1  El presidente Raúl Castro reveló que se está i...   []  2014-01-02  \n",
       "2  La Agencia de Seguridad Nacional (NSA) trabaja...   []  2014-01-03  \n",
       "3  Esta semana Venezuela ha recibido una noticia ...   []  2014-01-10  \n",
       "4  La situación en el Estado mexicano de Michoacá...   []  2014-01-14  "
      ]
     },
     "execution_count": 3,
     "metadata": {},
     "output_type": "execute_result"
    }
   ],
   "source": [
    "dat.head()"
   ]
  },
  {
   "cell_type": "code",
   "execution_count": 4,
   "metadata": {},
   "outputs": [
    {
     "data": {
      "text/plain": [
       "(37702, 5)"
      ]
     },
     "execution_count": 4,
     "metadata": {},
     "output_type": "execute_result"
    }
   ],
   "source": [
    "dat.shape"
   ]
  },
  {
   "cell_type": "code",
   "execution_count": 5,
   "metadata": {
    "collapsed": true
   },
   "outputs": [],
   "source": [
    "entities = pickle.load(open(\"../data/es_processed_entities.pkl\", \"rb\"))"
   ]
  },
  {
   "cell_type": "code",
   "execution_count": 6,
   "metadata": {},
   "outputs": [
    {
     "data": {
      "text/plain": [
       "37702"
      ]
     },
     "execution_count": 6,
     "metadata": {},
     "output_type": "execute_result"
    }
   ],
   "source": [
    "len(entities)"
   ]
  },
  {
   "cell_type": "code",
   "execution_count": 7,
   "metadata": {},
   "outputs": [
    {
     "name": "stderr",
     "output_type": "stream",
     "text": [
      "/home/mithrillion/anaconda3/envs/py36/lib/python3.6/site-packages/pandas/core/indexing.py:179: SettingWithCopyWarning: \n",
      "A value is trying to be set on a copy of a slice from a DataFrame\n",
      "\n",
      "See the caveats in the documentation: http://pandas.pydata.org/pandas-docs/stable/indexing.html#indexing-view-versus-copy\n",
      "  self._setitem_with_indexer(indexer, value)\n"
     ]
    }
   ],
   "source": [
    "dat['entities'] = 0\n",
    "dat['entities'].astype('object', inplace=True)\n",
    "for i, ents in entities.items():\n",
    "    dat['entities'].iloc[int(i)] = ents"
   ]
  },
  {
   "cell_type": "code",
   "execution_count": 25,
   "metadata": {
    "collapsed": true
   },
   "outputs": [],
   "source": [
    "def process_story(row):\n",
    "    story = row['content']\n",
    "    if len(story) < 50:\n",
    "        return None, None, None\n",
    "    facts = row['keyfacts']\n",
    "    entities = row['entities']\n",
    "    # get elligible entities\n",
    "    # check if any entity in each fact\n",
    "    elligible_facts = []\n",
    "    flat_mentions = list(chain.from_iterable([mention for mention in entity['mentions']] for entity in entities))\n",
    "    for fact in facts:\n",
    "        if np.any([re.search(re.escape(mention), fact) is not None for mention in flat_mentions]):\n",
    "            elligible_facts.append(fact)\n",
    "            continue\n",
    "    # anonymise story and facts\n",
    "    if len(elligible_facts) > 0:\n",
    "        for i, entity in enumerate(sorted(entities, key=lambda x: len(x['entity_name']), reverse=True)):\n",
    "            for mention in sorted(entity['mentions'], key=len, reverse=True):\n",
    "                story = re.sub(re.escape(mention), '@entity{0}'.format(i), story)\n",
    "                for j in range(len(elligible_facts)):\n",
    "                    elligible_facts[j] = re.sub(re.escape(mention), '@entity{0}'.format(i), elligible_facts[j])\n",
    "        # fix \"glued\" entities\n",
    "        story = re.sub(r'(?<=[^\\s\\\"\\'])@entity(\\d+)', r' @entity\\1', story)\n",
    "        for i in range(len(elligible_facts)):\n",
    "            elligible_facts[i] = re.sub(r'(?<=[^\\s\\\"\\'])@entity(\\d+)', r' @entity\\1', elligible_facts[i])\n",
    "        # output\n",
    "        questions = []\n",
    "        answers = []\n",
    "        for fact in elligible_facts:\n",
    "            for ent in set(re.findall(r'@entity\\d+', fact)):\n",
    "                if re.search(re.escape(ent) + '(?=[ .,?!:\\[\\];\\-\"\\'])', story):\n",
    "                    questions.append(re.sub(re.escape(ent), r'@placeholder', fact))\n",
    "                    answers.append(ent)\n",
    "        return story, questions, answers\n",
    "    else:\n",
    "        return None, None, None"
   ]
  },
  {
   "cell_type": "code",
   "execution_count": 26,
   "metadata": {
    "collapsed": true
   },
   "outputs": [],
   "source": [
    "def func_process_story(iterred_row):\n",
    "    return process_story(iterred_row[-1])"
   ]
  },
  {
   "cell_type": "code",
   "execution_count": 27,
   "metadata": {
    "scrolled": false
   },
   "outputs": [
    {
     "name": "stdout",
     "output_type": "stream",
     "text": [
      "Esta semana Venezuela ha recibido una noticia que ha causado gran consternación en todo el país: el asesinato de la actriz, modelo y ex Miss Venezuela Mónica Spear y de su esposo, el irlandés Thomas Henry Berry . \n",
      "El fatídico hecho se produjo en una autopista Venezolana cuando el matrimonio se disponía a regresar a su casa. En el interior del vehículo, se hallaron los cuerpos sin vida de la joven pareja y a la hija de ambos, de 5 años que también resultó herida.\n",
      "Miles de personas acudieron al velatorio de la pareja. Tanto artistas como familiares y allegados de la actriz y el empresario europeo acudieron desde el mediodía al Cementerio del Este de Caracas para dar el último adiós a la pareja.\n",
      "Seguidores de la exreina de belleza se aglomeraron en las inmediaciones de la capilla ardiente, en medio de una gran expectación y con presencia de periodistas locales y extranjeros.\n",
      "La larga fila de personas que se acercaron para dar el pésame a la familia era testigo del paso de decenas de coronas de flores que llegaban incesantemente zigzagueando entre la multitud para acceder al recinto funerario, en cuyo centro un patio techado era ocupado por una gran multitud.\n",
      "El padre de la actriz, Rafael Spear, declaró a periodistas fuera de la capilla ardiente que desea que el pueblo venezolano la recuerde como un \"icono\" del país, al lamentar que fue el único de sus hijos que \"no pudo sacar de Venezuela\".\n",
      "\"El mensaje es muy claro: nuestro país tiene que cambiar, tenemos que acabar con esta violencia, no es posible que nuestro pueblo haya gente armada y que estén matando inocentes como con mis dos seres tan queridos\", apuntó.\n",
      "Spear y Henry fueron tiroteados en presencia de su hija de 5 años tras sufrir un percance en la carretera para el que recibieron asistencia de una grúa, momento aprovechado por un grupo de asaltantes para intentar robarles.\n",
      "Los ladrones dispararon contra el vehículo ocasionando la muerte de la pareja y heridas a la niña.\n",
      "Las autoridades han detenido ya a siete personas integrantes de una banda denominada \"Los Sanguinarios de El Cambur\" y buscan a otras cuatro como presuntos autores de los asesinatos.\n",
      "La Miss Venezuela 2013, Migbelis Castellanos: \"El ejemplo que Spear dio como mujer debe ser seguido por muchas en alusión al trabajo altruista en apoyo de los más desfavorecidos que la actriz realizó participando en campañas de concienciación.\"\n",
      "Janeht Deolidoro, amiga de la familia, lamentó que la exMiss Venezuela 2004 es \"la cara de una consecuencia de la inseguridad\" que padece el país caribeño.\n",
      "\"El venezolano se ha acostumbrado a que ya es algo cotidiano, pero Mónica en este caso es la persona pública, es la conocida, es la que le llega al pueblo (...) realmente la cara de Mónica hoy en día está representando la cantidad de muertos\" que se registran cada día en el país, dijo a Efe Deolidoro.\n",
      "Venezuela es uno de los países con mayores tasas de criminalidad de la región con 39 asesinatos por cada 100.000 habitantes.\n",
      "--------------------\n",
      "[' Mónica Spear y su marido fueron asesinados en presencia de la hija de ambos de 5 años ', ' Han detenido a 7 personas intregrantes de la banda \"Los Sanguinarios de El Cambur\" ', ' Venezuela tiene una gran tasa de criminalidad: 39 asesinatos por cada 100.000 habitantes ']\n",
      "--------------------\n",
      "[{'entity_name': 'venezolano',\n",
      "  'entity_type': 'LOCATION',\n",
      "  'mentions': ['venezolano', 'Venezuela']},\n",
      " {'entity_name': 'Mónica Spear',\n",
      "  'entity_type': 'PERSON',\n",
      "  'mentions': ['Spear', 'Mónica Spear', 'Mónica']},\n",
      " {'entity_name': 'Miss Venezuela',\n",
      "  'entity_type': 'PERSON',\n",
      "  'mentions': ['Miss Venezuela']},\n",
      " {'entity_name': 'Los Sanguinarios de El Cambur',\n",
      "  'entity_type': 'WORK_OF_ART',\n",
      "  'mentions': ['Los Sanguinarios de El Cambur']},\n",
      " {'entity_name': 'irlandés', 'entity_type': 'PERSON', 'mentions': ['irlandés']},\n",
      " {'entity_name': 'Thomas Henry Berry',\n",
      "  'entity_type': 'PERSON',\n",
      "  'mentions': ['Thomas Henry Berry']},\n",
      " {'entity_name': 'Rafael Spear',\n",
      "  'entity_type': 'PERSON',\n",
      "  'mentions': ['Rafael Spear']},\n",
      " {'entity_name': 'europeo', 'entity_type': 'LOCATION', 'mentions': ['europeo']},\n",
      " {'entity_name': 'Cementerio del Este de Caracas',\n",
      "  'entity_type': 'LOCATION',\n",
      "  'mentions': ['Cementerio del Este de Caracas']},\n",
      " {'entity_name': 'Henry', 'entity_type': 'PERSON', 'mentions': ['Henry']},\n",
      " {'entity_name': 'Los Sanguinarios de El Cambur',\n",
      "  'entity_type': 'WORK_OF_ART',\n",
      "  'mentions': ['Los Sanguinarios de El Cambur']},\n",
      " {'entity_name': 'Miss Venezuela 2013',\n",
      "  'entity_type': 'OTHER',\n",
      "  'mentions': ['Miss Venezuela 2013']},\n",
      " {'entity_name': 'Efe Deolidoro',\n",
      "  'entity_type': 'PERSON',\n",
      "  'mentions': ['Efe Deolidoro']},\n",
      " {'entity_name': 'Migbelis Castellanos',\n",
      "  'entity_type': 'PERSON',\n",
      "  'mentions': ['Migbelis Castellanos']},\n",
      " {'entity_name': 'caribeño',\n",
      "  'entity_type': 'LOCATION',\n",
      "  'mentions': ['caribeño']},\n",
      " {'entity_name': 'Janeht Deolidoro',\n",
      "  'entity_type': 'PERSON',\n",
      "  'mentions': ['Janeht Deolidoro']},\n",
      " {'entity_name': 'exMiss Venezuela 2004',\n",
      "  'entity_type': 'PERSON',\n",
      "  'mentions': ['exMiss Venezuela 2004']}]\n"
     ]
    }
   ],
   "source": [
    "N = 3\n",
    "print(dat['content'].iloc[N])\n",
    "print(\"-\" * 20)\n",
    "print(dat['keyfacts'].iloc[N])\n",
    "print(\"-\" * 20)\n",
    "pprint(dat['entities'].iloc[N])"
   ]
  },
  {
   "cell_type": "code",
   "execution_count": 28,
   "metadata": {},
   "outputs": [
    {
     "data": {
      "text/plain": [
       "('Esta semana @entity12 ha recibido una noticia que ha causado gran consternación en todo el país: el asesinato de la actriz, modelo y ex @entity8 @entity10 y de su esposo, el @entity13 @entity6 . \\nEl fatídico hecho se produjo en una autopista Venezolana cuando el matrimonio se disponía a regresar a su casa. En el interior del vehículo, se hallaron los cuerpos sin vida de la joven pareja y a la hija de ambos, de 5 años que también resultó herida.\\nMiles de personas acudieron al velatorio de la pareja. Tanto artistas como familiares y allegados de la actriz y el empresario @entity15 acudieron desde el mediodía al @entity0 para dar el último adiós a la pareja.\\nSeguidores de la exreina de belleza se aglomeraron en las inmediaciones de la capilla ardiente, en medio de una gran expectación y con presencia de periodistas locales y extranjeros.\\nLa larga fila de personas que se acercaron para dar el pésame a la familia era testigo del paso de decenas de coronas de flores que llegaban incesantemente zigzagueando entre la multitud para acceder al recinto funerario, en cuyo centro un patio techado era ocupado por una gran multitud.\\nEl padre de la actriz, Rafael @entity10, declaró a periodistas fuera de la capilla ardiente que desea que el pueblo @entity12 la recuerde como un \"icono\" del país, al lamentar que fue el único de sus hijos que \"no pudo sacar de @entity12\".\\n\"El mensaje es muy claro: nuestro país tiene que cambiar, tenemos que acabar con esta violencia, no es posible que nuestro pueblo haya gente armada y que estén matando inocentes como con mis dos seres tan queridos\", apuntó.\\n@entity10 y @entity16 fueron tiroteados en presencia de su hija de 5 años tras sufrir un percance en la carretera para el que recibieron asistencia de una grúa, momento aprovechado por un grupo de asaltantes para intentar robarles.\\nLos ladrones dispararon contra el vehículo ocasionando la muerte de la pareja y heridas a la niña.\\nLas autoridades han detenido ya a siete personas integrantes de una banda denominada \"@entity1\" y buscan a otras cuatro como presuntos autores de los asesinatos.\\nLa @entity5, @entity4: \"El ejemplo que @entity10 dio como mujer debe ser seguido por muchas en alusión al trabajo altruista en apoyo de los más desfavorecidos que la actriz realizó participando en campañas de concienciación.\"\\n@entity7, amiga de la familia, lamentó que la @entity3 es \"la cara de una consecuencia de la inseguridad\" que padece el país @entity14.\\n\"El @entity12 se ha acostumbrado a que ya es algo cotidiano, pero @entity10 en este caso es la persona pública, es la conocida, es la que le llega al pueblo (...) realmente la cara de @entity10 hoy en día está representando la cantidad de muertos\" que se registran cada día en el país, dijo a @entity9.\\n@entity12 es uno de los países con mayores tasas de criminalidad de la región con 39 asesinatos por cada 100.000 habitantes.',\n",
       " [' @placeholder y su marido fueron asesinados en presencia de la hija de ambos de 5 años ',\n",
       "  ' Han detenido a 7 personas intregrantes de la banda \"@placeholder\" ',\n",
       "  ' @placeholder tiene una gran tasa de criminalidad: 39 asesinatos por cada 100.000 habitantes '],\n",
       " ['@entity10', '@entity1', '@entity12'])"
      ]
     },
     "execution_count": 28,
     "metadata": {},
     "output_type": "execute_result"
    }
   ],
   "source": [
    "process_story(dat.iloc[N])"
   ]
  },
  {
   "cell_type": "code",
   "execution_count": 29,
   "metadata": {
    "collapsed": true
   },
   "outputs": [],
   "source": [
    "with Pool(4) as p:\n",
    "    res = p.map(func_process_story, dat.iterrows())"
   ]
  },
  {
   "cell_type": "code",
   "execution_count": 30,
   "metadata": {
    "collapsed": true
   },
   "outputs": [],
   "source": [
    "output = []\n",
    "for story, questions, answers in res:\n",
    "    if story is not None:\n",
    "        for q, a in zip(questions, answers):\n",
    "            output.append({'story': story, 'question': q, 'answer': a})"
   ]
  },
  {
   "cell_type": "code",
   "execution_count": 31,
   "metadata": {
    "collapsed": true
   },
   "outputs": [],
   "source": [
    "out_df = pd.DataFrame(output)"
   ]
  },
  {
   "cell_type": "code",
   "execution_count": 32,
   "metadata": {},
   "outputs": [
    {
     "data": {
      "text/html": [
       "<div>\n",
       "<style>\n",
       "    .dataframe thead tr:only-child th {\n",
       "        text-align: right;\n",
       "    }\n",
       "\n",
       "    .dataframe thead th {\n",
       "        text-align: left;\n",
       "    }\n",
       "\n",
       "    .dataframe tbody tr th {\n",
       "        vertical-align: top;\n",
       "    }\n",
       "</style>\n",
       "<table border=\"1\" class=\"dataframe\">\n",
       "  <thead>\n",
       "    <tr style=\"text-align: right;\">\n",
       "      <th></th>\n",
       "      <th>answer</th>\n",
       "      <th>question</th>\n",
       "      <th>story</th>\n",
       "    </tr>\n",
       "  </thead>\n",
       "  <tbody>\n",
       "    <tr>\n",
       "      <th>0</th>\n",
       "      <td>@entity2</td>\n",
       "      <td>La información proviene de los documentos del...</td>\n",
       "      <td>La @entity0 ( @entity0) trabaja en la construc...</td>\n",
       "    </tr>\n",
       "    <tr>\n",
       "      <th>1</th>\n",
       "      <td>@entity10</td>\n",
       "      <td>@placeholder y su marido fueron asesinados en...</td>\n",
       "      <td>Esta semana @entity12 ha recibido una noticia ...</td>\n",
       "    </tr>\n",
       "    <tr>\n",
       "      <th>2</th>\n",
       "      <td>@entity1</td>\n",
       "      <td>Han detenido a 7 personas intregrantes de la ...</td>\n",
       "      <td>Esta semana @entity12 ha recibido una noticia ...</td>\n",
       "    </tr>\n",
       "    <tr>\n",
       "      <th>3</th>\n",
       "      <td>@entity12</td>\n",
       "      <td>@placeholder tiene una gran tasa de criminali...</td>\n",
       "      <td>Esta semana @entity12 ha recibido una noticia ...</td>\n",
       "    </tr>\n",
       "    <tr>\n",
       "      <th>4</th>\n",
       "      <td>@entity3</td>\n",
       "      <td>Su líder moral, el dr. @placeholder, dice en ...</td>\n",
       "      <td>La situación en el Estado @entity14 de @entity...</td>\n",
       "    </tr>\n",
       "  </tbody>\n",
       "</table>\n",
       "</div>"
      ],
      "text/plain": [
       "      answer                                           question  \\\n",
       "0   @entity2   La información proviene de los documentos del...   \n",
       "1  @entity10   @placeholder y su marido fueron asesinados en...   \n",
       "2   @entity1   Han detenido a 7 personas intregrantes de la ...   \n",
       "3  @entity12   @placeholder tiene una gran tasa de criminali...   \n",
       "4   @entity3   Su líder moral, el dr. @placeholder, dice en ...   \n",
       "\n",
       "                                               story  \n",
       "0  La @entity0 ( @entity0) trabaja en la construc...  \n",
       "1  Esta semana @entity12 ha recibido una noticia ...  \n",
       "2  Esta semana @entity12 ha recibido una noticia ...  \n",
       "3  Esta semana @entity12 ha recibido una noticia ...  \n",
       "4  La situación en el Estado @entity14 de @entity...  "
      ]
     },
     "execution_count": 32,
     "metadata": {},
     "output_type": "execute_result"
    }
   ],
   "source": [
    "out_df.head()"
   ]
  },
  {
   "cell_type": "code",
   "execution_count": 33,
   "metadata": {},
   "outputs": [
    {
     "data": {
      "text/plain": [
       "(78928, 3)"
      ]
     },
     "execution_count": 33,
     "metadata": {},
     "output_type": "execute_result"
    }
   ],
   "source": [
    "out_df.shape"
   ]
  },
  {
   "cell_type": "code",
   "execution_count": 34,
   "metadata": {
    "collapsed": true
   },
   "outputs": [],
   "source": [
    "out_df.to_pickle(\"../data/es_qa_gcloud_final.pkl\")"
   ]
  },
  {
   "cell_type": "code",
   "execution_count": null,
   "metadata": {
    "collapsed": true
   },
   "outputs": [],
   "source": []
  }
 ],
 "metadata": {
  "anaconda-cloud": {},
  "hide_input": false,
  "kernelspec": {
   "display_name": "Python [py36]",
   "language": "python",
   "name": "Python [py36]"
  },
  "language_info": {
   "codemirror_mode": {
    "name": "ipython",
    "version": 3
   },
   "file_extension": ".py",
   "mimetype": "text/x-python",
   "name": "python",
   "nbconvert_exporter": "python",
   "pygments_lexer": "ipython3",
   "version": "3.6.2"
  },
  "varInspector": {
   "cols": {
    "lenName": 16,
    "lenType": 16,
    "lenVar": 40
   },
   "kernels_config": {
    "python": {
     "delete_cmd_postfix": "",
     "delete_cmd_prefix": "del ",
     "library": "var_list.py",
     "varRefreshCmd": "print(var_dic_list())"
    },
    "r": {
     "delete_cmd_postfix": ") ",
     "delete_cmd_prefix": "rm(",
     "library": "var_list.r",
     "varRefreshCmd": "cat(var_dic_list()) "
    }
   },
   "types_to_exclude": [
    "module",
    "function",
    "builtin_function_or_method",
    "instance",
    "_Feature"
   ],
   "window_display": false
  }
 },
 "nbformat": 4,
 "nbformat_minor": 2
}
