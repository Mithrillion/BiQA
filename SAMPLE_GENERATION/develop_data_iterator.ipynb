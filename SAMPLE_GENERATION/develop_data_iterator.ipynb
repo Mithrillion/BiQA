{
 "cells": [
  {
   "cell_type": "code",
   "execution_count": 1,
   "metadata": {
    "collapsed": true
   },
   "outputs": [],
   "source": [
    "import numpy as np\n",
    "import pandas as pd\n",
    "import re\n",
    "import spacy\n",
    "import torch.utils.data as tud\n",
    "nlp = spacy.load('es')\n",
    "with open(\"../wordvecs/wiki.es/wiki.es.nospace.vec\") as f:\n",
    "    nlp.vocab.load_vectors(f)"
   ]
  },
  {
   "cell_type": "code",
   "execution_count": 60,
   "metadata": {
    "collapsed": true
   },
   "outputs": [],
   "source": [
    "class QADataset(tud.Dataset):\n",
    "    def __init__(self, data_df):\n",
    "        self.data_df = data_df\n",
    "\n",
    "    def __len__(self):\n",
    "        return self.data_df.shape[0]\n",
    "\n",
    "    def __getitem__(self, i):\n",
    "        s = np.zeros((2000, 300))\n",
    "        s_mask = np.zeros(2000, dtype=np.int32)\n",
    "        s_var = np.zeros(2000, dtype=np.int32)\n",
    "        q = np.zeros((50, 300))\n",
    "        q_mask = np.zeros(50, dtype=np.int32)\n",
    "        q_var = np.zeros(50, dtype=np.int32)\n",
    "        q_ph = np.zeros(50, dtype=np.int32)\n",
    "\n",
    "        story = nlp(self.data_df['story'].iloc[i].lower(), parse=False, tag=False, entity=False)\n",
    "        s_len = len(story)\n",
    "        s_mask[:s_len] = [not w.has_vector for w in story]\n",
    "        s_var[np.where([x.text[:7] == '@entity' for x in story])[0]] =\\\n",
    "            [int(re.search(r'\\d+', x.text).group(0)) + 1 for x in story if x.text[:7] == '@entity']\n",
    "        s[:s_len, :] = np.stack([x.vector for x in story])\n",
    "\n",
    "        question = nlp(self.data_df['question'].iloc[i].lower(), parse=False, tag=False, entity=False)\n",
    "        q_len = len(question)\n",
    "        q_mask[:q_len] = [not w.has_vector for w in question]\n",
    "        s_var[np.where([x.text[:7] == '@entity' for x in question])[0]] =\\\n",
    "            [int(re.search(r'\\d+', x.text).group(0)) + 1 for x in question if x.text[:7] == '@entity']\n",
    "        q_ph[np.where([x.text == '@placeholder' for x in question])[0]] = 1\n",
    "        q[:q_len, :] = np.stack([x.vector for x in question])\n",
    "\n",
    "        answer = int(re.search(r'\\d+', self.data_df['answer'].iloc[i]).group(0))\n",
    "\n",
    "        return s, q, s_len, q_len, s_mask, q_mask, s_var, q_var, q_ph, answer"
   ]
  },
  {
   "cell_type": "code",
   "execution_count": 61,
   "metadata": {},
   "outputs": [
    {
     "data": {
      "text/html": [
       "<div>\n",
       "<style>\n",
       "    .dataframe thead tr:only-child th {\n",
       "        text-align: right;\n",
       "    }\n",
       "\n",
       "    .dataframe thead th {\n",
       "        text-align: left;\n",
       "    }\n",
       "\n",
       "    .dataframe tbody tr th {\n",
       "        vertical-align: top;\n",
       "    }\n",
       "</style>\n",
       "<table border=\"1\" class=\"dataframe\">\n",
       "  <thead>\n",
       "    <tr style=\"text-align: right;\">\n",
       "      <th></th>\n",
       "      <th>question</th>\n",
       "      <th>answer</th>\n",
       "      <th>story</th>\n",
       "      <th>story_length</th>\n",
       "      <th>question_length</th>\n",
       "    </tr>\n",
       "  </thead>\n",
       "  <tbody>\n",
       "    <tr>\n",
       "      <th>6549</th>\n",
       "      <td>VIAJE AL REINO HERMÉTICO: Una española en @pla...</td>\n",
       "      <td>@entity80</td>\n",
       "      <td>En @entity388 se aprende a llorar en silencio,...</td>\n",
       "      <td>2000</td>\n",
       "      <td>9</td>\n",
       "    </tr>\n",
       "    <tr>\n",
       "      <th>6550</th>\n",
       "      <td>El estudiante de EEUU detenido en @placeholder...</td>\n",
       "      <td>@entity212</td>\n",
       "      <td>En @entity212 se aprende a llorar en silencio,...</td>\n",
       "      <td>2000</td>\n",
       "      <td>13</td>\n",
       "    </tr>\n",
       "    <tr>\n",
       "      <th>8163</th>\n",
       "      <td>Volver a nacer dos veces en un mismo siglo en ...</td>\n",
       "      <td>@entity2</td>\n",
       "      <td>Si se callejea por el casco antiguo de @entity...</td>\n",
       "      <td>1998</td>\n",
       "      <td>11</td>\n",
       "    </tr>\n",
       "    <tr>\n",
       "      <th>25466</th>\n",
       "      <td>\\nMientras el @entity458, @placeholder y @enti...</td>\n",
       "      <td>@entity170</td>\n",
       "      <td>Desde que la crisis se hizo evidente, la @enti...</td>\n",
       "      <td>1993</td>\n",
       "      <td>21</td>\n",
       "    </tr>\n",
       "    <tr>\n",
       "      <th>25465</th>\n",
       "      <td>\\nMientras el @placeholder, @entity10 y @entit...</td>\n",
       "      <td>@entity126</td>\n",
       "      <td>Desde que la crisis se hizo evidente, la @enti...</td>\n",
       "      <td>1993</td>\n",
       "      <td>21</td>\n",
       "    </tr>\n",
       "  </tbody>\n",
       "</table>\n",
       "</div>"
      ],
      "text/plain": [
       "                                                question      answer  \\\n",
       "6549   VIAJE AL REINO HERMÉTICO: Una española en @pla...   @entity80   \n",
       "6550   El estudiante de EEUU detenido en @placeholder...  @entity212   \n",
       "8163   Volver a nacer dos veces en un mismo siglo en ...    @entity2   \n",
       "25466  \\nMientras el @entity458, @placeholder y @enti...  @entity170   \n",
       "25465  \\nMientras el @placeholder, @entity10 y @entit...  @entity126   \n",
       "\n",
       "                                                   story  story_length  \\\n",
       "6549   En @entity388 se aprende a llorar en silencio,...          2000   \n",
       "6550   En @entity212 se aprende a llorar en silencio,...          2000   \n",
       "8163   Si se callejea por el casco antiguo de @entity...          1998   \n",
       "25466  Desde que la crisis se hizo evidente, la @enti...          1993   \n",
       "25465  Desde que la crisis se hizo evidente, la @enti...          1993   \n",
       "\n",
       "       question_length  \n",
       "6549                 9  \n",
       "6550                13  \n",
       "8163                11  \n",
       "25466               21  \n",
       "25465               21  "
      ]
     },
     "execution_count": 61,
     "metadata": {},
     "output_type": "execute_result"
    }
   ],
   "source": [
    "train = pd.read_pickle(\"../input_data/input.pkl\")\n",
    "train.head()"
   ]
  },
  {
   "cell_type": "code",
   "execution_count": 62,
   "metadata": {},
   "outputs": [
    {
     "name": "stdout",
     "output_type": "stream",
     "text": [
      "56361\n",
      "(2000, 300)\n",
      "(50, 300)\n",
      "2\n",
      "1998\n",
      "11\n",
      "(2000,)\n",
      "(50,)\n",
      "(2000,)\n",
      "(50,)\n",
      "(50,)\n"
     ]
    }
   ],
   "source": [
    "ds = QADataset(train)\n",
    "print(ds.__len__())\n",
    "s, q, sl, ql, sm, qm, sv, qv, qph, a = ds.__getitem__(2)\n",
    "print(s.shape)\n",
    "print(q.shape)\n",
    "print(a)\n",
    "print(sl)\n",
    "print(ql)\n",
    "print(sm.shape)\n",
    "print(qm.shape)\n",
    "print(sv.shape)\n",
    "print(qv.shape)\n",
    "print(qph.shape)"
   ]
  },
  {
   "cell_type": "code",
   "execution_count": 63,
   "metadata": {},
   "outputs": [
    {
     "name": "stdout",
     "output_type": "stream",
     "text": [
      "\n",
      "  80\n",
      " 212\n",
      "   2\n",
      " 170\n",
      " 126\n",
      " 101\n",
      " 136\n",
      "  91\n",
      "  68\n",
      " 496\n",
      " 255\n",
      " 471\n",
      " 420\n",
      "  51\n",
      " 464\n",
      " 337\n",
      " 483\n",
      " 362\n",
      " 237\n",
      " 460\n",
      "[torch.LongTensor of size 20]\n",
      "\n",
      "torch.Size([20, 2000, 300])\n",
      "torch.Size([20, 50, 300])\n"
     ]
    }
   ],
   "source": [
    "qa_loader = tud.DataLoader(ds, batch_size=20)\n",
    "s, q, sl, ql, sm, qm, sv, qv, qph, a = next(iter(qa_loader))\n",
    "print(a)\n",
    "print(s.shape)\n",
    "print(q.shape)"
   ]
  },
  {
   "cell_type": "code",
   "execution_count": null,
   "metadata": {
    "collapsed": true
   },
   "outputs": [],
   "source": []
  }
 ],
 "metadata": {
  "kernelspec": {
   "display_name": "Python [py36]",
   "language": "python",
   "name": "Python [py36]"
  },
  "language_info": {
   "codemirror_mode": {
    "name": "ipython",
    "version": 3
   },
   "file_extension": ".py",
   "mimetype": "text/x-python",
   "name": "python",
   "nbconvert_exporter": "python",
   "pygments_lexer": "ipython3",
   "version": "3.6.2"
  }
 },
 "nbformat": 4,
 "nbformat_minor": 2
}
