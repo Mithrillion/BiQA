{
 "cells": [
  {
   "cell_type": "code",
   "execution_count": 1,
   "metadata": {
    "collapsed": true
   },
   "outputs": [],
   "source": [
    "import numpy as np\n",
    "import pandas as pd\n",
    "import spacy"
   ]
  },
  {
   "cell_type": "code",
   "execution_count": 2,
   "metadata": {
    "collapsed": true
   },
   "outputs": [],
   "source": [
    "import re\n",
    "import torch.utils.data as tud\n",
    "\n",
    "\n",
    "def get_word_ids(doc, rnn_encode=False, max_length=100, nr_unk=100, nr_var=600):\n",
    "    queue = list(doc)\n",
    "    X = -np.ones(max_length, dtype='int32')\n",
    "    words = []\n",
    "    while len(words) <= max_length and queue:\n",
    "        word = queue.pop(0)\n",
    "        if rnn_encode or (not word.is_punct and not word.is_space):\n",
    "            words.append(word)\n",
    "    words.sort()\n",
    "    for j, token in enumerate(words):\n",
    "        if token.has_vector:\n",
    "            X[j] = token.rank\n",
    "        if j >= max_length - 1:\n",
    "            break\n",
    "    return X\n",
    "\n",
    "\n",
    "class QADataset(tud.Dataset):\n",
    "    def __init__(self, data_df, nlp):\n",
    "        self.data_df = data_df\n",
    "        self.nlp = nlp\n",
    "\n",
    "    def __len__(self):\n",
    "        return self.data_df.shape[0]\n",
    "\n",
    "    def __getitem__(self, i):\n",
    "\n",
    "        story = self.nlp(self.data_df['story'].iloc[i], parse=False, tag=False, entity=False)\n",
    "        s = get_word_ids(story, max_length=2000)\n",
    "\n",
    "        question = self.nlp(self.data_df['question'].iloc[i], parse=False, tag=False, entity=False)\n",
    "        q = get_word_ids(question, max_length=50)\n",
    "\n",
    "        return s, q\n"
   ]
  },
  {
   "cell_type": "code",
   "execution_count": 3,
   "metadata": {
    "collapsed": true
   },
   "outputs": [],
   "source": [
    "train = pd.read_pickle(\"../input_data/train_es.pkl\")\n",
    "dev = pd.read_pickle(\"../input_data/dev_es.pkl\")\n",
    "test = pd.read_pickle(\"../input_data/test_es.pkl\")"
   ]
  },
  {
   "cell_type": "code",
   "execution_count": 4,
   "metadata": {
    "collapsed": true
   },
   "outputs": [],
   "source": [
    "combined = pd.concat([train, dev, test], axis=0)"
   ]
  },
  {
   "cell_type": "code",
   "execution_count": 6,
   "metadata": {
    "collapsed": true
   },
   "outputs": [],
   "source": [
    "nlp = spacy.load('es')\n",
    "with open(\"../wordvecs/wiki.es/wiki.es.nospace.vec\", \"r\") as f:\n",
    "    nlp.vocab.load_vectors(f)"
   ]
  },
  {
   "cell_type": "code",
   "execution_count": 7,
   "metadata": {
    "collapsed": true
   },
   "outputs": [],
   "source": [
    "ds = QADataset(combined, nlp)\n",
    "qa_loader = tud.DataLoader(ds, batch_size=32, pin_memory=True, num_workers=3)"
   ]
  },
  {
   "cell_type": "code",
   "execution_count": 8,
   "metadata": {},
   "outputs": [
    {
     "name": "stdout",
     "output_type": "stream",
     "text": [
      "current batch 0/1755\n",
      "current batch 1000/1755\n"
     ]
    }
   ],
   "source": [
    "vocab_set = set()\n",
    "for i, qa in enumerate(qa_loader):\n",
    "    if i % 1000 == 0:\n",
    "        print(\"current batch {0}/{1}\".format(i, len(qa_loader)))\n",
    "    s, q = qa\n",
    "    cur_set = set(np.unique(s.numpy())).union(set(np.unique(q.numpy())))\n",
    "    vocab_set = vocab_set.union(cur_set)"
   ]
  },
  {
   "cell_type": "code",
   "execution_count": 9,
   "metadata": {},
   "outputs": [
    {
     "data": {
      "text/plain": [
       "113092"
      ]
     },
     "execution_count": 9,
     "metadata": {},
     "output_type": "execute_result"
    }
   ],
   "source": [
    "len(vocab_set)"
   ]
  },
  {
   "cell_type": "code",
   "execution_count": 10,
   "metadata": {},
   "outputs": [
    {
     "data": {
      "text/plain": [
       "1957564"
      ]
     },
     "execution_count": 10,
     "metadata": {},
     "output_type": "execute_result"
    }
   ],
   "source": [
    "nlp.vocab.length"
   ]
  },
  {
   "cell_type": "code",
   "execution_count": 11,
   "metadata": {
    "collapsed": true
   },
   "outputs": [],
   "source": [
    "valid = set([x for x in vocab_set if x >= 0])"
   ]
  },
  {
   "cell_type": "code",
   "execution_count": 12,
   "metadata": {},
   "outputs": [
    {
     "data": {
      "text/plain": [
       "113091"
      ]
     },
     "execution_count": 12,
     "metadata": {},
     "output_type": "execute_result"
    }
   ],
   "source": [
    "len(valid)"
   ]
  },
  {
   "cell_type": "code",
   "execution_count": 13,
   "metadata": {
    "collapsed": true
   },
   "outputs": [],
   "source": [
    "valid_words = set([x.text for x in nlp.vocab if x.rank in valid])"
   ]
  },
  {
   "cell_type": "code",
   "execution_count": 14,
   "metadata": {},
   "outputs": [
    {
     "data": {
      "text/plain": [
       "['sonoras',\n",
       " 'colocarlo',\n",
       " 'sudafricano',\n",
       " 'glosado',\n",
       " 'sobreponiendo',\n",
       " 'Aeronáutico',\n",
       " 'implementaba',\n",
       " 'Rosales',\n",
       " 'lástima',\n",
       " 'finalicen']"
      ]
     },
     "execution_count": 14,
     "metadata": {},
     "output_type": "execute_result"
    }
   ],
   "source": [
    "list(valid_words)[:10]"
   ]
  },
  {
   "cell_type": "code",
   "execution_count": 15,
   "metadata": {},
   "outputs": [
    {
     "data": {
      "text/plain": [
       "True"
      ]
     },
     "execution_count": 15,
     "metadata": {},
     "output_type": "execute_result"
    }
   ],
   "source": [
    "'united' in valid_words"
   ]
  },
  {
   "cell_type": "code",
   "execution_count": 16,
   "metadata": {
    "collapsed": true
   },
   "outputs": [],
   "source": [
    "with open(\"../wordvecs/wiki.es/wiki.es.vec\") as f:\n",
    "    with open(\"../wordvecs/wiki.es/wiki.es.small.vec\", \"w\") as g:\n",
    "        f.readline()\n",
    "        i = 0\n",
    "        line = f.readline()\n",
    "        while line:\n",
    "            if not re.search(r'[\\u00A0\\u1680\\u180e\\u2000-\\u2009\\u200a\\u200b\\u202f\\u205f\\u3000\\u2028\\x85]',\n",
    "                             line):\n",
    "                word = line.split(\" \")[0]\n",
    "                if word in valid_words:\n",
    "                    g.write(line)\n",
    "            line = f.readline()\n",
    "            i += 1"
   ]
  },
  {
   "cell_type": "markdown",
   "metadata": {},
   "source": [
    "## Verify:"
   ]
  },
  {
   "cell_type": "code",
   "execution_count": 17,
   "metadata": {
    "collapsed": true
   },
   "outputs": [],
   "source": [
    "nlp = spacy.load('es')\n",
    "with open(\"../wordvecs/wiki.es/wiki.es.small.vec\", \"r\") as f:\n",
    "    nlp.vocab.load_vectors(f)"
   ]
  },
  {
   "cell_type": "code",
   "execution_count": 18,
   "metadata": {},
   "outputs": [
    {
     "data": {
      "text/plain": [
       "536327"
      ]
     },
     "execution_count": 18,
     "metadata": {},
     "output_type": "execute_result"
    }
   ],
   "source": [
    "# count valid vocab size\n",
    "np.sum([x.has_vector for x in nlp.vocab])"
   ]
  },
  {
   "cell_type": "code",
   "execution_count": 19,
   "metadata": {
    "scrolled": true
   },
   "outputs": [
    {
     "data": {
      "text/plain": [
       "1232563"
      ]
     },
     "execution_count": 19,
     "metadata": {},
     "output_type": "execute_result"
    }
   ],
   "source": [
    "nlp.vocab.length"
   ]
  },
  {
   "cell_type": "code",
   "execution_count": 20,
   "metadata": {
    "scrolled": true
   },
   "outputs": [
    {
     "data": {
      "text/plain": [
       "300"
      ]
     },
     "execution_count": 20,
     "metadata": {},
     "output_type": "execute_result"
    }
   ],
   "source": [
    "nlp.vocab.vectors_length"
   ]
  },
  {
   "cell_type": "code",
   "execution_count": 21,
   "metadata": {
    "collapsed": true
   },
   "outputs": [],
   "source": [
    "# train = pd.read_pickle(\"../input_data/train_es.pkl\")"
   ]
  },
  {
   "cell_type": "code",
   "execution_count": 22,
   "metadata": {
    "collapsed": true
   },
   "outputs": [],
   "source": [
    "ds = QADataset(combined, nlp)\n",
    "qa_loader = tud.DataLoader(ds, batch_size=32, pin_memory=True, num_workers=3)"
   ]
  },
  {
   "cell_type": "code",
   "execution_count": 23,
   "metadata": {},
   "outputs": [
    {
     "name": "stdout",
     "output_type": "stream",
     "text": [
      "current batch 0/1755\n",
      "current batch 1000/1755\n"
     ]
    }
   ],
   "source": [
    "vocab_set = set()\n",
    "for i, qa in enumerate(qa_loader):\n",
    "    if i % 1000 == 0:\n",
    "        print(\"current batch {0}/{1}\".format(i, len(qa_loader)))\n",
    "    s, q = qa\n",
    "    cur_set = set(np.unique(s.numpy())).union(set(np.unique(q.numpy())))\n",
    "    vocab_set = vocab_set.union(cur_set)"
   ]
  },
  {
   "cell_type": "code",
   "execution_count": 24,
   "metadata": {},
   "outputs": [
    {
     "data": {
      "text/plain": [
       "113092"
      ]
     },
     "execution_count": 24,
     "metadata": {},
     "output_type": "execute_result"
    }
   ],
   "source": [
    "len(vocab_set)"
   ]
  },
  {
   "cell_type": "code",
   "execution_count": null,
   "metadata": {
    "collapsed": true
   },
   "outputs": [],
   "source": []
  }
 ],
 "metadata": {
  "anaconda-cloud": {},
  "hide_input": false,
  "kernelspec": {
   "display_name": "Python [py36]",
   "language": "python",
   "name": "Python [py36]"
  },
  "language_info": {
   "codemirror_mode": {
    "name": "ipython",
    "version": 3
   },
   "file_extension": ".py",
   "mimetype": "text/x-python",
   "name": "python",
   "nbconvert_exporter": "python",
   "pygments_lexer": "ipython3",
   "version": "3.6.2"
  },
  "varInspector": {
   "cols": {
    "lenName": 16,
    "lenType": 16,
    "lenVar": 40
   },
   "kernels_config": {
    "python": {
     "delete_cmd_postfix": "",
     "delete_cmd_prefix": "del ",
     "library": "var_list.py",
     "varRefreshCmd": "print(var_dic_list())"
    },
    "r": {
     "delete_cmd_postfix": ") ",
     "delete_cmd_prefix": "rm(",
     "library": "var_list.r",
     "varRefreshCmd": "cat(var_dic_list()) "
    }
   },
   "types_to_exclude": [
    "module",
    "function",
    "builtin_function_or_method",
    "instance",
    "_Feature"
   ],
   "window_display": true
  }
 },
 "nbformat": 4,
 "nbformat_minor": 2
}
