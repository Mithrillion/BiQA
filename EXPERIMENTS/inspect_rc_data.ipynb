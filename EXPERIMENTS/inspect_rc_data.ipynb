{
 "cells": [
  {
   "cell_type": "code",
   "execution_count": 1,
   "metadata": {
    "collapsed": true
   },
   "outputs": [],
   "source": [
    "import numpy as np\n",
    "import pandas as pd"
   ]
  },
  {
   "cell_type": "code",
   "execution_count": 4,
   "metadata": {
    "collapsed": true
   },
   "outputs": [],
   "source": [
    "with open(\"../../text_reading/data/processed/cnn/train.txt\", \"r\") as f:\n",
    "    lines = f.read(10000)"
   ]
  },
  {
   "cell_type": "code",
   "execution_count": 5,
   "metadata": {},
   "outputs": [
    {
     "name": "stdout",
     "output_type": "stream",
     "text": [
      "officials : the suspects were taken to the local @placeholder army base for questioning\n",
      "@entity2\n",
      "days after two @entity2 journalists were killed in northern @entity3 , authorities rounded up dozens of suspects and a group linked to @entity6 claimed responsibility for the deaths . at least 30 suspects were seized in desert camps near the town of @entity13 and taken to the local @entity2 army base for questioning , three officials in @entity3 said . the officials did not want to be named because they are not authorized to talk to the media . @entity17 ( @entity17 ) has allegedly claimed responsibility for the killings , according to @entity21 news agency in @entity22 . @entity17 operates in northern @entity23 and the group 's statements have shown up before on the @entity27 outlet . @entity28 journalists @entity29 and @entity31 were abducted in front of the home of a member of the @entity37 rebels ' @entity35 of a @entity38 on saturday , @entity28 reported . they were found dead the same day . their bodies arrived in @entity42 on tuesday . @entity13 was one of the strongholds of the @entity46 militant @entity37 uprising last year that plunged @entity3 into chaos after a military - led coup . following the coup , @entity37 rebels occupied the northern half of the country . a response to \" crimes \" against @entity46 in @entity54 @entity17 said the killings were in response to the \" crimes \" perpetrated by @entity2 as well as @entity23 and international troops against @entity46 in @entity54 . @entity54 is an area in northern @entity3 that separatist @entity37 rebels describe as the cradle of their nomadic civilization . @entity17 said that this is just the beginning and that @entity2 president @entity65 will pay more in response to this \" new crusade \" against @entity46 , according to the purported claim . veteran @entity70 war correspondent kidnapped in @entity71 as part of @entity2 's intervention this year to flush out militants in @entity3 , the @entity2 military secured the area around @entity13 . @entity65 called an emergency meeting with ministers sunday after the killings .\n",
      "\n",
      "@placeholder ate 6,000 calories and trained for three hours daily in preparation\n",
      "@entity1\n",
      "( @entity0 ) -- when we think of the perfect summer blockbuster , we think of action -- and july 's \" @entity5 \" will have more than enough , star @entity1 says . the 44 - year - old is back for another round as the ferocious mutant @entity8 , but @entity10 's take is somewhat darker than its predecessors . as the trailers have shown , the typically sly @entity8 appears to be in a pretty serious funk as he 's haunted by thoughts of @entity15 ( @entity16 ) . when a man whose life he once saved summons him to @entity20 , the ageless mutant is presented with an offer of mortality as a so - called expression of gratitude . \" he 's sort of interested in it , because if your life is not great and there is a lot of regret and pain , would it be great to live on and on ? \" @entity1 said of his character 's dilemma . and yet , as @entity5 hints in the trailer , the time has n't come where he has nothing left to live for . fans are anticipating seeing the iconic \" x-men \" character put up an intense fight against his foes -- part of which happens atop a bullet train , as previews have shown . \" the only bad thing about filming a scene on the bullet train is that the wind machines are so powerful that when you watch it back on the monitor , you 're like , ' man , i got to get a facelift because there 's just skin flying everywhere , ' \" @entity1 joked . \" when i was lying on that train , i would just get pushed back -- and a couple of times , i just fell off of the train . \" but , as a guy who loves the \" popcorn element \" of summer movies , he knows those sorts of action sequences are what audiences are hoping for . \" yes , ( ' the @entity5 ' ) is a character piece , and i would say it may be a little darker in tone than the others , and it certainly feels a little different , ( but ) it 's just as much fun , \" @entity1 said . \" the action is probably in this is more inventive than we 've ever had before . \" @entity0 's @entity76 spoke with @entity1 about how he bulked up once again , his character 's vulnerable side and why @entity5 makes a pretty solid wingman for a teen . @entity0 : looking at you , the only thing i can say is , \" @entity5 is back ! \" @entity1 : he 's back , and i could n't be happier . i never in a million years would 've thought ( that ) i 'd still be playing this character ( 12 years later ) . it kind of really is shocking to me , but at the same time , it 's such an instant gratitude , because i love this character . @entity0 : so you know him now , really know him ? @entity1 : i hope so . i feel like i do . i certainly feel proprietorial over him , and , you know , i have now read a lot of ( the ) comic books . being someone who had never read the comic books , when i first heard about the audition , i was like , ' they want me to play @entity98 ? ' who is the lead of this @entity101 rock band called the @entity102 . ... so i knew nothing . it 's been a great ride . @entity0 : this picks up after \" @entity107 , \" so we do know that @entity15 ( @entity16 ) has met her demise -- but i 've seen the trailers . she 's there ! @entity1 : i do n't want to give away too much . she is there in the way that loved ones are always there ... in a very real way , she 's there . @entity0 : is it safe to say that @entity5 , especially in this movie , is a little bit of a sensitive superhero ? @entity1 : he 's certainly more vulnerable . @entity0 : he 's a broken man , a bit . @entity1 : oh , yeah . i mean , @entity5 is the toughest superhero . i may be biased , but i think he 's the toughest . he does n't necessarily have the strongest powers on paper , but ... he 's the one guy who you do n't want to be on his bad side . in this movie , however , you kind of see the toll of that ; we start with him questioning everything . his life has been dominated by pain , by regret , mistakes ... @entity0 : he loses the love of his life . @entity1 : ( @entity143 ) loses the love of his life , ( and ) we 've seen that impact . he 's one of those people where whenever he gets close to someone , bad things tend to happen . so in a way , not only for himself but for the world , he decides to just completely go off the reservation and sort of deny who he is and be like a recluse . @entity0 : but there is something that 's bringing him back @entity1 : there is something bringing him back . ... he just ca n't help himself , you know ? i think the thing i love about him is , you know , he 's reluctant , he does n't want to get involved , he 's not an idealist , but at the end of the day when there is an injustice , he ca n't help but rise to the occasion . @entity0 : he 's such a great character . ( playing him ) had to raise the cool factor by 20 million with your kids . @entity1 : it does , yeah . except now my son 's turning 13 , and he 's like , \" you 're really nothing like @entity5 , are you ? \" @entity0 : does he use that to attract girls ? @entity1 : this is very weird , but on some level , i 'm kind of a wingman for my son , who 's turning 13 . this sounds very politically incorrect , but it 's weird because most of the time , he does n't want to talk about it with me . he does n't talk about it much ; he just wants me to be @entity188 . but i spotted him at the beach a couple years back , and he was talking to some girl who must have been 14 or 15 . i was like , \" hmm ... like father , like son . \" and all of a sudden , he 's pointing at me , and he walks over towards me . and he 's sort of walking ahead of the girl , he 's about 20 yards in front of the girl , and he 's going , \" @entity188 ... @entity5 . just give an autograph , will you ? \" and i was like , \" ok . \" @entity0 : you sealed the deal for your son ! @entity1 : for my then - 11 - year - old son ! i know ! if you see me in bars in about 10 years time , stop me ! @entity0 : does the process of bulking up ever get tedious ? i mean , there 's muscles everywhere . @entity1 : i 'll be honest with you , i kind of love it ; i love the challenge of it . my personality is , ' i have to be in better shape than the last time . \" ... i feel really blessed to have the role , and i want to do it better every time , and so for me , the physicality of @entity5 is everything . i 've realized it 's preparation , it 's time . like in some of the old movies , you could see i did n't have time to prep . and i 'm 44 now , so i need the time . @entity0 : how much time did you spend getting ready ? @entity1 : three hours a day . i had a mentor , @entity222 , the @entity223 . we 're mates , and i said , ' mate , i need to know what you do . \" and he said , \" tell me you 've got six months ? ... you need six months to do this . \" he told me the diet -- 6,000 calories -- ( and that ) you have to train like no one else . @entity0 : what does 6,000 calories a day consist of ? @entity1 : it 's six meals , with each meal having some kind of protein -- chicken , steak , fish , eggs -- a lot of it . brown rice . if you 're lucky enough , as you 're bulking , you get brown rice or sweet potato . and then in the last month , i cut all the carbs out , and then it 's a lot of steamed veggies . it 's pretty plain , there 's no salt , very little seasoning . and that 's the big that gets hard . this is what i learned : when i started , i used to think , \" you want to be bigger ? you want to be in better shape ? train harder , train harder , train harder ! \" it 's not not ( that ) , it 's the food . seventy percent of the way you look is your diet , 30 % is your training . so if there 's anything you 've got to concentrate on , it 's the food . @entity0 : when you 're done , what 's the first thing you go for ? @entity1 : lasagna , ice cream , desserts , pizza ... all that stuff . @entity0 : that 's probably one of the happiest days \n"
     ]
    }
   ],
   "source": [
    "print(lines)"
   ]
  },
  {
   "cell_type": "code",
   "execution_count": null,
   "metadata": {
    "collapsed": true
   },
   "outputs": [],
   "source": []
  }
 ],
 "metadata": {
  "kernelspec": {
   "display_name": "Python [py36]",
   "language": "python",
   "name": "Python [py36]"
  },
  "language_info": {
   "codemirror_mode": {
    "name": "ipython",
    "version": 3
   },
   "file_extension": ".py",
   "mimetype": "text/x-python",
   "name": "python",
   "nbconvert_exporter": "python",
   "pygments_lexer": "ipython3",
   "version": "3.6.2"
  }
 },
 "nbformat": 4,
 "nbformat_minor": 1
}
