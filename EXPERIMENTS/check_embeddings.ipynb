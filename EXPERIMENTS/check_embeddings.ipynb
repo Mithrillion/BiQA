{
 "cells": [
  {
   "cell_type": "code",
   "execution_count": 1,
   "metadata": {
    "collapsed": true
   },
   "outputs": [],
   "source": [
    "import numpy as np\n",
    "import pandas as pd\n",
    "import pickle\n",
    "import spacy\n",
    "import re"
   ]
  },
  {
   "cell_type": "code",
   "execution_count": 2,
   "metadata": {
    "collapsed": true
   },
   "outputs": [],
   "source": [
    "es_index = pickle.load(open(\"../wordvecs/es_index.pkl\", 'rb'))"
   ]
  },
  {
   "cell_type": "code",
   "execution_count": 3,
   "metadata": {},
   "outputs": [
    {
     "data": {
      "text/plain": [
       "985667"
      ]
     },
     "execution_count": 3,
     "metadata": {},
     "output_type": "execute_result"
    }
   ],
   "source": [
    "len(es_index)"
   ]
  },
  {
   "cell_type": "code",
   "execution_count": 4,
   "metadata": {
    "collapsed": true
   },
   "outputs": [],
   "source": [
    "vocab_set = set(es_index.keys())"
   ]
  },
  {
   "cell_type": "code",
   "execution_count": 5,
   "metadata": {
    "collapsed": true
   },
   "outputs": [],
   "source": [
    "df = pd.read_pickle(\"../data/elmondo_es_qa_no_numbers.pkl\")"
   ]
  },
  {
   "cell_type": "code",
   "execution_count": 6,
   "metadata": {},
   "outputs": [
    {
     "data": {
      "text/html": [
       "<div>\n",
       "<style>\n",
       "    .dataframe thead tr:only-child th {\n",
       "        text-align: right;\n",
       "    }\n",
       "\n",
       "    .dataframe thead th {\n",
       "        text-align: left;\n",
       "    }\n",
       "\n",
       "    .dataframe tbody tr th {\n",
       "        vertical-align: top;\n",
       "    }\n",
       "</style>\n",
       "<table border=\"1\" class=\"dataframe\">\n",
       "  <thead>\n",
       "    <tr style=\"text-align: right;\">\n",
       "      <th></th>\n",
       "      <th>question</th>\n",
       "      <th>answer</th>\n",
       "      <th>story</th>\n",
       "    </tr>\n",
       "  </thead>\n",
       "  <tbody>\n",
       "    <tr>\n",
       "      <th>0</th>\n",
       "      <td>La información proviene de los documentos del...</td>\n",
       "      <td>@entity534</td>\n",
       "      <td>La @entity852 (@entity123) trabaja en la const...</td>\n",
       "    </tr>\n",
       "    <tr>\n",
       "      <th>1</th>\n",
       "      <td>Han detenido a 7 personas intregrantes de la ...</td>\n",
       "      <td>@entity919</td>\n",
       "      <td>Esta semana @entity681 ha recibido una noticia...</td>\n",
       "    </tr>\n",
       "    <tr>\n",
       "      <th>2</th>\n",
       "      <td>@placeholder tiene una gran tasa de criminali...</td>\n",
       "      <td>@entity756</td>\n",
       "      <td>Esta semana @entity756 ha recibido una noticia...</td>\n",
       "    </tr>\n",
       "    <tr>\n",
       "      <th>3</th>\n",
       "      <td>Los civiles armados se niegan y se registran ...</td>\n",
       "      <td>@entity733</td>\n",
       "      <td>La situación en el @entity222 de @entity174 es...</td>\n",
       "    </tr>\n",
       "    <tr>\n",
       "      <th>4</th>\n",
       "      <td>Su líder moral, el dr. @placeholder, dice en ...</td>\n",
       "      <td>@entity711</td>\n",
       "      <td>La situación en el @entity205 de @entity457 es...</td>\n",
       "    </tr>\n",
       "  </tbody>\n",
       "</table>\n",
       "</div>"
      ],
      "text/plain": [
       "                                            question      answer  \\\n",
       "0   La información proviene de los documentos del...  @entity534   \n",
       "1   Han detenido a 7 personas intregrantes de la ...  @entity919   \n",
       "2   @placeholder tiene una gran tasa de criminali...  @entity756   \n",
       "3   Los civiles armados se niegan y se registran ...  @entity733   \n",
       "4   Su líder moral, el dr. @placeholder, dice en ...  @entity711   \n",
       "\n",
       "                                               story  \n",
       "0  La @entity852 (@entity123) trabaja en la const...  \n",
       "1  Esta semana @entity681 ha recibido una noticia...  \n",
       "2  Esta semana @entity756 ha recibido una noticia...  \n",
       "3  La situación en el @entity222 de @entity174 es...  \n",
       "4  La situación en el @entity205 de @entity457 es...  "
      ]
     },
     "execution_count": 6,
     "metadata": {},
     "output_type": "execute_result"
    }
   ],
   "source": [
    "df.head()"
   ]
  },
  {
   "cell_type": "code",
   "execution_count": 7,
   "metadata": {
    "collapsed": true
   },
   "outputs": [],
   "source": [
    "nlp = spacy.load('es')"
   ]
  },
  {
   "cell_type": "code",
   "execution_count": 8,
   "metadata": {
    "collapsed": true
   },
   "outputs": [],
   "source": [
    "def encode_text(text_str):\n",
    "    doc = nlp(text_str, parse=False, tag=False, entity=False)\n",
    "    out = []\n",
    "    for t in doc:\n",
    "        w = t.text.lower()\n",
    "        if w in vocab_set:\n",
    "            out.append(es_index[w])\n",
    "        elif w[:7] == '@number':\n",
    "            out.append(-1)\n",
    "        elif w[:7] == '@entity':\n",
    "            num = int(re.search('\\d+', w).group(0))\n",
    "            out.append(-100 - num)\n",
    "        elif w[:12] == '@placeholder':\n",
    "            out.append(-2)\n",
    "        elif not re.search('\\w+', w):\n",
    "            continue\n",
    "        else:\n",
    "            out.append(-3)\n",
    "    return out"
   ]
  },
  {
   "cell_type": "code",
   "execution_count": 9,
   "metadata": {},
   "outputs": [
    {
     "data": {
      "text/plain": [
       "0      [4, 366, 2663, 0, 15, 2144, 14, 575, 17774, -2]\n",
       "1    [145, 4885, 10, -3, 160, 659096, 0, 4, 235, 70...\n",
       "2    [-2, 80, 21, 82, 3414, 0, 37263, -1, 6759, 17,...\n",
       "3    [15, 2215, 6582, 16, 22505, 7, 16, 16119, 5771...\n",
       "4    [22, 1108, 3331, 2, 6, 1213, 3, -2, 2, 561, 5,...\n",
       "5    [22, 1108, 3331, 2, 6, 1213, 3, -379, 2, 561, ...\n",
       "6    [70, 22, 6216, 29, 58, 618, 2, 3900, 7, 4585, ...\n",
       "7    [6, 6481, -2, 2, 5097, 5, -302, 2, 3143, 0, 74...\n",
       "8    [6, 6481, -822, 2, 5097, 5, -2, 2, 3143, 0, 74...\n",
       "9    [6, 6481, -257, 2, 5097, 5, -266, 2, 3143, 0, ...\n",
       "Name: question, dtype: object"
      ]
     },
     "execution_count": 9,
     "metadata": {},
     "output_type": "execute_result"
    }
   ],
   "source": [
    "df['question'][:10].apply(encode_text)"
   ]
  },
  {
   "cell_type": "code",
   "execution_count": null,
   "metadata": {
    "collapsed": true
   },
   "outputs": [],
   "source": []
  }
 ],
 "metadata": {
  "anaconda-cloud": {},
  "kernelspec": {
   "display_name": "Python [py36]",
   "language": "python",
   "name": "Python [py36]"
  },
  "language_info": {
   "codemirror_mode": {
    "name": "ipython",
    "version": 3
   },
   "file_extension": ".py",
   "mimetype": "text/x-python",
   "name": "python",
   "nbconvert_exporter": "python",
   "pygments_lexer": "ipython3",
   "version": "3.6.2"
  }
 },
 "nbformat": 4,
 "nbformat_minor": 1
}
