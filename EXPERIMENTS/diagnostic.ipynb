{
 "cells": [
  {
   "cell_type": "code",
   "execution_count": 4,
   "metadata": {
    "collapsed": true
   },
   "outputs": [],
   "source": [
    "import numpy as np\n",
    "import pandas as pd\n",
    "import pickle\n",
    "from collections import Counter"
   ]
  },
  {
   "cell_type": "code",
   "execution_count": 2,
   "metadata": {
    "collapsed": true
   },
   "outputs": [],
   "source": [
    "preds, ys = pickle.load(open(\"../data/diagnostic_ys.pkl\", \"rb\"))"
   ]
  },
  {
   "cell_type": "code",
   "execution_count": 3,
   "metadata": {},
   "outputs": [
    {
     "data": {
      "text/plain": [
       "array([101,   1,  41, ...,  10,  14,   4], dtype=int32)"
      ]
     },
     "execution_count": 3,
     "metadata": {},
     "output_type": "execute_result"
    }
   ],
   "source": [
    "preds"
   ]
  },
  {
   "cell_type": "code",
   "execution_count": 5,
   "metadata": {},
   "outputs": [
    {
     "data": {
      "text/plain": [
       "[(2, 281),\n",
       " (0, 260),\n",
       " (4, 212),\n",
       " (1, 210),\n",
       " (5, 197),\n",
       " (3, 187),\n",
       " (6, 155),\n",
       " (8, 127),\n",
       " (7, 122),\n",
       " (9, 120)]"
      ]
     },
     "execution_count": 5,
     "metadata": {},
     "output_type": "execute_result"
    }
   ],
   "source": [
    "Counter(preds).most_common(10)"
   ]
  },
  {
   "cell_type": "code",
   "execution_count": 6,
   "metadata": {},
   "outputs": [
    {
     "data": {
      "text/plain": [
       "[(0, 249),\n",
       " (2, 237),\n",
       " (1, 219),\n",
       " (3, 202),\n",
       " (4, 167),\n",
       " (5, 162),\n",
       " (6, 161),\n",
       " (7, 131),\n",
       " (8, 113),\n",
       " (9, 96)]"
      ]
     },
     "execution_count": 6,
     "metadata": {},
     "output_type": "execute_result"
    }
   ],
   "source": [
    "Counter(ys).most_common(10)"
   ]
  },
  {
   "cell_type": "code",
   "execution_count": 7,
   "metadata": {
    "collapsed": true
   },
   "outputs": [],
   "source": [
    "test = pd.read_pickle(\"../input_data/test_en.pkl\")"
   ]
  },
  {
   "cell_type": "code",
   "execution_count": 8,
   "metadata": {},
   "outputs": [
    {
     "data": {
      "text/html": [
       "<div>\n",
       "<style>\n",
       "    .dataframe thead tr:only-child th {\n",
       "        text-align: right;\n",
       "    }\n",
       "\n",
       "    .dataframe thead th {\n",
       "        text-align: left;\n",
       "    }\n",
       "\n",
       "    .dataframe tbody tr th {\n",
       "        vertical-align: top;\n",
       "    }\n",
       "</style>\n",
       "<table border=\"1\" class=\"dataframe\">\n",
       "  <thead>\n",
       "    <tr style=\"text-align: right;\">\n",
       "      <th></th>\n",
       "      <th>question</th>\n",
       "      <th>answer</th>\n",
       "      <th>story</th>\n",
       "    </tr>\n",
       "  </thead>\n",
       "  <tbody>\n",
       "    <tr>\n",
       "      <th>0</th>\n",
       "      <td>an @entity156 man says he drifted from @entity...</td>\n",
       "      <td>@entity113</td>\n",
       "      <td>( @entity1 ) it 's the kind of thing you see i...</td>\n",
       "    </tr>\n",
       "    <tr>\n",
       "      <th>1</th>\n",
       "      <td>@placeholder has sustained winds of more than ...</td>\n",
       "      <td>@entity1</td>\n",
       "      <td>( @entity2 ) a large storm system dubbed @enti...</td>\n",
       "    </tr>\n",
       "    <tr>\n",
       "      <th>2</th>\n",
       "      <td>the vast majority of the camp 's occupants are...</td>\n",
       "      <td>@entity41</td>\n",
       "      <td>@entity1 , @entity2 ( @entity3 ) the children ...</td>\n",
       "    </tr>\n",
       "    <tr>\n",
       "      <th>3</th>\n",
       "      <td>april 20 marks 5 years since the @placeholder ...</td>\n",
       "      <td>@entity18</td>\n",
       "      <td>( @entity3 ) on april 20 , 2010 , a final ceme...</td>\n",
       "    </tr>\n",
       "    <tr>\n",
       "      <th>4</th>\n",
       "      <td>@entity21 honors @entity23 at @placeholder ind...</td>\n",
       "      <td>@entity9</td>\n",
       "      <td>( @entity3 ) the key to rock 's longevity is i...</td>\n",
       "    </tr>\n",
       "  </tbody>\n",
       "</table>\n",
       "</div>"
      ],
      "text/plain": [
       "                                            question      answer  \\\n",
       "0  an @entity156 man says he drifted from @entity...  @entity113   \n",
       "1  @placeholder has sustained winds of more than ...    @entity1   \n",
       "2  the vast majority of the camp 's occupants are...   @entity41   \n",
       "3  april 20 marks 5 years since the @placeholder ...   @entity18   \n",
       "4  @entity21 honors @entity23 at @placeholder ind...    @entity9   \n",
       "\n",
       "                                               story  \n",
       "0  ( @entity1 ) it 's the kind of thing you see i...  \n",
       "1  ( @entity2 ) a large storm system dubbed @enti...  \n",
       "2  @entity1 , @entity2 ( @entity3 ) the children ...  \n",
       "3  ( @entity3 ) on april 20 , 2010 , a final ceme...  \n",
       "4  ( @entity3 ) the key to rock 's longevity is i...  "
      ]
     },
     "execution_count": 8,
     "metadata": {},
     "output_type": "execute_result"
    }
   ],
   "source": [
    "test.head()"
   ]
  },
  {
   "cell_type": "code",
   "execution_count": 9,
   "metadata": {
    "collapsed": true
   },
   "outputs": [],
   "source": [
    "test['pred'] = preds\n",
    "test['y'] = ys"
   ]
  },
  {
   "cell_type": "code",
   "execution_count": 12,
   "metadata": {},
   "outputs": [],
   "source": [
    "inc = test[test['pred'] != test['y']].head(10)"
   ]
  },
  {
   "cell_type": "code",
   "execution_count": 13,
   "metadata": {},
   "outputs": [
    {
     "data": {
      "text/html": [
       "<div>\n",
       "<style>\n",
       "    .dataframe thead tr:only-child th {\n",
       "        text-align: right;\n",
       "    }\n",
       "\n",
       "    .dataframe thead th {\n",
       "        text-align: left;\n",
       "    }\n",
       "\n",
       "    .dataframe tbody tr th {\n",
       "        vertical-align: top;\n",
       "    }\n",
       "</style>\n",
       "<table border=\"1\" class=\"dataframe\">\n",
       "  <thead>\n",
       "    <tr style=\"text-align: right;\">\n",
       "      <th></th>\n",
       "      <th>question</th>\n",
       "      <th>answer</th>\n",
       "      <th>story</th>\n",
       "      <th>pred</th>\n",
       "      <th>y</th>\n",
       "    </tr>\n",
       "  </thead>\n",
       "  <tbody>\n",
       "    <tr>\n",
       "      <th>0</th>\n",
       "      <td>an @entity156 man says he drifted from @entity...</td>\n",
       "      <td>@entity113</td>\n",
       "      <td>( @entity1 ) it 's the kind of thing you see i...</td>\n",
       "      <td>101</td>\n",
       "      <td>113</td>\n",
       "    </tr>\n",
       "    <tr>\n",
       "      <th>3</th>\n",
       "      <td>april 20 marks 5 years since the @placeholder ...</td>\n",
       "      <td>@entity18</td>\n",
       "      <td>( @entity3 ) on april 20 , 2010 , a final ceme...</td>\n",
       "      <td>2</td>\n",
       "      <td>18</td>\n",
       "    </tr>\n",
       "    <tr>\n",
       "      <th>5</th>\n",
       "      <td>@entity3 police said the suspects were alleged...</td>\n",
       "      <td>@entity27</td>\n",
       "      <td>( @entity1 ) five young men were arrested satu...</td>\n",
       "      <td>89</td>\n",
       "      <td>27</td>\n",
       "    </tr>\n",
       "    <tr>\n",
       "      <th>8</th>\n",
       "      <td>authorities identify the deceased passenger as...</td>\n",
       "      <td>@entity13</td>\n",
       "      <td>( @entity3 ) a @entity2 sports car crashed int...</td>\n",
       "      <td>15</td>\n",
       "      <td>13</td>\n",
       "    </tr>\n",
       "    <tr>\n",
       "      <th>10</th>\n",
       "      <td>an outside review found that a @placeholder ar...</td>\n",
       "      <td>@entity1</td>\n",
       "      <td>( @entity5 ) according to an outside review by...</td>\n",
       "      <td>35</td>\n",
       "      <td>1</td>\n",
       "    </tr>\n",
       "    <tr>\n",
       "      <th>16</th>\n",
       "      <td>reports : gunmen storm the @placeholder school...</td>\n",
       "      <td>@entity14</td>\n",
       "      <td>( @entity1 ) the sun had n't risen at @entity2...</td>\n",
       "      <td>2</td>\n",
       "      <td>14</td>\n",
       "    </tr>\n",
       "    <tr>\n",
       "      <th>23</th>\n",
       "      <td>\" @placeholder \" ran from 1979 to 1985 and was...</td>\n",
       "      <td>@entity3</td>\n",
       "      <td>( @entity1 ) @entity0 , best known for his por...</td>\n",
       "      <td>0</td>\n",
       "      <td>3</td>\n",
       "    </tr>\n",
       "    <tr>\n",
       "      <th>30</th>\n",
       "      <td>violence between @placeholder and the @entity7...</td>\n",
       "      <td>@entity33</td>\n",
       "      <td>( @entity4 ) five militants from the @entity3 ...</td>\n",
       "      <td>7</td>\n",
       "      <td>33</td>\n",
       "    </tr>\n",
       "    <tr>\n",
       "      <th>32</th>\n",
       "      <td>it has spewed ash to a depth of about 23½ inch...</td>\n",
       "      <td>@entity3</td>\n",
       "      <td>( @entity5 ) as ash from @entity3 's @entity2 ...</td>\n",
       "      <td>2</td>\n",
       "      <td>3</td>\n",
       "    </tr>\n",
       "    <tr>\n",
       "      <th>33</th>\n",
       "      <td>louis : more notable is mismanagement , ethica...</td>\n",
       "      <td>@entity11</td>\n",
       "      <td>( @entity0 ) the @entity2 presidential campaig...</td>\n",
       "      <td>116</td>\n",
       "      <td>11</td>\n",
       "    </tr>\n",
       "  </tbody>\n",
       "</table>\n",
       "</div>"
      ],
      "text/plain": [
       "                                             question      answer  \\\n",
       "0   an @entity156 man says he drifted from @entity...  @entity113   \n",
       "3   april 20 marks 5 years since the @placeholder ...   @entity18   \n",
       "5   @entity3 police said the suspects were alleged...   @entity27   \n",
       "8   authorities identify the deceased passenger as...   @entity13   \n",
       "10  an outside review found that a @placeholder ar...    @entity1   \n",
       "16  reports : gunmen storm the @placeholder school...   @entity14   \n",
       "23  \" @placeholder \" ran from 1979 to 1985 and was...    @entity3   \n",
       "30  violence between @placeholder and the @entity7...   @entity33   \n",
       "32  it has spewed ash to a depth of about 23½ inch...    @entity3   \n",
       "33  louis : more notable is mismanagement , ethica...   @entity11   \n",
       "\n",
       "                                                story  pred    y  \n",
       "0   ( @entity1 ) it 's the kind of thing you see i...   101  113  \n",
       "3   ( @entity3 ) on april 20 , 2010 , a final ceme...     2   18  \n",
       "5   ( @entity1 ) five young men were arrested satu...    89   27  \n",
       "8   ( @entity3 ) a @entity2 sports car crashed int...    15   13  \n",
       "10  ( @entity5 ) according to an outside review by...    35    1  \n",
       "16  ( @entity1 ) the sun had n't risen at @entity2...     2   14  \n",
       "23  ( @entity1 ) @entity0 , best known for his por...     0    3  \n",
       "30  ( @entity4 ) five militants from the @entity3 ...     7   33  \n",
       "32  ( @entity5 ) as ash from @entity3 's @entity2 ...     2    3  \n",
       "33  ( @entity0 ) the @entity2 presidential campaig...   116   11  "
      ]
     },
     "execution_count": 13,
     "metadata": {},
     "output_type": "execute_result"
    }
   ],
   "source": [
    "inc.head(10)"
   ]
  },
  {
   "cell_type": "code",
   "execution_count": 27,
   "metadata": {},
   "outputs": [
    {
     "name": "stdout",
     "output_type": "stream",
     "text": [
      "louis : more notable is mismanagement , ethical history of @placeholder charities\n",
      "---------------------\n",
      "@entity11\n",
      "---------------------\n",
      "116\n",
      "---------------------\n",
      "( @entity0 ) the @entity2 presidential campaign surely anticipated the coming wave of inquiries and criticism about conflicts of interest involving big foreign donors to charities run by the @entity11 family -- questions set to get a thorough airing in a new book called \" @entity15 : the @entity16 and @entity17 \" by @entity18 , coming out may 5 . my guess is that the issues raised by the book will prompt @entity11 to put its candidate on the road , where she can continue holding loosely scheduled , informal meetings with ordinary @entity26 -- the sorts of people more concerned about local jobs than whether some foreign government or company paid a big speaking fee to @entity33 in hopes of getting special treatment by secretary of state @entity2 . it 's not that the alleged conflicts are n't potentially serious ; as i recently noted in these pages , they are . according to @entity44 , in 2014 the @entity45 \" received money from the @entity40 , @entity41 and @entity42 , among others . the donors included @entity48 's foreign affairs department , which is promoting the @entity49 . \" that 's the same @entity49 from @entity48 that the @entity51 all but endorsed , concluding after a five - part analysis that ran to 17,000 pages that the project 's environmental impact would be minimal . president @entity56 vetoed a bill that would have allowed the pipeline to be built , but it 's legitimate to ask whether the donation from @entity48 directly or indirectly influenced the @entity51 's analysis . and several news outlets have reported that banks and other companies with business before the @entity26 government were donors to the @entity68 , a sister group that was spun off from the @entity45 . @entity0 's @entity69 wrote last month that \" listings for the @entity68 's @entity71 found partnerships with at least six banks that were under investigation , involved in litigation or had been fined by government agencies and regulators at the time of the meeting . in every case , the bank in question was listed as a sponsor of the event even after the investigations were widely reported in the media . \" those are serious matters -- but so are stubborn unemployment , troubled schools , high taxes and other problems that top the list of voters ' concerns . a bank giving money to charity in hopes of buying leniency from the government is a cause for concern , but until and unless a smoking gun appears in the form of a clear exchange of money for favors , it becomes hard to say what , exactly , is wrong with donating cash to aid in a good cause like combating world hunger or helping to rebuild @entity113 . even among the banks fined for wrongdoing that contributed to @entity11 charities , noted @entity125 , \" there 's no indication the @entity116 had any knowledge of the ongoing investigations into banks supporting the foundation 's efforts . \" that does n't leave much room for outrage . a more serious critique of the @entity11 foundations is that they have been an administrative and financial quagmire from their origins , running deficits , expanding uncontrollably and cutting deals that not only raise ethical questions but cast the family 's management skill in a less - than - flattering light . in a well - known case of deception , a con man named @entity141 charmed his way into the foundation 's good graces , earning public praise from @entity33 for promising $ 50 million to the @entity68 -- money that never materialized . a more serious problem developed internally , with staff members fighting over the direction and management of the charities . in 2007 and 2008 , the foundation ran a $ 40 million deficit and in 2012 had an $ 8 million deficit . so we already knew that the @entity116 ' charities suffered from poor management and took money from companies and governments that were clearly trying to curry favor . it 's distasteful , but by now it 's not news . unless the forthcoming book unveils some blockbuster new information , questions about the @entity116 ' charities is likely to wind up on the same political shelf on which voters seem to have parked concerns about @entity2 's use of private emails to conduct @entity51 business . according to a recent poll by the rightward - leaning @entity176 -- taken after the email issue was splashed all over the news -- a survey of voters likely to vote in 2016 found that 57 % expect @entity11 to win the presidency . no wonder @entity11 seemed positively unconcerned about the forthcoming book . \" we 're back into the political scene , and therefore we will be subjected to all kinds of distractions and i 'm ready for it , \" she said in @entity185 . calling extensive exposure of conflicts of interest \" distractions \" suggests that @entity11 knows what the polls suggest : that in a nation still struggling to emerge from a long recession , voters will likely judge her on something other than the efficiency and ethics of her charities .\n"
     ]
    }
   ],
   "source": [
    "N = 9\n",
    "print(inc.iloc[N, 0])\n",
    "print(\"---------------------\")\n",
    "print(inc.iloc[N, 1])\n",
    "print(\"---------------------\")\n",
    "print(inc.iloc[N, 3])\n",
    "print(\"---------------------\")\n",
    "print(inc.iloc[N, 2])"
   ]
  },
  {
   "cell_type": "code",
   "execution_count": null,
   "metadata": {
    "collapsed": true
   },
   "outputs": [],
   "source": []
  }
 ],
 "metadata": {
  "anaconda-cloud": {},
  "hide_input": false,
  "kernelspec": {
   "display_name": "Python [py36]",
   "language": "python",
   "name": "Python [py36]"
  },
  "language_info": {
   "codemirror_mode": {
    "name": "ipython",
    "version": 3
   },
   "file_extension": ".py",
   "mimetype": "text/x-python",
   "name": "python",
   "nbconvert_exporter": "python",
   "pygments_lexer": "ipython3",
   "version": "3.6.2"
  },
  "varInspector": {
   "cols": {
    "lenName": 16,
    "lenType": 16,
    "lenVar": 40
   },
   "kernels_config": {
    "python": {
     "delete_cmd_postfix": "",
     "delete_cmd_prefix": "del ",
     "library": "var_list.py",
     "varRefreshCmd": "print(var_dic_list())"
    },
    "r": {
     "delete_cmd_postfix": ") ",
     "delete_cmd_prefix": "rm(",
     "library": "var_list.r",
     "varRefreshCmd": "cat(var_dic_list()) "
    }
   },
   "types_to_exclude": [
    "module",
    "function",
    "builtin_function_or_method",
    "instance",
    "_Feature"
   ],
   "window_display": false
  }
 },
 "nbformat": 4,
 "nbformat_minor": 2
}
