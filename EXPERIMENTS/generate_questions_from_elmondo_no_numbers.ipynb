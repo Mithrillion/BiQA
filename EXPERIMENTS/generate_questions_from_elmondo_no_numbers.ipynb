{
 "cells": [
  {
   "cell_type": "code",
   "execution_count": 1,
   "metadata": {
    "collapsed": true
   },
   "outputs": [],
   "source": [
    "import numpy as np\n",
    "import pandas as pd\n",
    "import os\n",
    "import json\n",
    "import spacy\n",
    "from itertools import chain, count\n",
    "from collections import Counter\n",
    "import re\n",
    "from pprint import pprint"
   ]
  },
  {
   "cell_type": "code",
   "execution_count": 2,
   "metadata": {
    "collapsed": true
   },
   "outputs": [],
   "source": [
    "dat = pd.read_pickle(\"../data/elmondo_es.pkl\")"
   ]
  },
  {
   "cell_type": "code",
   "execution_count": 3,
   "metadata": {},
   "outputs": [
    {
     "data": {
      "text/html": [
       "<div>\n",
       "<style>\n",
       "    .dataframe thead tr:only-child th {\n",
       "        text-align: right;\n",
       "    }\n",
       "\n",
       "    .dataframe thead th {\n",
       "        text-align: left;\n",
       "    }\n",
       "\n",
       "    .dataframe tbody tr th {\n",
       "        vertical-align: top;\n",
       "    }\n",
       "</style>\n",
       "<table border=\"1\" class=\"dataframe\">\n",
       "  <thead>\n",
       "    <tr style=\"text-align: right;\">\n",
       "      <th></th>\n",
       "      <th>headline</th>\n",
       "      <th>keyfacts</th>\n",
       "      <th>content</th>\n",
       "      <th>tags</th>\n",
       "      <th>time</th>\n",
       "    </tr>\n",
       "  </thead>\n",
       "  <tbody>\n",
       "    <tr>\n",
       "      <th>http://www.elmundo.es/america/2014/01/02/52c4d39a22601d6f658b457c.html</th>\n",
       "      <td>Una jueza del Tribunal Supremo suspende parcia...</td>\n",
       "      <td>[ Decidió atender a los grupos conservadores y...</td>\n",
       "      <td>El martes, antes de presidir la fiesta de fin ...</td>\n",
       "      <td>[]</td>\n",
       "      <td>2014-01-02</td>\n",
       "    </tr>\n",
       "    <tr>\n",
       "      <th>http://www.elmundo.es/america/2014/01/02/52c4d99622601d6d658b458a.html</th>\n",
       "      <td>'La revolución cubana sigue sin compromisos co...</td>\n",
       "      <td>[ 'Jamás hemos cedido ni cederemos ante agresi...</td>\n",
       "      <td>El presidente Raúl Castro reveló que se está i...</td>\n",
       "      <td>[]</td>\n",
       "      <td>2014-01-02</td>\n",
       "    </tr>\n",
       "    <tr>\n",
       "      <th>http://www.elmundo.es/america/2014/01/03/52c61ede268e3e3c528b456b.html</th>\n",
       "      <td>La NSA trabaja en un ordenador cuántico capaz ...</td>\n",
       "      <td>[ La información proviene de los documentos de...</td>\n",
       "      <td>La Agencia de Seguridad Nacional (NSA) trabaja...</td>\n",
       "      <td>[]</td>\n",
       "      <td>2014-01-03</td>\n",
       "    </tr>\n",
       "    <tr>\n",
       "      <th>http://www.elmundo.es/america/2014/01/10/52cfbb62ca47415a218b456b.html</th>\n",
       "      <td>Último adiós a la ex Miss Venezuela Mónica Spe...</td>\n",
       "      <td>[ Mónica Spear y su marido fueron asesinados e...</td>\n",
       "      <td>Esta semana Venezuela ha recibido una noticia ...</td>\n",
       "      <td>[]</td>\n",
       "      <td>2014-01-10</td>\n",
       "    </tr>\n",
       "    <tr>\n",
       "      <th>http://www.elmundo.es/america/2014/01/14/52d4b8ba268e3eb2318b456a.html</th>\n",
       "      <td>Michoacán pone en jaque al Gobierno de Peña Nieto</td>\n",
       "      <td>[ El Gobierno envía más policías y militares y...</td>\n",
       "      <td>La situación en el Estado mexicano de Michoacá...</td>\n",
       "      <td>[]</td>\n",
       "      <td>2014-01-14</td>\n",
       "    </tr>\n",
       "  </tbody>\n",
       "</table>\n",
       "</div>"
      ],
      "text/plain": [
       "                                                                                             headline  \\\n",
       "http://www.elmundo.es/america/2014/01/02/52c4d3...  Una jueza del Tribunal Supremo suspende parcia...   \n",
       "http://www.elmundo.es/america/2014/01/02/52c4d9...  'La revolución cubana sigue sin compromisos co...   \n",
       "http://www.elmundo.es/america/2014/01/03/52c61e...  La NSA trabaja en un ordenador cuántico capaz ...   \n",
       "http://www.elmundo.es/america/2014/01/10/52cfbb...  Último adiós a la ex Miss Venezuela Mónica Spe...   \n",
       "http://www.elmundo.es/america/2014/01/14/52d4b8...  Michoacán pone en jaque al Gobierno de Peña Nieto   \n",
       "\n",
       "                                                                                             keyfacts  \\\n",
       "http://www.elmundo.es/america/2014/01/02/52c4d3...  [ Decidió atender a los grupos conservadores y...   \n",
       "http://www.elmundo.es/america/2014/01/02/52c4d9...  [ 'Jamás hemos cedido ni cederemos ante agresi...   \n",
       "http://www.elmundo.es/america/2014/01/03/52c61e...  [ La información proviene de los documentos de...   \n",
       "http://www.elmundo.es/america/2014/01/10/52cfbb...  [ Mónica Spear y su marido fueron asesinados e...   \n",
       "http://www.elmundo.es/america/2014/01/14/52d4b8...  [ El Gobierno envía más policías y militares y...   \n",
       "\n",
       "                                                                                              content  \\\n",
       "http://www.elmundo.es/america/2014/01/02/52c4d3...  El martes, antes de presidir la fiesta de fin ...   \n",
       "http://www.elmundo.es/america/2014/01/02/52c4d9...  El presidente Raúl Castro reveló que se está i...   \n",
       "http://www.elmundo.es/america/2014/01/03/52c61e...  La Agencia de Seguridad Nacional (NSA) trabaja...   \n",
       "http://www.elmundo.es/america/2014/01/10/52cfbb...  Esta semana Venezuela ha recibido una noticia ...   \n",
       "http://www.elmundo.es/america/2014/01/14/52d4b8...  La situación en el Estado mexicano de Michoacá...   \n",
       "\n",
       "                                                   tags        time  \n",
       "http://www.elmundo.es/america/2014/01/02/52c4d3...   []  2014-01-02  \n",
       "http://www.elmundo.es/america/2014/01/02/52c4d9...   []  2014-01-02  \n",
       "http://www.elmundo.es/america/2014/01/03/52c61e...   []  2014-01-03  \n",
       "http://www.elmundo.es/america/2014/01/10/52cfbb...   []  2014-01-10  \n",
       "http://www.elmundo.es/america/2014/01/14/52d4b8...   []  2014-01-14  "
      ]
     },
     "execution_count": 3,
     "metadata": {},
     "output_type": "execute_result"
    }
   ],
   "source": [
    "dat.head()"
   ]
  },
  {
   "cell_type": "markdown",
   "metadata": {},
   "source": [
    "Check if there are any remaining articles without keyfacts:"
   ]
  },
  {
   "cell_type": "code",
   "execution_count": 4,
   "metadata": {},
   "outputs": [
    {
     "data": {
      "text/plain": [
       "0"
      ]
     },
     "execution_count": 4,
     "metadata": {},
     "output_type": "execute_result"
    }
   ],
   "source": [
    "(dat['keyfacts'].apply(len) == 0).sum()"
   ]
  },
  {
   "cell_type": "markdown",
   "metadata": {},
   "source": [
    "Identify named entities:"
   ]
  },
  {
   "cell_type": "code",
   "execution_count": 5,
   "metadata": {
    "collapsed": true
   },
   "outputs": [],
   "source": [
    "nlp = spacy.load('es')"
   ]
  },
  {
   "cell_type": "code",
   "execution_count": 6,
   "metadata": {},
   "outputs": [
    {
     "data": {
      "text/plain": [
       "[<spacy.tagger.Tagger at 0x7fadac2a9f30>,\n",
       " <spacy.pipeline.DependencyParser at 0x7fadc53be408>,\n",
       " <spacy.matcher.Matcher at 0x7fad884e4c88>,\n",
       " <spacy.pipeline.EntityRecognizer at 0x7fad890ff2c8>]"
      ]
     },
     "execution_count": 6,
     "metadata": {},
     "output_type": "execute_result"
    }
   ],
   "source": [
    "nlp.pipeline"
   ]
  },
  {
   "cell_type": "code",
   "execution_count": 7,
   "metadata": {
    "collapsed": true
   },
   "outputs": [],
   "source": [
    "fact_entlist = dat['keyfacts'].apply(lambda l: [nlp(s).ents for s in l])"
   ]
  },
  {
   "cell_type": "code",
   "execution_count": 8,
   "metadata": {
    "collapsed": true
   },
   "outputs": [],
   "source": [
    "story_entlist = dat['content'].apply(lambda x: nlp(x).ents)"
   ]
  },
  {
   "cell_type": "code",
   "execution_count": 14,
   "metadata": {
    "collapsed": true
   },
   "outputs": [],
   "source": [
    "def random_id_generator(n):\n",
    "    rand_list = np.random.choice(range(n), n, replace=False)\n",
    "    i = 0\n",
    "    while i < n:\n",
    "        yield rand_list[i]\n",
    "        i += 1"
   ]
  },
  {
   "cell_type": "markdown",
   "metadata": {},
   "source": [
    "## Testing Question Generation"
   ]
  },
  {
   "cell_type": "code",
   "execution_count": 27,
   "metadata": {
    "scrolled": true
   },
   "outputs": [
    {
     "name": "stdout",
     "output_type": "stream",
     "text": [
      " La información proviene de los documentos del ex analista @placeholder ?\n",
      "...\n",
      "@entity27\n",
      "...\n",
      "La @entity18 (@entity36) trabaja en la construcción de un ordenador cuántico que puede descifrar cualquier contraseña, incluso las de más alta seguridad, según reveló hoy en exclusiva el diario '@entity1', a partir de los documentos del ex analista de la @entity36 @entity27.\n",
      "El desarrollo de la computación cuántica es un objetivo que persigue desde hace años la comunidad científica y en el que la @entity36, la @entity17 y @entity57 han hecho importantes avances en la @number27 década.\n",
      "Un ordenador cuántico es mucho más rápido que @number86 común, tanto que es capaz de descifrar todas las formas de codificación, incluso las de más alta seguridad que se emplean para proteger secretos de Estado, transacciones financieras, e información médica y de negocios.\n",
      "@entity90 los documentos proporcionados por @entity54, los trabajos de la @entity36 para construir un ordenador cuántico forman parte de un programa de investigación de @number82 de dólares que tiene por título 'Penetrando objetivos difíciles'. Los expertos consideran que la @entity36 no está más cerca de alcanzar el ambicioso objetivo de la computación cuántica que la comunidad científica.\n",
      "Hace una década, algunos expertos aseguraban que el ordenador cuántico podría llegar en los @number31 o @number77 años siguientes, mientras que hace @number7 años consideraron que para alcanzar este objetivo aún quedaban al menos @number31 años. La diferencia entre la computación cuántica y la clásica es que, mientras que ésta @number27 usa el sistema binario de unos y ceros, la @number73 utiliza los \"bits cuánticos\", que son simultáneamente ceros y unos.\n",
      "Un ordenador clásico, incluso si es rápido, debe hacer un cálculo cada vez, mientras que @number86 cuántico puede evitar hacer cálculos que son innecesarios para resolver un problema, lo cual permite encontrar la respuesta buscada más rápido. Los ordenadores cuánticos son extremadamente delicados, por lo que si no se protegen adecuadamente el sistema puede fallar.\n",
      "--------------------\n",
      " Han detenido a 7 personas intregrantes de la banda \"Los Sanguinarios de @placeholder\" ?\n",
      "...\n",
      "@entity79\n",
      "...\n",
      "Esta semana @entity71 ha recibido una noticia que ha causado gran consternación en todo el país: el asesinato de la actriz, modelo y ex Miss @entity71 @entity14 @entity24 y de su esposo, el irlandés @entity64 . \n",
      "El fatídico hecho se produjo en una autopista @entity11 cuando el matrimonio se disponía a regresar a su casa. En el interior del vehículo, se hallaron los cuerpos sin vida de la joven pareja y a la hija de ambos, de @number39 años que también resultó herida.\n",
      "Miles de personas acudieron al velatorio de la pareja. Tanto artistas como familiares y allegados de la actriz y el empresario europeo acudieron desde el mediodía al @entity1 para dar el último adiós a la pareja.\n",
      "Seguidores de la exreina de belleza se aglomeraron en las inmediaciones de la capilla ardiente, en medio de una gran expectación y con presencia de periodistas locales y extranjeros.\n",
      "La larga fila de personas que se acercaron para dar el pésame a la familia era testigo del paso de decenas de coronas de flores que llegaban incesantemente zigzagueando entre la multitud para acceder al recinto funerario, en cuyo centro un patio techado era ocupado por una gran multitud.\n",
      "@entity53, @entity13, declaró a periodistas fuera de la capilla ardiente que desea que el pueblo venezolano la recuerde como un \"icono\" del país, al lamentar que fue el único de sus hijos que \"no pudo sacar de @entity71\".\n",
      "\"El mensaje es muy claro: nuestro país tiene que cambiar, tenemos que acabar con esta violencia, no es posible que nuestro pueblo haya gente armada y que estén matando inocentes como con mis @number33 seres tan queridos\", apuntó.\n",
      "@entity24 y @entity98 fueron tiroteados en presencia de su hija de @number39 años tras sufrir un percance en la carretera para el que recibieron asistencia de una grúa, momento aprovechado por un grupo de asaltantes para intentar robarles.\n",
      "Los ladrones dispararon contra el vehículo ocasionando la muerte de la pareja y heridas a la niña.\n",
      "Las autoridades han detenido ya a @number79 personas integrantes de una banda denominada \"Los Sanguinarios de @entity79\" y buscan a otras @number55 como presuntos autores de los asesinatos.\n",
      "La Miss @entity71 2013, @entity12: \"El ejemplo que @entity24 dio como mujer debe ser seguido por muchas en alusión al trabajo altruista en apoyo de los más desfavorecidos que la actriz realizó participando en campañas de concienciación.\"@entity4, amiga de la familia, lamentó que la exMiss @entity71 2004 es \"la cara de una consecuencia de la inseguridad\" que padece el país caribeño.\n",
      "\"El venezolano se ha acostumbrado a que ya es algo cotidiano, pero @entity14 en este caso es la persona pública, es la conocida, es la que le llega al pueblo (...) realmente la cara de @entity14 hoy en día está representando la cantidad de muertos\" que se registran cada día en el país, dijo a @entity94.\n",
      "@entity71 es @number25 de los países con mayores tasas de criminalidad de la región con @number88 asesinatos por cada @number58 habitantes.\n",
      "--------------------\n",
      " @placeholder tiene una gran tasa de criminalidad: @number19 asesinatos por cada @number6 habitantes ?\n",
      "...\n",
      "@entity8\n",
      "...\n",
      "Esta semana @entity8 ha recibido una noticia que ha causado gran consternación en todo el país: el asesinato de la actriz, modelo y ex Miss @entity8 @entity38 @entity10 y de su esposo, el irlandés @entity43 . \n",
      "El fatídico hecho se produjo en una autopista @entity45 cuando el matrimonio se disponía a regresar a su casa. En el interior del vehículo, se hallaron los cuerpos sin vida de la joven pareja y a la hija de ambos, de @number8 años que también resultó herida.\n",
      "Miles de personas acudieron al velatorio de la pareja. Tanto artistas como familiares y allegados de la actriz y el empresario europeo acudieron desde el mediodía al @entity19 para dar el último adiós a la pareja.\n",
      "Seguidores de la exreina de belleza se aglomeraron en las inmediaciones de la capilla ardiente, en medio de una gran expectación y con presencia de periodistas locales y extranjeros.\n",
      "La larga fila de personas que se acercaron para dar el pésame a la familia era testigo del paso de decenas de coronas de flores que llegaban incesantemente zigzagueando entre la multitud para acceder al recinto funerario, en cuyo centro un patio techado era ocupado por una gran multitud.\n",
      "@entity59, @entity20, declaró a periodistas fuera de la capilla ardiente que desea que el pueblo venezolano la recuerde como un \"icono\" del país, al lamentar que fue el único de sus hijos que \"no pudo sacar de @entity8\".\n",
      "\"El mensaje es muy claro: nuestro país tiene que cambiar, tenemos que acabar con esta violencia, no es posible que nuestro pueblo haya gente armada y que estén matando inocentes como con mis @number84 seres tan queridos\", apuntó.\n",
      "@entity10 y @entity56 fueron tiroteados en presencia de su hija de @number8 años tras sufrir un percance en la carretera para el que recibieron asistencia de una grúa, momento aprovechado por un grupo de asaltantes para intentar robarles.\n",
      "Los ladrones dispararon contra el vehículo ocasionando la muerte de la pareja y heridas a la niña.\n",
      "Las autoridades han detenido ya a @number10 personas integrantes de una banda denominada \"Los Sanguinarios de @entity41\" y buscan a otras @number81 como presuntos autores de los asesinatos.\n",
      "La Miss @entity8 2013, @entity95: \"El ejemplo que @entity10 dio como mujer debe ser seguido por muchas en alusión al trabajo altruista en apoyo de los más desfavorecidos que la actriz realizó participando en campañas de concienciación.\"@entity23, amiga de la familia, lamentó que la exMiss @entity8 2004 es \"la cara de una consecuencia de la inseguridad\" que padece el país caribeño.\n",
      "\"El venezolano se ha acostumbrado a que ya es algo cotidiano, pero @entity38 en este caso es la persona pública, es la conocida, es la que le llega al pueblo (...) realmente la cara de @entity38 hoy en día está representando la cantidad de muertos\" que se registran cada día en el país, dijo a @entity70.\n",
      "@entity8 es @number72 de los países con mayores tasas de criminalidad de la región con @number19 asesinatos por cada @number6 habitantes.\n",
      "--------------------\n",
      " Los civiles armados se niegan y se registran enfrentamientos con el @placeholder ?\n",
      "...\n",
      "@entity20\n",
      "...\n",
      "La situación en el @entity31 de @entity76 es cada vez más tensa y compleja. El @entity60 lanzó este fin de semana un SOS al @entity52 federal pidiendo acciones \"terminantes y amplias\" ante la escalada de violencia que vive la región. \n",
      "El @entity52 federal exigió el lunes a los grupos de autodefensas que dejen de luchar y vuelvan a sus casas. Los grupos de autodefensas se negaron y reclamaron que primero se detenga a los @entity79 (el cártel con mayor presencia en el @entity15) aunque su líder moral, el doctor @entity6, a @number83 hora del día anunciaba que atenderían la petición del @entity52. Y los @entity79 se organizan para no perder sus feudos, amparados -según denuncias de las autodefensas- por autoridades de distintas administraciones. \n",
      "Todo era confusión horas después de la reunión celebrada en la ciudad de @entity33, capital de @entity76, que, según las autoridades, iba a poner las bases para recuperar la tranquilidad en la región. Y el vecino @entity15 de Colima alertaba a sus habitantes de no viajar a @entity76, a la vez que reforzaba la seguridad en la frontera e informaba de que ya contaba en su territorio con gente desplazada por la violencia.\n",
      "@entity43 desplegó en mayo en torno a @number85 militares y policías. Meses después, envió refuerzos y el @entity20 tomó el control del puerto de @entity10 (@number39 de los más importantes del @entity59 para los tráficos legales e ilegales) mientras se mantenía un doble discurso: por un lado, el @entity52 criticaba a los alzados porque ponían en jaque el @entity15 de Derecho, pero, por otro, las fuerzas federales apoyaban, o al menos dejaban hacer, a las autodefensas (algunos analistas, como el experto en crimen organizado @entity13, creen incluso que parte de las armas de los grupos civiles llegan de la misma @entity67).\n",
      "En la reunión del lunes, se acordó enviar más refuerzos, incluidos una decena de helicópteros de la @entity49 y personal de investigación. El secretario de @entity92, @entity84, aseguró que la @entity88 asumiría la seguridad en las zonas de conflicto (en torno a un tercio del estado) y que se destinarían @number91 de pesos (unos @number77 de euros) a la prevención del delito. Además, anunció la creación de una unidad antisecuestros y de una academia policial en el estado e insistió en que las autodefensas debían desarmarse.\n",
      "\"Se les emplaza para que regresen a sus lugares de origen y se reincorporen a sus actividades cotidianas. La seguridad de sus comunidades estará plenamente a cargo de las instituciones\", dijo tras invitarles a que se incorporen a \"los cuerpos policiales instituidos\".\n",
      "Los autodefensas dicen que su objetivo no es convertirse en policías sino que el @entity15 haga su trabajo\n",
      "Pero los civiles no se fían porque las policías estuvieron durante años infiltradas por el crimen organizado. @number27 meses después de su alzamiento, las autodefensas están más fuertes que nunca, siguen tomando pueblos -aunque los últimos, como @entity58, tras duros enfrentamientos-, tienen cercado el principal bastión de los @entity79, la localidad de @entity46 (@number46 habitantes) y aseguran que no cejarán hasta limpiar todo el estado de 'narcos'.\n",
      "\"Las autodefensas no vamos a bajar las armas ni vamos a retirar la ayuda a los municipios que la pidan (...) hasta no ver a los líderes criminales tras las rejas\", indicaron ayer en un comunicado colgado en @entity65. \"Queremos la aprehensión de los líderes de la delincuencia organizado y en ese entonces nos sentaremos a platicar con el @entity19, pero mientras esto no suceda y no veamos resultados por parte del @entity19, seguiremos ayudando a los pueblos a liberarse de criminales\".\n",
      "@entity25 añadieron varios portavoces a la prensa local, su objetivo no es convertirse en policías sino que el @entity15 haga su trabajo y garantice la seguridad de todos los pueblos michoacanos.\n",
      "Sin embargo, a @number83 hora de la noche, en un vídeo divulgado en el informativo estelar de @entity42, el doctor @entity34, que el pasado @number43 de enero resultó herido al estrellarse su avioneta al aterrizar, contradecía a sus compañeros. \n",
      "\"El @entity7 atiende el llamado del secretario de @entity92 y de nuestro amigo el gobernador del estado [@entity97]. Hoy aceptamos regresar a nuestras comunidades de origen y reincorporarnos a nuestras actividades cotidianas\", se escucha decir a un @entity34 todavía convaleciente, al que le cuesta hablar y que reconoce que tiene miedo y que su vida corre peligro. \n",
      "El mensaje en lugar de tranquilizar creó más confusión porque al caer la noche, los acontecimientos en @entity76 iban por otro lado. @entity25 el diario @entity4, los militares iniciaron las labores de desarme en ciertos lugares y hubo diversos enfrentamientos con las autodefensas en las inmediaciones de @entity46, donde los uniformados -continúa el periódico- entraron disparando indiscriminadamente y mataron a una persona en la localidad de @entity30.\n",
      "--------------------\n",
      " Su líder moral, el dr. @placeholder, dice en un vídeo que atenderán la petición del @entity4 ?\n",
      "...\n",
      "@entity56\n",
      "...\n",
      "La situación en el @entity32 de @entity1 es cada vez más tensa y compleja. El @entity61 lanzó este fin de semana un SOS al @entity4 federal pidiendo acciones \"terminantes y amplias\" ante la escalada de violencia que vive la región. \n",
      "El @entity4 federal exigió el lunes a los grupos de autodefensas que dejen de luchar y vuelvan a sus casas. Los grupos de autodefensas se negaron y reclamaron que primero se detenga a los @entity5 (el cártel con mayor presencia en el @entity9) aunque su líder moral, el doctor José Manuel @entity56, a @number61 hora del día anunciaba que atenderían la petición del @entity4. Y los @entity5 se organizan para no perder sus feudos, amparados -según denuncias de las autodefensas- por autoridades de distintas administraciones. \n",
      "Todo era confusión horas después de la reunión celebrada en la ciudad de @entity8, capital de @entity1, que, según las autoridades, iba a poner las bases para recuperar la tranquilidad en la región. Y el vecino @entity9 de Colima alertaba a sus habitantes de no viajar a @entity1, a la vez que reforzaba la seguridad en la frontera e informaba de que ya contaba en su territorio con gente desplazada por la violencia.\n",
      "@entity6 desplegó en mayo en torno a @number12 militares y policías. Meses después, envió refuerzos y el @entity19 tomó el control del puerto de @entity95 (@number46 de los más importantes del @entity71 para los tráficos legales e ilegales) mientras se mantenía un doble discurso: por un lado, el @entity4 criticaba a los alzados porque ponían en jaque el @entity9 de Derecho, pero, por otro, las fuerzas federales apoyaban, o al menos dejaban hacer, a las autodefensas (algunos analistas, como el experto en crimen organizado @entity29, creen incluso que parte de las armas de los grupos civiles llegan de la misma @entity21).\n",
      "En la reunión del lunes, se acordó enviar más refuerzos, incluidos una decena de helicópteros de la @entity31 y personal de investigación. El secretario de @entity24, @entity59, aseguró que la @entity7 asumiría la seguridad en las zonas de conflicto (en torno a un tercio del estado) y que se destinarían @number53 de pesos (unos @number97 de euros) a la prevención del delito. Además, anunció la creación de una unidad antisecuestros y de una academia policial en el estado e insistió en que las autodefensas debían desarmarse.\n",
      "\"Se les emplaza para que regresen a sus lugares de origen y se reincorporen a sus actividades cotidianas. La seguridad de sus comunidades estará plenamente a cargo de las instituciones\", dijo tras invitarles a que se incorporen a \"los cuerpos policiales instituidos\".\n",
      "Los autodefensas dicen que su objetivo no es convertirse en policías sino que el @entity9 haga su trabajo\n",
      "Pero los civiles no se fían porque las policías estuvieron durante años infiltradas por el crimen organizado. @number42 meses después de su alzamiento, las autodefensas están más fuertes que nunca, siguen tomando pueblos -aunque los últimos, como @entity60, tras duros enfrentamientos-, tienen cercado el principal bastión de los @entity5, la localidad de @entity16 (@number9 habitantes) y aseguran que no cejarán hasta limpiar todo el estado de 'narcos'.\n",
      "\"Las autodefensas no vamos a bajar las armas ni vamos a retirar la ayuda a los municipios que la pidan (...) hasta no ver a los líderes criminales tras las rejas\", indicaron ayer en un comunicado colgado en @entity57. \"Queremos la aprehensión de los líderes de la delincuencia organizado y en ese entonces nos sentaremos a platicar con el @entity34, pero mientras esto no suceda y no veamos resultados por parte del @entity34, seguiremos ayudando a los pueblos a liberarse de criminales\".\n",
      "@entity81 añadieron varios portavoces a la prensa local, su objetivo no es convertirse en policías sino que el @entity9 haga su trabajo y garantice la seguridad de todos los pueblos michoacanos.\n",
      "Sin embargo, a @number61 hora de la noche, en un vídeo divulgado en el informativo estelar de @entity65, el doctor @entity56, que el pasado @number43 de enero resultó herido al estrellarse su avioneta al aterrizar, contradecía a sus compañeros. \n",
      "\"El @entity86 atiende el llamado del secretario de @entity24 y de nuestro amigo el gobernador del estado [@entity69]. Hoy aceptamos regresar a nuestras comunidades de origen y reincorporarnos a nuestras actividades cotidianas\", se escucha decir a un @entity56 todavía convaleciente, al que le cuesta hablar y que reconoce que tiene miedo y que su vida corre peligro. \n",
      "El mensaje en lugar de tranquilizar creó más confusión porque al caer la noche, los acontecimientos en @entity1 iban por otro lado. @entity81 el diario @entity10, los militares iniciaron las labores de desarme en ciertos lugares y hubo diversos enfrentamientos con las autodefensas en las inmediaciones de @entity16, donde los uniformados -continúa el periódico- entraron disparando indiscriminadamente y mataron a una persona en la localidad de @entity11.\n",
      "--------------------\n",
      " Su líder moral, el dr. @entity47, dice en un vídeo que atenderán la petición del @placeholder ?\n",
      "...\n",
      "@entity21\n",
      "...\n",
      "La situación en el @entity73 de @entity78 es cada vez más tensa y compleja. El @entity27 lanzó este fin de semana un SOS al @entity21 federal pidiendo acciones \"terminantes y amplias\" ante la escalada de violencia que vive la región. \n",
      "El @entity21 federal exigió el lunes a los grupos de autodefensas que dejen de luchar y vuelvan a sus casas. Los grupos de autodefensas se negaron y reclamaron que primero se detenga a los @entity24 (el cártel con mayor presencia en el @entity43) aunque su líder moral, el doctor @entity32, a @number25 hora del día anunciaba que atenderían la petición del @entity21. Y los @entity24 se organizan para no perder sus feudos, amparados -según denuncias de las autodefensas- por autoridades de distintas administraciones. \n",
      "Todo era confusión horas después de la reunión celebrada en la ciudad de @entity40, capital de @entity78, que, según las autoridades, iba a poner las bases para recuperar la tranquilidad en la región. Y el vecino @entity43 de Colima alertaba a sus habitantes de no viajar a @entity78, a la vez que reforzaba la seguridad en la frontera e informaba de que ya contaba en su territorio con gente desplazada por la violencia.\n",
      "@entity26 desplegó en mayo en torno a @number22 militares y policías. Meses después, envió refuerzos y el @entity66 tomó el control del puerto de @entity33 (@number15 de los más importantes del @entity97 para los tráficos legales e ilegales) mientras se mantenía un doble discurso: por un lado, el @entity21 criticaba a los alzados porque ponían en jaque el @entity43 de Derecho, pero, por otro, las fuerzas federales apoyaban, o al menos dejaban hacer, a las autodefensas (algunos analistas, como el experto en crimen organizado @entity37, creen incluso que parte de las armas de los grupos civiles llegan de la misma @entity69).\n",
      "En la reunión del lunes, se acordó enviar más refuerzos, incluidos una decena de helicópteros de la @entity84 y personal de investigación. El secretario de @entity2, @entity36, aseguró que la @entity22 asumiría la seguridad en las zonas de conflicto (en torno a un tercio del estado) y que se destinarían @number58 de pesos (unos @number68 de euros) a la prevención del delito. Además, anunció la creación de una unidad antisecuestros y de una academia policial en el estado e insistió en que las autodefensas debían desarmarse.\n",
      "\"Se les emplaza para que regresen a sus lugares de origen y se reincorporen a sus actividades cotidianas. La seguridad de sus comunidades estará plenamente a cargo de las instituciones\", dijo tras invitarles a que se incorporen a \"los cuerpos policiales instituidos\".\n",
      "Los autodefensas dicen que su objetivo no es convertirse en policías sino que el @entity43 haga su trabajo\n",
      "Pero los civiles no se fían porque las policías estuvieron durante años infiltradas por el crimen organizado. @number82 meses después de su alzamiento, las autodefensas están más fuertes que nunca, siguen tomando pueblos -aunque los últimos, como @entity7, tras duros enfrentamientos-, tienen cercado el principal bastión de los @entity24, la localidad de @entity45 (@number70 habitantes) y aseguran que no cejarán hasta limpiar todo el estado de 'narcos'.\n",
      "\"Las autodefensas no vamos a bajar las armas ni vamos a retirar la ayuda a los municipios que la pidan (...) hasta no ver a los líderes criminales tras las rejas\", indicaron ayer en un comunicado colgado en @entity83. \"Queremos la aprehensión de los líderes de la delincuencia organizado y en ese entonces nos sentaremos a platicar con el @entity70, pero mientras esto no suceda y no veamos resultados por parte del @entity70, seguiremos ayudando a los pueblos a liberarse de criminales\".\n",
      "@entity30 añadieron varios portavoces a la prensa local, su objetivo no es convertirse en policías sino que el @entity43 haga su trabajo y garantice la seguridad de todos los pueblos michoacanos.\n",
      "Sin embargo, a @number25 hora de la noche, en un vídeo divulgado en el informativo estelar de @entity92, el doctor @entity47, que el pasado @number33 de enero resultó herido al estrellarse su avioneta al aterrizar, contradecía a sus compañeros. \n",
      "\"El @entity50 atiende el llamado del secretario de @entity2 y de nuestro amigo el gobernador del estado [@entity63]. Hoy aceptamos regresar a nuestras comunidades de origen y reincorporarnos a nuestras actividades cotidianas\", se escucha decir a un @entity47 todavía convaleciente, al que le cuesta hablar y que reconoce que tiene miedo y que su vida corre peligro. \n",
      "El mensaje en lugar de tranquilizar creó más confusión porque al caer la noche, los acontecimientos en @entity78 iban por otro lado. @entity30 el diario @entity74, los militares iniciaron las labores de desarme en ciertos lugares y hubo diversos enfrentamientos con las autodefensas en las inmediaciones de @entity45, donde los uniformados -continúa el periódico- entraron disparando indiscriminadamente y mataron a una persona en la localidad de @entity13.\n",
      "--------------------\n"
     ]
    }
   ],
   "source": [
    "pairs = []\n",
    "for i in range(5):\n",
    "    doc_ents = np.array(story_entlist[i])\n",
    "    for j in range(len(fact_entlist[i])):\n",
    "        if len(fact_entlist[i][j]) == 0:\n",
    "            pass\n",
    "        else:\n",
    "            for ent in fact_entlist[i][j]:\n",
    "                if not re.search(r'\\w+', ent.text):\n",
    "                    continue\n",
    "                ent_id = random_id_generator(100)\n",
    "                num_id = random_id_generator(100)\n",
    "                matches = ~pd.isnull([re.search(r'(?<!\\w)' + ent.text + r'(?!\\w)', x.text) for x in doc_ents])\n",
    "                if np.any(matches):\n",
    "                    # remove all instances of ent (incl. partial matches) from the story entity list\n",
    "                    nq_ents = doc_ents[~matches]\n",
    "                    if ent.label_ in ['CARDINAL', 'ORDINAL']:\n",
    "                        ent_type = 'number'\n",
    "                        ent_iter = num_id\n",
    "                        # skip numbers\n",
    "                        continue\n",
    "                    else:\n",
    "                        ent_type = 'entity'\n",
    "                        ent_iter = ent_id\n",
    "                    ind = next(ent_iter)\n",
    "                    # replace entity in question\n",
    "#                     question_text = dat['keyfacts'][i][j].replace(ent.text, '@placeholder')\n",
    "                    question_text = re.sub(r'(?<!\\w)' + ent.text + r'(?!\\w)', '@placeholder', dat['keyfacts'][i][j])\n",
    "                    # replace entity in text\n",
    "#                     content_text = dat['content'][i].replace(ent.text, '@{0}{1}'.format(ent_type, ind))\n",
    "                    content_text = re.sub(r'(?<!\\w)' + ent.text + r'(?!\\w)', \n",
    "                                          '@{0}{1}'.format(ent_type, ind), dat['content'][i])\n",
    "                    ans = '@{0}{1}'.format(ent_type, ind)\n",
    "                    # replace other instances of entities\n",
    "                    for other_ent in nq_ents:\n",
    "                        if not re.search(r'\\w+', other_ent.text):\n",
    "                            continue\n",
    "                        if other_ent.label_ in ['CARDINAL', 'ORDINAL']:\n",
    "                            ent_type = 'number'\n",
    "                            ent_iter = num_id\n",
    "                        else:\n",
    "                            ent_type = 'entity'\n",
    "                            ent_iter = ent_id\n",
    "                        ind = next(ent_iter)\n",
    "#                         content_text = content_text.replace(other_ent.text, '@{0}{1}'.format(ent_type, ind))\n",
    "                        question_text = re.sub(r'(?<!\\w)' + other_ent.text + r'(?!\\w)', \n",
    "                                               '@{0}{1}'.format(ent_type, ind), question_text)\n",
    "                        content_text = re.sub(r'(?<!\\w)' + other_ent.text + r'(?!\\w)', \n",
    "                                              '@{0}{1}'.format(ent_type, ind), content_text)\n",
    "                    print(question_text + '?')\n",
    "                    print('...')\n",
    "                    print(ans)\n",
    "                    print('...')\n",
    "                    print(content_text)\n",
    "                    print('--------------------')"
   ]
  },
  {
   "cell_type": "markdown",
   "metadata": {
    "collapsed": true
   },
   "source": [
    "## Generate Questions"
   ]
  },
  {
   "cell_type": "code",
   "execution_count": 28,
   "metadata": {},
   "outputs": [
    {
     "data": {
      "text/plain": [
       "(15022, 5)"
      ]
     },
     "execution_count": 28,
     "metadata": {},
     "output_type": "execute_result"
    }
   ],
   "source": [
    "dat.shape"
   ]
  },
  {
   "cell_type": "code",
   "execution_count": 37,
   "metadata": {
    "scrolled": true
   },
   "outputs": [
    {
     "name": "stdout",
     "output_type": "stream",
     "text": [
      "generating question 0 to 500...\n",
      "generating question 500 to 1000...\n",
      "generating question 1000 to 1500...\n",
      "skipped bad token Abbas [\n",
      "skipped bad token Abbas [\n",
      "skipped bad token Abbas [\n",
      "skipped bad token Belavezha [\n",
      "generating question 1500 to 2000...\n",
      "skipped bad token atentado contra Saleh [\n",
      "generating question 2000 to 2500...\n",
      "skipped bad token La recompensa [\n",
      "generating question 2500 to 3000...\n",
      "skipped bad token Estado Islámico [\n",
      "skipped bad token Estado Islámico [\n",
      "skipped bad token Muerte [\n",
      "generating question 3000 to 3500...\n",
      "skipped bad token Consejo Legislativo [\n",
      "skipped bad token Consejo Legislativo [\n",
      "skipped bad token Gobierno [\n",
      "generating question 3500 to 4000...\n",
      "skipped bad token Parlamento [\n",
      "skipped bad token IS [\n",
      "skipped bad token IS [\n",
      "skipped bad token IS [\n",
      "generating question 4000 to 4500...\n",
      "skipped bad token IS [\n",
      "skipped bad token IS [\n",
      "generating question 4500 to 5000...\n",
      "generating question 5000 to 5500...\n",
      "generating question 5500 to 6000...\n",
      "skipped bad token José Guerra [\n",
      "skipped bad token José Guerra [\n",
      "generating question 6000 to 6500...\n",
      "skipped bad token Gobierno de [\n",
      "skipped bad token Gobierno de [\n",
      "skipped bad token Partido Nacional Democrático [\n",
      "skipped bad token Partido Nacional Democrático [\n",
      "skipped bad token Estado de Defensa [\n",
      "skipped bad token Estado de Defensa [\n",
      "skipped bad token Estado de Defensa [\n",
      "skipped bad token House of Cards [\n",
      "skipped bad token House of Cards [\n",
      "skipped bad token Revolución [\n",
      "generating question 6500 to 7000...\n",
      "skipped bad token Gobierno [de\n",
      "generating question 7000 to 7500...\n",
      "skipped bad token ¡Kausachun [Viva\n",
      "skipped bad token Gran Transformación [\n",
      "skipped bad token ¡Kausachun [Viva\n",
      "skipped bad token Gran Transformación [\n",
      "skipped bad token ¡Kausachun [Viva\n",
      "skipped bad token Gran Transformación [\n",
      "skipped bad token ¡Kausachun [Viva\n",
      "skipped bad token Gran Transformación [\n",
      "skipped bad token Pope is our hope [\n",
      "skipped bad token Pope is our hope [\n",
      "skipped bad token Word of God [palabra de Dios\n",
      "skipped bad token Word of God [palabra de Dios\n",
      "generating question 7500 to 8000...\n",
      "skipped bad token Al Shuhada [\n",
      "skipped bad token Al Shuhada [\n",
      "skipped bad token Al Shuhada [\n",
      "skipped bad token Al Shuhada [\n",
      "skipped bad token IS [Estado Islámico\n",
      "generating question 8000 to 8500...\n",
      "generating question 8500 to 9000...\n",
      "skipped bad token Asamblea Nacional [de\n",
      "skipped bad token Asamblea Nacional [de\n",
      "skipped bad token él [Ailes\n",
      "skipped bad token Bagdadi [\n",
      "skipped bad token Bagdadi [\n",
      "generating question 9000 to 9500...\n",
      "skipped bad token IS [Estado Islámico\n",
      "skipped bad token Common Sense [\n",
      "generating question 9500 to 10000...\n",
      "skipped bad token Cuándo [\n",
      "skipped bad token Cuándo [\n",
      "skipped bad token Cuándo [\n",
      "skipped bad token Cuándo [\n",
      "skipped bad token Cuándo [\n",
      "skipped bad token @HDPgenelmerkezi MPs [\n",
      "skipped bad token @HDPgenelmerkezi MPs [\n",
      "generating question 10000 to 10500...\n",
      "skipped bad token Obama [\n",
      "generating question 10500 to 11000...\n",
      "skipped bad token El avión que recibimos hoy [\n",
      "skipped bad token El avión que recibimos hoy [\n",
      "skipped bad token Fletcher School of Law and Diplomacy [\n",
      "skipped bad token Fletcher School of Law and Diplomacy [\n",
      "skipped bad token Fletcher School of Law and Diplomacy [\n",
      "skipped bad token Fletcher School of Law and Diplomacy [\n",
      "generating question 11000 to 11500...\n",
      "skipped bad token Holocausto [\n",
      "skipped bad token Holocausto [\n",
      "skipped bad token Holocausto [\n",
      "generating question 11500 to 12000...\n",
      "skipped bad token Consejo Nacional [Parlamento\n",
      "skipped bad token Consejo Nacional [Parlamento\n",
      "generating question 12000 to 12500...\n",
      "skipped bad token Liga Nacional para la Democracia [\n",
      "skipped bad token Liga Nacional para la Democracia [\n",
      "skipped bad token IS [\n",
      "generating question 12500 to 13000...\n",
      "skipped bad token Rey David [\n",
      "skipped bad token Rey David [\n",
      "skipped bad token Rey David [\n",
      "generating question 13000 to 13500...\n",
      "skipped bad token IS [Estado Islámico\n",
      "skipped bad token Estado [\n",
      "skipped bad token Terror [\n",
      "skipped bad token Terror [\n",
      "skipped bad token Terror [\n",
      "generating question 13500 to 14000...\n",
      "skipped bad token él [Moxtar\n",
      "skipped bad token Bagdadi [\n",
      "generating question 14000 to 14500...\n",
      "skipped bad token Senado [\n",
      "skipped bad token Senado [\n",
      "skipped bad token Senado [\n",
      "skipped bad token Senado [\n",
      "skipped bad token Pura paja [\n",
      "skipped bad token Pura paja [\n",
      "skipped bad token Pura paja [\n",
      "skipped bad token IS [\n",
      "skipped bad token IS [\n",
      "skipped bad token Asamblea Nacional Constituyente [\n",
      "skipped bad token Asamblea Nacional Constituyente [\n",
      "skipped bad token Asamblea Nacional Constituyente [\n",
      "skipped bad token Rosaura [\n",
      "skipped bad token Rosaura [\n",
      "skipped bad token Rosaura [\n",
      "skipped bad token Rosaura [\n",
      "skipped bad token Rosaura [\n",
      "generating question 14500 to 15000...\n",
      "skipped bad token él [Klein\n",
      "skipped bad token él [Klein\n",
      "skipped bad token él [Klein\n",
      "skipped bad token él [Klein\n",
      "skipped bad token ACF [\n",
      "generating question 15000 to 15500...\n"
     ]
    }
   ],
   "source": [
    "M = dat.shape[0]\n",
    "pairs = []\n",
    "# ent_id = count()\n",
    "# num_id = count()\n",
    "for i in range(M):\n",
    "    if i % 500 == 0:\n",
    "        print(\"generating question {0} to {1}...\".format(i, i + 500))\n",
    "    doc_ents = np.array(story_entlist[i])\n",
    "    for j in range(len(fact_entlist[i])):\n",
    "        if len(fact_entlist[i][j]) == 0:\n",
    "            pass\n",
    "        else:\n",
    "            for ent in fact_entlist[i][j]:\n",
    "                if not re.search(r'\\w+', ent.text):\n",
    "                    continue\n",
    "                ent_id = random_id_generator(1000)\n",
    "                num_id = random_id_generator(1000)\n",
    "                try:\n",
    "                    matches = ~pd.isnull([re.search(r'(?<!\\w)' + ent.text + r'(?!\\w)', x.text) for x in doc_ents])\n",
    "                except:\n",
    "                    continue\n",
    "                if np.any(matches):\n",
    "                    # remove all instances of ent (incl. partial matches) from the story entity list\n",
    "                    nq_ents = doc_ents[~matches]\n",
    "                    if ent.label_ in ['CARDINAL', 'ORDINAL']:\n",
    "                        ent_type = 'number'\n",
    "                        ent_iter = num_id\n",
    "                        continue\n",
    "                    else:\n",
    "                        ent_type = 'entity'\n",
    "                        ent_iter = ent_id\n",
    "                    ind = next(ent_iter)\n",
    "                    # replace entity in question\n",
    "#                     question_text = dat['keyfacts'][i][j].replace(ent.text, '@placeholder')\n",
    "                    question_text = re.sub(r'(?<!\\w)' + ent.text + r'(?!\\w)', '@placeholder', dat['keyfacts'][i][j])\n",
    "                    # replace entity in text\n",
    "#                     content_text = dat['content'][i].replace(ent.text, '@{0}{1}'.format(ent_type, ind))\n",
    "                    content_text = re.sub(r'(?<!\\w)' + ent.text + r'(?!\\w)', \n",
    "                                          '@{0}{1}'.format(ent_type, ind), dat['content'][i])\n",
    "                    ans = '@{0}{1}'.format(ent_type, ind)\n",
    "                    # replace other instances of entities\n",
    "                    for other_ent in nq_ents:\n",
    "                        if not re.search(r'\\w+', other_ent.text):\n",
    "                            continue\n",
    "                        if re.search(r\"\\(|\\)\", other_ent.text):\n",
    "                            continue\n",
    "                        if other_ent.label_ in ['CARDINAL', 'ORDINAL']:\n",
    "                            ent_type = 'number'\n",
    "                            ent_iter = num_id\n",
    "                        else:\n",
    "                            ent_type = 'entity'\n",
    "                            ent_iter = ent_id\n",
    "                        ind = next(ent_iter)\n",
    "#                         content_text = content_text.replace(other_ent.text, '@{0}{1}'.format(ent_type, ind))\n",
    "                        try:\n",
    "                            question_text = re.sub(r'(?<!\\w)' + other_ent.text + r'(?!\\w)', \n",
    "                                                   '@{0}{1}'.format(ent_type, ind), question_text)\n",
    "                            content_text = re.sub(r'(?<!\\w)' + other_ent.text + r'(?!\\w)', \n",
    "                                                  '@{0}{1}'.format(ent_type, ind), content_text)\n",
    "                        except:\n",
    "                            print(\"skipped bad token {0}\".format(other_ent.text))\n",
    "                    pairs += [[question_text, ans, content_text]]"
   ]
  },
  {
   "cell_type": "code",
   "execution_count": 38,
   "metadata": {
    "collapsed": true
   },
   "outputs": [],
   "source": [
    "df = pd.DataFrame(pairs, columns=[\"question\", \"answer\", \"story\"])"
   ]
  },
  {
   "cell_type": "code",
   "execution_count": 39,
   "metadata": {
    "scrolled": true
   },
   "outputs": [
    {
     "data": {
      "text/html": [
       "<div>\n",
       "<style>\n",
       "    .dataframe thead tr:only-child th {\n",
       "        text-align: right;\n",
       "    }\n",
       "\n",
       "    .dataframe thead th {\n",
       "        text-align: left;\n",
       "    }\n",
       "\n",
       "    .dataframe tbody tr th {\n",
       "        vertical-align: top;\n",
       "    }\n",
       "</style>\n",
       "<table border=\"1\" class=\"dataframe\">\n",
       "  <thead>\n",
       "    <tr style=\"text-align: right;\">\n",
       "      <th></th>\n",
       "      <th>question</th>\n",
       "      <th>answer</th>\n",
       "      <th>story</th>\n",
       "    </tr>\n",
       "  </thead>\n",
       "  <tbody>\n",
       "    <tr>\n",
       "      <th>0</th>\n",
       "      <td>La información proviene de los documentos del...</td>\n",
       "      <td>@entity534</td>\n",
       "      <td>La @entity852 (@entity123) trabaja en la const...</td>\n",
       "    </tr>\n",
       "    <tr>\n",
       "      <th>1</th>\n",
       "      <td>Han detenido a 7 personas intregrantes de la ...</td>\n",
       "      <td>@entity919</td>\n",
       "      <td>Esta semana @entity681 ha recibido una noticia...</td>\n",
       "    </tr>\n",
       "    <tr>\n",
       "      <th>2</th>\n",
       "      <td>@placeholder tiene una gran tasa de criminali...</td>\n",
       "      <td>@entity756</td>\n",
       "      <td>Esta semana @entity756 ha recibido una noticia...</td>\n",
       "    </tr>\n",
       "    <tr>\n",
       "      <th>3</th>\n",
       "      <td>Los civiles armados se niegan y se registran ...</td>\n",
       "      <td>@entity733</td>\n",
       "      <td>La situación en el @entity222 de @entity174 es...</td>\n",
       "    </tr>\n",
       "    <tr>\n",
       "      <th>4</th>\n",
       "      <td>Su líder moral, el dr. @placeholder, dice en ...</td>\n",
       "      <td>@entity711</td>\n",
       "      <td>La situación en el @entity205 de @entity457 es...</td>\n",
       "    </tr>\n",
       "  </tbody>\n",
       "</table>\n",
       "</div>"
      ],
      "text/plain": [
       "                                            question      answer  \\\n",
       "0   La información proviene de los documentos del...  @entity534   \n",
       "1   Han detenido a 7 personas intregrantes de la ...  @entity919   \n",
       "2   @placeholder tiene una gran tasa de criminali...  @entity756   \n",
       "3   Los civiles armados se niegan y se registran ...  @entity733   \n",
       "4   Su líder moral, el dr. @placeholder, dice en ...  @entity711   \n",
       "\n",
       "                                               story  \n",
       "0  La @entity852 (@entity123) trabaja en la const...  \n",
       "1  Esta semana @entity681 ha recibido una noticia...  \n",
       "2  Esta semana @entity756 ha recibido una noticia...  \n",
       "3  La situación en el @entity222 de @entity174 es...  \n",
       "4  La situación en el @entity205 de @entity457 es...  "
      ]
     },
     "execution_count": 39,
     "metadata": {},
     "output_type": "execute_result"
    }
   ],
   "source": [
    "df.head()"
   ]
  },
  {
   "cell_type": "code",
   "execution_count": 40,
   "metadata": {},
   "outputs": [
    {
     "data": {
      "text/plain": [
       "(23837, 3)"
      ]
     },
     "execution_count": 40,
     "metadata": {},
     "output_type": "execute_result"
    }
   ],
   "source": [
    "df.shape"
   ]
  },
  {
   "cell_type": "code",
   "execution_count": 41,
   "metadata": {
    "collapsed": true
   },
   "outputs": [],
   "source": [
    "# df.to_csv(\"es_sample.csv\")"
   ]
  },
  {
   "cell_type": "code",
   "execution_count": 42,
   "metadata": {
    "collapsed": true
   },
   "outputs": [],
   "source": [
    "df.to_pickle(\"../data/elmondo_es_qa_no_numbers.pkl\")"
   ]
  },
  {
   "cell_type": "code",
   "execution_count": null,
   "metadata": {
    "collapsed": true
   },
   "outputs": [],
   "source": []
  }
 ],
 "metadata": {
  "anaconda-cloud": {},
  "kernelspec": {
   "display_name": "Python [py36]",
   "language": "python",
   "name": "Python [py36]"
  },
  "language_info": {
   "codemirror_mode": {
    "name": "ipython",
    "version": 3
   },
   "file_extension": ".py",
   "mimetype": "text/x-python",
   "name": "python",
   "nbconvert_exporter": "python",
   "pygments_lexer": "ipython3",
   "version": "3.6.2"
  }
 },
 "nbformat": 4,
 "nbformat_minor": 1
}
