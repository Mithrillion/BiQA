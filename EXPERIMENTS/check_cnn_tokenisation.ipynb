{
 "cells": [
  {
   "cell_type": "code",
   "execution_count": 2,
   "metadata": {
    "collapsed": true
   },
   "outputs": [],
   "source": [
    "import numpy as np\n",
    "import pandas as pd\n",
    "import spacy"
   ]
  },
  {
   "cell_type": "code",
   "execution_count": 7,
   "metadata": {},
   "outputs": [],
   "source": [
    "lang = 'es'\n",
    "dev = pd.read_pickle(\"../input_data/train_{0}.pkl\".format(lang))"
   ]
  },
  {
   "cell_type": "code",
   "execution_count": 8,
   "metadata": {},
   "outputs": [
    {
     "data": {
      "text/plain": [
       "(69289, 3)"
      ]
     },
     "execution_count": 8,
     "metadata": {},
     "output_type": "execute_result"
    }
   ],
   "source": [
    "dev.shape"
   ]
  },
  {
   "cell_type": "code",
   "execution_count": 11,
   "metadata": {
    "collapsed": true
   },
   "outputs": [],
   "source": [
    "nlp = spacy.load('en', vectors=False)"
   ]
  },
  {
   "cell_type": "code",
   "execution_count": 12,
   "metadata": {},
   "outputs": [
    {
     "data": {
      "text/html": [
       "<div>\n",
       "<style>\n",
       "    .dataframe thead tr:only-child th {\n",
       "        text-align: right;\n",
       "    }\n",
       "\n",
       "    .dataframe thead th {\n",
       "        text-align: left;\n",
       "    }\n",
       "\n",
       "    .dataframe tbody tr th {\n",
       "        vertical-align: top;\n",
       "    }\n",
       "</style>\n",
       "<table border=\"1\" class=\"dataframe\">\n",
       "  <thead>\n",
       "    <tr style=\"text-align: right;\">\n",
       "      <th></th>\n",
       "      <th>answer</th>\n",
       "      <th>question</th>\n",
       "      <th>story</th>\n",
       "    </tr>\n",
       "  </thead>\n",
       "  <tbody>\n",
       "    <tr>\n",
       "      <th>69506</th>\n",
       "      <td>@entity12</td>\n",
       "      <td>@placeholder, esposa de árbitro, puntuó en 442...</td>\n",
       "      <td>Lo vieron en directo 22.000 personas en el T- ...</td>\n",
       "    </tr>\n",
       "    <tr>\n",
       "      <th>68374</th>\n",
       "      <td>@entity8</td>\n",
       "      <td>Así está el grupo de @placeholder</td>\n",
       "      <td>Los líderes han de serlo en los momentos impor...</td>\n",
       "    </tr>\n",
       "    <tr>\n",
       "      <th>39359</th>\n",
       "      <td>@entity4</td>\n",
       "      <td>Consulta los vuelos cancelados por @placeholder</td>\n",
       "      <td>La cancelación inesperada de más de 2.000 vuel...</td>\n",
       "    </tr>\n",
       "    <tr>\n",
       "      <th>42163</th>\n",
       "      <td>@entity16</td>\n",
       "      <td>Un gol en el 93, tras libre directo de @place...</td>\n",
       "      <td>El @entity36 seguirá una jornada más como líde...</td>\n",
       "    </tr>\n",
       "    <tr>\n",
       "      <th>28549</th>\n",
       "      <td>@entity11</td>\n",
       "      <td>Según varios testigos, un manifestante ha muer...</td>\n",
       "      <td>La paz y responsabilidad con la que ayer se de...</td>\n",
       "    </tr>\n",
       "  </tbody>\n",
       "</table>\n",
       "</div>"
      ],
      "text/plain": [
       "          answer                                           question  \\\n",
       "69506  @entity12  @placeholder, esposa de árbitro, puntuó en 442...   \n",
       "68374   @entity8                  Así está el grupo de @placeholder   \n",
       "39359   @entity4    Consulta los vuelos cancelados por @placeholder   \n",
       "42163  @entity16   Un gol en el 93, tras libre directo de @place...   \n",
       "28549  @entity11  Según varios testigos, un manifestante ha muer...   \n",
       "\n",
       "                                                   story  \n",
       "69506  Lo vieron en directo 22.000 personas en el T- ...  \n",
       "68374  Los líderes han de serlo en los momentos impor...  \n",
       "39359  La cancelación inesperada de más de 2.000 vuel...  \n",
       "42163  El @entity36 seguirá una jornada más como líde...  \n",
       "28549  La paz y responsabilidad con la que ayer se de...  "
      ]
     },
     "execution_count": 12,
     "metadata": {},
     "output_type": "execute_result"
    }
   ],
   "source": [
    "dev.head()"
   ]
  },
  {
   "cell_type": "code",
   "execution_count": 21,
   "metadata": {
    "scrolled": false
   },
   "outputs": [
    {
     "name": "stdout",
     "output_type": "stream",
     "text": [
      "( @entity18) – Un hombre fue detenido por su presunta participación en un tiroteo en el que murieron tres personas durante una reunión, en una pequeña ciudad del estado de @entity8, en la costa oeste de @entity5, dijeron las autoridades.\n",
      "En el tiroteo -registrado en @entity11, a unos 45 kilómetros al norte de @entity13- también resultó herida una persona.\n",
      "@entity0, we do not know the extent of injuries # @entity1\n",
      "— @entity3 ( @entity4) @entity12, 2016\n",
      "Según @entity17, una televisora afiliada a @entity18, la policía describió la fiesta en una casa como una reunión de jóvenes.\n",
      "\"Mi nieta nos llamó unos 20 minutos después de la medianoche diciendo que se estaba escondiendo, que se había producido un tiroteo y que dos de sus amigos y ella habían sido tiroteados\", dijo @entity7 a la televisora.\n",
      "@entity0, apprehended in @entity6. # @entity1\n",
      "— @entity3 ( @entity4) @entity12, 2016\n",
      "La ciudad confirmó vía @entity14 que la policía detuvo al presunto agresor dos horas más tarde, en el condado @entity16 después de huir de la reunión en la que participaban de 15 a 20 personas.\n",
      "La policía acordonó la zona y estableció un lugar de encuentro para los padres y parientes en una iglesia cercana.\n",
      "@entity11, en el condado @entity10, tiene una población de poco más de 20.000 habitantes.\n",
      "El tiroteo del sábado se produjo después de otro hecho similar en un bar de @entity9, @entity15, la madrugada del lunes, que dejó dos muertos y al menos 16 heridos.\n",
      "\t\t\t\t\t\t\t\t\t\t\t\t\t\t\t\n",
      "--------------------\n",
      "El tiroteo se registró en el poblado de @placeholder\n",
      "--------------------\n",
      "@entity11\n",
      "--------------------\n",
      "(|@entity18|)|–| |Un|hombre|fue|detenido|por|su|presunta|participación|en|un|tiroteo|en|el|que|murieron|tres|personas|durante|una|reunión|,|en|una|pequeña|ciudad|del|estado|de|@entity8|,|en|la|costa|oeste|de|@entity5|,|dijeron|las|autoridades|.|\n",
      "|En|el|tiroteo|-registrado|en|@entity11|,|a|unos|45|kilómetros|al|norte|de|@entity13-|también|resultó|herida|una|persona|.|\n",
      "|@entity0|,|we|do|not|know|the|extent|of|injuries|#|@entity1|\n",
      "|—|@entity3|(|@entity4|)|@entity12|,|2016|\n",
      "|Según|@entity17|,|una|televisora|afiliada|a|@entity18|,|la|policía|describió|la|fiesta|en|una|casa|como|una|reunión|de|jóvenes|.|\n",
      "|\"|Mi|nieta|nos|llamó|unos|20|minutos|después|de|la|medianoche|diciendo|que|se|estaba|escondiendo|,|que|se|había|producido|un|tiroteo|y|que|dos|de|sus|amigos|y|ella|habían|sido|tiroteados|\"|,|dijo|@entity7|a|la|televisora|.|\n",
      "|@entity0|,|apprehended|in|@entity6|.|#|@entity1|\n",
      "|—|@entity3|(|@entity4|)|@entity12|,|2016|\n",
      "|La|ciudad|confirmó|vía|@entity14|que|la|policía|detuvo|al|presunto|agresor|dos|horas|más|tarde|,|en|el|condado|@entity16|después|de|huir|de|la|reunión|en|la|que|participaban|de|15|a|20|personas|.|\n",
      "|La|policía|acordonó|la|zona|y|estableció|un|lugar|de|encuentro|para|los|padres|y|parientes|en|una|iglesia|cercana|.|\n",
      "|@entity11|,|en|el|condado|@entity10|,|tiene|una|población|de|poco|más|de|20.000|habitantes|.|\n",
      "|El|tiroteo|del|sábado|se|produjo|después|de|otro|hecho|similar|en|un|bar|de|@entity9|,|@entity15|,|la|madrugada|del|lunes|,|que|dejó|dos|muertos|y|al|menos|16|heridos|.|\n",
      "\t\t\t\t\t\t\t\t\t\t\t\t\t\t\t\n"
     ]
    }
   ],
   "source": [
    "N = 7\n",
    "print(dev['story'].iloc[N])\n",
    "print('-' * 20)\n",
    "print(dev['question'].iloc[N])\n",
    "print(\"-\" * 20)\n",
    "print(dev['answer'].iloc[N])\n",
    "print(\"-\" * 20)\n",
    "print(\"|\".join([x.text for x in nlp(dev['story'].iloc[N])]))"
   ]
  },
  {
   "cell_type": "code",
   "execution_count": null,
   "metadata": {
    "collapsed": true
   },
   "outputs": [],
   "source": []
  }
 ],
 "metadata": {
  "anaconda-cloud": {},
  "hide_input": false,
  "kernelspec": {
   "display_name": "Python [py36]",
   "language": "python",
   "name": "Python [py36]"
  },
  "language_info": {
   "codemirror_mode": {
    "name": "ipython",
    "version": 3
   },
   "file_extension": ".py",
   "mimetype": "text/x-python",
   "name": "python",
   "nbconvert_exporter": "python",
   "pygments_lexer": "ipython3",
   "version": "3.6.2"
  },
  "varInspector": {
   "cols": {
    "lenName": 16,
    "lenType": 16,
    "lenVar": 40
   },
   "kernels_config": {
    "python": {
     "delete_cmd_postfix": "",
     "delete_cmd_prefix": "del ",
     "library": "var_list.py",
     "varRefreshCmd": "print(var_dic_list())"
    },
    "r": {
     "delete_cmd_postfix": ") ",
     "delete_cmd_prefix": "rm(",
     "library": "var_list.r",
     "varRefreshCmd": "cat(var_dic_list()) "
    }
   },
   "types_to_exclude": [
    "module",
    "function",
    "builtin_function_or_method",
    "instance",
    "_Feature"
   ],
   "window_display": false
  }
 },
 "nbformat": 4,
 "nbformat_minor": 2
}
