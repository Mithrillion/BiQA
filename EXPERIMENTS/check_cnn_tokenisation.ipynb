{
 "cells": [
  {
   "cell_type": "code",
   "execution_count": 1,
   "metadata": {
    "collapsed": true
   },
   "outputs": [],
   "source": [
    "import numpy as np\n",
    "import pandas as pd\n",
    "import spacy"
   ]
  },
  {
   "cell_type": "code",
   "execution_count": 3,
   "metadata": {},
   "outputs": [],
   "source": [
    "lang = 'en'\n",
    "dev = pd.read_pickle(\"../input_data/dev_{0}.pkl\".format(lang))"
   ]
  },
  {
   "cell_type": "code",
   "execution_count": 7,
   "metadata": {
    "collapsed": true
   },
   "outputs": [],
   "source": [
    "nlp = spacy.load('en')"
   ]
  },
  {
   "cell_type": "code",
   "execution_count": 4,
   "metadata": {},
   "outputs": [
    {
     "data": {
      "text/html": [
       "<div>\n",
       "<style>\n",
       "    .dataframe thead tr:only-child th {\n",
       "        text-align: right;\n",
       "    }\n",
       "\n",
       "    .dataframe thead th {\n",
       "        text-align: left;\n",
       "    }\n",
       "\n",
       "    .dataframe tbody tr th {\n",
       "        vertical-align: top;\n",
       "    }\n",
       "</style>\n",
       "<table border=\"1\" class=\"dataframe\">\n",
       "  <thead>\n",
       "    <tr style=\"text-align: right;\">\n",
       "      <th></th>\n",
       "      <th>question</th>\n",
       "      <th>answer</th>\n",
       "      <th>story</th>\n",
       "    </tr>\n",
       "  </thead>\n",
       "  <tbody>\n",
       "    <tr>\n",
       "      <th>0</th>\n",
       "      <td>@entity31 was among the actresses at the @plac...</td>\n",
       "      <td>@entity61</td>\n",
       "      <td>( @entity0 ) stylists , a fashion commentator ...</td>\n",
       "    </tr>\n",
       "    <tr>\n",
       "      <th>1</th>\n",
       "      <td>@placeholder 's military claims it shot down a...</td>\n",
       "      <td>@entity2</td>\n",
       "      <td>( @entity3 ) the @entity2 military claims to h...</td>\n",
       "    </tr>\n",
       "    <tr>\n",
       "      <th>2</th>\n",
       "      <td>@entity15 and @placeholder own goal for @entity0</td>\n",
       "      <td>@entity55</td>\n",
       "      <td>( @entity1 ) @entity0 claimed the first silver...</td>\n",
       "    </tr>\n",
       "    <tr>\n",
       "      <th>3</th>\n",
       "      <td>one of the men arrested reportedly served as a...</td>\n",
       "      <td>@entity9</td>\n",
       "      <td>( @entity2 ) a sixth suspect in the shooting d...</td>\n",
       "    </tr>\n",
       "    <tr>\n",
       "      <th>4</th>\n",
       "      <td>the @placeholder authorities took over the run...</td>\n",
       "      <td>@entity25</td>\n",
       "      <td>( @entity0 ) a @entity2 property developer , a...</td>\n",
       "    </tr>\n",
       "  </tbody>\n",
       "</table>\n",
       "</div>"
      ],
      "text/plain": [
       "                                            question     answer  \\\n",
       "0  @entity31 was among the actresses at the @plac...  @entity61   \n",
       "1  @placeholder 's military claims it shot down a...   @entity2   \n",
       "2   @entity15 and @placeholder own goal for @entity0  @entity55   \n",
       "3  one of the men arrested reportedly served as a...   @entity9   \n",
       "4  the @placeholder authorities took over the run...  @entity25   \n",
       "\n",
       "                                               story  \n",
       "0  ( @entity0 ) stylists , a fashion commentator ...  \n",
       "1  ( @entity3 ) the @entity2 military claims to h...  \n",
       "2  ( @entity1 ) @entity0 claimed the first silver...  \n",
       "3  ( @entity2 ) a sixth suspect in the shooting d...  \n",
       "4  ( @entity0 ) a @entity2 property developer , a...  "
      ]
     },
     "execution_count": 4,
     "metadata": {},
     "output_type": "execute_result"
    }
   ],
   "source": [
    "dev.head()"
   ]
  },
  {
   "cell_type": "code",
   "execution_count": 17,
   "metadata": {
    "scrolled": false
   },
   "outputs": [
    {
     "name": "stdout",
     "output_type": "stream",
     "text": [
      "( @entity0 ) a @entity2 property developer , a @entity4 outfit operating shell companies and @entity6 officials ripping off the state - owned oil companies -- all of them are accused of coming to a bank in the @entity11 principality of @entity12 to \" wash \" their money . now the @entity14 is casting a spotlight on the alleged misdeeds of senior managers at the @entity18 ( @entity18 ) , several of whom have been arrested in the past few days . the @entity14 has alleged that \" high - level managers [ at @entity18 ] accepted payments and other benefits from their criminal clients . \" the @entity25 authorities took over the running of the bank after the @entity14 revelations , and the director general of the @entity18 , @entity30 , was arrested late friday . two more bank officials were arrested sunday . @entity12 , nestled in the rugged @entity33 mountains , has two big neighbors . one is @entity35 . and the scandal has spread to its other neighbor , @entity38 , where corruption among public officials is a hot - button political issue . @entity30 had driven @entity18 's expansion into @entity38 , through its acquisition of @entity45 , in 2011 . @entity45 caters to wealthy private clients and came under investigation by @entity38 financial authorities last year . since the bpa scandal broke , the commission that investigates illicit financial activity , @entity51 , has raised questions about accounts held by influential @entity38 political and business figures at the @entity45 . they have not been named . the @entity57 has taken control of @entity45 and sent in two inspectors to examine accounts there . the bank 's board , which included @entity30 and a former high - ranking official of the @entity57 , resigned on thursday . @entity38 officials say some 20 suspect operations at the bank are being examined . @entity38 authorities are separately investigating substantial assets held at the @entity18 by members of the @entity72 family , who have long been prominent in the politics of @entity74 , a region of @entity38 that includes @entity75 . the director of the @entity14 's @entity77 , @entity78 , said that \" @entity18 's corrupt high - level managers and weak antimoney laundering controls have made @entity18 an easy vehicle for third - party money launderers to funnel proceeds of organized crime , corruption and human trafficking through the @entity89 financial system . \" @entity18 has correspondent accounts with four banks -- @entity92 , @entity93 , @entity94 and @entity95 -- through which hundreds of millions of dollars passed . senior managers at @entity18 tailored services to their clients to disguise the origin of funds , the @entity14 said . one manager provided \" substantial assistance \" to a @entity2 client , @entity102 , described by the @entity14 as a \" third - party money launderer working for @entity2 criminal organizations . \" @entity102 had also received a line of credit from @entity45 and is alleged to have bribed local officials in the resort where he set up a property development company . he was arrested in @entity38 two years ago and is accused of helping launder some 56 million euros ( $ 59 million ) in proceeds from @entity2 criminal organizations . @entity102 is yet to go on trial . according to the @entity14 , @entity102 has links with one of the @entity118 's most wanted fugitives , @entity119 . @entity18 is also alleged to have helped @entity6 money launderers siphon funds from the state - owned oil company , @entity122 . \" this money - laundering network worked closely with high - ranking government officials in @entity6 , resident agents in @entity126 , and an @entity25 lawyer to establish @entity126 shell companies , \" the @entity14 said . @entity18 processed about $ 2 billion in transactions by shell companies related to the scheme . @entity14 said another senior official at @entity18 accepted bribes in return for processing bulk cash transfers for a @entity4 money launderer , @entity137 , who was arrested in @entity38 in september 2012 . \" through his associate , @entity137 bribed @entity25 bank officials to accept cash deposits into less scrutinized accounts and transfer the funds to suspected shell companies in @entity4 , \" it said in a statement . credit rating agency @entity146 's has reacted to the growing scandal by downgrading @entity12 's rating . @entity12 is highly dependent on its banking sector , which makes up some 20 % of its gdp . @entity38 has long battled the presence of @entity2 organized crime on its soil . after the collapse of the @entity155 , wealthy @entity2 came to @entity38 for its climate and what were then lax financial controls . among them were more than a few \" vory v zakone , \" the top echelon of @entity2 organized crime , according to @entity38 officials . @entity38 prosecutor @entity163 told @entity89 officials five years ago that these individuals had no known jobs and unknown sources of income , yet they lived in large mansions . @entity171 's remarks were reported in a diplomatic cable later published by @entity173 . @entity171 had prosecuted @entity174 , a @entity175 - born , @entity2 citizen widely regarded as one of the most powerful figures in the @entity2 mafia . last year , before he completed his nine - year sentence , a @entity38 appeals court deported @entity174 to @entity2 , where he is now a free man . another @entity38 prosecutor , @entity181 , told @entity89 officials in 2009 that there was large scale money - laundering going on in @entity74 and \" many , many \" members of the @entity2 mafia were active there . because of growing international cooperation , @entity38 prosecutors have stepped up their pursuit of alleged gang leaders , money launderers and embezzlers from @entity191 . among the latest to be detained is a former finance minister from @entity193 , @entity194 . he was detained at a luxury development in @entity196 earlier this month , after prosecutors in @entity198 charged him with embezzlement and is awaiting extradition . @entity194 was a minister in the government of president @entity202 , who fled @entity193 during street protests a year ago . @entity204 contributed to this report\n",
      "------------------------\n",
      "(|@entity0|)|a|@entity2|property|developer|,|a|@entity4|outfit|operating|shell|companies|and|@entity6|officials|ripping|off|the|state|-|owned|oil|companies|--|all|of|them|are|accused|of|coming|to|a|bank|in|the|@entity11|principality|of|@entity12|to|\"|wash|\"|their|money|.|now|the|@entity14|is|casting|a|spotlight|on|the|alleged|misdeeds|of|senior|managers|at|the|@entity18|(|@entity18|)|,|several|of|whom|have|been|arrested|in|the|past|few|days|.|the|@entity14|has|alleged|that|\"|high|-|level|managers|[|at|@entity18|]|accepted|payments|and|other|benefits|from|their|criminal|clients|.|\"|the|@entity25|authorities|took|over|the|running|of|the|bank|after|the|@entity14|revelations|,|and|the|director|general|of|the|@entity18|,|@entity30|,|was|arrested|late|friday|.|two|more|bank|officials|were|arrested|sunday|.|@entity12|,|nestled|in|the|rugged|@entity33|mountains|,|has|two|big|neighbors|.|one|is|@entity35|.|and|the|scandal|has|spread|to|its|other|neighbor|,|@entity38|,|where|corruption|among|public|officials|is|a|hot|-|button|political|issue|.|@entity30|had|driven|@entity18|'s|expansion|into|@entity38|,|through|its|acquisition|of|@entity45|,|in|2011|.|@entity45|caters|to|wealthy|private|clients|and|came|under|investigation|by|@entity38|financial|authorities|last|year|.|since|the|bpa|scandal|broke|,|the|commission|that|investigates|illicit|financial|activity|,|@entity51|,|has|raised|questions|about|accounts|held|by|influential|@entity38|political|and|business|figures|at|the|@entity45|.|they|have|not|been|named|.|the|@entity57|has|taken|control|of|@entity45|and|sent|in|two|inspectors|to|examine|accounts|there|.|the|bank|'s|board|,|which|included|@entity30|and|a|former|high|-|ranking|official|of|the|@entity57|,|resigned|on|thursday|.|@entity38|officials|say|some|20|suspect|operations|at|the|bank|are|being|examined|.|@entity38|authorities|are|separately|investigating|substantial|assets|held|at|the|@entity18|by|members|of|the|@entity72|family|,|who|have|long|been|prominent|in|the|politics|of|@entity74|,|a|region|of|@entity38|that|includes|@entity75|.|the|director|of|the|@entity14|'s|@entity77|,|@entity78|,|said|that|\"|@entity18|'s|corrupt|high|-|level|managers|and|weak|antimoney|laundering|controls|have|made|@entity18|an|easy|vehicle|for|third|-|party|money|launderers|to|funnel|proceeds|of|organized|crime|,|corruption|and|human|trafficking|through|the|@entity89|financial|system|.|\"|@entity18|has|correspondent|accounts|with|four|banks|--|@entity92|,|@entity93|,|@entity94|and|@entity95|--|through|which|hundreds|of|millions|of|dollars|passed|.|senior|managers|at|@entity18|tailored|services|to|their|clients|to|disguise|the|origin|of|funds|,|the|@entity14|said|.|one|manager|provided|\"|substantial|assistance|\"|to|a|@entity2|client|,|@entity102|,|described|by|the|@entity14|as|a|\"|third|-|party|money|launderer|working|for|@entity2|criminal|organizations|.|\"|@entity102|had|also|received|a|line|of|credit|from|@entity45|and|is|alleged|to|have|bribed|local|officials|in|the|resort|where|he|set|up|a|property|development|company|.|he|was|arrested|in|@entity38|two|years|ago|and|is|accused|of|helping|launder|some|56|million|euros|(|$|59|million|)|in|proceeds|from|@entity2|criminal|organizations|.|@entity102|is|yet|to|go|on|trial|.|according|to|the|@entity14|,|@entity102|has|links|with|one|of|the|@entity118|'s|most|wanted|fugitives|,|@entity119|.|@entity18|is|also|alleged|to|have|helped|@entity6|money|launderers|siphon|funds|from|the|state|-|owned|oil|company|,|@entity122|.|\"|this|money|-|laundering|network|worked|closely|with|high|-|ranking|government|officials|in|@entity6|,|resident|agents|in|@entity126|,|and|an|@entity25|lawyer|to|establish|@entity126|shell|companies|,|\"|the|@entity14|said|.|@entity18|processed|about|$|2|billion|in|transactions|by|shell|companies|related|to|the|scheme|.|@entity14|said|another|senior|official|at|@entity18|accepted|bribes|in|return|for|processing|bulk|cash|transfers|for|a|@entity4|money|launderer|,|@entity137|,|who|was|arrested|in|@entity38|in|september|2012|.|\"|through|his|associate|,|@entity137|bribed|@entity25|bank|officials|to|accept|cash|deposits|into|less|scrutinized|accounts|and|transfer|the|funds|to|suspected|shell|companies|in|@entity4|,|\"|it|said|in|a|statement|.|credit|rating|agency|@entity146|'s|has|reacted|to|the|growing|scandal|by|downgrading|@entity12|'s|rating|.|@entity12|is|highly|dependent|on|its|banking|sector|,|which|makes|up|some|20|%|of|its|gdp|.|@entity38|has|long|battled|the|presence|of|@entity2|organized|crime|on|its|soil|.|after|the|collapse|of|the|@entity155|,|wealthy|@entity2|came|to|@entity38|for|its|climate|and|what|were|then|lax|financial|controls|.|among|them|were|more|than|a|few|\"|vory|v|zakone|,|\"|the|top|echelon|of|@entity2|organized|crime|,|according|to|@entity38|officials|.|@entity38|prosecutor|@entity163|told|@entity89|officials|five|years|ago|that|these|individuals|had|no|known|jobs|and|unknown|sources|of|income|,|yet|they|lived|in|large|mansions|.|@entity171|'s|remarks|were|reported|in|a|diplomatic|cable|later|published|by|@entity173|.|@entity171|had|prosecuted|@entity174|,|a|@entity175|-|born|,|@entity2|citizen|widely|regarded|as|one|of|the|most|powerful|figures|in|the|@entity2|mafia|.|last|year|,|before|he|completed|his|nine|-|year|sentence|,|a|@entity38|appeals|court|deported|@entity174|to|@entity2|,|where|he|is|now|a|free|man|.|another|@entity38|prosecutor|,|@entity181|,|told|@entity89|officials|in|2009|that|there|was|large|scale|money|-|laundering|going|on|in|@entity74|and|\"|many|,|many|\"|members|of|the|@entity2|mafia|were|active|there|.|because|of|growing|international|cooperation|,|@entity38|prosecutors|have|stepped|up|their|pursuit|of|alleged|gang|leaders|,|money|launderers|and|embezzlers|from|@entity191|.|among|the|latest|to|be|detained|is|a|former|finance|minister|from|@entity193|,|@entity194|.|he|was|detained|at|a|luxury|development|in|@entity196|earlier|this|month|,|after|prosecutors|in|@entity198|charged|him|with|embezzlement|and|is|awaiting|extradition|.|@entity194|was|a|minister|in|the|government|of|president|@entity202|,|who|fled|@entity193|during|street|protests|a|year|ago|.|@entity204|contributed|to|this|report\n"
     ]
    }
   ],
   "source": [
    "N = 4\n",
    "print(dev['story'].iloc[N])\n",
    "print('------------------------')\n",
    "print(\"|\".join([x.text for x in nlp(dev['story'].iloc[N])]))"
   ]
  },
  {
   "cell_type": "code",
   "execution_count": null,
   "metadata": {
    "collapsed": true
   },
   "outputs": [],
   "source": []
  }
 ],
 "metadata": {
  "anaconda-cloud": {},
  "hide_input": false,
  "kernelspec": {
   "display_name": "Python [py36]",
   "language": "python",
   "name": "Python [py36]"
  },
  "language_info": {
   "codemirror_mode": {
    "name": "ipython",
    "version": 3
   },
   "file_extension": ".py",
   "mimetype": "text/x-python",
   "name": "python",
   "nbconvert_exporter": "python",
   "pygments_lexer": "ipython3",
   "version": "3.6.2"
  },
  "varInspector": {
   "cols": {
    "lenName": 16,
    "lenType": 16,
    "lenVar": 40
   },
   "kernels_config": {
    "python": {
     "delete_cmd_postfix": "",
     "delete_cmd_prefix": "del ",
     "library": "var_list.py",
     "varRefreshCmd": "print(var_dic_list())"
    },
    "r": {
     "delete_cmd_postfix": ") ",
     "delete_cmd_prefix": "rm(",
     "library": "var_list.r",
     "varRefreshCmd": "cat(var_dic_list()) "
    }
   },
   "types_to_exclude": [
    "module",
    "function",
    "builtin_function_or_method",
    "instance",
    "_Feature"
   ],
   "window_display": false
  }
 },
 "nbformat": 4,
 "nbformat_minor": 2
}
