{
 "cells": [
  {
   "cell_type": "code",
   "execution_count": 1,
   "metadata": {
    "collapsed": true
   },
   "outputs": [],
   "source": [
    "import numpy as np\n",
    "import pandas as pd\n",
    "import os\n",
    "import json\n",
    "import spacy\n",
    "from itertools import chain, count\n",
    "from collections import Counter\n",
    "import re\n",
    "from pprint import pprint"
   ]
  },
  {
   "cell_type": "code",
   "execution_count": 2,
   "metadata": {
    "collapsed": true
   },
   "outputs": [],
   "source": [
    "dat = pd.read_pickle(\"../data/elmondo_es.pkl\")"
   ]
  },
  {
   "cell_type": "code",
   "execution_count": 3,
   "metadata": {},
   "outputs": [
    {
     "data": {
      "text/html": [
       "<div>\n",
       "<style>\n",
       "    .dataframe thead tr:only-child th {\n",
       "        text-align: right;\n",
       "    }\n",
       "\n",
       "    .dataframe thead th {\n",
       "        text-align: left;\n",
       "    }\n",
       "\n",
       "    .dataframe tbody tr th {\n",
       "        vertical-align: top;\n",
       "    }\n",
       "</style>\n",
       "<table border=\"1\" class=\"dataframe\">\n",
       "  <thead>\n",
       "    <tr style=\"text-align: right;\">\n",
       "      <th></th>\n",
       "      <th>headline</th>\n",
       "      <th>keyfacts</th>\n",
       "      <th>content</th>\n",
       "      <th>tags</th>\n",
       "      <th>time</th>\n",
       "    </tr>\n",
       "  </thead>\n",
       "  <tbody>\n",
       "    <tr>\n",
       "      <th>http://www.elmundo.es/america/2014/01/02/52c4d39a22601d6f658b457c.html</th>\n",
       "      <td>Una jueza del Tribunal Supremo suspende parcia...</td>\n",
       "      <td>[ Decidió atender a los grupos conservadores y...</td>\n",
       "      <td>El martes, antes de presidir la fiesta de fin ...</td>\n",
       "      <td>[]</td>\n",
       "      <td>2014-01-02</td>\n",
       "    </tr>\n",
       "    <tr>\n",
       "      <th>http://www.elmundo.es/america/2014/01/02/52c4d99622601d6d658b458a.html</th>\n",
       "      <td>'La revolución cubana sigue sin compromisos co...</td>\n",
       "      <td>[ 'Jamás hemos cedido ni cederemos ante agresi...</td>\n",
       "      <td>El presidente Raúl Castro reveló que se está i...</td>\n",
       "      <td>[]</td>\n",
       "      <td>2014-01-02</td>\n",
       "    </tr>\n",
       "    <tr>\n",
       "      <th>http://www.elmundo.es/america/2014/01/03/52c61ede268e3e3c528b456b.html</th>\n",
       "      <td>La NSA trabaja en un ordenador cuántico capaz ...</td>\n",
       "      <td>[ La información proviene de los documentos de...</td>\n",
       "      <td>La Agencia de Seguridad Nacional (NSA) trabaja...</td>\n",
       "      <td>[]</td>\n",
       "      <td>2014-01-03</td>\n",
       "    </tr>\n",
       "    <tr>\n",
       "      <th>http://www.elmundo.es/america/2014/01/10/52cfbb62ca47415a218b456b.html</th>\n",
       "      <td>Último adiós a la ex Miss Venezuela Mónica Spe...</td>\n",
       "      <td>[ Mónica Spear y su marido fueron asesinados e...</td>\n",
       "      <td>Esta semana Venezuela ha recibido una noticia ...</td>\n",
       "      <td>[]</td>\n",
       "      <td>2014-01-10</td>\n",
       "    </tr>\n",
       "    <tr>\n",
       "      <th>http://www.elmundo.es/america/2014/01/14/52d4b8ba268e3eb2318b456a.html</th>\n",
       "      <td>Michoacán pone en jaque al Gobierno de Peña Nieto</td>\n",
       "      <td>[ El Gobierno envía más policías y militares y...</td>\n",
       "      <td>La situación en el Estado mexicano de Michoacá...</td>\n",
       "      <td>[]</td>\n",
       "      <td>2014-01-14</td>\n",
       "    </tr>\n",
       "  </tbody>\n",
       "</table>\n",
       "</div>"
      ],
      "text/plain": [
       "                                                                                             headline  \\\n",
       "http://www.elmundo.es/america/2014/01/02/52c4d3...  Una jueza del Tribunal Supremo suspende parcia...   \n",
       "http://www.elmundo.es/america/2014/01/02/52c4d9...  'La revolución cubana sigue sin compromisos co...   \n",
       "http://www.elmundo.es/america/2014/01/03/52c61e...  La NSA trabaja en un ordenador cuántico capaz ...   \n",
       "http://www.elmundo.es/america/2014/01/10/52cfbb...  Último adiós a la ex Miss Venezuela Mónica Spe...   \n",
       "http://www.elmundo.es/america/2014/01/14/52d4b8...  Michoacán pone en jaque al Gobierno de Peña Nieto   \n",
       "\n",
       "                                                                                             keyfacts  \\\n",
       "http://www.elmundo.es/america/2014/01/02/52c4d3...  [ Decidió atender a los grupos conservadores y...   \n",
       "http://www.elmundo.es/america/2014/01/02/52c4d9...  [ 'Jamás hemos cedido ni cederemos ante agresi...   \n",
       "http://www.elmundo.es/america/2014/01/03/52c61e...  [ La información proviene de los documentos de...   \n",
       "http://www.elmundo.es/america/2014/01/10/52cfbb...  [ Mónica Spear y su marido fueron asesinados e...   \n",
       "http://www.elmundo.es/america/2014/01/14/52d4b8...  [ El Gobierno envía más policías y militares y...   \n",
       "\n",
       "                                                                                              content  \\\n",
       "http://www.elmundo.es/america/2014/01/02/52c4d3...  El martes, antes de presidir la fiesta de fin ...   \n",
       "http://www.elmundo.es/america/2014/01/02/52c4d9...  El presidente Raúl Castro reveló que se está i...   \n",
       "http://www.elmundo.es/america/2014/01/03/52c61e...  La Agencia de Seguridad Nacional (NSA) trabaja...   \n",
       "http://www.elmundo.es/america/2014/01/10/52cfbb...  Esta semana Venezuela ha recibido una noticia ...   \n",
       "http://www.elmundo.es/america/2014/01/14/52d4b8...  La situación en el Estado mexicano de Michoacá...   \n",
       "\n",
       "                                                   tags        time  \n",
       "http://www.elmundo.es/america/2014/01/02/52c4d3...   []  2014-01-02  \n",
       "http://www.elmundo.es/america/2014/01/02/52c4d9...   []  2014-01-02  \n",
       "http://www.elmundo.es/america/2014/01/03/52c61e...   []  2014-01-03  \n",
       "http://www.elmundo.es/america/2014/01/10/52cfbb...   []  2014-01-10  \n",
       "http://www.elmundo.es/america/2014/01/14/52d4b8...   []  2014-01-14  "
      ]
     },
     "execution_count": 3,
     "metadata": {},
     "output_type": "execute_result"
    }
   ],
   "source": [
    "dat.head()"
   ]
  },
  {
   "cell_type": "markdown",
   "metadata": {},
   "source": [
    "Check if there are any remaining articles without keyfacts:"
   ]
  },
  {
   "cell_type": "code",
   "execution_count": 4,
   "metadata": {},
   "outputs": [
    {
     "data": {
      "text/plain": [
       "0"
      ]
     },
     "execution_count": 4,
     "metadata": {},
     "output_type": "execute_result"
    }
   ],
   "source": [
    "(dat['keyfacts'].apply(len) == 0).sum()"
   ]
  },
  {
   "cell_type": "markdown",
   "metadata": {},
   "source": [
    "Identify named entities:"
   ]
  },
  {
   "cell_type": "code",
   "execution_count": 5,
   "metadata": {
    "collapsed": true
   },
   "outputs": [],
   "source": [
    "nlp = spacy.load('es')"
   ]
  },
  {
   "cell_type": "code",
   "execution_count": 6,
   "metadata": {},
   "outputs": [
    {
     "data": {
      "text/plain": [
       "[<spacy.tagger.Tagger at 0x7fc06c757360>,\n",
       " <spacy.pipeline.DependencyParser at 0x7fc0624ef2c8>,\n",
       " <spacy.matcher.Matcher at 0x7fc0253a6c88>,\n",
       " <spacy.pipeline.EntityRecognizer at 0x7fc025fc2188>]"
      ]
     },
     "execution_count": 6,
     "metadata": {},
     "output_type": "execute_result"
    }
   ],
   "source": [
    "nlp.pipeline"
   ]
  },
  {
   "cell_type": "code",
   "execution_count": 7,
   "metadata": {
    "collapsed": true
   },
   "outputs": [],
   "source": [
    "fact_entlist = dat['keyfacts'].apply(lambda l: [nlp(s).ents for s in l])"
   ]
  },
  {
   "cell_type": "code",
   "execution_count": 8,
   "metadata": {
    "collapsed": true
   },
   "outputs": [],
   "source": [
    "story_entlist = dat['content'].apply(lambda x: nlp(x).ents)"
   ]
  },
  {
   "cell_type": "markdown",
   "metadata": {},
   "source": [
    "## Testing Question Generation"
   ]
  },
  {
   "cell_type": "code",
   "execution_count": 9,
   "metadata": {
    "scrolled": true
   },
   "outputs": [
    {
     "name": "stdout",
     "output_type": "stream",
     "text": [
      " La información proviene de los documentos del ex analista @placeholder ?\n",
      "...\n",
      "@entity0\n",
      "...\n",
      "La @entity1 (@entity2) trabaja en la construcción de un ordenador cuántico que puede descifrar cualquier contraseña, incluso las de más alta seguridad, según reveló hoy en exclusiva el diario '@entity3', a partir de los documentos del ex analista de la @entity2 @entity0.\n",
      "El desarrollo de la computación cuántica es un objetivo que persigue desde hace años la comunidad científica y en el que la @entity2, la @entity5 y @entity6 han hecho importantes avances en la @number0 década.\n",
      "Un ordenador cuántico es mucho más rápido que @number1 común, tanto que es capaz de descifrar todas las formas de codificación, incluso las de más alta seguridad que se emplean para proteger secretos de Estado, transacciones financieras, e información médica y de negocios.\n",
      "@entity7 los documentos proporcionados por @entity8, los trabajos de la @entity2 para construir un ordenador cuántico forman parte de un programa de investigación de @number2 de dólares que tiene por título 'Penetrando objetivos difíciles'. Los expertos consideran que la @entity2 no está más cerca de alcanzar el ambicioso objetivo de la computación cuántica que la comunidad científica.\n",
      "Hace una década, algunos expertos aseguraban que el ordenador cuántico podría llegar en los @number3 o @number4 años siguientes, mientras que hace @number5 años consideraron que para alcanzar este objetivo aún quedaban al menos @number3 años. La diferencia entre la computación cuántica y la clásica es que, mientras que ésta @number0 usa el sistema binario de unos y ceros, la @number8 utiliza los \"bits cuánticos\", que son simultáneamente ceros y unos.\n",
      "Un ordenador clásico, incluso si es rápido, debe hacer un cálculo cada vez, mientras que @number1 cuántico puede evitar hacer cálculos que son innecesarios para resolver un problema, lo cual permite encontrar la respuesta buscada más rápido. Los ordenadores cuánticos son extremadamente delicados, por lo que si no se protegen adecuadamente el sistema puede fallar.\n",
      "--------------------\n",
      " @entity26 @entity19 y su marido fueron asesinados en presencia de la hija de ambos de @placeholder años ?\n",
      "...\n",
      "@number10\n",
      "...\n",
      "Esta semana @entity11 ha recibido una noticia que ha causado gran consternación en todo el país: el asesinato de la actriz, modelo y ex Miss @entity11 @entity26 @entity19 y de su esposo, el irlandés @entity13 . \n",
      "El fatídico hecho se produjo en una autopista @entity14 cuando el matrimonio se disponía a regresar a su casa. En el interior del vehículo, se hallaron los cuerpos sin vida de la joven pareja y a la hija de ambos, de @number10 años que también resultó herida.\n",
      "Miles de personas acudieron al velatorio de la pareja. Tanto artistas como familiares y allegados de la actriz y el empresario europeo acudieron desde el mediodía al @entity15 para dar el último adiós a la pareja.\n",
      "Seguidores de la exreina de belleza se aglomeraron en las inmediaciones de la capilla ardiente, en medio de una gran expectación y con presencia de periodistas locales y extranjeros.\n",
      "La larga fila de personas que se acercaron para dar el pésame a la familia era testigo del paso de decenas de coronas de flores que llegaban incesantemente zigzagueando entre la multitud para acceder al recinto funerario, en cuyo centro un patio techado era ocupado por una gran multitud.\n",
      "@entity16, @entity17, declaró a periodistas fuera de la capilla ardiente que desea que el pueblo venezolano la recuerde como un \"icono\" del país, al lamentar que fue el único de sus hijos que \"no pudo sacar de @entity11\".\n",
      "\"El mensaje es muy claro: nuestro país tiene que cambiar, tenemos que acabar con esta violencia, no es posible que nuestro pueblo haya gente armada y que estén matando inocentes como con mis @number11 seres tan queridos\", apuntó.\n",
      "@entity19 y @entity20 fueron tiroteados en presencia de su hija de @number10 años tras sufrir un percance en la carretera para el que recibieron asistencia de una grúa, momento aprovechado por un grupo de asaltantes para intentar robarles.\n",
      "Los ladrones dispararon contra el vehículo ocasionando la muerte de la pareja y heridas a la niña.\n",
      "Las autoridades han detenido ya a @number12 personas integrantes de una banda denominada \"Los Sanguinarios de @entity21\" y buscan a otras @number13 como presuntos autores de los asesinatos.\n",
      "La Miss @entity11 2013, @entity23: \"El ejemplo que @entity19 dio como mujer debe ser seguido por muchas en alusión al trabajo altruista en apoyo de los más desfavorecidos que la actriz realizó participando en campañas de concienciación.\"@entity25, amiga de la familia, lamentó que la exMiss @entity11 2004 es \"la cara de una consecuencia de la inseguridad\" que padece el país caribeño.\n",
      "\"El venezolano se ha acostumbrado a que ya es algo cotidiano, pero @entity26 en este caso es la persona pública, es la conocida, es la que le llega al pueblo (...) realmente la cara de @entity26 hoy en día está representando la cantidad de muertos\" que se registran cada día en el país, dijo a @entity28.\n",
      "@entity11 es @number14 de los países con mayores tasas de criminalidad de la región con @number15 asesinatos por cada @number16 habitantes.\n",
      "--------------------\n",
      " Han detenido a 7 personas intregrantes de la banda \"Los Sanguinarios de @placeholder\" ?\n",
      "...\n",
      "@entity30\n",
      "...\n",
      "Esta semana @entity31 ha recibido una noticia que ha causado gran consternación en todo el país: el asesinato de la actriz, modelo y ex Miss @entity31 @entity45 @entity39 y de su esposo, el irlandés @entity33 . \n",
      "El fatídico hecho se produjo en una autopista @entity34 cuando el matrimonio se disponía a regresar a su casa. En el interior del vehículo, se hallaron los cuerpos sin vida de la joven pareja y a la hija de ambos, de @number17 años que también resultó herida.\n",
      "Miles de personas acudieron al velatorio de la pareja. Tanto artistas como familiares y allegados de la actriz y el empresario europeo acudieron desde el mediodía al @entity35 para dar el último adiós a la pareja.\n",
      "Seguidores de la exreina de belleza se aglomeraron en las inmediaciones de la capilla ardiente, en medio de una gran expectación y con presencia de periodistas locales y extranjeros.\n",
      "La larga fila de personas que se acercaron para dar el pésame a la familia era testigo del paso de decenas de coronas de flores que llegaban incesantemente zigzagueando entre la multitud para acceder al recinto funerario, en cuyo centro un patio techado era ocupado por una gran multitud.\n",
      "@entity36, @entity37, declaró a periodistas fuera de la capilla ardiente que desea que el pueblo venezolano la recuerde como un \"icono\" del país, al lamentar que fue el único de sus hijos que \"no pudo sacar de @entity31\".\n",
      "\"El mensaje es muy claro: nuestro país tiene que cambiar, tenemos que acabar con esta violencia, no es posible que nuestro pueblo haya gente armada y que estén matando inocentes como con mis @number18 seres tan queridos\", apuntó.\n",
      "@entity39 y @entity40 fueron tiroteados en presencia de su hija de @number17 años tras sufrir un percance en la carretera para el que recibieron asistencia de una grúa, momento aprovechado por un grupo de asaltantes para intentar robarles.\n",
      "Los ladrones dispararon contra el vehículo ocasionando la muerte de la pareja y heridas a la niña.\n",
      "Las autoridades han detenido ya a @number20 personas integrantes de una banda denominada \"Los Sanguinarios de @entity30\" y buscan a otras @number21 como presuntos autores de los asesinatos.\n",
      "La Miss @entity31 2013, @entity42: \"El ejemplo que @entity39 dio como mujer debe ser seguido por muchas en alusión al trabajo altruista en apoyo de los más desfavorecidos que la actriz realizó participando en campañas de concienciación.\"@entity44, amiga de la familia, lamentó que la exMiss @entity31 2004 es \"la cara de una consecuencia de la inseguridad\" que padece el país caribeño.\n",
      "\"El venezolano se ha acostumbrado a que ya es algo cotidiano, pero @entity45 en este caso es la persona pública, es la conocida, es la que le llega al pueblo (...) realmente la cara de @entity45 hoy en día está representando la cantidad de muertos\" que se registran cada día en el país, dijo a @entity47.\n",
      "@entity31 es @number22 de los países con mayores tasas de criminalidad de la región con @number23 asesinatos por cada @number24 habitantes.\n",
      "--------------------\n",
      " @placeholder tiene una gran tasa de criminalidad: @number31 asesinatos por cada @number32 habitantes ?\n",
      "...\n",
      "@entity49\n",
      "...\n",
      "Esta semana @entity49 ha recibido una noticia que ha causado gran consternación en todo el país: el asesinato de la actriz, modelo y ex Miss @entity49 @entity61 @entity55 y de su esposo, el irlandés @entity50 . \n",
      "El fatídico hecho se produjo en una autopista @entity51 cuando el matrimonio se disponía a regresar a su casa. En el interior del vehículo, se hallaron los cuerpos sin vida de la joven pareja y a la hija de ambos, de @number25 años que también resultó herida.\n",
      "Miles de personas acudieron al velatorio de la pareja. Tanto artistas como familiares y allegados de la actriz y el empresario europeo acudieron desde el mediodía al @entity52 para dar el último adiós a la pareja.\n",
      "Seguidores de la exreina de belleza se aglomeraron en las inmediaciones de la capilla ardiente, en medio de una gran expectación y con presencia de periodistas locales y extranjeros.\n",
      "La larga fila de personas que se acercaron para dar el pésame a la familia era testigo del paso de decenas de coronas de flores que llegaban incesantemente zigzagueando entre la multitud para acceder al recinto funerario, en cuyo centro un patio techado era ocupado por una gran multitud.\n",
      "@entity53, @entity54, declaró a periodistas fuera de la capilla ardiente que desea que el pueblo venezolano la recuerde como un \"icono\" del país, al lamentar que fue el único de sus hijos que \"no pudo sacar de @entity49\".\n",
      "\"El mensaje es muy claro: nuestro país tiene que cambiar, tenemos que acabar con esta violencia, no es posible que nuestro pueblo haya gente armada y que estén matando inocentes como con mis @number26 seres tan queridos\", apuntó.\n",
      "@entity55 y @entity56 fueron tiroteados en presencia de su hija de @number25 años tras sufrir un percance en la carretera para el que recibieron asistencia de una grúa, momento aprovechado por un grupo de asaltantes para intentar robarles.\n",
      "Los ladrones dispararon contra el vehículo ocasionando la muerte de la pareja y heridas a la niña.\n",
      "Las autoridades han detenido ya a @number28 personas integrantes de una banda denominada \"Los Sanguinarios de @entity57\" y buscan a otras @number29 como presuntos autores de los asesinatos.\n",
      "La Miss @entity49 2013, @entity58: \"El ejemplo que @entity55 dio como mujer debe ser seguido por muchas en alusión al trabajo altruista en apoyo de los más desfavorecidos que la actriz realizó participando en campañas de concienciación.\"@entity60, amiga de la familia, lamentó que la exMiss @entity49 2004 es \"la cara de una consecuencia de la inseguridad\" que padece el país caribeño.\n",
      "\"El venezolano se ha acostumbrado a que ya es algo cotidiano, pero @entity61 en este caso es la persona pública, es la conocida, es la que le llega al pueblo (...) realmente la cara de @entity61 hoy en día está representando la cantidad de muertos\" que se registran cada día en el país, dijo a @entity63.\n",
      "@entity49 es @number30 de los países con mayores tasas de criminalidad de la región con @number31 asesinatos por cada @number32 habitantes.\n",
      "--------------------\n",
      " @entity64 tiene una gran tasa de criminalidad: @placeholder asesinatos por cada @number40 habitantes ?\n",
      "...\n",
      "@number33\n",
      "...\n",
      "Esta semana @entity64 ha recibido una noticia que ha causado gran consternación en todo el país: el asesinato de la actriz, modelo y ex Miss @entity64 @entity79 @entity72 y de su esposo, el irlandés @entity66 . \n",
      "El fatídico hecho se produjo en una autopista @entity67 cuando el matrimonio se disponía a regresar a su casa. En el interior del vehículo, se hallaron los cuerpos sin vida de la joven pareja y a la hija de ambos, de @number34 años que también resultó herida.\n",
      "Miles de personas acudieron al velatorio de la pareja. Tanto artistas como familiares y allegados de la actriz y el empresario europeo acudieron desde el mediodía al @entity68 para dar el último adiós a la pareja.\n",
      "Seguidores de la exreina de belleza se aglomeraron en las inmediaciones de la capilla ardiente, en medio de una gran expectación y con presencia de periodistas locales y extranjeros.\n",
      "La larga fila de personas que se acercaron para dar el pésame a la familia era testigo del paso de decenas de coronas de flores que llegaban incesantemente zigzagueando entre la multitud para acceder al recinto funerario, en cuyo centro un patio techado era ocupado por una gran multitud.\n",
      "@entity69, @entity70, declaró a periodistas fuera de la capilla ardiente que desea que el pueblo venezolano la recuerde como un \"icono\" del país, al lamentar que fue el único de sus hijos que \"no pudo sacar de @entity64\".\n",
      "\"El mensaje es muy claro: nuestro país tiene que cambiar, tenemos que acabar con esta violencia, no es posible que nuestro pueblo haya gente armada y que estén matando inocentes como con mis @number35 seres tan queridos\", apuntó.\n",
      "@entity72 y @entity73 fueron tiroteados en presencia de su hija de @number34 años tras sufrir un percance en la carretera para el que recibieron asistencia de una grúa, momento aprovechado por un grupo de asaltantes para intentar robarles.\n",
      "Los ladrones dispararon contra el vehículo ocasionando la muerte de la pareja y heridas a la niña.\n",
      "Las autoridades han detenido ya a @number37 personas integrantes de una banda denominada \"Los Sanguinarios de @entity74\" y buscan a otras @number38 como presuntos autores de los asesinatos.\n",
      "La Miss @entity64 2013, @entity76: \"El ejemplo que @entity72 dio como mujer debe ser seguido por muchas en alusión al trabajo altruista en apoyo de los más desfavorecidos que la actriz realizó participando en campañas de concienciación.\"@entity78, amiga de la familia, lamentó que la exMiss @entity64 2004 es \"la cara de una consecuencia de la inseguridad\" que padece el país caribeño.\n",
      "\"El venezolano se ha acostumbrado a que ya es algo cotidiano, pero @entity79 en este caso es la persona pública, es la conocida, es la que le llega al pueblo (...) realmente la cara de @entity79 hoy en día está representando la cantidad de muertos\" que se registran cada día en el país, dijo a @entity81.\n",
      "@entity64 es @number39 de los países con mayores tasas de criminalidad de la región con @number33 asesinatos por cada @number40 habitantes.\n",
      "--------------------\n",
      " @entity83 tiene una gran tasa de criminalidad: @number48 asesinatos por cada @placeholder habitantes ?\n",
      "...\n",
      "@number41\n",
      "...\n",
      "Esta semana @entity83 ha recibido una noticia que ha causado gran consternación en todo el país: el asesinato de la actriz, modelo y ex Miss @entity83 @entity98 @entity91 y de su esposo, el irlandés @entity85 . \n",
      "El fatídico hecho se produjo en una autopista @entity86 cuando el matrimonio se disponía a regresar a su casa. En el interior del vehículo, se hallaron los cuerpos sin vida de la joven pareja y a la hija de ambos, de @number42 años que también resultó herida.\n",
      "Miles de personas acudieron al velatorio de la pareja. Tanto artistas como familiares y allegados de la actriz y el empresario europeo acudieron desde el mediodía al @entity87 para dar el último adiós a la pareja.\n",
      "Seguidores de la exreina de belleza se aglomeraron en las inmediaciones de la capilla ardiente, en medio de una gran expectación y con presencia de periodistas locales y extranjeros.\n",
      "La larga fila de personas que se acercaron para dar el pésame a la familia era testigo del paso de decenas de coronas de flores que llegaban incesantemente zigzagueando entre la multitud para acceder al recinto funerario, en cuyo centro un patio techado era ocupado por una gran multitud.\n",
      "@entity88, @entity89, declaró a periodistas fuera de la capilla ardiente que desea que el pueblo venezolano la recuerde como un \"icono\" del país, al lamentar que fue el único de sus hijos que \"no pudo sacar de @entity83\".\n",
      "\"El mensaje es muy claro: nuestro país tiene que cambiar, tenemos que acabar con esta violencia, no es posible que nuestro pueblo haya gente armada y que estén matando inocentes como con mis @number43 seres tan queridos\", apuntó.\n",
      "@entity91 y @entity92 fueron tiroteados en presencia de su hija de @number42 años tras sufrir un percance en la carretera para el que recibieron asistencia de una grúa, momento aprovechado por un grupo de asaltantes para intentar robarles.\n",
      "Los ladrones dispararon contra el vehículo ocasionando la muerte de la pareja y heridas a la niña.\n",
      "Las autoridades han detenido ya a @number45 personas integrantes de una banda denominada \"Los Sanguinarios de @entity93\" y buscan a otras @number46 como presuntos autores de los asesinatos.\n",
      "La Miss @entity83 2013, @entity95: \"El ejemplo que @entity91 dio como mujer debe ser seguido por muchas en alusión al trabajo altruista en apoyo de los más desfavorecidos que la actriz realizó participando en campañas de concienciación.\"@entity97, amiga de la familia, lamentó que la exMiss @entity83 2004 es \"la cara de una consecuencia de la inseguridad\" que padece el país caribeño.\n",
      "\"El venezolano se ha acostumbrado a que ya es algo cotidiano, pero @entity98 en este caso es la persona pública, es la conocida, es la que le llega al pueblo (...) realmente la cara de @entity98 hoy en día está representando la cantidad de muertos\" que se registran cada día en el país, dijo a @entity100.\n",
      "@entity83 es @number47 de los países con mayores tasas de criminalidad de la región con @number48 asesinatos por cada @number41 habitantes.\n",
      "--------------------\n",
      " Los civiles armados se niegan y se registran enfrentamientos con el @placeholder ?\n",
      "...\n",
      "@entity102\n",
      "...\n",
      "La situación en el @entity103 de @entity104 es cada vez más tensa y compleja. El @entity105 lanzó este fin de semana un SOS al @entity106 federal pidiendo acciones \"terminantes y amplias\" ante la escalada de violencia que vive la región. \n",
      "El @entity106 federal exigió el lunes a los grupos de autodefensas que dejen de luchar y vuelvan a sus casas. Los grupos de autodefensas se negaron y reclamaron que primero se detenga a los @entity108 (el cártel con mayor presencia en el @entity109) aunque su líder moral, el doctor @entity110, a @number49 hora del día anunciaba que atenderían la petición del @entity106. Y los @entity108 se organizan para no perder sus feudos, amparados -según denuncias de las autodefensas- por autoridades de distintas administraciones. \n",
      "Todo era confusión horas después de la reunión celebrada en la ciudad de @entity113, capital de @entity104, que, según las autoridades, iba a poner las bases para recuperar la tranquilidad en la región. Y el vecino @entity109 de Colima alertaba a sus habitantes de no viajar a @entity104, a la vez que reforzaba la seguridad en la frontera e informaba de que ya contaba en su territorio con gente desplazada por la violencia.@entity139@entity117 desplegó en mayo en torno a @number50 militares y policías. Meses después, envió refuerzos y el @entity102 tomó el control del puerto de @entity118 (@number51 de los más importantes del @entity119 para los tráficos legales e ilegales) mientras se mantenía un doble discurso: por un lado, el @entity106 criticaba a los alzados porque ponían en jaque el @entity109 de Derecho, pero, por otro, las fuerzas federales apoyaban, o al menos dejaban hacer, a las autodefensas (algunos analistas, como el experto en crimen organizado @entity122, creen incluso que parte de las armas de los grupos civiles llegan de la misma @entity123).\n",
      "En la reunión del lunes, se acordó enviar más refuerzos, incluidos una decena de helicópteros de la @entity124 y personal de investigación. El secretario de @entity125, @entity126, aseguró que la @entity127 asumiría la seguridad en las zonas de conflicto (en torno a un tercio del estado) y que se destinarían @number52 de pesos (unos @number53 de euros) a la prevención del delito. Además, anunció la creación de una unidad antisecuestros y de una academia policial en el estado e insistió en que las autodefensas debían desarmarse.@entity139\"Se les emplaza para que regresen a sus lugares de origen y se reincorporen a sus actividades cotidianas. La seguridad de sus comunidades estará plenamente a cargo de las instituciones\", dijo tras invitarles a que se incorporen a \"los cuerpos policiales instituidos\".\n",
      "Los autodefensas dicen que su objetivo no es convertirse en policías sino que el @entity109 haga su trabajo\n",
      "Pero los civiles no se fían porque las policías estuvieron durante años infiltradas por el crimen organizado. @number54 meses después de su alzamiento, las autodefensas están más fuertes que nunca, siguen tomando pueblos -aunque los últimos, como @entity129, tras duros enfrentamientos-, tienen cercado el principal bastión de los @entity108, la localidad de @entity131 (@number55 habitantes) y aseguran que no cejarán hasta limpiar todo el estado de 'narcos'.@entity139\"Las autodefensas no vamos a bajar las armas ni vamos a retirar la ayuda a los municipios que la pidan (...) hasta no ver a los líderes criminales tras las rejas\", indicaron ayer en un comunicado colgado en @entity132. \"Queremos la aprehensión de los líderes de la delincuencia organizado y en ese entonces nos sentaremos a platicar con el @entity133, pero mientras esto no suceda y no veamos resultados por parte del @entity133, seguiremos ayudando a los pueblos a liberarse de criminales\".@entity139@entity135 añadieron varios portavoces a la prensa local, su objetivo no es convertirse en policías sino que el @entity109 haga su trabajo y garantice la seguridad de todos los pueblos michoacanos.\n",
      "Sin embargo, a @number49 hora de la noche, en un vídeo divulgado en el informativo estelar de @entity137, el doctor @entity138, que el pasado @number57 de enero resultó herido al estrellarse su avioneta al aterrizar, contradecía a sus compañeros. @entity139\"El @entity140 atiende el llamado del secretario de @entity125 y de nuestro amigo el gobernador del estado [@entity141]. Hoy aceptamos regresar a nuestras comunidades de origen y reincorporarnos a nuestras actividades cotidianas\", se escucha decir a un @entity138 todavía convaleciente, al que le cuesta hablar y que reconoce que tiene miedo y que su vida corre peligro. \n",
      "El mensaje en lugar de tranquilizar creó más confusión porque al caer la noche, los acontecimientos en @entity104 iban por otro lado. @entity135 el diario @entity145, los militares iniciaron las labores de desarme en ciertos lugares y hubo diversos enfrentamientos con las autodefensas en las inmediaciones de @entity131, donde los uniformados -continúa el periódico- entraron disparando indiscriminadamente y mataron a una persona en la localidad de @entity147.\n",
      "--------------------\n",
      " Su líder moral, el dr. @placeholder, dice en un vídeo que atenderán la petición del @entity152 ?\n",
      "...\n",
      "@entity148\n",
      "...\n",
      "La situación en el @entity149 de @entity150 es cada vez más tensa y compleja. El @entity151 lanzó este fin de semana un SOS al @entity152 federal pidiendo acciones \"terminantes y amplias\" ante la escalada de violencia que vive la región. \n",
      "El @entity152 federal exigió el lunes a los grupos de autodefensas que dejen de luchar y vuelvan a sus casas. Los grupos de autodefensas se negaron y reclamaron que primero se detenga a los @entity154 (el cártel con mayor presencia en el @entity155) aunque su líder moral, el doctor José Manuel @entity148, a @number58 hora del día anunciaba que atenderían la petición del @entity152. Y los @entity154 se organizan para no perder sus feudos, amparados -según denuncias de las autodefensas- por autoridades de distintas administraciones. \n",
      "Todo era confusión horas después de la reunión celebrada en la ciudad de @entity158, capital de @entity150, que, según las autoridades, iba a poner las bases para recuperar la tranquilidad en la región. Y el vecino @entity155 de Colima alertaba a sus habitantes de no viajar a @entity150, a la vez que reforzaba la seguridad en la frontera e informaba de que ya contaba en su territorio con gente desplazada por la violencia.@entity184@entity162 desplegó en mayo en torno a @number59 militares y policías. Meses después, envió refuerzos y el @entity163 tomó el control del puerto de @entity164 (@number60 de los más importantes del @entity165 para los tráficos legales e ilegales) mientras se mantenía un doble discurso: por un lado, el @entity152 criticaba a los alzados porque ponían en jaque el @entity155 de Derecho, pero, por otro, las fuerzas federales apoyaban, o al menos dejaban hacer, a las autodefensas (algunos analistas, como el experto en crimen organizado @entity168, creen incluso que parte de las armas de los grupos civiles llegan de la misma @entity169).\n",
      "En la reunión del lunes, se acordó enviar más refuerzos, incluidos una decena de helicópteros de la @entity170 y personal de investigación. El secretario de @entity171, @entity172, aseguró que la @entity173 asumiría la seguridad en las zonas de conflicto (en torno a un tercio del estado) y que se destinarían @number61 de pesos (unos @number62 de euros) a la prevención del delito. Además, anunció la creación de una unidad antisecuestros y de una academia policial en el estado e insistió en que las autodefensas debían desarmarse.@entity184\"Se les emplaza para que regresen a sus lugares de origen y se reincorporen a sus actividades cotidianas. La seguridad de sus comunidades estará plenamente a cargo de las instituciones\", dijo tras invitarles a que se incorporen a \"los cuerpos policiales instituidos\".\n",
      "Los autodefensas dicen que su objetivo no es convertirse en policías sino que el @entity155 haga su trabajo\n",
      "Pero los civiles no se fían porque las policías estuvieron durante años infiltradas por el crimen organizado. @number63 meses después de su alzamiento, las autodefensas están más fuertes que nunca, siguen tomando pueblos -aunque los últimos, como @entity175, tras duros enfrentamientos-, tienen cercado el principal bastión de los @entity154, la localidad de @entity177 (@number64 habitantes) y aseguran que no cejarán hasta limpiar todo el estado de 'narcos'.@entity184\"Las autodefensas no vamos a bajar las armas ni vamos a retirar la ayuda a los municipios que la pidan (...) hasta no ver a los líderes criminales tras las rejas\", indicaron ayer en un comunicado colgado en @entity178. \"Queremos la aprehensión de los líderes de la delincuencia organizado y en ese entonces nos sentaremos a platicar con el @entity179, pero mientras esto no suceda y no veamos resultados por parte del @entity179, seguiremos ayudando a los pueblos a liberarse de criminales\".@entity184@entity181 añadieron varios portavoces a la prensa local, su objetivo no es convertirse en policías sino que el @entity155 haga su trabajo y garantice la seguridad de todos los pueblos michoacanos.\n",
      "Sin embargo, a @number58 hora de la noche, en un vídeo divulgado en el informativo estelar de @entity183, el doctor @entity148, que el pasado @number66 de enero resultó herido al estrellarse su avioneta al aterrizar, contradecía a sus compañeros. @entity184\"El @entity185 atiende el llamado del secretario de @entity171 y de nuestro amigo el gobernador del estado [@entity186]. Hoy aceptamos regresar a nuestras comunidades de origen y reincorporarnos a nuestras actividades cotidianas\", se escucha decir a un @entity148 todavía convaleciente, al que le cuesta hablar y que reconoce que tiene miedo y que su vida corre peligro. \n",
      "El mensaje en lugar de tranquilizar creó más confusión porque al caer la noche, los acontecimientos en @entity150 iban por otro lado. @entity181 el diario @entity189, los militares iniciaron las labores de desarme en ciertos lugares y hubo diversos enfrentamientos con las autodefensas en las inmediaciones de @entity177, donde los uniformados -continúa el periódico- entraron disparando indiscriminadamente y mataron a una persona en la localidad de @entity191.\n",
      "--------------------\n",
      " Su líder moral, el dr. @entity225, dice en un vídeo que atenderán la petición del @placeholder ?\n",
      "...\n",
      "@entity192\n",
      "...\n",
      "La situación en el @entity193 de @entity194 es cada vez más tensa y compleja. El @entity195 lanzó este fin de semana un SOS al @entity192 federal pidiendo acciones \"terminantes y amplias\" ante la escalada de violencia que vive la región. \n",
      "El @entity192 federal exigió el lunes a los grupos de autodefensas que dejen de luchar y vuelvan a sus casas. Los grupos de autodefensas se negaron y reclamaron que primero se detenga a los @entity196 (el cártel con mayor presencia en el @entity197) aunque su líder moral, el doctor @entity198, a @number67 hora del día anunciaba que atenderían la petición del @entity192. Y los @entity196 se organizan para no perder sus feudos, amparados -según denuncias de las autodefensas- por autoridades de distintas administraciones. \n",
      "Todo era confusión horas después de la reunión celebrada en la ciudad de @entity200, capital de @entity194, que, según las autoridades, iba a poner las bases para recuperar la tranquilidad en la región. Y el vecino @entity197 de Colima alertaba a sus habitantes de no viajar a @entity194, a la vez que reforzaba la seguridad en la frontera e informaba de que ya contaba en su territorio con gente desplazada por la violencia.@entity226@entity204 desplegó en mayo en torno a @number68 militares y policías. Meses después, envió refuerzos y el @entity205 tomó el control del puerto de @entity206 (@number69 de los más importantes del @entity207 para los tráficos legales e ilegales) mientras se mantenía un doble discurso: por un lado, el @entity192 criticaba a los alzados porque ponían en jaque el @entity197 de Derecho, pero, por otro, las fuerzas federales apoyaban, o al menos dejaban hacer, a las autodefensas (algunos analistas, como el experto en crimen organizado @entity209, creen incluso que parte de las armas de los grupos civiles llegan de la misma @entity210).\n",
      "En la reunión del lunes, se acordó enviar más refuerzos, incluidos una decena de helicópteros de la @entity211 y personal de investigación. El secretario de @entity212, @entity213, aseguró que la @entity214 asumiría la seguridad en las zonas de conflicto (en torno a un tercio del estado) y que se destinarían @number70 de pesos (unos @number71 de euros) a la prevención del delito. Además, anunció la creación de una unidad antisecuestros y de una academia policial en el estado e insistió en que las autodefensas debían desarmarse.@entity226\"Se les emplaza para que regresen a sus lugares de origen y se reincorporen a sus actividades cotidianas. La seguridad de sus comunidades estará plenamente a cargo de las instituciones\", dijo tras invitarles a que se incorporen a \"los cuerpos policiales instituidos\".\n",
      "Los autodefensas dicen que su objetivo no es convertirse en policías sino que el @entity197 haga su trabajo\n",
      "Pero los civiles no se fían porque las policías estuvieron durante años infiltradas por el crimen organizado. @number72 meses después de su alzamiento, las autodefensas están más fuertes que nunca, siguen tomando pueblos -aunque los últimos, como @entity216, tras duros enfrentamientos-, tienen cercado el principal bastión de los @entity196, la localidad de @entity218 (@number73 habitantes) y aseguran que no cejarán hasta limpiar todo el estado de 'narcos'.@entity226\"Las autodefensas no vamos a bajar las armas ni vamos a retirar la ayuda a los municipios que la pidan (...) hasta no ver a los líderes criminales tras las rejas\", indicaron ayer en un comunicado colgado en @entity219. \"Queremos la aprehensión de los líderes de la delincuencia organizado y en ese entonces nos sentaremos a platicar con el @entity220, pero mientras esto no suceda y no veamos resultados por parte del @entity220, seguiremos ayudando a los pueblos a liberarse de criminales\".@entity226@entity222 añadieron varios portavoces a la prensa local, su objetivo no es convertirse en policías sino que el @entity197 haga su trabajo y garantice la seguridad de todos los pueblos michoacanos.\n",
      "Sin embargo, a @number67 hora de la noche, en un vídeo divulgado en el informativo estelar de @entity224, el doctor @entity225, que el pasado @number75 de enero resultó herido al estrellarse su avioneta al aterrizar, contradecía a sus compañeros. @entity226\"El @entity227 atiende el llamado del secretario de @entity212 y de nuestro amigo el gobernador del estado [@entity228]. Hoy aceptamos regresar a nuestras comunidades de origen y reincorporarnos a nuestras actividades cotidianas\", se escucha decir a un @entity225 todavía convaleciente, al que le cuesta hablar y que reconoce que tiene miedo y que su vida corre peligro. \n",
      "El mensaje en lugar de tranquilizar creó más confusión porque al caer la noche, los acontecimientos en @entity194 iban por otro lado. @entity222 el diario @entity232, los militares iniciaron las labores de desarme en ciertos lugares y hubo diversos enfrentamientos con las autodefensas en las inmediaciones de @entity218, donde los uniformados -continúa el periódico- entraron disparando indiscriminadamente y mataron a una persona en la localidad de @entity234.\n",
      "--------------------\n"
     ]
    }
   ],
   "source": [
    "pairs = []\n",
    "ent_id = count()\n",
    "num_id = count()\n",
    "for i in range(5):\n",
    "    doc_ents = np.array(story_entlist[i])\n",
    "    for j in range(len(fact_entlist[i])):\n",
    "        if len(fact_entlist[i][j]) == 0:\n",
    "            pass\n",
    "        else:\n",
    "            for ent in fact_entlist[i][j]:\n",
    "                matches = ~pd.isnull([re.search(r'(?<!\\w)' + ent.text + r'(?!\\w)', x.text) for x in doc_ents])\n",
    "                if np.any(matches):\n",
    "                    # remove all instances of ent (incl. partial matches) from the story entity list\n",
    "                    nq_ents = doc_ents[~matches]\n",
    "                    if ent.label_ in ['CARDINAL', 'ORDINAL']:\n",
    "                        ent_type = 'number'\n",
    "                        ent_iter = num_id\n",
    "                    else:\n",
    "                        ent_type = 'entity'\n",
    "                        ent_iter = ent_id\n",
    "                    ind = next(ent_iter)\n",
    "                    # replace entity in question\n",
    "#                     question_text = dat['keyfacts'][i][j].replace(ent.text, '@placeholder')\n",
    "                    question_text = re.sub(r'(?<!\\w)' + ent.text + r'(?!\\w)', '@placeholder', dat['keyfacts'][i][j])\n",
    "                    # replace entity in text\n",
    "#                     content_text = dat['content'][i].replace(ent.text, '@{0}{1}'.format(ent_type, ind))\n",
    "                    content_text = re.sub(r'(?<!\\w)' + ent.text + r'(?!\\w)', \n",
    "                                          '@{0}{1}'.format(ent_type, ind), dat['content'][i])\n",
    "                    ans = '@{0}{1}'.format(ent_type, ind)\n",
    "                    # replace other instances of entities\n",
    "                    for other_ent in nq_ents:\n",
    "                        if other_ent.label_ in ['CARDINAL', 'ORDINAL']:\n",
    "                            ent_type = 'number'\n",
    "                            ent_iter = num_id\n",
    "                        else:\n",
    "                            ent_type = 'entity'\n",
    "                            ent_iter = ent_id\n",
    "                        ind = next(ent_iter)\n",
    "#                         content_text = content_text.replace(other_ent.text, '@{0}{1}'.format(ent_type, ind))\n",
    "                        question_text = re.sub(r'(?<!\\w)' + other_ent.text + r'(?!\\w)', \n",
    "                                               '@{0}{1}'.format(ent_type, ind), question_text)\n",
    "                        content_text = re.sub(r'(?<!\\w)' + other_ent.text + r'(?!\\w)', \n",
    "                                              '@{0}{1}'.format(ent_type, ind), content_text)\n",
    "                    print(question_text + '?')\n",
    "                    print('...')\n",
    "                    print(ans)\n",
    "                    print('...')\n",
    "                    print(content_text)\n",
    "                    print('--------------------')"
   ]
  },
  {
   "cell_type": "markdown",
   "metadata": {
    "collapsed": true
   },
   "source": [
    "## Generate Questions"
   ]
  },
  {
   "cell_type": "code",
   "execution_count": 47,
   "metadata": {},
   "outputs": [
    {
     "data": {
      "text/plain": [
       "(15022, 5)"
      ]
     },
     "execution_count": 47,
     "metadata": {},
     "output_type": "execute_result"
    }
   ],
   "source": [
    "dat.shape"
   ]
  },
  {
   "cell_type": "code",
   "execution_count": 14,
   "metadata": {
    "scrolled": true
   },
   "outputs": [
    {
     "name": "stdout",
     "output_type": "stream",
     "text": [
      "generating question 0 to 500...\n",
      "generating question 500 to 1000...\n",
      "generating question 1000 to 1500...\n",
      "skipped bad token Abbas [\n",
      "skipped bad token Abbas [\n",
      "skipped bad token Abbas [\n",
      "skipped bad token Belavezha [\n",
      "generating question 1500 to 2000...\n",
      "skipped bad token atentado contra Saleh [\n",
      "skipped bad token atentado contra Saleh [\n",
      "generating question 2000 to 2500...\n",
      "skipped bad token La recompensa [\n",
      "generating question 2500 to 3000...\n",
      "skipped bad token Estado Islámico [\n",
      "skipped bad token Estado Islámico [\n",
      "skipped bad token Estado Islámico [\n",
      "skipped bad token Muerte [\n",
      "generating question 3000 to 3500...\n",
      "skipped bad token Consejo Legislativo [\n",
      "skipped bad token Consejo Legislativo [\n",
      "skipped bad token Gobierno [\n",
      "generating question 3500 to 4000...\n",
      "skipped bad token Parlamento [\n",
      "skipped bad token Parlamento [\n",
      "skipped bad token IS [\n",
      "skipped bad token IS [\n",
      "skipped bad token IS [\n",
      "generating question 4000 to 4500...\n",
      "skipped bad token Al Sisi [\n",
      "skipped bad token IS [\n",
      "skipped bad token IS [\n",
      "generating question 4500 to 5000...\n",
      "generating question 5000 to 5500...\n",
      "generating question 5500 to 6000...\n",
      "skipped bad token Al Marg [\n",
      "skipped bad token José Guerra [\n",
      "skipped bad token José Guerra [\n",
      "generating question 6000 to 6500...\n",
      "skipped bad token Gobierno de [\n",
      "skipped bad token Gobierno de [\n",
      "skipped bad token Gobierno de [\n",
      "skipped bad token Partido Nacional Democrático [\n",
      "skipped bad token Partido Nacional Democrático [\n",
      "skipped bad token Estado de Defensa [\n",
      "skipped bad token Estado de Defensa [\n",
      "skipped bad token Estado de Defensa [\n",
      "skipped bad token House of Cards [\n",
      "skipped bad token House of Cards [\n",
      "skipped bad token Revolución [\n",
      "skipped bad token Revolución [\n",
      "generating question 6500 to 7000...\n",
      "skipped bad token Gobierno [de\n",
      "skipped bad token Gobierno [de\n",
      "generating question 7000 to 7500...\n",
      "skipped bad token ¡Kausachun [Viva\n",
      "skipped bad token Gran Transformación [\n",
      "skipped bad token ¡Kausachun [Viva\n",
      "skipped bad token Gran Transformación [\n",
      "skipped bad token ¡Kausachun [Viva\n",
      "skipped bad token Gran Transformación [\n",
      "skipped bad token ¡Kausachun [Viva\n",
      "skipped bad token Gran Transformación [\n",
      "skipped bad token Pope is our hope [\n",
      "skipped bad token Pope is our hope [\n",
      "skipped bad token Word of God [palabra de Dios\n",
      "skipped bad token Word of God [palabra de Dios\n",
      "skipped bad token Word of God [palabra de Dios\n",
      "generating question 7500 to 8000...\n",
      "skipped bad token Eissa [Jesús\n",
      "skipped bad token Al Shuhada [\n",
      "skipped bad token Al Shuhada [\n",
      "skipped bad token Al Shuhada [\n",
      "skipped bad token Al Shuhada [\n",
      "skipped bad token IS [Estado Islámico\n",
      "generating question 8000 to 8500...\n",
      "generating question 8500 to 9000...\n",
      "skipped bad token Asamblea Nacional [de\n",
      "skipped bad token Asamblea Nacional [de\n",
      "skipped bad token Asamblea Nacional [de\n",
      "skipped bad token Asamblea Nacional [de\n",
      "skipped bad token él [Ailes\n",
      "skipped bad token Islam Abduganievich [Karímov\n",
      "skipped bad token Bagdadi [\n",
      "skipped bad token Bagdadi [\n",
      "generating question 9000 to 9500...\n",
      "skipped bad token IS [Estado Islámico\n",
      "skipped bad token Common Sense [\n",
      "generating question 9500 to 10000...\n",
      "skipped bad token Cuándo [\n",
      "skipped bad token Cuándo [\n",
      "skipped bad token Cuándo [\n",
      "skipped bad token Cuándo [\n",
      "skipped bad token Cuándo [\n",
      "skipped bad token @HDPgenelmerkezi MPs [\n",
      "skipped bad token @HDPgenelmerkezi MPs [\n",
      "skipped bad token @HDPgenelmerkezi MPs [\n",
      "generating question 10000 to 10500...\n",
      "skipped bad token Obama [\n",
      "skipped bad token Obama [\n",
      "generating question 10500 to 11000...\n",
      "skipped bad token El avión que recibimos hoy [\n",
      "skipped bad token El avión que recibimos hoy [\n",
      "skipped bad token El avión que recibimos hoy [\n",
      "skipped bad token El avión que recibimos hoy [\n",
      "skipped bad token El avión que recibimos hoy [\n",
      "skipped bad token Fletcher School of Law and Diplomacy [\n",
      "skipped bad token Fletcher School of Law and Diplomacy [\n",
      "skipped bad token Fletcher School of Law and Diplomacy [\n",
      "skipped bad token Fletcher School of Law and Diplomacy [\n",
      "generating question 11000 to 11500...\n",
      "skipped bad token Holocausto [\n",
      "skipped bad token Holocausto [\n",
      "skipped bad token Holocausto [\n",
      "skipped bad token Holocausto [\n",
      "skipped bad token Holocausto [\n",
      "generating question 11500 to 12000...\n",
      "skipped bad token Consejo Nacional [Parlamento\n",
      "skipped bad token Consejo Nacional [Parlamento\n",
      "generating question 12000 to 12500...\n",
      "skipped bad token Liga Nacional para la Democracia [\n",
      "skipped bad token Liga Nacional para la Democracia [\n",
      "skipped bad token IS [\n",
      "generating question 12500 to 13000...\n",
      "skipped bad token Rey David [\n",
      "skipped bad token Rey David [\n",
      "skipped bad token Rey David [\n",
      "skipped bad token Rey David [\n",
      "generating question 13000 to 13500...\n",
      "skipped bad token IS [Estado Islámico\n",
      "skipped bad token IS [Estado Islámico\n",
      "skipped bad token Estado [\n",
      "skipped bad token Estado [\n",
      "skipped bad token Terror [\n",
      "skipped bad token Terror [\n",
      "skipped bad token Terror [\n",
      "skipped bad token Terror [\n",
      "skipped bad token Terror [\n",
      "generating question 13500 to 14000...\n",
      "skipped bad token él [Moxtar\n",
      "skipped bad token él [Moxtar\n",
      "skipped bad token Bagdadi [\n",
      "skipped bad token Bagdadi [\n",
      "generating question 14000 to 14500...\n",
      "skipped bad token Senado [\n",
      "skipped bad token Senado [\n",
      "skipped bad token Senado [\n",
      "skipped bad token Senado [\n",
      "skipped bad token Pura paja [\n",
      "skipped bad token Pura paja [\n",
      "skipped bad token Pura paja [\n",
      "skipped bad token Pura paja [\n",
      "skipped bad token Pura paja [\n",
      "skipped bad token Pura paja [\n",
      "skipped bad token Pura paja [\n",
      "skipped bad token IS [\n",
      "skipped bad token IS [\n",
      "skipped bad token Asamblea Nacional Constituyente [\n",
      "skipped bad token Asamblea Nacional Constituyente [\n",
      "skipped bad token Asamblea Nacional Constituyente [\n",
      "skipped bad token Rosaura [\n",
      "skipped bad token Rosaura [\n",
      "skipped bad token Rosaura [\n",
      "skipped bad token Rosaura [\n",
      "skipped bad token Rosaura [\n",
      "generating question 14500 to 15000...\n",
      "skipped bad token él [Klein\n",
      "skipped bad token él [Klein\n",
      "skipped bad token él [Klein\n",
      "skipped bad token él [Klein\n",
      "skipped bad token él [Klein\n",
      "skipped bad token ACF [\n",
      "skipped bad token ACF [\n",
      "generating question 15000 to 15500...\n"
     ]
    }
   ],
   "source": [
    "M = dat.shape[0]\n",
    "pairs = []\n",
    "ent_id = count()\n",
    "num_id = count()\n",
    "for i in range(M):\n",
    "    if i % 500 == 0:\n",
    "        print(\"generating question {0} to {1}...\".format(i, i + 500))\n",
    "    doc_ents = np.array(story_entlist[i])\n",
    "    for j in range(len(fact_entlist[i])):\n",
    "        if len(fact_entlist[i][j]) == 0:\n",
    "            pass\n",
    "        else:\n",
    "            for ent in fact_entlist[i][j]:\n",
    "                try:\n",
    "                    matches = ~pd.isnull([re.search(r'(?<!\\w)' + ent.text + r'(?!\\w)', x.text) for x in doc_ents])\n",
    "                except:\n",
    "                    continue\n",
    "                if np.any(matches):\n",
    "                    # remove all instances of ent (incl. partial matches) from the story entity list\n",
    "                    nq_ents = doc_ents[~matches]\n",
    "                    if ent.label_ in ['CARDINAL', 'ORDINAL']:\n",
    "                        ent_type = 'number'\n",
    "                        ent_iter = num_id\n",
    "                    else:\n",
    "                        ent_type = 'entity'\n",
    "                        ent_iter = ent_id\n",
    "                    ind = next(ent_iter)\n",
    "                    # replace entity in question\n",
    "#                     question_text = dat['keyfacts'][i][j].replace(ent.text, '@placeholder')\n",
    "                    question_text = re.sub(r'(?<!\\w)' + ent.text + r'(?!\\w)', '@placeholder', dat['keyfacts'][i][j])\n",
    "                    # replace entity in text\n",
    "#                     content_text = dat['content'][i].replace(ent.text, '@{0}{1}'.format(ent_type, ind))\n",
    "                    content_text = re.sub(r'(?<!\\w)' + ent.text + r'(?!\\w)', \n",
    "                                          '@{0}{1}'.format(ent_type, ind), dat['content'][i])\n",
    "                    ans = '@{0}{1}'.format(ent_type, ind)\n",
    "                    # replace other instances of entities\n",
    "                    for other_ent in nq_ents:\n",
    "                        if re.search(r\"\\(|\\)\", other_ent.text):\n",
    "                            continue\n",
    "                        if other_ent.label_ in ['CARDINAL', 'ORDINAL']:\n",
    "                            ent_type = 'number'\n",
    "                            ent_iter = num_id\n",
    "                        else:\n",
    "                            ent_type = 'entity'\n",
    "                            ent_iter = ent_id\n",
    "                        ind = next(ent_iter)\n",
    "#                         content_text = content_text.replace(other_ent.text, '@{0}{1}'.format(ent_type, ind))\n",
    "                        try:\n",
    "                            question_text = re.sub(r'(?<!\\w)' + other_ent.text + r'(?!\\w)', \n",
    "                                                   '@{0}{1}'.format(ent_type, ind), question_text)\n",
    "                            content_text = re.sub(r'(?<!\\w)' + other_ent.text + r'(?!\\w)', \n",
    "                                                  '@{0}{1}'.format(ent_type, ind), content_text)\n",
    "                        except:\n",
    "                            print(\"skipped bad token {0}\".format(other_ent.text))\n",
    "                    pairs += [[question_text, ans, content_text]]"
   ]
  },
  {
   "cell_type": "code",
   "execution_count": 15,
   "metadata": {
    "collapsed": true
   },
   "outputs": [],
   "source": [
    "df = pd.DataFrame(pairs, columns=[\"question\", \"answer\", \"story\"])"
   ]
  },
  {
   "cell_type": "code",
   "execution_count": 16,
   "metadata": {
    "scrolled": true
   },
   "outputs": [
    {
     "data": {
      "text/html": [
       "<div>\n",
       "<style>\n",
       "    .dataframe thead tr:only-child th {\n",
       "        text-align: right;\n",
       "    }\n",
       "\n",
       "    .dataframe thead th {\n",
       "        text-align: left;\n",
       "    }\n",
       "\n",
       "    .dataframe tbody tr th {\n",
       "        vertical-align: top;\n",
       "    }\n",
       "</style>\n",
       "<table border=\"1\" class=\"dataframe\">\n",
       "  <thead>\n",
       "    <tr style=\"text-align: right;\">\n",
       "      <th></th>\n",
       "      <th>question</th>\n",
       "      <th>answer</th>\n",
       "      <th>story</th>\n",
       "    </tr>\n",
       "  </thead>\n",
       "  <tbody>\n",
       "    <tr>\n",
       "      <th>0</th>\n",
       "      <td>La información proviene de los documentos del...</td>\n",
       "      <td>@entity0</td>\n",
       "      <td>La @entity1 (@entity2) trabaja en la construcc...</td>\n",
       "    </tr>\n",
       "    <tr>\n",
       "      <th>1</th>\n",
       "      <td>@entity26 @entity19 y su marido fueron asesin...</td>\n",
       "      <td>@number10</td>\n",
       "      <td>Esta semana @entity11 ha recibido una noticia ...</td>\n",
       "    </tr>\n",
       "    <tr>\n",
       "      <th>2</th>\n",
       "      <td>Han detenido a 7 personas intregrantes de la ...</td>\n",
       "      <td>@entity30</td>\n",
       "      <td>Esta semana @entity31 ha recibido una noticia ...</td>\n",
       "    </tr>\n",
       "    <tr>\n",
       "      <th>3</th>\n",
       "      <td>@placeholder tiene una gran tasa de criminali...</td>\n",
       "      <td>@entity49</td>\n",
       "      <td>Esta semana @entity49 ha recibido una noticia ...</td>\n",
       "    </tr>\n",
       "    <tr>\n",
       "      <th>4</th>\n",
       "      <td>@entity64 tiene una gran tasa de criminalidad...</td>\n",
       "      <td>@number33</td>\n",
       "      <td>Esta semana @entity64 ha recibido una noticia ...</td>\n",
       "    </tr>\n",
       "  </tbody>\n",
       "</table>\n",
       "</div>"
      ],
      "text/plain": [
       "                                            question     answer  \\\n",
       "0   La información proviene de los documentos del...   @entity0   \n",
       "1   @entity26 @entity19 y su marido fueron asesin...  @number10   \n",
       "2   Han detenido a 7 personas intregrantes de la ...  @entity30   \n",
       "3   @placeholder tiene una gran tasa de criminali...  @entity49   \n",
       "4   @entity64 tiene una gran tasa de criminalidad...  @number33   \n",
       "\n",
       "                                               story  \n",
       "0  La @entity1 (@entity2) trabaja en la construcc...  \n",
       "1  Esta semana @entity11 ha recibido una noticia ...  \n",
       "2  Esta semana @entity31 ha recibido una noticia ...  \n",
       "3  Esta semana @entity49 ha recibido una noticia ...  \n",
       "4  Esta semana @entity64 ha recibido una noticia ...  "
      ]
     },
     "execution_count": 16,
     "metadata": {},
     "output_type": "execute_result"
    }
   ],
   "source": [
    "df.head()"
   ]
  },
  {
   "cell_type": "code",
   "execution_count": 17,
   "metadata": {},
   "outputs": [
    {
     "data": {
      "text/plain": [
       "(30297, 3)"
      ]
     },
     "execution_count": 17,
     "metadata": {},
     "output_type": "execute_result"
    }
   ],
   "source": [
    "df.shape"
   ]
  },
  {
   "cell_type": "code",
   "execution_count": 58,
   "metadata": {
    "collapsed": true
   },
   "outputs": [],
   "source": [
    "df.to_csv(\"es_sample.csv\")"
   ]
  },
  {
   "cell_type": "code",
   "execution_count": 18,
   "metadata": {
    "collapsed": true
   },
   "outputs": [],
   "source": [
    "df.to_pickle(\"../data/elmondo_es_qa.pkl\")"
   ]
  },
  {
   "cell_type": "code",
   "execution_count": null,
   "metadata": {
    "collapsed": true
   },
   "outputs": [],
   "source": []
  }
 ],
 "metadata": {
  "anaconda-cloud": {},
  "hide_input": false,
  "kernelspec": {
   "display_name": "Python [py36]",
   "language": "python",
   "name": "Python [py36]"
  },
  "language_info": {
   "codemirror_mode": {
    "name": "ipython",
    "version": 3
   },
   "file_extension": ".py",
   "mimetype": "text/x-python",
   "name": "python",
   "nbconvert_exporter": "python",
   "pygments_lexer": "ipython3",
   "version": "3.6.2"
  },
  "varInspector": {
   "cols": {
    "lenName": 16,
    "lenType": 16,
    "lenVar": 40
   },
   "kernels_config": {
    "python": {
     "delete_cmd_postfix": "",
     "delete_cmd_prefix": "del ",
     "library": "var_list.py",
     "varRefreshCmd": "print(var_dic_list())"
    },
    "r": {
     "delete_cmd_postfix": ") ",
     "delete_cmd_prefix": "rm(",
     "library": "var_list.r",
     "varRefreshCmd": "cat(var_dic_list()) "
    }
   },
   "types_to_exclude": [
    "module",
    "function",
    "builtin_function_or_method",
    "instance",
    "_Feature"
   ],
   "window_display": false
  }
 },
 "nbformat": 4,
 "nbformat_minor": 1
}
