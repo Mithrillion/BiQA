{
 "cells": [
  {
   "cell_type": "code",
   "execution_count": 2,
   "metadata": {
    "collapsed": true
   },
   "outputs": [],
   "source": [
    "from bs4 import BeautifulSoup\n",
    "import asyncio\n",
    "from aiohttp import ClientSession\n",
    "import numpy as np\n",
    "import pandas as pd\n",
    "from functools import partial\n",
    "from aiohttp import ClientConnectorError\n",
    "import json\n",
    "import re\n",
    "from bs4 import NavigableString\n",
    "from pprint import pprint\n",
    "from datetime import datetime, timedelta\n",
    "import os\n",
    "from itertools import chain"
   ]
  },
  {
   "cell_type": "code",
   "execution_count": 28,
   "metadata": {
    "collapsed": true
   },
   "outputs": [],
   "source": [
    "async def get_html_data(trail, session):\n",
    "    \"\"\"Access CNN webpage\"\"\"\n",
    "    url = trail\n",
    "    attempts = 0\n",
    "    while attempts < 3:\n",
    "        try:\n",
    "            res = await session.get(url)\n",
    "            try:\n",
    "                html = await res.text()\n",
    "            except UnicodeDecodeError:\n",
    "                return trail, None\n",
    "            try:\n",
    "                soup = BeautifulSoup(html, 'html.parser')\n",
    "                headline = soup.select(\".headline-article-main\")[0].text\n",
    "                facts = [fact.text for fact in soup.select(\".key-facts p\")]\n",
    "                body = \"\\n\".join([sent.text for sent in soup.select(\".content-body-text p\")]).replace(\"\\n\\n\", \"\\n\")\n",
    "                tag = [tag.text for tag in soup.select(\".tags a\")]\n",
    "            except IndexError:\n",
    "                global DEBUG\n",
    "                DEBUG.append((trail, soup))\n",
    "                print(\"content error!\")                \n",
    "                return trail, None\n",
    "            try:\n",
    "                time = re.search(r\"\\(.*\\d\\d\\d\\d\", soup.select(\"time\")[0].text).group(0)\n",
    "            except:\n",
    "                time = None\n",
    "            attrs = {\n",
    "                \"headline\": headline,\n",
    "                \"keyfacts\": facts, \n",
    "                \"content\": body,\n",
    "                \"tags\": tag,\n",
    "                \"time\": time\n",
    "                    }\n",
    "            return trail, attrs\n",
    "        except ClientConnectorError:\n",
    "            attempts += 1\n",
    "            print(\"Connector error occurred!\")\n",
    "    if attempts == 3:\n",
    "        return trail, None\n",
    "    \n",
    "async def gather_results(curr, step, trails):\n",
    "    \"\"\"Launch scrape tasks and collect results\"\"\"\n",
    "    tasks = []\n",
    "    async with ClientSession() as session:\n",
    "        for trail in trails[curr: curr + step]:\n",
    "            task = asyncio.ensure_future(get_html_data(trail, session))\n",
    "            tasks.append(task)\n",
    "\n",
    "        responses = await asyncio.gather(*tasks)\n",
    "        # you now have all response bodies in this variable\n",
    "        return responses\n",
    "\n",
    "\n",
    "def process_df(future, curr, step):\n",
    "    \"\"\"Save scrape results in json files\"\"\"\n",
    "    cache = {k: v for k, v in future.result()}\n",
    "#     cache = future.result()\n",
    "    if len(cache) == 0:\n",
    "        raise RuntimeError(\"Empty response!\")\n",
    "    else:\n",
    "#         json.dump(cache, open(\"./data/scraped/scraped_{0}_{1}.json\".format(curr, curr + step), \"w\"))\n",
    "        json.dump(cache, open(\"./data/contents/scraped_{0}_{1}.json\".format(curr, curr + step), \"w\"))\n",
    "        print(\"got it! ({0}, {1})\".format(curr, curr + step))"
   ]
  },
  {
   "cell_type": "code",
   "execution_count": 3,
   "metadata": {},
   "outputs": [
    {
     "data": {
      "text/plain": [
       "3828"
      ]
     },
     "execution_count": 3,
     "metadata": {},
     "output_type": "execute_result"
    }
   ],
   "source": [
    "file_list = os.listdir(\"./data/scraped/\")\n",
    "articles = dict()\n",
    "for file in file_list:\n",
    "    with open(os.path.join(\"./data/scraped/\", file), \"r\") as f:\n",
    "        articles.update(json.load(f))\n",
    "\n",
    "trails = list(chain.from_iterable(articles.values()))\n",
    "len(trails)"
   ]
  },
  {
   "cell_type": "code",
   "execution_count": 34,
   "metadata": {
    "scrolled": false
   },
   "outputs": [
    {
     "name": "stdout",
     "output_type": "stream",
     "text": [
      "loading data from 1800 to 1900\n",
      "got it! (1800, 1900)\n"
     ]
    }
   ],
   "source": [
    "# df = pd.read_csv(\"./data/ratings.csv\")\n",
    "# app_ids = df.loc[:, \"app_id\"].astype(str)\n",
    "\n",
    "start = 1800\n",
    "# end = len(trails)\n",
    "end = 1900\n",
    "step = 100\n",
    "DEBUG = []\n",
    "\n",
    "for curr in range(start, end, step):\n",
    "    print(\"loading data from {0} to {1}\".format(curr, curr + step))\n",
    "    loop = asyncio.get_event_loop()\n",
    "    future = asyncio.ensure_future(gather_results(curr, step, trails))\n",
    "    future.add_done_callback(partial(process_df, curr=curr, step=step))\n",
    "    loop.run_until_complete(future)"
   ]
  },
  {
   "cell_type": "code",
   "execution_count": 4,
   "metadata": {},
   "outputs": [
    {
     "data": {
      "text/plain": [
       "3828"
      ]
     },
     "execution_count": 4,
     "metadata": {},
     "output_type": "execute_result"
    }
   ],
   "source": [
    "doc_list = os.listdir(\"./data/contents/\")\n",
    "articles = dict()\n",
    "for file in doc_list:\n",
    "    with open(os.path.join(\"./data/contents/\", file), \"r\") as f:\n",
    "        articles.update(json.load(f))\n",
    "\n",
    "len(articles)"
   ]
  },
  {
   "cell_type": "code",
   "execution_count": 5,
   "metadata": {
    "collapsed": true
   },
   "outputs": [],
   "source": [
    "clean = {k: v for k, v in articles.items() if v is not None}"
   ]
  },
  {
   "cell_type": "code",
   "execution_count": 6,
   "metadata": {},
   "outputs": [
    {
     "data": {
      "text/plain": [
       "3803"
      ]
     },
     "execution_count": 6,
     "metadata": {},
     "output_type": "execute_result"
    }
   ],
   "source": [
    "len(clean)"
   ]
  },
  {
   "cell_type": "code",
   "execution_count": 7,
   "metadata": {
    "collapsed": true
   },
   "outputs": [],
   "source": [
    "docs = pd.DataFrame.from_dict(clean, orient='index')"
   ]
  },
  {
   "cell_type": "code",
   "execution_count": 8,
   "metadata": {},
   "outputs": [
    {
     "data": {
      "text/plain": [
       "(3069, 5)"
      ]
     },
     "execution_count": 8,
     "metadata": {},
     "output_type": "execute_result"
    }
   ],
   "source": [
    "valids = docs.loc[docs['keyfacts'].astype(np.bool), :]\n",
    "valids.shape"
   ]
  },
  {
   "cell_type": "code",
   "execution_count": 9,
   "metadata": {},
   "outputs": [
    {
     "data": {
      "text/html": [
       "<div>\n",
       "<style>\n",
       "    .dataframe thead tr:only-child th {\n",
       "        text-align: right;\n",
       "    }\n",
       "\n",
       "    .dataframe thead th {\n",
       "        text-align: left;\n",
       "    }\n",
       "\n",
       "    .dataframe tbody tr th {\n",
       "        vertical-align: top;\n",
       "    }\n",
       "</style>\n",
       "<table border=\"1\" class=\"dataframe\">\n",
       "  <thead>\n",
       "    <tr style=\"text-align: right;\">\n",
       "      <th></th>\n",
       "      <th>headline</th>\n",
       "      <th>keyfacts</th>\n",
       "      <th>content</th>\n",
       "      <th>tags</th>\n",
       "      <th>time</th>\n",
       "    </tr>\n",
       "  </thead>\n",
       "  <tbody>\n",
       "    <tr>\n",
       "      <th>http://cnnespanol.cnn.com/2015/05/05/estudiantes-peruanos-ensenan-historia-en-los-autobuses/</th>\n",
       "      <td>Estudiantes peruanos enseñan historia... en lo...</td>\n",
       "      <td>[Un grupo de estudiantes de la Universidad San...</td>\n",
       "      <td>(CNN Español) - En medio de los tediosos y caó...</td>\n",
       "      <td>[]</td>\n",
       "      <td>(02:22 GMT) 5 mayo, 2015</td>\n",
       "    </tr>\n",
       "    <tr>\n",
       "      <th>http://cnnespanol.cnn.com/2015/05/05/la-dea-sanciona-a-agentes-que-olvidaron-a-estudiante-en-una-celda-por-cinco-dias/</th>\n",
       "      <td>La DEA sanciona a agentes que olvidaron a estu...</td>\n",
       "      <td>[Daniel Chong fue esposado y mantenido dentro ...</td>\n",
       "      <td>(CNN) – La Administración para el Control de D...</td>\n",
       "      <td>[Daniel Chong, DEA]</td>\n",
       "      <td>(03:09 GMT) 5 mayo, 2015</td>\n",
       "    </tr>\n",
       "    <tr>\n",
       "      <th>http://cnnespanol.cnn.com/2015/05/06/el-papa-francisco-aprende-trucos-de-basquetbol-con-los-harlem-globetrotters/</th>\n",
       "      <td>El papa Francisco aprende trucos de basquetbol...</td>\n",
       "      <td>[Francisco es la novena persona en la historia...</td>\n",
       "      <td>(CNNMéxico) — ¿Un papa basquetbolista? No exac...</td>\n",
       "      <td>[Harlem Globetrotters, Papa Francisco]</td>\n",
       "      <td>(01:23 GMT) 6 mayo, 2015</td>\n",
       "    </tr>\n",
       "    <tr>\n",
       "      <th>http://cnnespanol.cnn.com/2015/05/06/es-momento-de-un-cambio-michelle-bachelet-le-pide-la-renuncia-a-su-gabinete/</th>\n",
       "      <td>'Es momento de un cambio': Michelle Bachelet l...</td>\n",
       "      <td>[Michelle Bachelet anunció que pidió la renunc...</td>\n",
       "      <td>(CNN Español) - La presidenta Michelle Bachele...</td>\n",
       "      <td>[Michele Bachelet]</td>\n",
       "      <td>(01:33 GMT) 6 mayo, 2015</td>\n",
       "    </tr>\n",
       "    <tr>\n",
       "      <th>http://cnnespanol.cnn.com/2015/05/06/partidos-politicos-de-mexico-adoptan-medidas-para-lidiar-con-la-violencia-contra-candidatos/</th>\n",
       "      <td>Partidos políticos de México adoptan medidas p...</td>\n",
       "      <td>[Una serie de hechos de violencia registrados ...</td>\n",
       "      <td>(CNN Español) - El Partido Acción Nacional de ...</td>\n",
       "      <td>[]</td>\n",
       "      <td>(01:29 GMT) 6 mayo, 2015</td>\n",
       "    </tr>\n",
       "  </tbody>\n",
       "</table>\n",
       "</div>"
      ],
      "text/plain": [
       "                                                                                             headline  \\\n",
       "http://cnnespanol.cnn.com/2015/05/05/estudiante...  Estudiantes peruanos enseñan historia... en lo...   \n",
       "http://cnnespanol.cnn.com/2015/05/05/la-dea-san...  La DEA sanciona a agentes que olvidaron a estu...   \n",
       "http://cnnespanol.cnn.com/2015/05/06/el-papa-fr...  El papa Francisco aprende trucos de basquetbol...   \n",
       "http://cnnespanol.cnn.com/2015/05/06/es-momento...  'Es momento de un cambio': Michelle Bachelet l...   \n",
       "http://cnnespanol.cnn.com/2015/05/06/partidos-p...  Partidos políticos de México adoptan medidas p...   \n",
       "\n",
       "                                                                                             keyfacts  \\\n",
       "http://cnnespanol.cnn.com/2015/05/05/estudiante...  [Un grupo de estudiantes de la Universidad San...   \n",
       "http://cnnespanol.cnn.com/2015/05/05/la-dea-san...  [Daniel Chong fue esposado y mantenido dentro ...   \n",
       "http://cnnespanol.cnn.com/2015/05/06/el-papa-fr...  [Francisco es la novena persona en la historia...   \n",
       "http://cnnespanol.cnn.com/2015/05/06/es-momento...  [Michelle Bachelet anunció que pidió la renunc...   \n",
       "http://cnnespanol.cnn.com/2015/05/06/partidos-p...  [Una serie de hechos de violencia registrados ...   \n",
       "\n",
       "                                                                                              content  \\\n",
       "http://cnnespanol.cnn.com/2015/05/05/estudiante...  (CNN Español) - En medio de los tediosos y caó...   \n",
       "http://cnnespanol.cnn.com/2015/05/05/la-dea-san...  (CNN) – La Administración para el Control de D...   \n",
       "http://cnnespanol.cnn.com/2015/05/06/el-papa-fr...  (CNNMéxico) — ¿Un papa basquetbolista? No exac...   \n",
       "http://cnnespanol.cnn.com/2015/05/06/es-momento...  (CNN Español) - La presidenta Michelle Bachele...   \n",
       "http://cnnespanol.cnn.com/2015/05/06/partidos-p...  (CNN Español) - El Partido Acción Nacional de ...   \n",
       "\n",
       "                                                                                      tags  \\\n",
       "http://cnnespanol.cnn.com/2015/05/05/estudiante...                                      []   \n",
       "http://cnnespanol.cnn.com/2015/05/05/la-dea-san...                     [Daniel Chong, DEA]   \n",
       "http://cnnespanol.cnn.com/2015/05/06/el-papa-fr...  [Harlem Globetrotters, Papa Francisco]   \n",
       "http://cnnespanol.cnn.com/2015/05/06/es-momento...                      [Michele Bachelet]   \n",
       "http://cnnespanol.cnn.com/2015/05/06/partidos-p...                                      []   \n",
       "\n",
       "                                                                        time  \n",
       "http://cnnespanol.cnn.com/2015/05/05/estudiante...  (02:22 GMT) 5 mayo, 2015  \n",
       "http://cnnespanol.cnn.com/2015/05/05/la-dea-san...  (03:09 GMT) 5 mayo, 2015  \n",
       "http://cnnespanol.cnn.com/2015/05/06/el-papa-fr...  (01:23 GMT) 6 mayo, 2015  \n",
       "http://cnnespanol.cnn.com/2015/05/06/es-momento...  (01:33 GMT) 6 mayo, 2015  \n",
       "http://cnnespanol.cnn.com/2015/05/06/partidos-p...  (01:29 GMT) 6 mayo, 2015  "
      ]
     },
     "execution_count": 9,
     "metadata": {},
     "output_type": "execute_result"
    }
   ],
   "source": [
    "valids.head()"
   ]
  },
  {
   "cell_type": "code",
   "execution_count": 10,
   "metadata": {
    "collapsed": true
   },
   "outputs": [],
   "source": [
    "valids.to_pickle('./data/cnn_es.pkl')"
   ]
  },
  {
   "cell_type": "code",
   "execution_count": null,
   "metadata": {
    "collapsed": true
   },
   "outputs": [],
   "source": []
  }
 ],
 "metadata": {
  "anaconda-cloud": {},
  "kernelspec": {
   "display_name": "Python [py36]",
   "language": "python",
   "name": "Python [py36]"
  },
  "language_info": {
   "codemirror_mode": {
    "name": "ipython",
    "version": 3
   },
   "file_extension": ".py",
   "mimetype": "text/x-python",
   "name": "python",
   "nbconvert_exporter": "python",
   "pygments_lexer": "ipython3",
   "version": "3.6.2"
  }
 },
 "nbformat": 4,
 "nbformat_minor": 1
}
