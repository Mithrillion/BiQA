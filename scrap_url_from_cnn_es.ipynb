{
 "cells": [
  {
   "cell_type": "code",
   "execution_count": 20,
   "metadata": {
    "collapsed": true,
    "deletable": true,
    "editable": true
   },
   "outputs": [],
   "source": [
    "from bs4 import BeautifulSoup\n",
    "import asyncio\n",
    "from aiohttp import ClientSession\n",
    "import numpy as np\n",
    "import pandas as pd\n",
    "from functools import partial\n",
    "from aiohttp import ClientConnectorError\n",
    "import json\n",
    "import re\n",
    "from bs4 import NavigableString\n",
    "from pprint import pprint\n",
    "from datetime import datetime, timedelta\n",
    "import os\n",
    "from itertools import chain"
   ]
  },
  {
   "cell_type": "code",
   "execution_count": 2,
   "metadata": {
    "collapsed": true,
    "deletable": true,
    "editable": true
   },
   "outputs": [],
   "source": [
    "async def get_html_data(trail, session):\n",
    "    \"\"\"Access CNN daily archives webpage\"\"\"\n",
    "    url = trail\n",
    "    attempts = 0\n",
    "    while attempts < 3:\n",
    "        try:\n",
    "            res = await session.get(url)\n",
    "            try:\n",
    "                html = await res.text()\n",
    "            except UnicodeDecodeError:\n",
    "                return trail, None\n",
    "            soup = BeautifulSoup(html, 'html.parser')\n",
    "            urls = [a['href'] for a in soup.select(\".entry-title a\") if not re.search(r'/video/', a['href'])]\n",
    "            return trail, urls\n",
    "        except ClientConnectorError:\n",
    "            attempts += 1\n",
    "            print(\"Connector error occurred!\")\n",
    "    if attempts == 3:\n",
    "        return trail, None\n",
    "\n",
    "async def gather_results(curr, step, trails):\n",
    "    \"\"\"Launch scrape tasks and collect results\"\"\"\n",
    "    tasks = []\n",
    "    async with ClientSession() as session:\n",
    "        for trail in trails[curr: curr + step]:\n",
    "            task = asyncio.ensure_future(get_html_data(trail, session))\n",
    "            tasks.append(task)\n",
    "\n",
    "        responses = await asyncio.gather(*tasks)\n",
    "        # you now have all response bodies in this variable\n",
    "        return responses\n",
    "\n",
    "\n",
    "def process_df(future, curr, step):\n",
    "    \"\"\"Save scrape results in json files\"\"\"\n",
    "    cache = {k: v for k, v in future.result()}\n",
    "#     cache = future.result()\n",
    "    if len(cache) == 0:\n",
    "        raise RuntimeError(\"Empty response!\")\n",
    "    else:\n",
    "        json.dump(cache, open(\"./data/scraped/scraped_{0}_{1}.json\".format(curr, curr + step), \"w\"))\n",
    "        print(\"got it! ({0}, {1})\".format(curr, curr + step))\n",
    "\n",
    "\n",
    "# df = pd.read_csv(\"./data/ratings.csv\")\n",
    "# app_ids = df.loc[:, \"app_id\"].astype(str)"
   ]
  },
  {
   "cell_type": "code",
   "execution_count": 3,
   "metadata": {
    "collapsed": true,
    "deletable": true,
    "editable": true
   },
   "outputs": [],
   "source": [
    "header = \"http://cnnespanol.cnn.com/\""
   ]
  },
  {
   "cell_type": "code",
   "execution_count": 4,
   "metadata": {
    "collapsed": false,
    "deletable": true,
    "editable": true
   },
   "outputs": [
    {
     "data": {
      "text/plain": [
       "'2015/05/06'"
      ]
     },
     "execution_count": 4,
     "metadata": {},
     "output_type": "execute_result"
    }
   ],
   "source": [
    "(datetime.strptime('2015/05/05', '%Y/%m/%d') + timedelta(days=1)).strftime('%Y/%m/%d')"
   ]
  },
  {
   "cell_type": "code",
   "execution_count": 5,
   "metadata": {
    "collapsed": true,
    "deletable": true,
    "editable": true
   },
   "outputs": [],
   "source": [
    "def date_generator(final):\n",
    "    date = datetime.strptime('2015/05/05', '%Y/%m/%d')\n",
    "    while date < datetime.strptime(final, '%Y/%m/%d'):\n",
    "        yield date.strftime('%Y/%m/%d')\n",
    "        date += timedelta(days=1)"
   ]
  },
  {
   "cell_type": "code",
   "execution_count": 6,
   "metadata": {
    "collapsed": true,
    "deletable": true,
    "editable": true
   },
   "outputs": [],
   "source": [
    "trails = [header + date + \"/\" for date in date_generator('2017/09/08')]"
   ]
  },
  {
   "cell_type": "code",
   "execution_count": 7,
   "metadata": {
    "collapsed": false,
    "deletable": true,
    "editable": true
   },
   "outputs": [
    {
     "data": {
      "text/plain": [
       "857"
      ]
     },
     "execution_count": 7,
     "metadata": {},
     "output_type": "execute_result"
    }
   ],
   "source": [
    "len(trails)"
   ]
  },
  {
   "cell_type": "code",
   "execution_count": 8,
   "metadata": {
    "collapsed": false,
    "deletable": true,
    "editable": true,
    "scrolled": true
   },
   "outputs": [
    {
     "name": "stdout",
     "output_type": "stream",
     "text": [
      "loading data from 0 to 50\n",
      "got it! (0, 50)\n",
      "loading data from 50 to 100\n",
      "got it! (50, 100)\n",
      "loading data from 100 to 150\n",
      "Connector error occurred!\n",
      "Connector error occurred!\n",
      "Connector error occurred!\n",
      "got it! (100, 150)\n",
      "loading data from 150 to 200\n",
      "got it! (150, 200)\n",
      "loading data from 200 to 250\n",
      "got it! (200, 250)\n",
      "loading data from 250 to 300\n",
      "got it! (250, 300)\n",
      "loading data from 300 to 350\n",
      "got it! (300, 350)\n",
      "loading data from 350 to 400\n",
      "got it! (350, 400)\n",
      "loading data from 400 to 450\n",
      "got it! (400, 450)\n",
      "loading data from 450 to 500\n",
      "got it! (450, 500)\n",
      "loading data from 500 to 550\n",
      "got it! (500, 550)\n",
      "loading data from 550 to 600\n",
      "got it! (550, 600)\n",
      "loading data from 600 to 650\n",
      "got it! (600, 650)\n",
      "loading data from 650 to 700\n",
      "got it! (650, 700)\n",
      "loading data from 700 to 750\n",
      "got it! (700, 750)\n",
      "loading data from 750 to 800\n",
      "got it! (750, 800)\n",
      "loading data from 800 to 850\n",
      "got it! (800, 850)\n",
      "loading data from 850 to 900\n",
      "got it! (850, 900)\n"
     ]
    }
   ],
   "source": [
    "start = 0\n",
    "end = 857\n",
    "step = 50\n",
    "\n",
    "for curr in range(start, end, step):\n",
    "    print(\"loading data from {0} to {1}\".format(curr, curr + step))\n",
    "    loop = asyncio.get_event_loop()\n",
    "    future = asyncio.ensure_future(gather_results(curr, step, trails))\n",
    "    future.add_done_callback(partial(process_df, curr=curr, step=step))\n",
    "    loop.run_until_complete(future)"
   ]
  },
  {
   "cell_type": "code",
   "execution_count": 11,
   "metadata": {
    "collapsed": false,
    "deletable": true,
    "editable": true
   },
   "outputs": [],
   "source": [
    "file_list = os.listdir(\"./data/scraped/\")"
   ]
  },
  {
   "cell_type": "code",
   "execution_count": 15,
   "metadata": {
    "collapsed": false
   },
   "outputs": [],
   "source": [
    "articles = dict()\n",
    "for file in file_list:\n",
    "    with open(os.path.join(\"./data/scraped/\", file), \"r\") as f:\n",
    "        articles.update(json.load(f))"
   ]
  },
  {
   "cell_type": "code",
   "execution_count": 21,
   "metadata": {
    "collapsed": false
   },
   "outputs": [],
   "source": [
    "all_articles = list(chain.from_iterable(articles.values()))"
   ]
  },
  {
   "cell_type": "code",
   "execution_count": 23,
   "metadata": {
    "collapsed": false
   },
   "outputs": [
    {
     "data": {
      "text/plain": [
       "3828"
      ]
     },
     "execution_count": 23,
     "metadata": {},
     "output_type": "execute_result"
    }
   ],
   "source": [
    "len(all_articles)"
   ]
  },
  {
   "cell_type": "code",
   "execution_count": null,
   "metadata": {
    "collapsed": true
   },
   "outputs": [],
   "source": []
  }
 ],
 "metadata": {
  "anaconda-cloud": {},
  "kernelspec": {
   "display_name": "Python [py36]",
   "language": "python",
   "name": "Python [py36]"
  },
  "language_info": {
   "codemirror_mode": {
    "name": "ipython",
    "version": 3
   },
   "file_extension": ".py",
   "mimetype": "text/x-python",
   "name": "python",
   "nbconvert_exporter": "python",
   "pygments_lexer": "ipython3",
   "version": "3.6.2"
  }
 },
 "nbformat": 4,
 "nbformat_minor": 2
}
