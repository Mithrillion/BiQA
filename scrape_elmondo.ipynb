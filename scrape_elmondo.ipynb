{
 "cells": [
  {
   "cell_type": "code",
   "execution_count": 49,
   "metadata": {
    "collapsed": true
   },
   "outputs": [],
   "source": [
    "from bs4 import BeautifulSoup\n",
    "import asyncio\n",
    "from aiohttp import ClientSession\n",
    "import numpy as np\n",
    "import pandas as pd\n",
    "from functools import partial\n",
    "from aiohttp import ClientConnectorError\n",
    "import json\n",
    "import re\n",
    "from bs4 import NavigableString\n",
    "from pprint import pprint\n",
    "from datetime import datetime, timedelta\n",
    "import os\n",
    "from itertools import chain\n",
    "import pickle"
   ]
  },
  {
   "cell_type": "markdown",
   "metadata": {
    "collapsed": true
   },
   "source": [
    "## Collect Wayback URL"
   ]
  },
  {
   "cell_type": "code",
   "execution_count": 2,
   "metadata": {
    "collapsed": true
   },
   "outputs": [],
   "source": [
    "EM_ROOT = \"./data/mondo_scraped/lists/\"\n",
    "file_list = os.listdir(EM_ROOT)"
   ]
  },
  {
   "cell_type": "code",
   "execution_count": 3,
   "metadata": {},
   "outputs": [
    {
     "data": {
      "text/plain": [
       "['Wayback Machine 1 - Wayback Machine.tsv',\n",
       " 'Wayback Machine 2 - Wayback Machine.tsv',\n",
       " 'Wayback Machine 3 - Wayback Machine.tsv',\n",
       " 'Wayback Machine 4 - Wayback Machine.tsv']"
      ]
     },
     "execution_count": 3,
     "metadata": {},
     "output_type": "execute_result"
    }
   ],
   "source": [
    "file_list"
   ]
  },
  {
   "cell_type": "code",
   "execution_count": 4,
   "metadata": {
    "collapsed": true
   },
   "outputs": [],
   "source": [
    "links = []\n",
    "for i in range(4):\n",
    "    links += [pd.read_csv(os.path.join(EM_ROOT, file_list[i]), delimiter='\\t')]"
   ]
  },
  {
   "cell_type": "code",
   "execution_count": 5,
   "metadata": {
    "collapsed": true
   },
   "outputs": [],
   "source": [
    "full = pd.concat(links, axis=0, ignore_index=True)"
   ]
  },
  {
   "cell_type": "code",
   "execution_count": 6,
   "metadata": {},
   "outputs": [
    {
     "data": {
      "text/html": [
       "<div>\n",
       "<style>\n",
       "    .dataframe thead tr:only-child th {\n",
       "        text-align: right;\n",
       "    }\n",
       "\n",
       "    .dataframe thead th {\n",
       "        text-align: left;\n",
       "    }\n",
       "\n",
       "    .dataframe tbody tr th {\n",
       "        vertical-align: top;\n",
       "    }\n",
       "</style>\n",
       "<table border=\"1\" class=\"dataframe\">\n",
       "  <thead>\n",
       "    <tr style=\"text-align: right;\">\n",
       "      <th></th>\n",
       "      <th>Link</th>\n",
       "      <th>URL</th>\n",
       "    </tr>\n",
       "  </thead>\n",
       "  <tbody>\n",
       "    <tr>\n",
       "      <th>0</th>\n",
       "      <td>1</td>\n",
       "      <td>/web/20170101125857/http://www.elmundo.es/inte...</td>\n",
       "    </tr>\n",
       "    <tr>\n",
       "      <th>1</th>\n",
       "      <td>2</td>\n",
       "      <td>/web/20170102133719/http://www.elmundo.es/inte...</td>\n",
       "    </tr>\n",
       "    <tr>\n",
       "      <th>2</th>\n",
       "      <td>3</td>\n",
       "      <td>/web/20170103141433/http://www.elmundo.es/inte...</td>\n",
       "    </tr>\n",
       "    <tr>\n",
       "      <th>3</th>\n",
       "      <td>4</td>\n",
       "      <td>/web/20170104145738/http://www.elmundo.es/inte...</td>\n",
       "    </tr>\n",
       "    <tr>\n",
       "      <th>4</th>\n",
       "      <td>5</td>\n",
       "      <td>/web/20170105154311/http://www.elmundo.es/inte...</td>\n",
       "    </tr>\n",
       "  </tbody>\n",
       "</table>\n",
       "</div>"
      ],
      "text/plain": [
       "   Link                                                URL\n",
       "0     1  /web/20170101125857/http://www.elmundo.es/inte...\n",
       "1     2  /web/20170102133719/http://www.elmundo.es/inte...\n",
       "2     3  /web/20170103141433/http://www.elmundo.es/inte...\n",
       "3     4  /web/20170104145738/http://www.elmundo.es/inte...\n",
       "4     5  /web/20170105154311/http://www.elmundo.es/inte..."
      ]
     },
     "execution_count": 6,
     "metadata": {},
     "output_type": "execute_result"
    }
   ],
   "source": [
    "full.head()"
   ]
  },
  {
   "cell_type": "code",
   "execution_count": 7,
   "metadata": {},
   "outputs": [
    {
     "data": {
      "text/plain": [
       "(1068, 2)"
      ]
     },
     "execution_count": 7,
     "metadata": {},
     "output_type": "execute_result"
    }
   ],
   "source": [
    "full.shape"
   ]
  },
  {
   "cell_type": "code",
   "execution_count": 8,
   "metadata": {},
   "outputs": [
    {
     "data": {
      "text/plain": [
       "'/web/20170101125857/http://www.elmundo.es/internacional.html'"
      ]
     },
     "execution_count": 8,
     "metadata": {},
     "output_type": "execute_result"
    }
   ],
   "source": [
    "full.loc[0, 'URL']"
   ]
  },
  {
   "cell_type": "markdown",
   "metadata": {},
   "source": [
    "article h1 a,article h2 a,article h3 a"
   ]
  },
  {
   "cell_type": "code",
   "execution_count": 9,
   "metadata": {
    "collapsed": true
   },
   "outputs": [],
   "source": [
    "HEAD = \"https://web.archive.org\""
   ]
  },
  {
   "cell_type": "code",
   "execution_count": 10,
   "metadata": {
    "collapsed": true
   },
   "outputs": [],
   "source": [
    "trails = full['URL']"
   ]
  },
  {
   "cell_type": "code",
   "execution_count": 11,
   "metadata": {},
   "outputs": [
    {
     "data": {
      "text/plain": [
       "1068"
      ]
     },
     "execution_count": 11,
     "metadata": {},
     "output_type": "execute_result"
    }
   ],
   "source": [
    "len(trails)"
   ]
  },
  {
   "cell_type": "markdown",
   "metadata": {},
   "source": [
    "## Scrape Article URLs"
   ]
  },
  {
   "cell_type": "code",
   "execution_count": 12,
   "metadata": {
    "collapsed": true
   },
   "outputs": [],
   "source": [
    "async def get_html_data(trail, session):\n",
    "    \"\"\"Access El Mondo daily news webpage\"\"\"\n",
    "    url = HEAD + trail\n",
    "    attempts = 0\n",
    "    while attempts < 3:\n",
    "        try:\n",
    "            res = await session.get(url)\n",
    "            try:\n",
    "                html = await res.text()\n",
    "            except UnicodeDecodeError:\n",
    "                return trail, None\n",
    "            soup = BeautifulSoup(html, 'html.parser')\n",
    "            urls = [a['href'] for a in soup.select(\"article h1 a,article h2 a,article h3 a\")\n",
    "                    if not re.search(r'/video/', a['href'])]\n",
    "            return trail, urls\n",
    "        except ClientConnectorError:\n",
    "            attempts += 1\n",
    "#             print(\"Connector error occurred!\")\n",
    "    if attempts == 3:\n",
    "        print(\"Connector error occurred! Connection Failed!\")\n",
    "        return trail, None\n",
    "\n",
    "async def gather_results(curr, step, trails):\n",
    "    \"\"\"Launch scrape tasks and collect results\"\"\"\n",
    "    tasks = []\n",
    "    async with ClientSession() as session:\n",
    "        for trail in trails[curr: curr + step]:\n",
    "            task = asyncio.ensure_future(get_html_data(trail, session))\n",
    "            tasks.append(task)\n",
    "\n",
    "        responses = await asyncio.gather(*tasks)\n",
    "        # you now have all response bodies in this variable\n",
    "        return responses\n",
    "\n",
    "\n",
    "def process_df(future, curr, step):\n",
    "    \"\"\"Save scrape results in json files\"\"\"\n",
    "    cache = {k: v for k, v in future.result()}\n",
    "#     cache = future.result()\n",
    "    if len(cache) == 0:\n",
    "        raise RuntimeError(\"Empty response!\")\n",
    "    else:\n",
    "        json.dump(cache, open(\"./data/mondo_scraped/urls/scraped_{0}_{1}.json\".format(curr, curr + step), \"w\"))\n",
    "#         print(cache)\n",
    "        print(\"got it! ({0}, {1})\".format(curr, curr + step))"
   ]
  },
  {
   "cell_type": "code",
   "execution_count": 13,
   "metadata": {
    "scrolled": true
   },
   "outputs": [
    {
     "name": "stdout",
     "output_type": "stream",
     "text": [
      "loading data from 0 to 10\n",
      "Connector error occurred! Connection Failed!\n",
      "got it! (0, 10)\n",
      "loading data from 10 to 20\n",
      "Connector error occurred! Connection Failed!\n",
      "got it! (10, 20)\n",
      "loading data from 20 to 30\n",
      "got it! (20, 30)\n",
      "loading data from 30 to 40\n",
      "Connector error occurred! Connection Failed!\n",
      "got it! (30, 40)\n",
      "loading data from 40 to 50\n",
      "Connector error occurred! Connection Failed!\n",
      "got it! (40, 50)\n",
      "loading data from 50 to 60\n",
      "Connector error occurred! Connection Failed!\n",
      "got it! (50, 60)\n",
      "loading data from 60 to 70\n",
      "Connector error occurred! Connection Failed!\n",
      "got it! (60, 70)\n",
      "loading data from 70 to 80\n",
      "Connector error occurred! Connection Failed!\n",
      "got it! (70, 80)\n",
      "loading data from 80 to 90\n",
      "Connector error occurred! Connection Failed!\n",
      "got it! (80, 90)\n",
      "loading data from 90 to 100\n",
      "got it! (90, 100)\n",
      "loading data from 100 to 110\n",
      "Connector error occurred! Connection Failed!\n",
      "got it! (100, 110)\n",
      "loading data from 110 to 120\n",
      "Connector error occurred! Connection Failed!\n",
      "got it! (110, 120)\n",
      "loading data from 120 to 130\n",
      "Connector error occurred! Connection Failed!\n",
      "got it! (120, 130)\n",
      "loading data from 130 to 140\n",
      "Connector error occurred! Connection Failed!\n",
      "got it! (130, 140)\n",
      "loading data from 140 to 150\n",
      "Connector error occurred! Connection Failed!\n",
      "got it! (140, 150)\n",
      "loading data from 150 to 160\n",
      "Connector error occurred! Connection Failed!\n",
      "got it! (150, 160)\n",
      "loading data from 160 to 170\n",
      "Connector error occurred! Connection Failed!\n",
      "Connector error occurred! Connection Failed!\n",
      "Connector error occurred! Connection Failed!\n",
      "Connector error occurred! Connection Failed!\n",
      "got it! (160, 170)\n",
      "loading data from 170 to 180\n",
      "Connector error occurred! Connection Failed!\n",
      "got it! (170, 180)\n",
      "loading data from 180 to 190\n",
      "Connector error occurred! Connection Failed!\n",
      "got it! (180, 190)\n",
      "loading data from 190 to 200\n",
      "Connector error occurred! Connection Failed!\n",
      "got it! (190, 200)\n",
      "loading data from 200 to 210\n",
      "got it! (200, 210)\n",
      "loading data from 210 to 220\n",
      "got it! (210, 220)\n",
      "loading data from 220 to 230\n",
      "Connector error occurred! Connection Failed!\n",
      "got it! (220, 230)\n",
      "loading data from 230 to 240\n",
      "got it! (230, 240)\n",
      "loading data from 240 to 250\n",
      "got it! (240, 250)\n",
      "loading data from 250 to 260\n",
      "Connector error occurred! Connection Failed!\n",
      "got it! (250, 260)\n",
      "loading data from 260 to 270\n",
      "got it! (260, 270)\n",
      "loading data from 270 to 280\n",
      "got it! (270, 280)\n",
      "loading data from 280 to 290\n",
      "got it! (280, 290)\n",
      "loading data from 290 to 300\n",
      "got it! (290, 300)\n",
      "loading data from 300 to 310\n",
      "got it! (300, 310)\n",
      "loading data from 310 to 320\n",
      "got it! (310, 320)\n",
      "loading data from 320 to 330\n",
      "got it! (320, 330)\n",
      "loading data from 330 to 340\n",
      "got it! (330, 340)\n",
      "loading data from 340 to 350\n",
      "got it! (340, 350)\n",
      "loading data from 350 to 360\n",
      "got it! (350, 360)\n",
      "loading data from 360 to 370\n",
      "got it! (360, 370)\n",
      "loading data from 370 to 380\n",
      "got it! (370, 380)\n",
      "loading data from 380 to 390\n",
      "got it! (380, 390)\n",
      "loading data from 390 to 400\n",
      "got it! (390, 400)\n",
      "loading data from 400 to 410\n",
      "Connector error occurred! Connection Failed!\n",
      "Connector error occurred! Connection Failed!\n",
      "got it! (400, 410)\n",
      "loading data from 410 to 420\n",
      "got it! (410, 420)\n",
      "loading data from 420 to 430\n",
      "got it! (420, 430)\n",
      "loading data from 430 to 440\n",
      "got it! (430, 440)\n",
      "loading data from 440 to 450\n",
      "got it! (440, 450)\n",
      "loading data from 450 to 460\n",
      "got it! (450, 460)\n",
      "loading data from 460 to 470\n",
      "got it! (460, 470)\n",
      "loading data from 470 to 480\n",
      "got it! (470, 480)\n",
      "loading data from 480 to 490\n",
      "got it! (480, 490)\n",
      "loading data from 490 to 500\n",
      "got it! (490, 500)\n",
      "loading data from 500 to 510\n",
      "got it! (500, 510)\n",
      "loading data from 510 to 520\n",
      "got it! (510, 520)\n",
      "loading data from 520 to 530\n",
      "got it! (520, 530)\n",
      "loading data from 530 to 540\n",
      "got it! (530, 540)\n",
      "loading data from 540 to 550\n",
      "got it! (540, 550)\n",
      "loading data from 550 to 560\n",
      "Connector error occurred! Connection Failed!\n",
      "Connector error occurred! Connection Failed!\n",
      "Connector error occurred! Connection Failed!\n",
      "got it! (550, 560)\n",
      "loading data from 560 to 570\n",
      "got it! (560, 570)\n",
      "loading data from 570 to 580\n",
      "got it! (570, 580)\n",
      "loading data from 580 to 590\n",
      "got it! (580, 590)\n",
      "loading data from 590 to 600\n",
      "got it! (590, 600)\n",
      "loading data from 600 to 610\n",
      "got it! (600, 610)\n",
      "loading data from 610 to 620\n",
      "got it! (610, 620)\n",
      "loading data from 620 to 630\n",
      "got it! (620, 630)\n",
      "loading data from 630 to 640\n",
      "got it! (630, 640)\n",
      "loading data from 640 to 650\n",
      "got it! (640, 650)\n",
      "loading data from 650 to 660\n",
      "got it! (650, 660)\n",
      "loading data from 660 to 670\n",
      "got it! (660, 670)\n",
      "loading data from 670 to 680\n",
      "Connector error occurred! Connection Failed!\n",
      "Connector error occurred! Connection Failed!\n",
      "Connector error occurred! Connection Failed!\n",
      "got it! (670, 680)\n",
      "loading data from 680 to 690\n",
      "got it! (680, 690)\n",
      "loading data from 690 to 700\n",
      "got it! (690, 700)\n",
      "loading data from 700 to 710\n",
      "got it! (700, 710)\n",
      "loading data from 710 to 720\n",
      "got it! (710, 720)\n",
      "loading data from 720 to 730\n",
      "got it! (720, 730)\n",
      "loading data from 730 to 740\n",
      "got it! (730, 740)\n",
      "loading data from 740 to 750\n",
      "got it! (740, 750)\n",
      "loading data from 750 to 760\n",
      "got it! (750, 760)\n",
      "loading data from 760 to 770\n",
      "got it! (760, 770)\n",
      "loading data from 770 to 780\n",
      "got it! (770, 780)\n",
      "loading data from 780 to 790\n",
      "got it! (780, 790)\n",
      "loading data from 790 to 800\n",
      "got it! (790, 800)\n",
      "loading data from 800 to 810\n",
      "Connector error occurred! Connection Failed!\n",
      "Connector error occurred! Connection Failed!\n",
      "got it! (800, 810)\n",
      "loading data from 810 to 820\n",
      "got it! (810, 820)\n",
      "loading data from 820 to 830\n",
      "got it! (820, 830)\n",
      "loading data from 830 to 840\n",
      "Connector error occurred! Connection Failed!\n",
      "Connector error occurred! Connection Failed!\n",
      "Connector error occurred! Connection Failed!\n",
      "got it! (830, 840)\n",
      "loading data from 840 to 850\n",
      "got it! (840, 850)\n",
      "loading data from 850 to 860\n",
      "got it! (850, 860)\n",
      "loading data from 860 to 870\n",
      "got it! (860, 870)\n",
      "loading data from 870 to 880\n",
      "got it! (870, 880)\n",
      "loading data from 880 to 890\n",
      "Connector error occurred! Connection Failed!\n",
      "Connector error occurred! Connection Failed!\n",
      "Connector error occurred! Connection Failed!\n",
      "got it! (880, 890)\n",
      "loading data from 890 to 900\n",
      "got it! (890, 900)\n",
      "loading data from 900 to 910\n",
      "got it! (900, 910)\n",
      "loading data from 910 to 920\n",
      "got it! (910, 920)\n",
      "loading data from 920 to 930\n",
      "Connector error occurred! Connection Failed!\n",
      "got it! (920, 930)\n",
      "loading data from 930 to 940\n",
      "got it! (930, 940)\n",
      "loading data from 940 to 950\n",
      "got it! (940, 950)\n",
      "loading data from 950 to 960\n",
      "Connector error occurred! Connection Failed!\n",
      "Connector error occurred! Connection Failed!\n",
      "got it! (950, 960)\n",
      "loading data from 960 to 970\n",
      "got it! (960, 970)\n",
      "loading data from 970 to 980\n",
      "got it! (970, 980)\n",
      "loading data from 980 to 990\n",
      "Connector error occurred! Connection Failed!\n",
      "got it! (980, 990)\n",
      "loading data from 990 to 1000\n",
      "got it! (990, 1000)\n",
      "loading data from 1000 to 1010\n",
      "got it! (1000, 1010)\n",
      "loading data from 1010 to 1020\n",
      "got it! (1010, 1020)\n",
      "loading data from 1020 to 1030\n",
      "got it! (1020, 1030)\n",
      "loading data from 1030 to 1040\n",
      "got it! (1030, 1040)\n",
      "loading data from 1040 to 1050\n",
      "got it! (1040, 1050)\n",
      "loading data from 1050 to 1060\n",
      "got it! (1050, 1060)\n",
      "loading data from 1060 to 1070\n",
      "got it! (1060, 1070)\n"
     ]
    }
   ],
   "source": [
    "start = 0\n",
    "end = 1068\n",
    "step = 10\n",
    "abandoned = []\n",
    "\n",
    "for curr in range(start, end, step):\n",
    "    print(\"loading data from {0} to {1}\".format(curr, curr + step))\n",
    "    loop = asyncio.get_event_loop()\n",
    "    future = asyncio.ensure_future(gather_results(curr, step, trails))\n",
    "    future.add_done_callback(partial(process_df, curr=curr, step=step))\n",
    "    loop.run_until_complete(future)"
   ]
  },
  {
   "cell_type": "markdown",
   "metadata": {},
   "source": [
    "## Collect Article URLs"
   ]
  },
  {
   "cell_type": "code",
   "execution_count": 14,
   "metadata": {
    "collapsed": true
   },
   "outputs": [],
   "source": [
    "URL_ROOT = \"./data/mondo_scraped/urls/\"\n",
    "fn = os.listdir(URL_ROOT)"
   ]
  },
  {
   "cell_type": "code",
   "execution_count": 17,
   "metadata": {
    "collapsed": true
   },
   "outputs": [],
   "source": [
    "articles = dict()\n",
    "for file in fn:\n",
    "    with open(os.path.join(URL_ROOT, file), \"r\") as f:\n",
    "        articles.update(json.load(f))"
   ]
  },
  {
   "cell_type": "code",
   "execution_count": 30,
   "metadata": {
    "collapsed": true
   },
   "outputs": [],
   "source": [
    "all_articles = list(chain.from_iterable(x for x in articles.values() if x is not None))"
   ]
  },
  {
   "cell_type": "code",
   "execution_count": 43,
   "metadata": {
    "collapsed": true
   },
   "outputs": [],
   "source": [
    "chopped = [re.search(r'http://.*\\.html', url).group(0) for url in all_articles \n",
    "           if re.search(r'http://.*\\.html', url) and not re.search(r'(?:/album/|/blogs/)', url)]"
   ]
  },
  {
   "cell_type": "code",
   "execution_count": 46,
   "metadata": {
    "collapsed": true
   },
   "outputs": [],
   "source": [
    "cleaned = list(set(chopped))"
   ]
  },
  {
   "cell_type": "code",
   "execution_count": 47,
   "metadata": {},
   "outputs": [
    {
     "data": {
      "text/plain": [
       "20639"
      ]
     },
     "execution_count": 47,
     "metadata": {},
     "output_type": "execute_result"
    }
   ],
   "source": [
    "len(cleaned)"
   ]
  },
  {
   "cell_type": "code",
   "execution_count": 48,
   "metadata": {},
   "outputs": [
    {
     "data": {
      "text/plain": [
       "['http://www.elmundo.es/internacional/2017/05/26/592716a7268e3e39608b45c9.html',\n",
       " 'http://www.elmundo.es/internacional/2016/09/19/57e03e3746163fe0148b460b.html',\n",
       " 'http://www.elmundo.es/internacional/2015/09/05/55eadcfa46163f706b8b4578.html',\n",
       " 'http://www.elmundo.es/internacional/2014/09/21/541eca59ca474105538b457a.html',\n",
       " 'http://www.elmundo.es/internacional/2015/12/12/566c71c3ca47415a7e8b4677.html']"
      ]
     },
     "execution_count": 48,
     "metadata": {},
     "output_type": "execute_result"
    }
   ],
   "source": [
    "cleaned[:5]"
   ]
  },
  {
   "cell_type": "code",
   "execution_count": 50,
   "metadata": {
    "collapsed": true
   },
   "outputs": [],
   "source": [
    "pickle.dump(cleaned, open(\"./data/mondo_scraped/cleaned_int.pkl\", \"wb\"))"
   ]
  }
 ],
 "metadata": {
  "anaconda-cloud": {},
  "hide_input": false,
  "kernelspec": {
   "display_name": "Python [py36]",
   "language": "python",
   "name": "Python [py36]"
  },
  "language_info": {
   "codemirror_mode": {
    "name": "ipython",
    "version": 3
   },
   "file_extension": ".py",
   "mimetype": "text/x-python",
   "name": "python",
   "nbconvert_exporter": "python",
   "pygments_lexer": "ipython3",
   "version": "3.6.2"
  },
  "varInspector": {
   "cols": {
    "lenName": 16,
    "lenType": 16,
    "lenVar": 40
   },
   "kernels_config": {
    "python": {
     "delete_cmd_postfix": "",
     "delete_cmd_prefix": "del ",
     "library": "var_list.py",
     "varRefreshCmd": "print(var_dic_list())"
    },
    "r": {
     "delete_cmd_postfix": ") ",
     "delete_cmd_prefix": "rm(",
     "library": "var_list.r",
     "varRefreshCmd": "cat(var_dic_list()) "
    }
   },
   "types_to_exclude": [
    "module",
    "function",
    "builtin_function_or_method",
    "instance",
    "_Feature"
   ],
   "window_display": false
  }
 },
 "nbformat": 4,
 "nbformat_minor": 1
}
