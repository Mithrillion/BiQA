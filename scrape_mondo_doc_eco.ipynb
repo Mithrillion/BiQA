{
 "cells": [
  {
   "cell_type": "code",
   "execution_count": 1,
   "metadata": {
    "collapsed": true
   },
   "outputs": [],
   "source": [
    "from bs4 import BeautifulSoup\n",
    "import asyncio\n",
    "from aiohttp import ClientSession\n",
    "import numpy as np\n",
    "import pandas as pd\n",
    "from functools import partial\n",
    "from aiohttp import ClientConnectorError\n",
    "import json\n",
    "import re\n",
    "from bs4 import NavigableString\n",
    "from pprint import pprint\n",
    "from datetime import datetime, timedelta\n",
    "import os\n",
    "from itertools import chain\n",
    "import pickle"
   ]
  },
  {
   "cell_type": "code",
   "execution_count": 2,
   "metadata": {
    "collapsed": true
   },
   "outputs": [],
   "source": [
    "trails = pickle.load(open(\"./data/mondo_scraped/cleaned_int_eco.pkl\", \"rb\"))"
   ]
  },
  {
   "cell_type": "code",
   "execution_count": 3,
   "metadata": {},
   "outputs": [
    {
     "data": {
      "text/plain": [
       "['http://www.elmundo.es/economia/2016/12/14/58518533e5fdea775d8b46a0.html',\n",
       " 'http://www.elmundo.es/economia/2014/11/13/546467c622601d3f5e8b4573.html',\n",
       " 'http://www.elmundo.es/economia/2014/12/01/547c20f4268e3e12718b456b.html',\n",
       " 'http://www.elmundo.es/economia/2017/02/20/58a978a3e5fdea15138b4598.html',\n",
       " 'http://www.elmundo.es/comunidad-valenciana/castellon/2017/05/20/59205a0546163f39768b4579.html',\n",
       " 'http://www.elmundo.es/economia/2014/06/14/539ca128268e3e476c8b4570.html',\n",
       " 'http://www.elmundo.es/internacional/2014/09/08/540d726c268e3e20298b456e.html',\n",
       " 'http://www.elmundo.es/economia/2014/06/26/53abfa99ca4741fd2f8b4572.html',\n",
       " 'http://www.elmundo.es/economia/2015/10/20/5626352a46163fb9188b457f.html',\n",
       " 'http://www.elmundo.es/economia/2015/03/18/55095bf522601d807f8b456b.html']"
      ]
     },
     "execution_count": 3,
     "metadata": {},
     "output_type": "execute_result"
    }
   ],
   "source": [
    "trails[:10]"
   ]
  },
  {
   "cell_type": "code",
   "execution_count": 4,
   "metadata": {},
   "outputs": [
    {
     "data": {
      "text/plain": [
       "14350"
      ]
     },
     "execution_count": 4,
     "metadata": {},
     "output_type": "execute_result"
    }
   ],
   "source": [
    "len(trails)"
   ]
  },
  {
   "cell_type": "code",
   "execution_count": 5,
   "metadata": {
    "collapsed": true
   },
   "outputs": [],
   "source": [
    "async def get_html_data(trail, session):\n",
    "    \"\"\"Access El Mondo webpage\"\"\"\n",
    "    url = trail\n",
    "    attempts = 0\n",
    "    while attempts < 3:\n",
    "        try:\n",
    "            res = await session.get(url)\n",
    "            try:\n",
    "                html = await res.text()\n",
    "            except UnicodeDecodeError:\n",
    "                return trail, None\n",
    "            try:\n",
    "                soup = BeautifulSoup(html, 'html.parser')\n",
    "                headline = soup.select(\"h1[itemprop='headline']\")[0].text\n",
    "                facts = [fact.text for fact in soup.select(\"p.summary-lead, h2[itemprop='alternativeHeadline']\")]\n",
    "                body = \"\\n\".join([sent.text for sent in soup.select(\"div[itemprop='articleBody']\")[0]\n",
    "                                 .find_all('p', class_=lambda x: x != 'summary-lead')])\n",
    "                tag = [tag.text for tag in soup.select(\"ul.item-tags a\")]\n",
    "            except (IndexError, TypeError) as e:\n",
    "                global DEBUG\n",
    "                DEBUG.append((trail, e, soup))\n",
    "                print(\"content error!\")\n",
    "                return trail, None\n",
    "            try:\n",
    "                time = soup.select(\"time\")[0]['datetime']\n",
    "            except:\n",
    "                time = None\n",
    "            attrs = {\n",
    "                \"headline\": headline,\n",
    "                \"keyfacts\": facts, \n",
    "                \"content\": body,\n",
    "                \"tags\": tag,\n",
    "                \"time\": time\n",
    "                    }\n",
    "            return trail, attrs\n",
    "        except ClientConnectorError:\n",
    "            attempts += 1\n",
    "            print(\"Connector error occurred!\")\n",
    "    if attempts == 3:\n",
    "        return trail, None\n",
    "    \n",
    "async def gather_results(curr, step, trails):\n",
    "    \"\"\"Launch scrape tasks and collect results\"\"\"\n",
    "    tasks = []\n",
    "    async with ClientSession() as session:\n",
    "        for trail in trails[curr: curr + step]:\n",
    "            task = asyncio.ensure_future(get_html_data(trail, session))\n",
    "            tasks.append(task)\n",
    "\n",
    "        responses = await asyncio.gather(*tasks)\n",
    "        # you now have all response bodies in this variable\n",
    "        return responses\n",
    "\n",
    "\n",
    "def process_df(future, curr, step):\n",
    "    \"\"\"Save scrape results in json files\"\"\"\n",
    "    cache = {k: v for k, v in future.result()}\n",
    "#     cache = future.result()\n",
    "    if len(cache) == 0:\n",
    "        raise RuntimeError(\"Empty response!\")\n",
    "    else:\n",
    "#         json.dump(cache, open(\"./data/scraped/scraped_{0}_{1}.json\".format(curr, curr + step), \"w\"))\n",
    "        json.dump(cache, open(\"./data/mondo_scraped/contents_eco/scraped_{0}_{1}.json\".format(curr, curr + step), \"w\"))\n",
    "        print(\"got it! ({0}, {1})\".format(curr, curr + step))"
   ]
  },
  {
   "cell_type": "code",
   "execution_count": 11,
   "metadata": {
    "scrolled": true
   },
   "outputs": [
    {
     "name": "stdout",
     "output_type": "stream",
     "text": [
      "loading data from 11350 to 11400\n",
      "got it! (11350, 11400)\n"
     ]
    }
   ],
   "source": [
    "# df = pd.read_csv(\"./data/ratings.csv\")\n",
    "# app_ids = df.loc[:, \"app_id\"].astype(str)\n",
    "\n",
    "start = 11350\n",
    "# end = len(trails)\n",
    "end = 11400\n",
    "step = 50\n",
    "DEBUG = []\n",
    "\n",
    "for curr in range(start, end, step):\n",
    "    print(\"loading data from {0} to {1}\".format(curr, curr + step))\n",
    "    loop = asyncio.get_event_loop()\n",
    "    future = asyncio.ensure_future(gather_results(curr, step, trails))\n",
    "    future.add_done_callback(partial(process_df, curr=curr, step=step))\n",
    "    loop.run_until_complete(future)"
   ]
  },
  {
   "cell_type": "markdown",
   "metadata": {},
   "source": [
    "## convert"
   ]
  },
  {
   "cell_type": "code",
   "execution_count": 12,
   "metadata": {},
   "outputs": [
    {
     "data": {
      "text/plain": [
       "14350"
      ]
     },
     "execution_count": 12,
     "metadata": {},
     "output_type": "execute_result"
    }
   ],
   "source": [
    "doc_list = os.listdir(\"./data/mondo_scraped/contents_eco/\")\n",
    "articles = dict()\n",
    "for file in doc_list:\n",
    "    if file[-4:] == 'json':\n",
    "        with open(os.path.join(\"./data/mondo_scraped/contents_eco/\", file), \"r\") as f:\n",
    "            articles.update(json.load(f))\n",
    "\n",
    "len(articles)"
   ]
  },
  {
   "cell_type": "code",
   "execution_count": 13,
   "metadata": {
    "collapsed": true
   },
   "outputs": [],
   "source": [
    "clean = {k: v for k, v in articles.items() if v is not None}"
   ]
  },
  {
   "cell_type": "code",
   "execution_count": 14,
   "metadata": {},
   "outputs": [
    {
     "data": {
      "text/plain": [
       "14328"
      ]
     },
     "execution_count": 14,
     "metadata": {},
     "output_type": "execute_result"
    }
   ],
   "source": [
    "len(clean)"
   ]
  },
  {
   "cell_type": "code",
   "execution_count": 15,
   "metadata": {
    "collapsed": true
   },
   "outputs": [],
   "source": [
    "docs = pd.DataFrame.from_dict(clean, orient='index')"
   ]
  },
  {
   "cell_type": "code",
   "execution_count": 16,
   "metadata": {},
   "outputs": [
    {
     "data": {
      "text/plain": [
       "(8031, 5)"
      ]
     },
     "execution_count": 16,
     "metadata": {},
     "output_type": "execute_result"
    }
   ],
   "source": [
    "valids = docs.loc[docs['keyfacts'].astype(np.bool), :]\n",
    "valids.shape"
   ]
  },
  {
   "cell_type": "code",
   "execution_count": 17,
   "metadata": {},
   "outputs": [
    {
     "data": {
      "text/html": [
       "<div>\n",
       "<style>\n",
       "    .dataframe thead tr:only-child th {\n",
       "        text-align: right;\n",
       "    }\n",
       "\n",
       "    .dataframe thead th {\n",
       "        text-align: left;\n",
       "    }\n",
       "\n",
       "    .dataframe tbody tr th {\n",
       "        vertical-align: top;\n",
       "    }\n",
       "</style>\n",
       "<table border=\"1\" class=\"dataframe\">\n",
       "  <thead>\n",
       "    <tr style=\"text-align: right;\">\n",
       "      <th></th>\n",
       "      <th>headline</th>\n",
       "      <th>keyfacts</th>\n",
       "      <th>content</th>\n",
       "      <th>tags</th>\n",
       "      <th>time</th>\n",
       "    </tr>\n",
       "  </thead>\n",
       "  <tbody>\n",
       "    <tr>\n",
       "      <th>http://www.elmundo.es/america/2014/01/08/52cdabed268e3e892e8b458e.html</th>\n",
       "      <td>La Fed avisa de que no tiene marcada la senda ...</td>\n",
       "      <td>[ Dependerá de la evolución de la economía, el...</td>\n",
       "      <td>La mayoría de los miembros del Comité Federal ...</td>\n",
       "      <td>[]</td>\n",
       "      <td>2014-01-08</td>\n",
       "    </tr>\n",
       "    <tr>\n",
       "      <th>http://www.elmundo.es/america/2014/01/22/52dfe0eae2704ea74a8b4570.html</th>\n",
       "      <td>El Gobierno argentino sólo permitirá dos compr...</td>\n",
       "      <td>[ Cuando se supere el límite el comprador debe...</td>\n",
       "      <td>El Gobierno de Cristina Fernández de Kirchner ...</td>\n",
       "      <td>[]</td>\n",
       "      <td>2014-01-22</td>\n",
       "    </tr>\n",
       "    <tr>\n",
       "      <th>http://www.elmundo.es/america/2014/01/26/52e52770e2704ecd598b4571.html</th>\n",
       "      <td>Marcha atrás en 48 horas del Gobierno argentin...</td>\n",
       "      <td>[ 'En la mentalidad argentina está insertado e...</td>\n",
       "      <td>\"Donde dije 'digo', digo 'Diego'\" parece procl...</td>\n",
       "      <td>[]</td>\n",
       "      <td>2014-01-26</td>\n",
       "    </tr>\n",
       "    <tr>\n",
       "      <th>http://www.elmundo.es/america/2014/04/12/53492fd522601d410e8b456c.html</th>\n",
       "      <td>EEUU investiga a Herbalife por supuesta estafa...</td>\n",
       "      <td>[\\nVende productos y suplementos dietéticos a ...</td>\n",
       "      <td>La Comisión Federal del Comercio de EEUU (FTC,...</td>\n",
       "      <td>[]</td>\n",
       "      <td>2014-04-12</td>\n",
       "    </tr>\n",
       "    <tr>\n",
       "      <th>http://www.elmundo.es/america/2014/04/21/535517cb268e3eb4218b457a.html</th>\n",
       "      <td>Argentina recurre al Supremo de EEUU contra lo...</td>\n",
       "      <td>[\\nLos fondos compraron a precio de ganga bono...</td>\n",
       "      <td>Los ocho jueces del Tribunal Supremo de los Es...</td>\n",
       "      <td>[]</td>\n",
       "      <td>2014-04-21</td>\n",
       "    </tr>\n",
       "  </tbody>\n",
       "</table>\n",
       "</div>"
      ],
      "text/plain": [
       "                                                                                             headline  \\\n",
       "http://www.elmundo.es/america/2014/01/08/52cdab...  La Fed avisa de que no tiene marcada la senda ...   \n",
       "http://www.elmundo.es/america/2014/01/22/52dfe0...  El Gobierno argentino sólo permitirá dos compr...   \n",
       "http://www.elmundo.es/america/2014/01/26/52e527...  Marcha atrás en 48 horas del Gobierno argentin...   \n",
       "http://www.elmundo.es/america/2014/04/12/53492f...  EEUU investiga a Herbalife por supuesta estafa...   \n",
       "http://www.elmundo.es/america/2014/04/21/535517...  Argentina recurre al Supremo de EEUU contra lo...   \n",
       "\n",
       "                                                                                             keyfacts  \\\n",
       "http://www.elmundo.es/america/2014/01/08/52cdab...  [ Dependerá de la evolución de la economía, el...   \n",
       "http://www.elmundo.es/america/2014/01/22/52dfe0...  [ Cuando se supere el límite el comprador debe...   \n",
       "http://www.elmundo.es/america/2014/01/26/52e527...  [ 'En la mentalidad argentina está insertado e...   \n",
       "http://www.elmundo.es/america/2014/04/12/53492f...  [\\nVende productos y suplementos dietéticos a ...   \n",
       "http://www.elmundo.es/america/2014/04/21/535517...  [\\nLos fondos compraron a precio de ganga bono...   \n",
       "\n",
       "                                                                                              content  \\\n",
       "http://www.elmundo.es/america/2014/01/08/52cdab...  La mayoría de los miembros del Comité Federal ...   \n",
       "http://www.elmundo.es/america/2014/01/22/52dfe0...  El Gobierno de Cristina Fernández de Kirchner ...   \n",
       "http://www.elmundo.es/america/2014/01/26/52e527...  \"Donde dije 'digo', digo 'Diego'\" parece procl...   \n",
       "http://www.elmundo.es/america/2014/04/12/53492f...  La Comisión Federal del Comercio de EEUU (FTC,...   \n",
       "http://www.elmundo.es/america/2014/04/21/535517...  Los ocho jueces del Tribunal Supremo de los Es...   \n",
       "\n",
       "                                                   tags        time  \n",
       "http://www.elmundo.es/america/2014/01/08/52cdab...   []  2014-01-08  \n",
       "http://www.elmundo.es/america/2014/01/22/52dfe0...   []  2014-01-22  \n",
       "http://www.elmundo.es/america/2014/01/26/52e527...   []  2014-01-26  \n",
       "http://www.elmundo.es/america/2014/04/12/53492f...   []  2014-04-12  \n",
       "http://www.elmundo.es/america/2014/04/21/535517...   []  2014-04-21  "
      ]
     },
     "execution_count": 17,
     "metadata": {},
     "output_type": "execute_result"
    }
   ],
   "source": [
    "valids.head()"
   ]
  },
  {
   "cell_type": "code",
   "execution_count": 18,
   "metadata": {
    "collapsed": true
   },
   "outputs": [],
   "source": [
    "valids.to_pickle('./data/elmondo_es_eco.pkl')"
   ]
  },
  {
   "cell_type": "code",
   "execution_count": 19,
   "metadata": {},
   "outputs": [
    {
     "name": "stdout",
     "output_type": "stream",
     "text": [
      "Multa de 5.000 millones a Citigroup por mentir a sus clientes\n",
      "['\\nEl banco ha anunciado su intención de recurrir a sus cuentas para hacer frente al pago ', '\\nAcuerda pagar una multa de 5.140 millones de euros por la venta de hipotecas tóxicas ']\n",
      "La multa de la quincena es para... Citigroup. Después de haber sancionado al suizo Credit Suisse con 1.910 millones de euros (2.600 millones de dólares) por ayudar a sus clientes a evadir impuestos, y al francés BNP Paribas con 6.540 millones de euros (8.900 millones de dólares) por ayudar a Sudán a evadir las sanciones impuestas por sus violaciones de los derechos humanos, EEUU ha apuntado en casa. \n",
      "Consecuencia: Citigroup, el tercer mayor banco del país por activos, ha sido multado con 5.140 millones de euros (7.000 millones de dólares) por haber engañado a sus clientes en la venta de hipotecas basura.\n",
      "La entidad financiera, que ha dado a conocer el acuerdo, pagará algo más de 2.900 millones de euros en concepto de sanción civil al Departamento de Justicia, más 367 millones a la Oficina Federal de Seguro de Depósitos (FDIC).\n",
      "Además, deberá abonar otros 2.500 millones de dólares para facilitar el refinanciamiento de hipotecas para propietarios que se encuentran en dificultades económicas para hacer frente a sus obligaciones de pago.\n",
      "El director ejecutivo de Citigroup, Michael Corbat, ha asegurado en un comunicado que \"el acuerdo nos permite avanzar, y centrarnos en el futuro, no en el pasado\".\n",
      "El banco ya ha anunciado su intención de tomar 2.790 millones de euros en sus cuentas del segundo trimestre del año para hacer frente al pago.\n",
      "Por su parte, el fiscal general de EEUU, Eric Holder, ha celebrado el pacto alcanzado destacando que \"la mala conducta del banco había sido indignante. Bajo los términos de este acuerdo, el banco ha admitido su mala actuación en gran detalle\".\n",
      "El caso tiene similitudes con el de las preferentes en España. Citigroup mintió a sus clientes al exagerar la solidez de los bonos basados en hipotecas, cuyo valor se desplomó cuando la burbuja inmobiliaria explotó en 2007. En la crisis, el propio Citigroup tuvo que ser nacionalizado. \n",
      "Ahí acaba el paralelismo con España. En EEUU, el Estado ganó dinero al volver a privatizar a la entidad. Y ahora le ha 'clavado' una multa de dimensiones épicas, aunque no tan grande como los 9.550 millones de euros (13.000 millones de dólares) que el mayor banco de EEUU, JP Morgan, tuvo que pagar hace un año por el mismo motivo que Citigroup. \n",
      "El Bank of America tiene abierto un caso similar y se espera que en los próximos meses alcance un acuerdo con los reguladores.\n",
      "[]\n",
      "2014-07-14\n"
     ]
    }
   ],
   "source": [
    "valids.iloc[7, :].apply(print);"
   ]
  },
  {
   "cell_type": "code",
   "execution_count": null,
   "metadata": {
    "collapsed": true
   },
   "outputs": [],
   "source": []
  }
 ],
 "metadata": {
  "anaconda-cloud": {},
  "kernelspec": {
   "display_name": "Python [py36]",
   "language": "python",
   "name": "Python [py36]"
  },
  "language_info": {
   "codemirror_mode": {
    "name": "ipython",
    "version": 3
   },
   "file_extension": ".py",
   "mimetype": "text/x-python",
   "name": "python",
   "nbconvert_exporter": "python",
   "pygments_lexer": "ipython3",
   "version": "3.6.2"
  }
 },
 "nbformat": 4,
 "nbformat_minor": 1
}
