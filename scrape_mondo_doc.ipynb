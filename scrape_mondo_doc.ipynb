{
 "cells": [
  {
   "cell_type": "code",
   "execution_count": 1,
   "metadata": {
    "collapsed": true
   },
   "outputs": [],
   "source": [
    "from bs4 import BeautifulSoup\n",
    "import asyncio\n",
    "from aiohttp import ClientSession\n",
    "import numpy as np\n",
    "import pandas as pd\n",
    "from functools import partial\n",
    "from aiohttp import ClientConnectorError\n",
    "import json\n",
    "import re\n",
    "from bs4 import NavigableString\n",
    "from pprint import pprint\n",
    "from datetime import datetime, timedelta\n",
    "import os\n",
    "from itertools import chain\n",
    "import pickle"
   ]
  },
  {
   "cell_type": "code",
   "execution_count": 2,
   "metadata": {
    "collapsed": true
   },
   "outputs": [],
   "source": [
    "trails = pickle.load(open(\"./data/mondo_scraped/cleaned_int.pkl\", \"rb\"))"
   ]
  },
  {
   "cell_type": "code",
   "execution_count": 3,
   "metadata": {},
   "outputs": [
    {
     "data": {
      "text/plain": [
       "['http://www.elmundo.es/internacional/2017/05/26/592716a7268e3e39608b45c9.html',\n",
       " 'http://www.elmundo.es/internacional/2016/09/19/57e03e3746163fe0148b460b.html',\n",
       " 'http://www.elmundo.es/internacional/2015/09/05/55eadcfa46163f706b8b4578.html',\n",
       " 'http://www.elmundo.es/internacional/2014/09/21/541eca59ca474105538b457a.html',\n",
       " 'http://www.elmundo.es/internacional/2015/12/12/566c71c3ca47415a7e8b4677.html',\n",
       " 'http://www.elmundo.es/internacional/2015/01/16/54b964d222601d1c7d8b457e.html',\n",
       " 'http://www.elmundo.es/internacional/2014/05/23/537f7ffeca474196148b456d.html',\n",
       " 'http://www.elmundo.es/internacional/2014/09/24/5422bea4268e3e4c618b4583.html',\n",
       " 'http://www.elmundo.es/especiales/primera-guerra-mundial/vivencias/no-a-la-guerra.html',\n",
       " 'http://www.elmundo.es/internacional/2016/01/30/56abc469ca4741d2358b4629.html']"
      ]
     },
     "execution_count": 3,
     "metadata": {},
     "output_type": "execute_result"
    }
   ],
   "source": [
    "trails[:10]"
   ]
  },
  {
   "cell_type": "code",
   "execution_count": 5,
   "metadata": {},
   "outputs": [
    {
     "data": {
      "text/plain": [
       "20639"
      ]
     },
     "execution_count": 5,
     "metadata": {},
     "output_type": "execute_result"
    }
   ],
   "source": [
    "len(trails)"
   ]
  },
  {
   "cell_type": "code",
   "execution_count": 7,
   "metadata": {
    "collapsed": true
   },
   "outputs": [],
   "source": [
    "async def get_html_data(trail, session):\n",
    "    \"\"\"Access El Mondo webpage\"\"\"\n",
    "    url = trail\n",
    "    attempts = 0\n",
    "    while attempts < 3:\n",
    "        try:\n",
    "            res = await session.get(url)\n",
    "            try:\n",
    "                html = await res.text()\n",
    "            except UnicodeDecodeError:\n",
    "                return trail, None\n",
    "            try:\n",
    "                soup = BeautifulSoup(html, 'html.parser')\n",
    "                headline = soup.select(\"h1[itemprop='headline']\")[0].text\n",
    "                facts = [fact.text for fact in soup.select(\"p.summary-lead, h2[itemprop='alternativeHeadline']\")]\n",
    "                body = \"\\n\".join([sent.text for sent in soup.select(\"div[itemprop='articleBody']\")[0]\n",
    "                                 .find_all('p', class_=lambda x: x != 'summary-lead')])\n",
    "                tag = [tag.text for tag in soup.select(\"ul.item-tags a\")]\n",
    "            except (IndexError, TypeError) as e:\n",
    "                global DEBUG\n",
    "                DEBUG.append((trail, e, soup))\n",
    "                print(\"content error!\")\n",
    "                return trail, None\n",
    "            try:\n",
    "                time = soup.select(\"time\")[0]['datetime']\n",
    "            except:\n",
    "                time = None\n",
    "            attrs = {\n",
    "                \"headline\": headline,\n",
    "                \"keyfacts\": facts, \n",
    "                \"content\": body,\n",
    "                \"tags\": tag,\n",
    "                \"time\": time\n",
    "                    }\n",
    "            return trail, attrs\n",
    "        except ClientConnectorError:\n",
    "            attempts += 1\n",
    "            print(\"Connector error occurred!\")\n",
    "    if attempts == 3:\n",
    "        return trail, None\n",
    "    \n",
    "async def gather_results(curr, step, trails):\n",
    "    \"\"\"Launch scrape tasks and collect results\"\"\"\n",
    "    tasks = []\n",
    "    async with ClientSession() as session:\n",
    "        for trail in trails[curr: curr + step]:\n",
    "            task = asyncio.ensure_future(get_html_data(trail, session))\n",
    "            tasks.append(task)\n",
    "\n",
    "        responses = await asyncio.gather(*tasks)\n",
    "        # you now have all response bodies in this variable\n",
    "        return responses\n",
    "\n",
    "\n",
    "def process_df(future, curr, step):\n",
    "    \"\"\"Save scrape results in json files\"\"\"\n",
    "    cache = {k: v for k, v in future.result()}\n",
    "#     cache = future.result()\n",
    "    if len(cache) == 0:\n",
    "        raise RuntimeError(\"Empty response!\")\n",
    "    else:\n",
    "#         json.dump(cache, open(\"./data/scraped/scraped_{0}_{1}.json\".format(curr, curr + step), \"w\"))\n",
    "        json.dump(cache, open(\"./data/mondo_scraped/contents/scraped_{0}_{1}.json\".format(curr, curr + step), \"w\"))\n",
    "        print(\"got it! ({0}, {1})\".format(curr, curr + step))"
   ]
  },
  {
   "cell_type": "code",
   "execution_count": 12,
   "metadata": {
    "scrolled": false
   },
   "outputs": [
    {
     "name": "stdout",
     "output_type": "stream",
     "text": [
      "loading data from 19800 to 19850\n",
      "got it! (19800, 19850)\n"
     ]
    }
   ],
   "source": [
    "# df = pd.read_csv(\"./data/ratings.csv\")\n",
    "# app_ids = df.loc[:, \"app_id\"].astype(str)\n",
    "\n",
    "start = 19800\n",
    "# end = len(trails)\n",
    "end = 19850\n",
    "step = 50\n",
    "DEBUG = []\n",
    "\n",
    "for curr in range(start, end, step):\n",
    "    print(\"loading data from {0} to {1}\".format(curr, curr + step))\n",
    "    loop = asyncio.get_event_loop()\n",
    "    future = asyncio.ensure_future(gather_results(curr, step, trails))\n",
    "    future.add_done_callback(partial(process_df, curr=curr, step=step))\n",
    "    loop.run_until_complete(future)"
   ]
  },
  {
   "cell_type": "markdown",
   "metadata": {},
   "source": [
    "## convert"
   ]
  },
  {
   "cell_type": "code",
   "execution_count": 14,
   "metadata": {},
   "outputs": [
    {
     "data": {
      "text/plain": [
       "20639"
      ]
     },
     "execution_count": 14,
     "metadata": {},
     "output_type": "execute_result"
    }
   ],
   "source": [
    "doc_list = os.listdir(\"./data/mondo_scraped/contents/\")\n",
    "articles = dict()\n",
    "for file in doc_list:\n",
    "    if file[-4:] == 'json':\n",
    "        with open(os.path.join(\"./data/mondo_scraped/contents/\", file), \"r\") as f:\n",
    "            articles.update(json.load(f))\n",
    "\n",
    "len(articles)"
   ]
  },
  {
   "cell_type": "code",
   "execution_count": 18,
   "metadata": {},
   "outputs": [],
   "source": [
    "clean = {k: v for k, v in articles.items() if v is not None}"
   ]
  },
  {
   "cell_type": "code",
   "execution_count": 19,
   "metadata": {},
   "outputs": [
    {
     "data": {
      "text/plain": [
       "20615"
      ]
     },
     "execution_count": 19,
     "metadata": {},
     "output_type": "execute_result"
    }
   ],
   "source": [
    "len(clean)"
   ]
  },
  {
   "cell_type": "code",
   "execution_count": 20,
   "metadata": {
    "collapsed": true
   },
   "outputs": [],
   "source": [
    "docs = pd.DataFrame.from_dict(clean, orient='index')"
   ]
  },
  {
   "cell_type": "code",
   "execution_count": 21,
   "metadata": {},
   "outputs": [
    {
     "data": {
      "text/plain": [
       "(15022, 5)"
      ]
     },
     "execution_count": 21,
     "metadata": {},
     "output_type": "execute_result"
    }
   ],
   "source": [
    "valids = docs.loc[docs['keyfacts'].astype(np.bool), :]\n",
    "valids.shape"
   ]
  },
  {
   "cell_type": "code",
   "execution_count": 22,
   "metadata": {},
   "outputs": [
    {
     "data": {
      "text/html": [
       "<div>\n",
       "<style>\n",
       "    .dataframe thead tr:only-child th {\n",
       "        text-align: right;\n",
       "    }\n",
       "\n",
       "    .dataframe thead th {\n",
       "        text-align: left;\n",
       "    }\n",
       "\n",
       "    .dataframe tbody tr th {\n",
       "        vertical-align: top;\n",
       "    }\n",
       "</style>\n",
       "<table border=\"1\" class=\"dataframe\">\n",
       "  <thead>\n",
       "    <tr style=\"text-align: right;\">\n",
       "      <th></th>\n",
       "      <th>headline</th>\n",
       "      <th>keyfacts</th>\n",
       "      <th>content</th>\n",
       "      <th>tags</th>\n",
       "      <th>time</th>\n",
       "    </tr>\n",
       "  </thead>\n",
       "  <tbody>\n",
       "    <tr>\n",
       "      <th>http://www.elmundo.es/america/2014/01/02/52c4d39a22601d6f658b457c.html</th>\n",
       "      <td>Una jueza del Tribunal Supremo suspende parcia...</td>\n",
       "      <td>[ Decidió atender a los grupos conservadores y...</td>\n",
       "      <td>El martes, antes de presidir la fiesta de fin ...</td>\n",
       "      <td>[]</td>\n",
       "      <td>2014-01-02</td>\n",
       "    </tr>\n",
       "    <tr>\n",
       "      <th>http://www.elmundo.es/america/2014/01/02/52c4d99622601d6d658b458a.html</th>\n",
       "      <td>'La revolución cubana sigue sin compromisos co...</td>\n",
       "      <td>[ 'Jamás hemos cedido ni cederemos ante agresi...</td>\n",
       "      <td>El presidente Raúl Castro reveló que se está i...</td>\n",
       "      <td>[]</td>\n",
       "      <td>2014-01-02</td>\n",
       "    </tr>\n",
       "    <tr>\n",
       "      <th>http://www.elmundo.es/america/2014/01/03/52c61ede268e3e3c528b456b.html</th>\n",
       "      <td>La NSA trabaja en un ordenador cuántico capaz ...</td>\n",
       "      <td>[ La información proviene de los documentos de...</td>\n",
       "      <td>La Agencia de Seguridad Nacional (NSA) trabaja...</td>\n",
       "      <td>[]</td>\n",
       "      <td>2014-01-03</td>\n",
       "    </tr>\n",
       "    <tr>\n",
       "      <th>http://www.elmundo.es/america/2014/01/10/52cfbb62ca47415a218b456b.html</th>\n",
       "      <td>Último adiós a la ex Miss Venezuela Mónica Spe...</td>\n",
       "      <td>[ Mónica Spear y su marido fueron asesinados e...</td>\n",
       "      <td>Esta semana Venezuela ha recibido una noticia ...</td>\n",
       "      <td>[]</td>\n",
       "      <td>2014-01-10</td>\n",
       "    </tr>\n",
       "    <tr>\n",
       "      <th>http://www.elmundo.es/america/2014/01/14/52d4b8ba268e3eb2318b456a.html</th>\n",
       "      <td>Michoacán pone en jaque al Gobierno de Peña Nieto</td>\n",
       "      <td>[ El Gobierno envía más policías y militares y...</td>\n",
       "      <td>La situación en el Estado mexicano de Michoacá...</td>\n",
       "      <td>[]</td>\n",
       "      <td>2014-01-14</td>\n",
       "    </tr>\n",
       "  </tbody>\n",
       "</table>\n",
       "</div>"
      ],
      "text/plain": [
       "                                                                                             headline  \\\n",
       "http://www.elmundo.es/america/2014/01/02/52c4d3...  Una jueza del Tribunal Supremo suspende parcia...   \n",
       "http://www.elmundo.es/america/2014/01/02/52c4d9...  'La revolución cubana sigue sin compromisos co...   \n",
       "http://www.elmundo.es/america/2014/01/03/52c61e...  La NSA trabaja en un ordenador cuántico capaz ...   \n",
       "http://www.elmundo.es/america/2014/01/10/52cfbb...  Último adiós a la ex Miss Venezuela Mónica Spe...   \n",
       "http://www.elmundo.es/america/2014/01/14/52d4b8...  Michoacán pone en jaque al Gobierno de Peña Nieto   \n",
       "\n",
       "                                                                                             keyfacts  \\\n",
       "http://www.elmundo.es/america/2014/01/02/52c4d3...  [ Decidió atender a los grupos conservadores y...   \n",
       "http://www.elmundo.es/america/2014/01/02/52c4d9...  [ 'Jamás hemos cedido ni cederemos ante agresi...   \n",
       "http://www.elmundo.es/america/2014/01/03/52c61e...  [ La información proviene de los documentos de...   \n",
       "http://www.elmundo.es/america/2014/01/10/52cfbb...  [ Mónica Spear y su marido fueron asesinados e...   \n",
       "http://www.elmundo.es/america/2014/01/14/52d4b8...  [ El Gobierno envía más policías y militares y...   \n",
       "\n",
       "                                                                                              content  \\\n",
       "http://www.elmundo.es/america/2014/01/02/52c4d3...  El martes, antes de presidir la fiesta de fin ...   \n",
       "http://www.elmundo.es/america/2014/01/02/52c4d9...  El presidente Raúl Castro reveló que se está i...   \n",
       "http://www.elmundo.es/america/2014/01/03/52c61e...  La Agencia de Seguridad Nacional (NSA) trabaja...   \n",
       "http://www.elmundo.es/america/2014/01/10/52cfbb...  Esta semana Venezuela ha recibido una noticia ...   \n",
       "http://www.elmundo.es/america/2014/01/14/52d4b8...  La situación en el Estado mexicano de Michoacá...   \n",
       "\n",
       "                                                   tags        time  \n",
       "http://www.elmundo.es/america/2014/01/02/52c4d3...   []  2014-01-02  \n",
       "http://www.elmundo.es/america/2014/01/02/52c4d9...   []  2014-01-02  \n",
       "http://www.elmundo.es/america/2014/01/03/52c61e...   []  2014-01-03  \n",
       "http://www.elmundo.es/america/2014/01/10/52cfbb...   []  2014-01-10  \n",
       "http://www.elmundo.es/america/2014/01/14/52d4b8...   []  2014-01-14  "
      ]
     },
     "execution_count": 22,
     "metadata": {},
     "output_type": "execute_result"
    }
   ],
   "source": [
    "valids.head()"
   ]
  },
  {
   "cell_type": "code",
   "execution_count": 23,
   "metadata": {
    "collapsed": true
   },
   "outputs": [],
   "source": [
    "valids.to_pickle('elmondo_es.pkl')"
   ]
  },
  {
   "cell_type": "code",
   "execution_count": 36,
   "metadata": {},
   "outputs": [
    {
     "name": "stdout",
     "output_type": "stream",
     "text": [
      "El héroe cuya historia eclipsó al presidente\n",
      "[' El sargento Cory Remsburg, herido en Afganistán, invitado de honor de Obama ', ' Presenció el discurso del estado de la Unión junto a su padre y a la primera dama ']\n",
      "El protagonista más aplaudido este martes en el Capitolio no fue el presidente sino el sargento Cory Remsburg, que escuchó la ovación sujetado por su padre y junto a la primera dama, en cuya tribuna siguió el discurso como invitado de honor. \n",
      "Obama y Remsburg se han encontrado en tres ocasiones: la primera en Omaha Beach durante los actos el 65º aniversario del desembarco de Normandía y las dos siguientes mientras el sargento se recuperaba de las secuelas de un atentado que sufrió en octubre de 2009 durante su décimo despliegue en Afganistán.\n",
      "El presidente se reúne a menudo en privado con miembros del Ejército. Pero ninguno le ha dejado una huella tan profunda como el sargento Remsburg. Entre otras cosas por el impacto que le produjo su segundo encuentro fortuito en un hospital militar a las afueras de Washington donde el oficial permanecía ingresado un año después de la explosión que lo colocó al borde de la muerte a unos kilómetros de Kandahar.\n",
      "Varios gramos de metralla penetraron en el cerebro y en el ojo derecho de Remsburg, que sólo despertó del coma tres meses después del atentado y se sometió a un sinfín de operaciones antes de su primer reencuentro con Obama en abril de 2010.\n",
      "El presidente estaba en el hospital para hacer su chequeo anual y aprovechó la visita para ver a algunos pacientes. Al entrar en una habitación, le llamó la atención una fotografía y miró varias veces al oficial convaleciente para asegurarse de que era la misma persona a quien había conocido en Francia el año anterior.\n",
      "\"Cory aún no podía hablar pero me miraba a los ojos. Levantó su brazo y al preguntarle cómo se sentía levantó su mano con el pulgar hacia arriba\", desveló el presidente durante la convención anual de veteranos que se celebró en Atlanta en junio de 2010.\n",
      "Tres años después, Obama se interesó por el estado de Remsburg y una de las personas que escriben sus discursos averiguó que se había mudado a un suburbio de Phoenix (Arizona). Había abandonado el hospital y vivía con su padre en una casa adaptada a sus necesidades.\n",
      "El presidente no informó entonces de su encuentro a los periodistas que le acompañaban durante el viaje. Pero volvió a hablar del sargento durante la convención de veteranos que se celebró en Orlando unos días después. \"Sospecho que no os sorprenderá saber que estos años han sido muy difíciles para Cory\", dijo Obama antes de describir las secuelas que el sargento había sufrido en el cráneo, en los ojos y en los pulmones. \n",
      "Para entonces el joven había logrado aprender a hablar y había dado unos pasos con la ayuda de un andador para impresionar al presidente. \"Incluso me dio un saludo militar y me dijo el lema de su regimiento\", recordó entonces Obama entre los aplausos de los veteranos. \"Sólo quería mostrarle al presidente lo lejos que había llegado\", explicó el sargento al 'New York Times' unos días después.\n",
      "Hoy Remsburg se somete a sesiones de rehabilitación que duran hasta seis horas al día y sigue esperando un trasplante de retina que le permitiría recobrar la vista en su ojo derecho. Los domingos pedalea en una bicicleta especial junto a un grupo de veteranos y ha empezado a pronunciar breves discursos en eventos de recaudación.\n",
      "\"Es un honor estar entre las personas seleccionadas\", decía recientemente el sargento a la publicación especializada 'Military Times'. \"Pero es un honor aún más grande ser el rostro de los soldados heridos y representarles para que el público no se olvide de ellos\".\n",
      "\"Cory está aquí esta noche\", dijo el presidente después de recordar su historia al final del discurso con el que se proponía recobrar la iniciativa política. \"Como el Ejército al que ama y como el país al que sirve, el sargento Cory Remsburg ni se rinde ni abandona\". Fue entonces cuando demócratas y republicanos se unieron por una vez en pie y ovacionaron al héroe durante 90 segundos antes de entregarse de nuevo a las pequeñas miserias políticas que alimentan el bloqueo legislativo del país.\n",
      "[]\n",
      "2014-01-29\n"
     ]
    }
   ],
   "source": [
    "valids.iloc[7, :].apply(print);"
   ]
  },
  {
   "cell_type": "code",
   "execution_count": null,
   "metadata": {
    "collapsed": true
   },
   "outputs": [],
   "source": []
  }
 ],
 "metadata": {
  "anaconda-cloud": {},
  "kernelspec": {
   "display_name": "Python [py36]",
   "language": "python",
   "name": "Python [py36]"
  },
  "language_info": {
   "codemirror_mode": {
    "name": "ipython",
    "version": 3
   },
   "file_extension": ".py",
   "mimetype": "text/x-python",
   "name": "python",
   "nbconvert_exporter": "python",
   "pygments_lexer": "ipython3",
   "version": "3.6.2"
  }
 },
 "nbformat": 4,
 "nbformat_minor": 1
}
